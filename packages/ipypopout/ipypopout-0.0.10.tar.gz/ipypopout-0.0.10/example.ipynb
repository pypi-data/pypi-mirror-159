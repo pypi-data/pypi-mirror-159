{
 "cells": [
  {
   "cell_type": "code",
   "execution_count": null,
   "id": "39917761",
   "metadata": {},
   "outputs": [],
   "source": [
    "# import this before any widgets are created\n",
    "import ipypopout.sync_patch\n",
    "\n",
    "import ipywidgets\n",
    "from ipypopout import PopoutButton "
   ]
  },
  {
   "cell_type": "code",
   "execution_count": null,
   "id": "f1dbb494",
   "metadata": {},
   "outputs": [],
   "source": [
    "main = ipywidgets.HBox()\n",
    "\n",
    "popout_button = PopoutButton(main)\n",
    "\n",
    "slider = ipywidgets.IntSlider()\n",
    "main.children = (slider, popout_button)\n",
    "\n",
    "main"
   ]
  },
  {
   "cell_type": "code",
   "execution_count": null,
   "id": "d95f96d8",
   "metadata": {},
   "outputs": [],
   "source": []
  }
 ],
 "metadata": {
  "kernelspec": {
   "display_name": "Python 3 (ipykernel)",
   "language": "python",
   "name": "python3"
  },
  "language_info": {
   "codemirror_mode": {
    "name": "ipython",
    "version": 3
   },
   "file_extension": ".py",
   "mimetype": "text/x-python",
   "name": "python",
   "nbconvert_exporter": "python",
   "pygments_lexer": "ipython3",
   "version": "3.10.0"
  }
 },
 "nbformat": 4,
 "nbformat_minor": 5
}

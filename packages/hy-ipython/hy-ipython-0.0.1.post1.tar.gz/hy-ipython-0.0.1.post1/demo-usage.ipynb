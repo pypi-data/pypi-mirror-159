{
 "cells": [
  {
   "cell_type": "markdown",
   "id": "ab029644-ba30-420d-987b-4621aa89fe48",
   "metadata": {},
   "source": [
    "<https://github.com/hylang/hy/issues/1665#issuecomment-1189718977>\n",
    "\n",
    "File was added to `~/.local/share/ipython/default_profile/startup/10_hy-magic.py`."
   ]
  },
  {
   "cell_type": "code",
   "execution_count": 1,
   "id": "85c880eb-5f34-455b-b69e-6176f9a1d58e",
   "metadata": {},
   "outputs": [],
   "source": [
    "import sys\n",
    "sys.path.append('/Users/gregory.werbin/Personal/dev/software/hy-ipython')\n",
    "\n",
    "%load_ext hy_ipython"
   ]
  },
  {
   "cell_type": "code",
   "execution_count": 2,
   "id": "88060146-ced5-4df6-a3d6-65b787cb60e1",
   "metadata": {},
   "outputs": [],
   "source": [
    "x = 5"
   ]
  },
  {
   "cell_type": "code",
   "execution_count": 3,
   "id": "2b93b73d-bf92-4256-a785-e2dff0fecac6",
   "metadata": {},
   "outputs": [
    {
     "name": "stdout",
     "output_type": "stream",
     "text": [
      "5\n"
     ]
    }
   ],
   "source": [
    "%hy (print x)"
   ]
  },
  {
   "cell_type": "code",
   "execution_count": 4,
   "id": "849baaaf-666d-4f00-813b-8327e63dc55a",
   "metadata": {},
   "outputs": [
    {
     "name": "stdout",
     "output_type": "stream",
     "text": [
      "99\n"
     ]
    }
   ],
   "source": [
    "%%hy\n",
    "(setv q 99)\n",
    "(print q)\n",
    "(setv q (/ q 10))"
   ]
  },
  {
   "cell_type": "code",
   "execution_count": 5,
   "id": "663f6035-9f21-42f3-b857-9431629b300f",
   "metadata": {},
   "outputs": [
    {
     "data": {
      "text/plain": [
       "9.9"
      ]
     },
     "execution_count": 5,
     "metadata": {},
     "output_type": "execute_result"
    }
   ],
   "source": [
    "q"
   ]
  },
  {
   "cell_type": "code",
   "execution_count": 6,
   "id": "322c1bd2-389c-47c2-9e2b-452b346c2207",
   "metadata": {},
   "outputs": [
    {
     "ename": "PrematureEndOfInput",
     "evalue": "Premature end of input while attempting to parse one form (IPython:In[6], line 1)",
     "output_type": "error",
     "traceback": [
      "Traceback \u001b[0;36m(most recent call last)\u001b[0m:\n",
      "  File \u001b[1;32m~/misc/hy-sandbox.venv/lib/python3.10/site-packages/IPython/core/interactiveshell.py:3398\u001b[0m in \u001b[1;35mrun_code\u001b[0m\n    exec(code_obj, self.user_global_ns, self.user_ns)\n",
      "  Input \u001b[1;32mIn [6]\u001b[0m in \u001b[1;35m<cell line: 1>\u001b[0m\n    get_ipython().run_line_magic('hy', '(print x')\n",
      "  File \u001b[1;32m~/misc/hy-sandbox.venv/lib/python3.10/site-packages/IPython/core/interactiveshell.py:2305\u001b[0m in \u001b[1;35mrun_line_magic\u001b[0m\n    result = fn(*args, **kwargs)\n",
      "  File \u001b[1;32m~/Personal/dev/software/hy-ipython/hy_ipython/magic.py:32\u001b[0m in \u001b[1;35mhy\u001b[0m\n    return hy.eval(\n",
      "  File \u001b[1;32m~/misc/hy-sandbox.venv/lib/python3.10/site-packages/hy/compiler.py:794\u001b[0m in \u001b[1;35mhy_eval\u001b[0m\n    _ast, expr = hy_compile(\n",
      "  File \u001b[1;32m~/misc/hy-sandbox.venv/lib/python3.10/site-packages/hy/compiler.py:870\u001b[0m in \u001b[1;35mhy_compile\u001b[0m\n    result = compiler.compile(tree)\n",
      "  File \u001b[1;32m~/misc/hy-sandbox.venv/lib/python3.10/site-packages/hy/compiler.py:390\u001b[0m in \u001b[1;35mcompile\u001b[0m\n    raise e\n",
      "  File \u001b[1;32m~/misc/hy-sandbox.venv/lib/python3.10/site-packages/hy/compiler.py:381\u001b[0m in \u001b[1;35mcompile\u001b[0m\n    ret = self.compile_atom(tree)\n",
      "  File \u001b[1;32m~/misc/hy-sandbox.venv/lib/python3.10/site-packages/hy/compiler.py:375\u001b[0m in \u001b[1;35mcompile_atom\u001b[0m\n    return Result() + _model_compilers[type(atom)](self, atom)\n",
      "  File \u001b[1;32m~/misc/hy-sandbox.venv/lib/python3.10/site-packages/hy/compiler.py:461\u001b[0m in \u001b[1;35m_compile_branch\u001b[0m\n    for node in exprs:\n",
      "  File \u001b[1;32m~/misc/hy-sandbox.venv/lib/python3.10/site-packages/hy/models.py:657\u001b[0m in \u001b[1;35m__iter__\u001b[0m\n    yield from self._gen\n",
      "  File \u001b[1;32m~/misc/hy-sandbox.venv/lib/python3.10/site-packages/hy/reader/hy_reader.py:146\u001b[0m in \u001b[1;35mparse\u001b[0m\n    yield from self.parse_forms_until(\"\")\n",
      "  File \u001b[1;32m~/misc/hy-sandbox.venv/lib/python3.10/site-packages/hy/reader/hy_reader.py:213\u001b[0m in \u001b[1;35mparse_forms_until\u001b[0m\n    model = self.try_parse_one_form()\n",
      "  File \u001b[1;32m~/misc/hy-sandbox.venv/lib/python3.10/site-packages/hy/reader/hy_reader.py:182\u001b[0m in \u001b[1;35mtry_parse_one_form\u001b[0m\n    model = handler(self, c) if handler else self.read_default(c)\n",
      "  File \u001b[1;32m~/misc/hy-sandbox.venv/lib/python3.10/site-packages/hy/reader/hy_reader.py:321\u001b[0m in \u001b[1;35m<lambda>\u001b[0m\n    return lambda self, _: seq_type(self.parse_forms_until(closer))\n",
      "  File \u001b[1;32m~/misc/hy-sandbox.venv/lib/python3.10/site-packages/hy/reader/hy_reader.py:213\u001b[0m in \u001b[1;35mparse_forms_until\u001b[0m\n    model = self.try_parse_one_form()\n",
      "\u001b[0;36m  File \u001b[0;32m~/misc/hy-sandbox.venv/lib/python3.10/site-packages/hy/reader/hy_reader.py:178\u001b[0;36m in \u001b[0;35mtry_parse_one_form\u001b[0;36m\u001b[0m\n\u001b[0;31m    raise PrematureEndOfInput.from_reader(\u001b[0m\n",
      "\u001b[0;36m  File \u001b[0;32mIPython:In[6]:1\u001b[0;36m\u001b[0m\n\u001b[0;31m    (print x\u001b[0m\n\u001b[0m           ^\u001b[0m\n\u001b[0;31mPrematureEndOfInput\u001b[0m\u001b[0;31m:\u001b[0m Premature end of input while attempting to parse one form\n"
     ]
    }
   ],
   "source": [
    "%hy (print x"
   ]
  },
  {
   "cell_type": "code",
   "execution_count": null,
   "id": "89d34f44-d1c5-44de-939b-65f742401364",
   "metadata": {},
   "outputs": [],
   "source": []
  }
 ],
 "metadata": {
  "kernelspec": {
   "display_name": "hy-sandbox",
   "language": "python",
   "name": "hy-sandbox"
  },
  "language_info": {
   "codemirror_mode": {
    "name": "ipython",
    "version": 3
   },
   "file_extension": ".py",
   "mimetype": "text/x-python",
   "name": "python",
   "nbconvert_exporter": "python",
   "pygments_lexer": "ipython3",
   "version": "3.10.5"
  }
 },
 "nbformat": 4,
 "nbformat_minor": 5
}

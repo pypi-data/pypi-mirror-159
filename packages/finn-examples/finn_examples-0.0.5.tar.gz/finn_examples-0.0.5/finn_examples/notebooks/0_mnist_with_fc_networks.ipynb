{
 "cells": [
  {
   "cell_type": "markdown",
   "source": [
    "# Initialize the accelerator"
   ],
   "metadata": {}
  },
  {
   "cell_type": "code",
   "execution_count": 1,
   "source": [
    "from finn_examples import models\n",
    "print(list(filter(lambda x: \"mnist\" in x, dir(models))))"
   ],
   "outputs": [
    {
     "output_type": "display_data",
     "data": {
      "application/javascript": "\ntry {\nrequire(['notebook/js/codecell'], function(codecell) {\n  codecell.CodeCell.options_default.highlight_modes[\n      'magic_text/x-csrc'] = {'reg':[/^%%microblaze/]};\n  Jupyter.notebook.events.one('kernel_ready.Kernel', function(){\n      Jupyter.notebook.get_cells().map(function(cell){\n          if (cell.cell_type == 'code'){ cell.auto_highlight(); } }) ;\n  });\n});\n} catch (e) {};\n"
     },
     "metadata": {}
    },
    {
     "output_type": "display_data",
     "data": {
      "application/javascript": "\ntry {\nrequire(['notebook/js/codecell'], function(codecell) {\n  codecell.CodeCell.options_default.highlight_modes[\n      'magic_text/x-csrc'] = {'reg':[/^%%pybind11/]};\n  Jupyter.notebook.events.one('kernel_ready.Kernel', function(){\n      Jupyter.notebook.get_cells().map(function(cell){\n          if (cell.cell_type == 'code'){ cell.auto_highlight(); } }) ;\n  });\n});\n} catch (e) {};\n"
     },
     "metadata": {}
    },
    {
     "output_type": "stream",
     "name": "stdout",
     "text": [
      "['_mnist_fc_io_shape_dict', 'tfc_w1a1_mnist', 'tfc_w1a2_mnist', 'tfc_w2a2_mnist']\n"
     ]
    }
   ],
   "metadata": {}
  },
  {
   "cell_type": "code",
   "execution_count": 2,
   "source": [
    "accel = models.tfc_w1a1_mnist()"
   ],
   "outputs": [],
   "metadata": {}
  },
  {
   "cell_type": "code",
   "execution_count": 3,
   "source": [
    "print(\"Expected input shape and datatype: %s %s\" % (str(accel.ishape_normal), str(accel.idt)))\n",
    "print(\"Expected output shape and datatype: %s %s\" % (str(accel.oshape_normal), str(accel.odt)))"
   ],
   "outputs": [
    {
     "output_type": "stream",
     "name": "stdout",
     "text": [
      "Expected input shape and datatype: (1, 784) DataType.UINT8\n",
      "Expected output shape and datatype: (1, 1) DataType.UINT8\n"
     ]
    }
   ],
   "metadata": {}
  },
  {
   "cell_type": "markdown",
   "source": [
    "# Load the MNIST dataset\n",
    "\n",
    "Use the `dataset_loading` package to get easy Python access to MNIST dataset:"
   ],
   "metadata": {}
  },
  {
   "cell_type": "code",
   "execution_count": 4,
   "source": [
    "from dataset_loading import mnist\n",
    "trainx, trainy, testx, testy, valx, valy = mnist.load_mnist_data(\"/tmp\", download=True, one_hot=False)"
   ],
   "outputs": [
    {
     "output_type": "stream",
     "name": "stdout",
     "text": [
      "Looking for Train Imgs\n",
      "Download URL: http://yann.lecun.com/exdb/mnist/train-images-idx3-ubyte.gz\n",
      "Download DIR: /tmp\n",
      ">> Downloading train-images-idx3-ubyte.gz 100.1%\n",
      "Looking for Train Labels\n",
      "Download URL: http://yann.lecun.com/exdb/mnist/train-labels-idx1-ubyte.gz\n",
      "Download DIR: /tmp\n",
      ">> Downloading train-labels-idx1-ubyte.gz 113.5%\n",
      "Looking for Test Imgs\n",
      "Download URL: http://yann.lecun.com/exdb/mnist/t10k-images-idx3-ubyte.gz\n",
      "Download DIR: /tmp\n",
      ">> Downloading t10k-images-idx3-ubyte.gz 100.4%\n",
      "Looking for Test Labels\n",
      "Download URL: http://yann.lecun.com/exdb/mnist/t10k-labels-idx1-ubyte.gz\n",
      "Download DIR: /tmp\n",
      ">> Downloading t10k-labels-idx1-ubyte.gz 180.4%\n"
     ]
    }
   ],
   "metadata": {}
  },
  {
   "cell_type": "code",
   "execution_count": 5,
   "source": [
    "testx.shape"
   ],
   "outputs": [
    {
     "output_type": "execute_result",
     "data": {
      "text/plain": [
       "(10000, 28, 28, 1)"
      ]
     },
     "metadata": {},
     "execution_count": 5
    }
   ],
   "metadata": {}
  },
  {
   "cell_type": "markdown",
   "source": [
    "# Classify a single image"
   ],
   "metadata": {}
  },
  {
   "cell_type": "code",
   "execution_count": 6,
   "source": [
    "test_single_x = testx[0].reshape(28, 28)\n",
    "test_single_y = testy[0]"
   ],
   "outputs": [],
   "metadata": {}
  },
  {
   "cell_type": "code",
   "execution_count": 8,
   "source": [
    "%matplotlib inline\n",
    "from matplotlib import pyplot as plt\n",
    "\n",
    "plt.imshow(test_single_x, cmap='gray')\n",
    "plt.show()"
   ],
   "outputs": [
    {
     "output_type": "display_data",
     "data": {
      "image/png": "[encoded data removed]",
      "text/plain": [
       "<matplotlib.figure.Figure at 0x7f6cc19160>"
      ]
     },
     "metadata": {}
    }
   ],
   "metadata": {}
  },
  {
   "cell_type": "code",
   "execution_count": 9,
   "source": [
    "print(\"Expected class is %d\" % test_single_y)"
   ],
   "outputs": [
    {
     "output_type": "stream",
     "name": "stdout",
     "text": [
      "Expected class is 7\n"
     ]
    }
   ],
   "metadata": {}
  },
  {
   "cell_type": "code",
   "execution_count": 10,
   "source": [
    "accel_in = test_single_x.reshape(accel.ishape_normal)\n",
    "print(\"Input buffer shape is %s and datatype is %s\" % (str(accel_in.shape), str(accel_in.dtype)))"
   ],
   "outputs": [
    {
     "output_type": "stream",
     "name": "stdout",
     "text": [
      "Input buffer shape is (1, 784) and datatype is uint8\n"
     ]
    }
   ],
   "metadata": {}
  },
  {
   "cell_type": "code",
   "execution_count": 11,
   "source": [
    "accel_out = accel.execute(accel_in)"
   ],
   "outputs": [],
   "metadata": {}
  },
  {
   "cell_type": "code",
   "execution_count": 12,
   "source": [
    "print(\"Returned class is %d\" % accel_out)"
   ],
   "outputs": [
    {
     "output_type": "stream",
     "name": "stdout",
     "text": [
      "Returned class is 7\n"
     ]
    }
   ],
   "metadata": {}
  },
  {
   "cell_type": "code",
   "execution_count": 13,
   "source": [
    "%%timeit\n",
    "accel_out = accel.execute(accel_in)"
   ],
   "outputs": [
    {
     "output_type": "stream",
     "name": "stdout",
     "text": [
      "1000 loops, best of 3: 808 µs per loop\n"
     ]
    }
   ],
   "metadata": {}
  },
  {
   "cell_type": "markdown",
   "source": [
    "# Validate accuracy on entire MNIST test set"
   ],
   "metadata": {}
  },
  {
   "cell_type": "code",
   "execution_count": 15,
   "source": [
    "import numpy as np\n",
    "batch_size = 1000\n",
    "total = testx.shape[0]\n",
    "accel.batch_size = batch_size\n",
    "n_batches = int(total / batch_size)\n",
    "\n",
    "batch_imgs = testx.reshape(n_batches, batch_size, -1)\n",
    "batch_labels = testy.reshape(n_batches, batch_size)\n",
    "obuf_normal = np.empty_like(accel.obuf_packed_device)\n",
    "print(\"Ready to run validation, test images tensor has shape %s\" % str(batch_imgs.shape))\n",
    "print(\"Accelerator buffer shapes are %s for input, %s for output\" % (str(accel.ishape_packed), str(accel.oshape_packed)) )"
   ],
   "outputs": [
    {
     "output_type": "stream",
     "name": "stdout",
     "text": [
      "Ready to run validation, test images tensor has shape (10, 1000, 784)\n",
      "Accelerator buffer shapes are (1000, 1, 784) for input, (1000, 1, 1) for output\n"
     ]
    }
   ],
   "metadata": {}
  },
  {
   "cell_type": "code",
   "execution_count": 22,
   "source": [
    "ok = 0\n",
    "nok = 0\n",
    "for i in range(n_batches):\n",
    "    ibuf_normal = batch_imgs[i].reshape(accel.ishape_normal)\n",
    "    exp = batch_labels[i]\n",
    "    obuf_normal = accel.execute(ibuf_normal)\n",
    "    ret = np.bincount(obuf_normal.flatten() == exp.flatten())\n",
    "    nok += ret[0]\n",
    "    ok += ret[1]\n",
    "    print(\"batch %d / %d : total OK %d NOK %d\" % (i, n_batches, ok, nok))"
   ],
   "outputs": [
    {
     "output_type": "stream",
     "name": "stdout",
     "text": [
      "batch 0 / 10 : total OK 913 NOK 87\n",
      "batch 1 / 10 : total OK 1800 NOK 200\n",
      "batch 2 / 10 : total OK 2714 NOK 286\n",
      "batch 3 / 10 : total OK 3619 NOK 381\n",
      "batch 4 / 10 : total OK 4535 NOK 465\n",
      "batch 5 / 10 : total OK 5488 NOK 512\n",
      "batch 6 / 10 : total OK 6438 NOK 562\n",
      "batch 7 / 10 : total OK 7399 NOK 601\n",
      "batch 8 / 10 : total OK 8371 NOK 629\n",
      "batch 9 / 10 : total OK 9296 NOK 704\n"
     ]
    }
   ],
   "metadata": {}
  },
  {
   "cell_type": "code",
   "execution_count": 23,
   "source": [
    "acc = 100.0 * ok / (total)\n",
    "print(\"Final accuracy: {}%\".format(acc))"
   ],
   "outputs": [
    {
     "output_type": "stream",
     "name": "stdout",
     "text": [
      "Final accuracy: 92.96%\n"
     ]
    }
   ],
   "metadata": {}
  },
  {
   "cell_type": "code",
   "execution_count": 26,
   "source": [
    "def run_validation():\n",
    "    for i in range(n_batches):\n",
    "        ibuf_normal = batch_imgs[i].reshape(accel.ishape_normal)\n",
    "        exp = batch_labels[i]\n",
    "        accel.execute(ibuf_normal)"
   ],
   "outputs": [],
   "metadata": {}
  },
  {
   "cell_type": "code",
   "execution_count": 27,
   "source": [
    "full_validation_time = %timeit -n 5 -o run_validation()"
   ],
   "outputs": [
    {
     "output_type": "stream",
     "name": "stdout",
     "text": [
      "5 loops, best of 3: 22.6 ms per loop\n"
     ]
    }
   ],
   "metadata": {}
  },
  {
   "cell_type": "code",
   "execution_count": 28,
   "source": [
    "print(\"%f images per second including data movement\" % (total / float(full_validation_time.best)))"
   ],
   "outputs": [
    {
     "output_type": "stream",
     "name": "stdout",
     "text": [
      "441567.114603 images per second including data movement\n"
     ]
    }
   ],
   "metadata": {}
  },
  {
   "cell_type": "markdown",
   "source": [
    "## Run some more built-in benchmarks"
   ],
   "metadata": {}
  },
  {
   "cell_type": "code",
   "execution_count": 29,
   "source": [
    "accel.throughput_test()"
   ],
   "outputs": [
    {
     "output_type": "execute_result",
     "data": {
      "text/plain": [
       "{'DRAM_in_bandwidth[Mb/s]': 656.2231762123328,\n",
       " 'DRAM_out_bandwidth[Mb/s]': 0.8370193574136899,\n",
       " 'batch_size': 1000,\n",
       " 'copy_input_data_to_device[ms]': 0.0006163120269775391,\n",
       " 'copy_output_data_from_device[ms]': 7.62939453125e-05,\n",
       " 'fclk[mhz]': 99.999,\n",
       " 'fold_input[ms]': 6.413459777832031e-05,\n",
       " 'pack_input[ms]': 8.869171142578125e-05,\n",
       " 'runtime[ms]': 1.1947154998779297,\n",
       " 'throughput[images/s]': 837019.3574136898,\n",
       " 'unfold_output[ms]': 9.1552734375e-05,\n",
       " 'unpack_output[ms]': 0.0006036758422851562}"
      ]
     },
     "metadata": {},
     "execution_count": 29
    }
   ],
   "metadata": {}
  },
  {
   "cell_type": "code",
   "execution_count": null,
   "source": [],
   "outputs": [],
   "metadata": {}
  }
 ],
 "metadata": {
  "kernelspec": {
   "display_name": "Python 3",
   "language": "python",
   "name": "python3"
  },
  "language_info": {
   "codemirror_mode": {
    "name": "ipython",
    "version": 3
   },
   "file_extension": ".py",
   "mimetype": "text/x-python",
   "name": "python",
   "nbconvert_exporter": "python",
   "pygments_lexer": "ipython3",
   "version": "3.6.5"
  }
 },
 "nbformat": 4,
 "nbformat_minor": 2
}
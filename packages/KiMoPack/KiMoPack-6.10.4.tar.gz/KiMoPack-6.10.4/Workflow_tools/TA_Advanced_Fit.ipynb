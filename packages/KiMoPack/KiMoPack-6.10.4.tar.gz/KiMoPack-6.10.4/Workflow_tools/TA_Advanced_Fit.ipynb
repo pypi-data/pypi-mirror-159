{
 "cells": [
  {
   "cell_type": "markdown",
   "metadata": {},
   "source": [
    "### Set standard imports"
   ]
  },
  {
   "cell_type": "code",
   "execution_count": null,
   "metadata": {},
   "outputs": [],
   "source": [
    "import matplotlib,lmfit,os,sys\n",
    "import matplotlib.pyplot as plt\n",
    "import numpy as np\n",
    "%matplotlib qt\n",
    "import KiMoPack.plot_func as pf"
   ]
  },
  {
   "cell_type": "markdown",
   "metadata": {},
   "source": [
    "### Load Data and perform standard corrections"
   ]
  },
  {
   "cell_type": "code",
   "execution_count": null,
   "metadata": {},
   "outputs": [],
   "source": [
    "ta=pf.TA('sample_1.hdf5',path='Data')  #reload saved projects using the same syntax, this reloads the parameter too\n",
    "ta.Plot_fit_output(title=None)         # remind ourselfs about the results"
   ]
  },
  {
   "cell_type": "markdown",
   "metadata": {},
   "source": [
    "### Perform deeper fitting using external fitting function"
   ]
  },
  {
   "cell_type": "code",
   "execution_count": null,
   "metadata": {},
   "outputs": [],
   "source": [
    "try:\n",
    "    import standard_function as stdfunc                      # load the file with the example functions. must be in the active folder\n",
    "except:\n",
    "    print('standard_function not found')\n",
    "try:\n",
    "    import function_library as func                      # load the file with the example functions. must be in the active folder\n",
    "except:\n",
    "    print('standard_function not found')\n",
    "from importlib import reload                              # usefull if you play with the function\n",
    "reload(func)                                              # usefull if you play with the function\n",
    "reload(stdfunc)"
   ]
  },
  {
   "cell_type": "code",
   "execution_count": null,
   "metadata": {},
   "outputs": [],
   "source": [
    "\n",
    "plt.close('all')\n",
    "ta.mod=func.Square_dependence  # from the function_library modul import the function \"Square_dependence\"\n",
    "ta.mod=stdfunc.P12             # if you want to use function P12 from the standard function library\n",
    "par=lmfit.Parameters()\n",
    "par.add('k0',value=1/1.6,vary=True)                       # this function has a lot of parameter, they can be named\n",
    "par.add('k1',value=1/0.4,vary=True)                       # but a rate must be starting with \"k\" (this is how it is regognized)\n",
    "par.add('k2',value=1/6e11,vary=True)\n",
    "par.add('k3',value=1/1222,vary=True)\n",
    "par.add('k4',value=1/4,vary=True)\n",
    "par.add('f0',value=4/4,vary=False)                        # non rate parameters can be freely named (witht \"k\" as first letter)\n",
    "par.add('t0',value=0.025,min=-2,max=2,vary=True)          # if applicable, keep those\n",
    "par.add('resolution',value=0.25,min=0.04,max=0.5,vary=True)\n",
    "ta.par=par\n",
    "\n",
    "ta.Fit_Global()                                           # Fitting syntax stays the same\n",
    "ta.plot_fit_output()"
   ]
  },
  {
   "cell_type": "code",
   "execution_count": null,
   "metadata": {},
   "outputs": [],
   "source": [
    "ta1=pf.TA(filename='sample_2.hdf5',path='Data')          # lets load a single second project measured at a different power\n",
    "other_projects=[ta1]\n",
    "other_projects=[pf.TA(filename,path='Data') for filename in ['sample_2.hdf5']]\n",
    "ta.Fit_Global(multi_project=other_projects)#fit both projects together,\n",
    "#ta.Fit_Global(multi_project=other_projects,unique_parameter=['f0']) #unique parameter allows to additionally freeze a parameter (that e.g. were optimized b)"
   ]
  },
  {
   "cell_type": "markdown",
   "metadata": {},
   "source": [
    "### export the results as images and save the project"
   ]
  },
  {
   "cell_type": "code",
   "execution_count": null,
   "metadata": {},
   "outputs": [],
   "source": [
    "ta.Save_project()         # This saves the whole project including raw data, fits and chirp correction into a single file"
   ]
  },
  {
   "cell_type": "code",
   "execution_count": null,
   "metadata": {},
   "outputs": [],
   "source": [
    "ta.Save_Plots(savetype='png')         # This saves all the figures and a overview powerpoint savetype=['png','svg']"
   ]
  },
  {
   "cell_type": "markdown",
   "metadata": {},
   "source": [
    "### Sometimes required options applicable also to fit plotting"
   ]
  },
  {
   "cell_type": "code",
   "execution_count": null,
   "metadata": {},
   "outputs": [],
   "source": [
    "ta.Man_Chirp()                   # used to redo the chirp-correction\n",
    "ta.Save_data()                   # used to dump the Data and fits to disk\n",
    "\n",
    "ta.cmap=pf.cm.viridis            # use different colour scheme (can also be a list of colours)\n",
    "pf.changefonts(weight='bold',font='standard',SMALL_SIZE=11,MEDIUM_SIZE=13,LARGE_SIZE=18)       "
   ]
  }
 ],
 "metadata": {
  "ipub": {
   "titlepage": {
    "author": "Jens Uhlig",
    "email": "jens.uhlig@chemphys.lu.se",
    "logo": "http://www.jensuhlig.de//hot_warm_cold.png",
    "subtitle": "Main Worksheet",
    "title": "Transient Absorption Worksheet"
   }
  },
  "kernelspec": {
   "display_name": "Python 3 (ipykernel)",
   "language": "python",
   "name": "python3"
  },
  "language_info": {
   "codemirror_mode": {
    "name": "ipython",
    "version": 3
   },
   "file_extension": ".py",
   "mimetype": "text/x-python",
   "name": "python",
   "nbconvert_exporter": "python",
   "pygments_lexer": "ipython3",
   "version": "3.9.12"
  }
 },
 "nbformat": 4,
 "nbformat_minor": 2
}

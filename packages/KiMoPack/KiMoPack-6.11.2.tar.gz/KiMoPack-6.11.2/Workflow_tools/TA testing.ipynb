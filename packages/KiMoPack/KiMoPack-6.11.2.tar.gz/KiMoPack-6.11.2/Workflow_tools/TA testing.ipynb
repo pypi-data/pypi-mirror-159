{
 "cells": [
  {
   "cell_type": "markdown",
   "metadata": {},
   "source": [
    "### Set standard imports"
   ]
  },
  {
   "cell_type": "code",
   "execution_count": 1,
   "metadata": {},
   "outputs": [
    {
     "name": "stdout",
     "output_type": "stream",
     "text": [
      "Plot_func version 6.11.1\n",
      "was imported from path:\n",
      " C:\\Users\\Jens.000\\anaconda3\\Lib\\site-packages\\KiMoPack\n",
      "The current working folder is:\n",
      " d:\\Dropbox\\coding\\github\\KiMoPack\\Workflow_tools\n"
     ]
    }
   ],
   "source": [
    "import sys,os\n",
    "import matplotlib\n",
    "import matplotlib.pyplot as plt\n",
    "import lmfit\n",
    "import numpy as np\n",
    "import pandas\n",
    "#if this fails change qt to tk\n",
    "%matplotlib tk \n",
    "import KiMoPack.plot_func as pf\n",
    "#from importlib import reload\n",
    "#reload(pf)"
   ]
  },
  {
   "cell_type": "code",
   "execution_count": 4,
   "metadata": {},
   "outputs": [],
   "source": [
    "ta=pf.TA('recent')"
   ]
  },
  {
   "cell_type": "code",
   "execution_count": null,
   "metadata": {},
   "outputs": [],
   "source": [
    "ta=pf.TA('sample_1.SIA',path='Data')"
   ]
  },
  {
   "cell_type": "code",
   "execution_count": 5,
   "metadata": {},
   "outputs": [],
   "source": [
    "pf.TA?"
   ]
  },
  {
   "cell_type": "code",
   "execution_count": 6,
   "metadata": {},
   "outputs": [],
   "source": []
  },
  {
   "cell_type": "code",
   "execution_count": 7,
   "metadata": {},
   "outputs": [],
   "source": [
    "ds=pandas.read_csv(os.getcwd() + '\\Data\\sample_1.SIA')"
   ]
  },
  {
   "cell_type": "code",
   "execution_count": 9,
   "metadata": {},
   "outputs": [],
   "source": [
    "ds=pandas.read_csv(os.getcwd() + '\\Data\\sample_1.SIA',sep='\\t',index_col=0)"
   ]
  },
  {
   "cell_type": "code",
   "execution_count": 11,
   "metadata": {},
   "outputs": [],
   "source": [
    "ta=pf.TA('external',ds=ds,units='')"
   ]
  },
  {
   "cell_type": "code",
   "execution_count": 13,
   "metadata": {},
   "outputs": [
    {
     "data": {
      "text/html": [
       "<div>\n",
       "<style scoped>\n",
       "    .dataframe tbody tr th:only-of-type {\n",
       "        vertical-align: middle;\n",
       "    }\n",
       "\n",
       "    .dataframe tbody tr th {\n",
       "        vertical-align: top;\n",
       "    }\n",
       "\n",
       "    .dataframe thead th {\n",
       "        text-align: right;\n",
       "    }\n",
       "</style>\n",
       "<table border=\"1\" class=\"dataframe\">\n",
       "  <thead>\n",
       "    <tr style=\"text-align: right;\">\n",
       "      <th>Wavelength in nm</th>\n",
       "      <th>381.19</th>\n",
       "      <th>381.54</th>\n",
       "      <th>381.88</th>\n",
       "      <th>382.22</th>\n",
       "      <th>382.57</th>\n",
       "      <th>382.92</th>\n",
       "      <th>383.26</th>\n",
       "      <th>383.61</th>\n",
       "      <th>383.96</th>\n",
       "      <th>384.32</th>\n",
       "      <th>...</th>\n",
       "      <th>1209.20</th>\n",
       "      <th>1213.92</th>\n",
       "      <th>1218.65</th>\n",
       "      <th>1223.38</th>\n",
       "      <th>1228.11</th>\n",
       "      <th>1232.85</th>\n",
       "      <th>1237.60</th>\n",
       "      <th>1242.35</th>\n",
       "      <th>1247.10</th>\n",
       "      <th>1251.85</th>\n",
       "    </tr>\n",
       "    <tr>\n",
       "      <th>Time in 0.000</th>\n",
       "      <th></th>\n",
       "      <th></th>\n",
       "      <th></th>\n",
       "      <th></th>\n",
       "      <th></th>\n",
       "      <th></th>\n",
       "      <th></th>\n",
       "      <th></th>\n",
       "      <th></th>\n",
       "      <th></th>\n",
       "      <th></th>\n",
       "      <th></th>\n",
       "      <th></th>\n",
       "      <th></th>\n",
       "      <th></th>\n",
       "      <th></th>\n",
       "      <th></th>\n",
       "      <th></th>\n",
       "      <th></th>\n",
       "      <th></th>\n",
       "      <th></th>\n",
       "    </tr>\n",
       "  </thead>\n",
       "  <tbody>\n",
       "    <tr>\n",
       "      <th>-23.0000</th>\n",
       "      <td>-0.000450</td>\n",
       "      <td>-0.000573</td>\n",
       "      <td>-0.000146</td>\n",
       "      <td>0.000395</td>\n",
       "      <td>0.001207</td>\n",
       "      <td>-0.001621</td>\n",
       "      <td>-0.000360</td>\n",
       "      <td>-0.000546</td>\n",
       "      <td>0.000535</td>\n",
       "      <td>-0.000741</td>\n",
       "      <td>...</td>\n",
       "      <td>-0.000132</td>\n",
       "      <td>-0.000524</td>\n",
       "      <td>-0.000259</td>\n",
       "      <td>0.001079</td>\n",
       "      <td>0.000300</td>\n",
       "      <td>-0.001452</td>\n",
       "      <td>-0.000315</td>\n",
       "      <td>-0.000376</td>\n",
       "      <td>0.000933</td>\n",
       "      <td>-0.000096</td>\n",
       "    </tr>\n",
       "    <tr>\n",
       "      <th>-21.0000</th>\n",
       "      <td>0.000397</td>\n",
       "      <td>0.000617</td>\n",
       "      <td>-0.000936</td>\n",
       "      <td>-0.000291</td>\n",
       "      <td>0.001521</td>\n",
       "      <td>-0.001091</td>\n",
       "      <td>0.000059</td>\n",
       "      <td>-0.000266</td>\n",
       "      <td>-0.000036</td>\n",
       "      <td>-0.000257</td>\n",
       "      <td>...</td>\n",
       "      <td>-0.000046</td>\n",
       "      <td>0.000077</td>\n",
       "      <td>-0.000238</td>\n",
       "      <td>0.000332</td>\n",
       "      <td>0.000709</td>\n",
       "      <td>0.000916</td>\n",
       "      <td>-0.000285</td>\n",
       "      <td>-0.000356</td>\n",
       "      <td>0.002135</td>\n",
       "      <td>-0.000349</td>\n",
       "    </tr>\n",
       "    <tr>\n",
       "      <th>-19.0000</th>\n",
       "      <td>0.001013</td>\n",
       "      <td>0.000887</td>\n",
       "      <td>-0.001364</td>\n",
       "      <td>0.000057</td>\n",
       "      <td>0.000875</td>\n",
       "      <td>-0.002311</td>\n",
       "      <td>-0.000715</td>\n",
       "      <td>0.000715</td>\n",
       "      <td>0.000321</td>\n",
       "      <td>0.001184</td>\n",
       "      <td>...</td>\n",
       "      <td>0.000177</td>\n",
       "      <td>-0.000143</td>\n",
       "      <td>-0.000057</td>\n",
       "      <td>0.000922</td>\n",
       "      <td>0.000425</td>\n",
       "      <td>0.001245</td>\n",
       "      <td>0.000437</td>\n",
       "      <td>0.000805</td>\n",
       "      <td>0.000827</td>\n",
       "      <td>-0.000622</td>\n",
       "    </tr>\n",
       "    <tr>\n",
       "      <th>-17.0000</th>\n",
       "      <td>-0.000659</td>\n",
       "      <td>-0.001007</td>\n",
       "      <td>-0.000877</td>\n",
       "      <td>-0.000207</td>\n",
       "      <td>0.000312</td>\n",
       "      <td>-0.000718</td>\n",
       "      <td>0.000010</td>\n",
       "      <td>-0.000785</td>\n",
       "      <td>0.000464</td>\n",
       "      <td>0.000637</td>\n",
       "      <td>...</td>\n",
       "      <td>0.000346</td>\n",
       "      <td>-0.000279</td>\n",
       "      <td>-0.000068</td>\n",
       "      <td>0.000313</td>\n",
       "      <td>0.000329</td>\n",
       "      <td>0.001233</td>\n",
       "      <td>0.001633</td>\n",
       "      <td>-0.001004</td>\n",
       "      <td>0.000930</td>\n",
       "      <td>0.000370</td>\n",
       "    </tr>\n",
       "    <tr>\n",
       "      <th>-15.0000</th>\n",
       "      <td>-0.000158</td>\n",
       "      <td>-0.000948</td>\n",
       "      <td>0.000118</td>\n",
       "      <td>-0.001281</td>\n",
       "      <td>0.003257</td>\n",
       "      <td>-0.000547</td>\n",
       "      <td>-0.000815</td>\n",
       "      <td>-0.002154</td>\n",
       "      <td>-0.001140</td>\n",
       "      <td>0.001383</td>\n",
       "      <td>...</td>\n",
       "      <td>0.000399</td>\n",
       "      <td>-0.000511</td>\n",
       "      <td>-0.000021</td>\n",
       "      <td>0.000412</td>\n",
       "      <td>0.000461</td>\n",
       "      <td>0.000625</td>\n",
       "      <td>-0.000248</td>\n",
       "      <td>-0.000517</td>\n",
       "      <td>0.001647</td>\n",
       "      <td>-0.000281</td>\n",
       "    </tr>\n",
       "    <tr>\n",
       "      <th>...</th>\n",
       "      <td>...</td>\n",
       "      <td>...</td>\n",
       "      <td>...</td>\n",
       "      <td>...</td>\n",
       "      <td>...</td>\n",
       "      <td>...</td>\n",
       "      <td>...</td>\n",
       "      <td>...</td>\n",
       "      <td>...</td>\n",
       "      <td>...</td>\n",
       "      <td>...</td>\n",
       "      <td>...</td>\n",
       "      <td>...</td>\n",
       "      <td>...</td>\n",
       "      <td>...</td>\n",
       "      <td>...</td>\n",
       "      <td>...</td>\n",
       "      <td>...</td>\n",
       "      <td>...</td>\n",
       "      <td>...</td>\n",
       "      <td>...</td>\n",
       "    </tr>\n",
       "    <tr>\n",
       "      <th>7567.8752</th>\n",
       "      <td>-0.000189</td>\n",
       "      <td>0.000151</td>\n",
       "      <td>-0.002068</td>\n",
       "      <td>-0.000921</td>\n",
       "      <td>0.000980</td>\n",
       "      <td>-0.000827</td>\n",
       "      <td>0.001908</td>\n",
       "      <td>-0.000415</td>\n",
       "      <td>-0.000869</td>\n",
       "      <td>0.002769</td>\n",
       "      <td>...</td>\n",
       "      <td>0.000087</td>\n",
       "      <td>0.000153</td>\n",
       "      <td>-0.001049</td>\n",
       "      <td>0.000418</td>\n",
       "      <td>0.000858</td>\n",
       "      <td>-0.000197</td>\n",
       "      <td>0.000617</td>\n",
       "      <td>-0.000431</td>\n",
       "      <td>0.000110</td>\n",
       "      <td>0.000484</td>\n",
       "    </tr>\n",
       "    <tr>\n",
       "      <th>8068.9158</th>\n",
       "      <td>0.000987</td>\n",
       "      <td>0.001409</td>\n",
       "      <td>0.001738</td>\n",
       "      <td>0.000214</td>\n",
       "      <td>0.002332</td>\n",
       "      <td>-0.001277</td>\n",
       "      <td>-0.000136</td>\n",
       "      <td>-0.001560</td>\n",
       "      <td>-0.000334</td>\n",
       "      <td>0.001352</td>\n",
       "      <td>...</td>\n",
       "      <td>-0.000125</td>\n",
       "      <td>-0.000539</td>\n",
       "      <td>-0.000261</td>\n",
       "      <td>0.001215</td>\n",
       "      <td>0.000600</td>\n",
       "      <td>0.001203</td>\n",
       "      <td>0.000935</td>\n",
       "      <td>0.000053</td>\n",
       "      <td>-0.000191</td>\n",
       "      <td>-0.001186</td>\n",
       "    </tr>\n",
       "    <tr>\n",
       "      <th>8603.1285</th>\n",
       "      <td>-0.001490</td>\n",
       "      <td>-0.000381</td>\n",
       "      <td>0.000165</td>\n",
       "      <td>-0.001029</td>\n",
       "      <td>0.001640</td>\n",
       "      <td>-0.001260</td>\n",
       "      <td>-0.000646</td>\n",
       "      <td>-0.000708</td>\n",
       "      <td>0.000707</td>\n",
       "      <td>-0.000835</td>\n",
       "      <td>...</td>\n",
       "      <td>-0.000209</td>\n",
       "      <td>0.000103</td>\n",
       "      <td>0.000221</td>\n",
       "      <td>0.000088</td>\n",
       "      <td>0.000097</td>\n",
       "      <td>0.002368</td>\n",
       "      <td>0.002169</td>\n",
       "      <td>-0.000673</td>\n",
       "      <td>0.000713</td>\n",
       "      <td>0.001763</td>\n",
       "    </tr>\n",
       "    <tr>\n",
       "      <th>9172.7093</th>\n",
       "      <td>-0.000884</td>\n",
       "      <td>0.000941</td>\n",
       "      <td>-0.001639</td>\n",
       "      <td>0.000632</td>\n",
       "      <td>0.001260</td>\n",
       "      <td>0.000109</td>\n",
       "      <td>-0.001590</td>\n",
       "      <td>-0.000235</td>\n",
       "      <td>-0.000099</td>\n",
       "      <td>0.000182</td>\n",
       "      <td>...</td>\n",
       "      <td>0.000093</td>\n",
       "      <td>-0.000277</td>\n",
       "      <td>-0.000217</td>\n",
       "      <td>0.001134</td>\n",
       "      <td>-0.000042</td>\n",
       "      <td>-0.000556</td>\n",
       "      <td>0.000181</td>\n",
       "      <td>0.000954</td>\n",
       "      <td>0.000936</td>\n",
       "      <td>0.000648</td>\n",
       "    </tr>\n",
       "    <tr>\n",
       "      <th>9780.0000</th>\n",
       "      <td>0.000267</td>\n",
       "      <td>-0.001181</td>\n",
       "      <td>-0.001681</td>\n",
       "      <td>0.001082</td>\n",
       "      <td>0.000827</td>\n",
       "      <td>-0.002674</td>\n",
       "      <td>0.000228</td>\n",
       "      <td>0.000177</td>\n",
       "      <td>0.001997</td>\n",
       "      <td>-0.000931</td>\n",
       "      <td>...</td>\n",
       "      <td>-0.000773</td>\n",
       "      <td>0.000040</td>\n",
       "      <td>0.000870</td>\n",
       "      <td>0.000597</td>\n",
       "      <td>0.000284</td>\n",
       "      <td>0.002950</td>\n",
       "      <td>0.001502</td>\n",
       "      <td>0.000206</td>\n",
       "      <td>0.003648</td>\n",
       "      <td>0.000242</td>\n",
       "    </tr>\n",
       "  </tbody>\n",
       "</table>\n",
       "<p>221 rows × 512 columns</p>\n",
       "</div>"
      ],
      "text/plain": [
       "Wavelength in nm    381.19    381.54    381.88    382.22    382.57    382.92  \\\n",
       "Time in 0.000                                                                  \n",
       "-23.0000         -0.000450 -0.000573 -0.000146  0.000395  0.001207 -0.001621   \n",
       "-21.0000          0.000397  0.000617 -0.000936 -0.000291  0.001521 -0.001091   \n",
       "-19.0000          0.001013  0.000887 -0.001364  0.000057  0.000875 -0.002311   \n",
       "-17.0000         -0.000659 -0.001007 -0.000877 -0.000207  0.000312 -0.000718   \n",
       "-15.0000         -0.000158 -0.000948  0.000118 -0.001281  0.003257 -0.000547   \n",
       "...                    ...       ...       ...       ...       ...       ...   \n",
       " 7567.8752       -0.000189  0.000151 -0.002068 -0.000921  0.000980 -0.000827   \n",
       " 8068.9158        0.000987  0.001409  0.001738  0.000214  0.002332 -0.001277   \n",
       " 8603.1285       -0.001490 -0.000381  0.000165 -0.001029  0.001640 -0.001260   \n",
       " 9172.7093       -0.000884  0.000941 -0.001639  0.000632  0.001260  0.000109   \n",
       " 9780.0000        0.000267 -0.001181 -0.001681  0.001082  0.000827 -0.002674   \n",
       "\n",
       "Wavelength in nm    383.26    383.61    383.96    384.32  ...   1209.20  \\\n",
       "Time in 0.000                                             ...             \n",
       "-23.0000         -0.000360 -0.000546  0.000535 -0.000741  ... -0.000132   \n",
       "-21.0000          0.000059 -0.000266 -0.000036 -0.000257  ... -0.000046   \n",
       "-19.0000         -0.000715  0.000715  0.000321  0.001184  ...  0.000177   \n",
       "-17.0000          0.000010 -0.000785  0.000464  0.000637  ...  0.000346   \n",
       "-15.0000         -0.000815 -0.002154 -0.001140  0.001383  ...  0.000399   \n",
       "...                    ...       ...       ...       ...  ...       ...   \n",
       " 7567.8752        0.001908 -0.000415 -0.000869  0.002769  ...  0.000087   \n",
       " 8068.9158       -0.000136 -0.001560 -0.000334  0.001352  ... -0.000125   \n",
       " 8603.1285       -0.000646 -0.000708  0.000707 -0.000835  ... -0.000209   \n",
       " 9172.7093       -0.001590 -0.000235 -0.000099  0.000182  ...  0.000093   \n",
       " 9780.0000        0.000228  0.000177  0.001997 -0.000931  ... -0.000773   \n",
       "\n",
       "Wavelength in nm   1213.92   1218.65   1223.38   1228.11   1232.85   1237.60  \\\n",
       "Time in 0.000                                                                  \n",
       "-23.0000         -0.000524 -0.000259  0.001079  0.000300 -0.001452 -0.000315   \n",
       "-21.0000          0.000077 -0.000238  0.000332  0.000709  0.000916 -0.000285   \n",
       "-19.0000         -0.000143 -0.000057  0.000922  0.000425  0.001245  0.000437   \n",
       "-17.0000         -0.000279 -0.000068  0.000313  0.000329  0.001233  0.001633   \n",
       "-15.0000         -0.000511 -0.000021  0.000412  0.000461  0.000625 -0.000248   \n",
       "...                    ...       ...       ...       ...       ...       ...   \n",
       " 7567.8752        0.000153 -0.001049  0.000418  0.000858 -0.000197  0.000617   \n",
       " 8068.9158       -0.000539 -0.000261  0.001215  0.000600  0.001203  0.000935   \n",
       " 8603.1285        0.000103  0.000221  0.000088  0.000097  0.002368  0.002169   \n",
       " 9172.7093       -0.000277 -0.000217  0.001134 -0.000042 -0.000556  0.000181   \n",
       " 9780.0000        0.000040  0.000870  0.000597  0.000284  0.002950  0.001502   \n",
       "\n",
       "Wavelength in nm   1242.35   1247.10   1251.85  \n",
       "Time in 0.000                                   \n",
       "-23.0000         -0.000376  0.000933 -0.000096  \n",
       "-21.0000         -0.000356  0.002135 -0.000349  \n",
       "-19.0000          0.000805  0.000827 -0.000622  \n",
       "-17.0000         -0.001004  0.000930  0.000370  \n",
       "-15.0000         -0.000517  0.001647 -0.000281  \n",
       "...                    ...       ...       ...  \n",
       " 7567.8752       -0.000431  0.000110  0.000484  \n",
       " 8068.9158        0.000053 -0.000191 -0.001186  \n",
       " 8603.1285       -0.000673  0.000713  0.001763  \n",
       " 9172.7093        0.000954  0.000936  0.000648  \n",
       " 9780.0000        0.000206  0.003648  0.000242  \n",
       "\n",
       "[221 rows x 512 columns]"
      ]
     },
     "execution_count": 13,
     "metadata": {},
     "output_type": "execute_result"
    }
   ],
   "source": [
    "ta.ds"
   ]
  },
  {
   "cell_type": "code",
   "execution_count": null,
   "metadata": {},
   "outputs": [],
   "source": [
    "from import_library import streak_Lund\n",
    "ta=pf.TA('gui',conversion_function=streak_Lund,shift_times_by=-552)"
   ]
  },
  {
   "cell_type": "code",
   "execution_count": null,
   "metadata": {},
   "outputs": [],
   "source": []
  },
  {
   "cell_type": "code",
   "execution_count": null,
   "metadata": {},
   "outputs": [],
   "source": [
    "paths='d:\\\\Dropbox\\\\coding\\\\github\\\\KiMoPack\\\\Workflow_tools\\\\Data\\\\scans\\\\'\n",
    "dataset=pf.Summarize_scans(path_to_scans=paths)"
   ]
  },
  {
   "cell_type": "code",
   "execution_count": null,
   "metadata": {},
   "outputs": [],
   "source": [
    "dataset=pf.Summarize_scans('gui')"
   ]
  },
  {
   "cell_type": "code",
   "execution_count": null,
   "metadata": {},
   "outputs": [],
   "source": [
    "dataset=pf.Summarize_scans(path_to_scans=paths,fileending='SIA',filename_part='Scan')"
   ]
  },
  {
   "cell_type": "code",
   "execution_count": null,
   "metadata": {},
   "outputs": [],
   "source": []
  },
  {
   "cell_type": "code",
   "execution_count": 14,
   "metadata": {},
   "outputs": [
    {
     "name": "stdout",
     "output_type": "stream",
     "text": [
      "Now downloading the workflow tools\n",
      "Downloading Workflow Tools/TA_Advanced_Fit.ipynb\n",
      "Downloading Workflow Tools/TA_comparative_plotting_and_data_extraction.ipynb\n",
      "Downloading Workflow Tools/TA_Raw_plotting.ipynb\n",
      "Downloading Workflow Tools/TA_Raw_plotting_and_Simple_Fit.ipynb\n",
      "Downloading Workflow Tools/TA_single_scan_handling.ipynb\n",
      "Downloading Workflow Tools/Function_library_overview.pdf\n",
      "Downloading Workflow Tools/function_library.py\n",
      "Downloading Workflow Tools/import_library.py\n"
     ]
    }
   ],
   "source": [
    "pf.download_notebooks()"
   ]
  },
  {
   "cell_type": "code",
   "execution_count": null,
   "metadata": {},
   "outputs": [],
   "source": [
    "pf.download_all()"
   ]
  },
  {
   "cell_type": "code",
   "execution_count": null,
   "metadata": {},
   "outputs": [],
   "source": []
  },
  {
   "cell_type": "code",
   "execution_count": null,
   "metadata": {},
   "outputs": [],
   "source": [
    "dataset.intensity_range=1e-3\n",
    "dataset.bordercut=[440,1250]\n",
    "plt.close('all')\n",
    "dataset.Plot_RAW(0)"
   ]
  },
  {
   "cell_type": "code",
   "execution_count": null,
   "metadata": {},
   "outputs": [],
   "source": [
    "ta=pf.Summarize_scans(path_to_scans=paths,\n",
    "                      value_filter = 20,\n",
    "                      zscore_filter_level =3,\n",
    "                      zscore_in_window=False,\n",
    "                      window1=[1,3,700,800],\n",
    "                      drop_scans=True,\n",
    "                      dump_times=True,\n",
    "                      base_TA_object=dataset)\n",
    "\n",
    "#ta.Plot_RAW(0)"
   ]
  },
  {
   "cell_type": "markdown",
   "metadata": {},
   "source": [
    "### Load and inspect Data "
   ]
  },
  {
   "cell_type": "code",
   "execution_count": null,
   "metadata": {},
   "outputs": [],
   "source": [
    "%matplotlib qt\n",
    "#ta=pf.TA('sample_1.SIA',path='Data')   #type filename and path (leave path empty if in the same folder)\n",
    "#ta=pf.TA(\"sample_1.hdf5\",path=\"Data\")  #reload saved projects using the same syntax\n",
    "ta=pf.TA('recent')                       #use a GUI to select data"
   ]
  },
  {
   "cell_type": "markdown",
   "metadata": {},
   "source": [
    "### perform standard corrections"
   ]
  },
  {
   "cell_type": "code",
   "execution_count": null,
   "metadata": {},
   "outputs": [],
   "source": [
    "ta.Filter_data(value=20)               #remove bad data\n",
    "ta.Man_Chirp()                         #correct for arrival time difference ta.Cor_Chirp('gui') allows to choose file \n",
    "ta.Background(uplimit=-0.5)           #substract Background before time_zero\n",
    "#ta.Plot_Interactive()"
   ]
  },
  {
   "cell_type": "markdown",
   "metadata": {},
   "source": [
    "### Shape data and plot Raw images"
   ]
  },
  {
   "cell_type": "code",
   "execution_count": null,
   "metadata": {},
   "outputs": [],
   "source": [
    "plt.close('all')\n",
    "#ta.rel_wave=[390,420,440,530,580,700,800,950,930,1050]      # use to manually select interesting wavelength for the kinetics\n",
    "ta.wavelength_bin=20                                         # width of wavelength bin in kinetics\n",
    "ta.equal_energy_bin=None\n",
    "ta.wave_nm_bin=5;                                            # rebinning wavelength\n",
    "ta.rel_time=[0.3,0.4,1,3,5,10,20,30,100,300,2000,3000]          # use to manually set interesting times for the spectra\n",
    "ta.time_width_percent=0                                      # rebinning of time_points in percent\n",
    "ta.timelimits=[-1,5000]                                      # use to manually limit the range to plot (and fit)     \n",
    "ta.log_scale=False                                           # use to plot the 2d plots with logarithmic intensity scale\n",
    "ta.bordercut=[400,1100]                                      # use to set the outer wavelength limits\n",
    "ta.scattercut=[525,605]                                      # this region is blanked out to block scatter, this can be a list of regions\n",
    "ta.intensity_range=[0,3e-3]                                  # set a value 5e-3 or a range [-1e-3,5e-3] for 2d plotting\n",
    "ta.Plot_RAW(0,title=None)                                      # Plot Raw Spectra"
   ]
  },
  {
   "cell_type": "code",
   "execution_count": null,
   "metadata": {},
   "outputs": [],
   "source": [
    "#ta.Plot_Interactive()"
   ]
  },
  {
   "cell_type": "markdown",
   "metadata": {},
   "source": [
    "### Perform fast fitting using independent exponential decay (first order)"
   ]
  },
  {
   "cell_type": "code",
   "execution_count": null,
   "metadata": {},
   "outputs": [],
   "source": [
    "plt.close('all')                                             # Close old spectra\n",
    "ta.mod='exponential'                                         # Choose the model 'exponential', 'consecutive' and 'fast_consecutive'are build in\n",
    "par=lmfit.Parameters()                                       # create empty parameter object\n",
    "\n",
    "par.add('k0',value=1/0.1,vary=True)                                # Add second rate component\n",
    "par.add('k1',value=1/2.5,vary=True)                                # Add one rate component\n",
    "par.add('k2',value=1/40,vary=True)                                 # Add second rate component\n",
    "par.add('t0',value=0,min=-2,max=2,vary=False)                       # Allow the arrival time to adjust (for all)\n",
    "par.add('resolution',value=0.086,min=0.04,max=0.5,vary=False)       # Allow the instrument response to adjust (for all)\n",
    "#par.add('infinite')                                                # Keyword for an non decaying component\n",
    "#par.add('background')                                             # Keyword to fit the Background Disable the background substraction in the loading cell for best effect\n",
    "#ta.timelimits=[0.2,5000]                                      # select time window in which to fit\n",
    "ta.ignore_time_region=[-0.1,0.5]                              # ignore the region over t0 for the fit\n",
    "ta.log_fit=False                                               # fit in linear or log scale\n",
    "if 0:\n",
    "    for key in par.keys():\n",
    "        par[key].vary=False\n",
    "ta.par=par                                                     # write parameter object into file for fitting\n",
    "ta.Fit_Global(fit_chirp=False)                                 # trigger fitting\n",
    "\n",
    "ta.error_matrix_amplification=10;                              # Choose how much stronger should error be plotted       \n",
    "ta.log_scale=False                                             # 2D plots in linear or log scale\n",
    "ta.Plot_fit_output(4)                                 # plot the fit output"
   ]
  },
  {
   "cell_type": "code",
   "execution_count": null,
   "metadata": {},
   "outputs": [],
   "source": [
    "ta.re.keys()"
   ]
  },
  {
   "cell_type": "code",
   "execution_count": null,
   "metadata": {},
   "outputs": [],
   "source": [
    "x=ta.ds.index.values\n",
    "len(np.unique(x[1:]-x[:-1]))"
   ]
  },
  {
   "cell_type": "code",
   "execution_count": null,
   "metadata": {},
   "outputs": [],
   "source": [
    "par=lmfit.Parameters() \n",
    "par.add('k0',value=1/0.1,vary=True)                                \n",
    "par.add('k1',value=1/2.5,vary=True)\n",
    "par.add('k2',value=1/100,vary=True)\n",
    "par.add('infinite')                               \n",
    "par.add('t0',value=0,min=-2,max=2,vary=False)                 \n",
    "par.add('resolution',value=0.086,min=0.04,max=0.5,vary=False)\n",
    "ta.par=par # write parameter object into file for fitting\n",
    "ta.Fit_Global(fit_chirp=False,confidence_level=0.95) "
   ]
  },
  {
   "cell_type": "code",
   "execution_count": null,
   "metadata": {},
   "outputs": [],
   "source": [
    "plt.close('all')\n",
    "ta.cmap=pf.cm.gist_ncar\n",
    "ta.intensity_range=3e-3\n",
    "ta.Plot_fit_output()"
   ]
  },
  {
   "cell_type": "markdown",
   "metadata": {},
   "source": [
    "### export the results as images and save the project"
   ]
  },
  {
   "cell_type": "code",
   "execution_count": null,
   "metadata": {},
   "outputs": [],
   "source": []
  },
  {
   "cell_type": "code",
   "execution_count": null,
   "metadata": {},
   "outputs": [],
   "source": [
    "#ta.filename='new'+ta.filename\n",
    "ta.Save_project()                     # This saves the whole project including raw data, fits and chirp correction into a single file"
   ]
  },
  {
   "cell_type": "code",
   "execution_count": null,
   "metadata": {},
   "outputs": [],
   "source": [
    "ta.Save_Plots(savetype='png')         # This saves all the figures and a overview powerpoint savetype=['png','svg']"
   ]
  },
  {
   "cell_type": "markdown",
   "metadata": {},
   "source": [
    "### Perform Error analysis and calculate confidence interval"
   ]
  },
  {
   "cell_type": "code",
   "execution_count": null,
   "metadata": {},
   "outputs": [],
   "source": [
    "ta.par=ta.par_fit #write the best results back as starting parameter\n",
    "ta.Fit_Global(confidence_level=0.65)"
   ]
  },
  {
   "cell_type": "markdown",
   "metadata": {},
   "source": [
    "### Perform fast iterative fitting using independent exponential decay and optimise the chirp"
   ]
  },
  {
   "cell_type": "code",
   "execution_count": null,
   "metadata": {},
   "outputs": [],
   "source": [
    "ta1=ta.Copy()                          # Make a copy of the fitting ptoject to test less stable things\n",
    "ta1.timelimits=None                    # To optimise the chirp the region around time-zero must be included\n",
    "ta1.ignore_time_region=None            # To optimise the chirp the region around time-zero must be included\n",
    "ta1.par=ta.par_fit                     # copy fitted parameter into a new fit (e.g. different model)\n",
    "ta1.Fit_Global(fit_chirp=True)         # trigger fitting with Chirp optimization best using 'exponential' for speed\n",
    "ta1.Plot_fit_output(title=None)        # plot the fit output"
   ]
  },
  {
   "cell_type": "code",
   "execution_count": null,
   "metadata": {},
   "outputs": [],
   "source": [
    "ta=ta1.Copy() # if successful they can always be written back"
   ]
  },
  {
   "cell_type": "markdown",
   "metadata": {},
   "source": [
    "### Perform fast fitting using consecutative exponential decay to obtain species associated spectrum assuming a simple model"
   ]
  },
  {
   "cell_type": "code",
   "execution_count": null,
   "metadata": {},
   "outputs": [],
   "source": [
    "ta.mod='consecutive'             # very quick fit using independent exponential followed by one round of sequential\n",
    "ta.par=ta.par_fit                # copy fitted parameter into a new fit (e.g. different model)\n",
    "ta.Fit_Global(fit_chirp=False)   # The iterative chrip is best optimised using 'exponential'\n",
    "ta.Plot_fit_output(title=None)   # plot the fit output"
   ]
  },
  {
   "cell_type": "code",
   "execution_count": null,
   "metadata": {},
   "outputs": [],
   "source": [
    "ta.par=ta.par_fit\n",
    "ta.mod='full_consecutive'        # Truely consecutative fitting, usually much slower\n",
    "ta.Fit_Global(fit_chirp=False)   \n",
    "ta.Plot_fit_output(title=None)"
   ]
  },
  {
   "cell_type": "markdown",
   "metadata": {},
   "source": [
    "### Sometimes required options applicable also to fit plotting"
   ]
  },
  {
   "cell_type": "code",
   "execution_count": null,
   "metadata": {},
   "outputs": [],
   "source": [
    "#ta.Man_Chirp()                   # used to redo the chirp-correction\n",
    "#ta.Save_data()                   # used to dump the Data and fits to disk\n",
    "\n",
    "#ta.cmap=pf.cm.viridis            # use different colour scheme (can also be a list of colours)\n",
    "#pf.changefonts(weight='bold',font='standard',SMALL_SIZE=18,MEDIUM_SIZE=18,LARGE_SIZE=18)  "
   ]
  },
  {
   "cell_type": "code",
   "execution_count": null,
   "metadata": {},
   "outputs": [],
   "source": [
    "ta.Save_Powerpoint()"
   ]
  }
 ],
 "metadata": {
  "ipub": {
   "titlepage": {
    "author": "Jens Uhlig",
    "email": "jens.uhlig@chemphys.lu.se",
    "logo": "http://www.jensuhlig.de//hot_warm_cold.png",
    "subtitle": "Main Worksheet",
    "title": "Transient Absorption Worksheet"
   }
  },
  "kernelspec": {
   "display_name": "Python 3 (ipykernel)",
   "language": "python",
   "name": "python3"
  },
  "language_info": {
   "codemirror_mode": {
    "name": "ipython",
    "version": 3
   },
   "file_extension": ".py",
   "mimetype": "text/x-python",
   "name": "python",
   "nbconvert_exporter": "python",
   "pygments_lexer": "ipython3",
   "version": "3.9.12"
  }
 },
 "nbformat": 4,
 "nbformat_minor": 2
}

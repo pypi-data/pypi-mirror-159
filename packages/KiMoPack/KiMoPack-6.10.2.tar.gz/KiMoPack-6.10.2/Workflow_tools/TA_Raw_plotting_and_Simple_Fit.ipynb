{
 "cells": [
  {
   "cell_type": "markdown",
   "metadata": {},
   "source": [
    "### Set standard imports"
   ]
  },
  {
   "cell_type": "code",
   "execution_count": 67,
   "metadata": {},
   "outputs": [
    {
     "name": "stdout",
     "output_type": "stream",
     "text": [
      "Plot_func version 6.10.2\n",
      "was imported from path:\n",
      " H:\\Programs\\Anaconda\\Lib\\site-packages\\KiMoPack\n",
      "The current working folder is:\n",
      " H:\\Dropbox\\coding\\github\\KiMoPack\\Workflow_tools\n"
     ]
    }
   ],
   "source": [
    "import matplotlib,lmfit\n",
    "import matplotlib.pyplot as plt\n",
    "import numpy as np\n",
    "import pandas as pd\n",
    "%matplotlib qt\n",
    "import KiMoPack.plot_func as pf\n",
    "#from KiMoPack.plotfunc import pf"
   ]
  },
  {
   "cell_type": "markdown",
   "metadata": {},
   "source": [
    "### Load and inspect Data "
   ]
  },
  {
   "cell_type": "code",
   "execution_count": 68,
   "metadata": {},
   "outputs": [],
   "source": [
    "%matplotlib qt\n",
    "ta=pf.TA('sample_1.SIA',path='Data')   #type filename and path (leave path empty if in the same folder)\n",
    "#ta=pf.TA(\"sample_1.hdf5\",path=\"Data\")  #reload saved projects using the same syntax\n",
    "#ta=pf.TA('gui')                       #use a GUI to select data\n"
   ]
  },
  {
   "cell_type": "markdown",
   "metadata": {},
   "source": [
    "### perform standard corrections"
   ]
  },
  {
   "cell_type": "code",
   "execution_count": 69,
   "metadata": {},
   "outputs": [
    {
     "name": "stdout",
     "output_type": "stream",
     "text": [
      "attention, more than 20% of the data was removed by this filter.\n",
      "Please check with if the spectal borders contain regions without light (and high noise)\n",
      "Setting a bordercut and scattercut before the filtering might be useful\n",
      "attention, more than 20% of the data was removed by this filter.\n",
      "Please check with if the spectal borders contain regions without light (and high noise)\n",
      "Setting a bordercut and scattercut before the filtering might be useful\n"
     ]
    },
    {
     "ename": "TypeError",
     "evalue": "Dimensions of A (0,) are incompatible with X (513) and/or Y (0)",
     "output_type": "error",
     "traceback": [
      "\u001b[1;31m---------------------------------------------------------------------------\u001b[0m",
      "\u001b[1;31mTypeError\u001b[0m                                 Traceback (most recent call last)",
      "\u001b[1;32m~\\AppData\\Local\\Temp\\ipykernel_5420\\3828467697.py\u001b[0m in \u001b[0;36m<cell line: 9>\u001b[1;34m()\u001b[0m\n\u001b[0;32m      7\u001b[0m \u001b[0mta\u001b[0m\u001b[1;33m.\u001b[0m\u001b[0mCor_Chirp\u001b[0m\u001b[1;33m(\u001b[0m\u001b[1;33m)\u001b[0m \u001b[1;31m#correct for arrival time difference ta.Cor_Chirp('gui') allows to choose file\u001b[0m\u001b[1;33m\u001b[0m\u001b[1;33m\u001b[0m\u001b[0m\n\u001b[0;32m      8\u001b[0m \u001b[0mta\u001b[0m\u001b[1;33m.\u001b[0m\u001b[0mBackground\u001b[0m\u001b[1;33m(\u001b[0m\u001b[0muplimit\u001b[0m\u001b[1;33m=\u001b[0m\u001b[1;33m-\u001b[0m\u001b[1;36m0.5\u001b[0m\u001b[1;33m)\u001b[0m           \u001b[1;31m#substract Background before time_zero\u001b[0m\u001b[1;33m\u001b[0m\u001b[1;33m\u001b[0m\u001b[0m\n\u001b[1;32m----> 9\u001b[1;33m \u001b[0mta\u001b[0m\u001b[1;33m.\u001b[0m\u001b[0mPlot_RAW\u001b[0m\u001b[1;33m(\u001b[0m\u001b[1;36m0\u001b[0m\u001b[1;33m)\u001b[0m\u001b[1;33m\u001b[0m\u001b[1;33m\u001b[0m\u001b[0m\n\u001b[0m",
      "\u001b[1;32mH:\\Programs\\Anaconda\\lib\\site-packages\\KiMoPack\\plot_func.py\u001b[0m in \u001b[0;36mPlot_RAW\u001b[1;34m(self, plotting, title, scale_type, times, cmap, filename, path, savetype, print_click_position, plot_second_as_energy, ds)\u001b[0m\n\u001b[0;32m   5945\u001b[0m                         \u001b[1;32melse\u001b[0m\u001b[1;33m:\u001b[0m\u001b[1;33m\u001b[0m\u001b[1;33m\u001b[0m\u001b[0m\n\u001b[0;32m   5946\u001b[0m                                 \u001b[0mtitle\u001b[0m\u001b[1;33m=\u001b[0m\u001b[0mfilename\u001b[0m\u001b[1;33m\u001b[0m\u001b[1;33m\u001b[0m\u001b[0m\n\u001b[1;32m-> 5947\u001b[1;33m \t\tplot_raw(ds=ds, plotting=plotting, cmap=cmap, title=title, path=path, filename=filename, \n\u001b[0m\u001b[0;32m   5948\u001b[0m                                 \u001b[0mintensity_range\u001b[0m\u001b[1;33m=\u001b[0m\u001b[0mself\u001b[0m\u001b[1;33m.\u001b[0m\u001b[0mintensity_range\u001b[0m\u001b[1;33m,\u001b[0m \u001b[0mlog_scale\u001b[0m\u001b[1;33m=\u001b[0m\u001b[0mself\u001b[0m\u001b[1;33m.\u001b[0m\u001b[0mlog_scale\u001b[0m\u001b[1;33m,\u001b[0m \u001b[0mbaseunit\u001b[0m\u001b[1;33m=\u001b[0m\u001b[0mself\u001b[0m\u001b[1;33m.\u001b[0m\u001b[0mbaseunit\u001b[0m\u001b[1;33m,\u001b[0m\u001b[1;33m\u001b[0m\u001b[1;33m\u001b[0m\u001b[0m\n\u001b[0;32m   5949\u001b[0m                                 \u001b[0mtimelimits\u001b[0m\u001b[1;33m=\u001b[0m\u001b[0mself\u001b[0m\u001b[1;33m.\u001b[0m\u001b[0mtimelimits\u001b[0m\u001b[1;33m,\u001b[0m \u001b[0mscattercut\u001b[0m\u001b[1;33m=\u001b[0m\u001b[0mself\u001b[0m\u001b[1;33m.\u001b[0m\u001b[0mscattercut\u001b[0m\u001b[1;33m,\u001b[0m \u001b[0mbordercut\u001b[0m\u001b[1;33m=\u001b[0m\u001b[0mself\u001b[0m\u001b[1;33m.\u001b[0m\u001b[0mbordercut\u001b[0m\u001b[1;33m,\u001b[0m\u001b[1;33m\u001b[0m\u001b[1;33m\u001b[0m\u001b[0m\n",
      "\u001b[1;32mH:\\Programs\\Anaconda\\lib\\site-packages\\KiMoPack\\plot_func.py\u001b[0m in \u001b[0;36mplot_raw\u001b[1;34m(ds, plotting, title, intensity_range, baseunit, timelimits, scattercut, bordercut, wave_nm_bin, width, rel_wave, rel_time, time_width_percent, ignore_time_region, time_bin, cmap, color_offset, log_scale, plot_type, lintresh, times, save_figures_to_folder, savetype, path, filename, print_click_position, data_type, plot_second_as_energy, units, return_plots, equal_energy_bin)\u001b[0m\n\u001b[0;32m   2649\u001b[0m         \u001b[0mplt\u001b[0m\u001b[1;33m.\u001b[0m\u001b[0mion\u001b[0m\u001b[1;33m(\u001b[0m\u001b[1;33m)\u001b[0m\u001b[1;33m\u001b[0m\u001b[1;33m\u001b[0m\u001b[0m\n\u001b[0;32m   2650\u001b[0m         \u001b[1;32mif\u001b[0m \u001b[1;36m0\u001b[0m \u001b[1;32min\u001b[0m \u001b[0mplotting\u001b[0m\u001b[1;33m:\u001b[0m\u001b[1;31m#MAtrix\u001b[0m\u001b[1;33m\u001b[0m\u001b[1;33m\u001b[0m\u001b[0m\n\u001b[1;32m-> 2651\u001b[1;33m \t\tfig1 = plot2d(ds = ds, cmap = cmap, ignore_time_region = ignore_time_region, plot_type = plot_type, \n\u001b[0m\u001b[0;32m   2652\u001b[0m                                         \u001b[0mbaseunit\u001b[0m \u001b[1;33m=\u001b[0m \u001b[0mbaseunit\u001b[0m\u001b[1;33m,\u001b[0m \u001b[0mintensity_range\u001b[0m \u001b[1;33m=\u001b[0m \u001b[0mintensity_range\u001b[0m\u001b[1;33m,\u001b[0m \u001b[0mscattercut\u001b[0m \u001b[1;33m=\u001b[0m \u001b[0mscattercut\u001b[0m\u001b[1;33m,\u001b[0m\u001b[1;33m\u001b[0m\u001b[1;33m\u001b[0m\u001b[0m\n\u001b[0;32m   2653\u001b[0m                                         \u001b[0mbordercut\u001b[0m \u001b[1;33m=\u001b[0m \u001b[0mbordercut\u001b[0m\u001b[1;33m,\u001b[0m \u001b[0mwave_nm_bin\u001b[0m \u001b[1;33m=\u001b[0m \u001b[0mwave_nm_bin\u001b[0m\u001b[1;33m,\u001b[0m \u001b[0mlevels\u001b[0m \u001b[1;33m=\u001b[0m \u001b[1;36m200\u001b[0m\u001b[1;33m,\u001b[0m \u001b[0mlintresh\u001b[0m \u001b[1;33m=\u001b[0m \u001b[0mlintresh\u001b[0m\u001b[1;33m,\u001b[0m\u001b[1;33m\u001b[0m\u001b[1;33m\u001b[0m\u001b[0m\n",
      "\u001b[1;32mH:\\Programs\\Anaconda\\lib\\site-packages\\KiMoPack\\plot_func.py\u001b[0m in \u001b[0;36mplot2d\u001b[1;34m(ds, ax, title, intensity_range, baseunit, timelimits, scattercut, bordercut, wave_nm_bin, ignore_time_region, time_bin, log_scale, plot_type, lintresh, wavelength_bin, levels, use_colorbar, cmap, data_type, equal_energy_bin, from_fit)\u001b[0m\n\u001b[0;32m   1513\u001b[0m         \u001b[0my\u001b[0m \u001b[1;33m=\u001b[0m \u001b[0mds\u001b[0m\u001b[1;33m.\u001b[0m\u001b[0mindex\u001b[0m\u001b[1;33m.\u001b[0m\u001b[0mvalues\u001b[0m\u001b[1;33m.\u001b[0m\u001b[0mastype\u001b[0m\u001b[1;33m(\u001b[0m\u001b[1;34m'float'\u001b[0m\u001b[1;33m)\u001b[0m\u001b[1;33m\u001b[0m\u001b[1;33m\u001b[0m\u001b[0m\n\u001b[0;32m   1514\u001b[0m         \u001b[0mX\u001b[0m\u001b[1;33m,\u001b[0m \u001b[0mY\u001b[0m \u001b[1;33m=\u001b[0m \u001b[0mnp\u001b[0m\u001b[1;33m.\u001b[0m\u001b[0mmeshgrid\u001b[0m\u001b[1;33m(\u001b[0m\u001b[0mx\u001b[0m\u001b[1;33m,\u001b[0m \u001b[0my\u001b[0m\u001b[1;33m)\u001b[0m\u001b[1;33m\u001b[0m\u001b[1;33m\u001b[0m\u001b[0m\n\u001b[1;32m-> 1515\u001b[1;33m         \u001b[0mimg\u001b[0m\u001b[1;33m=\u001b[0m\u001b[0max\u001b[0m\u001b[1;33m.\u001b[0m\u001b[0mpcolormesh\u001b[0m\u001b[1;33m(\u001b[0m\u001b[0mX\u001b[0m\u001b[1;33m,\u001b[0m\u001b[0mY\u001b[0m\u001b[1;33m,\u001b[0m\u001b[0mds\u001b[0m\u001b[1;33m.\u001b[0m\u001b[0mvalues\u001b[0m\u001b[1;33m,\u001b[0m\u001b[0mnorm\u001b[0m\u001b[1;33m=\u001b[0m\u001b[0mnorm\u001b[0m\u001b[1;33m,\u001b[0m\u001b[0mcmap\u001b[0m\u001b[1;33m=\u001b[0m\u001b[0mcmap\u001b[0m\u001b[1;33m,\u001b[0m\u001b[0mshading\u001b[0m\u001b[1;33m=\u001b[0m\u001b[0mshading\u001b[0m\u001b[1;33m)\u001b[0m\u001b[1;33m\u001b[0m\u001b[1;33m\u001b[0m\u001b[0m\n\u001b[0m\u001b[0;32m   1516\u001b[0m         \u001b[1;32mif\u001b[0m \u001b[0mignore_time_region\u001b[0m \u001b[1;32mis\u001b[0m \u001b[1;32mNone\u001b[0m\u001b[1;33m:\u001b[0m\u001b[1;33m\u001b[0m\u001b[1;33m\u001b[0m\u001b[0m\n\u001b[0;32m   1517\u001b[0m                 \u001b[1;32mpass\u001b[0m\u001b[1;33m\u001b[0m\u001b[1;33m\u001b[0m\u001b[0m\n",
      "\u001b[1;32mH:\\Programs\\Anaconda\\lib\\site-packages\\matplotlib\\__init__.py\u001b[0m in \u001b[0;36minner\u001b[1;34m(ax, data, *args, **kwargs)\u001b[0m\n\u001b[0;32m   1410\u001b[0m     \u001b[1;32mdef\u001b[0m \u001b[0minner\u001b[0m\u001b[1;33m(\u001b[0m\u001b[0max\u001b[0m\u001b[1;33m,\u001b[0m \u001b[1;33m*\u001b[0m\u001b[0margs\u001b[0m\u001b[1;33m,\u001b[0m \u001b[0mdata\u001b[0m\u001b[1;33m=\u001b[0m\u001b[1;32mNone\u001b[0m\u001b[1;33m,\u001b[0m \u001b[1;33m**\u001b[0m\u001b[0mkwargs\u001b[0m\u001b[1;33m)\u001b[0m\u001b[1;33m:\u001b[0m\u001b[1;33m\u001b[0m\u001b[1;33m\u001b[0m\u001b[0m\n\u001b[0;32m   1411\u001b[0m         \u001b[1;32mif\u001b[0m \u001b[0mdata\u001b[0m \u001b[1;32mis\u001b[0m \u001b[1;32mNone\u001b[0m\u001b[1;33m:\u001b[0m\u001b[1;33m\u001b[0m\u001b[1;33m\u001b[0m\u001b[0m\n\u001b[1;32m-> 1412\u001b[1;33m             \u001b[1;32mreturn\u001b[0m \u001b[0mfunc\u001b[0m\u001b[1;33m(\u001b[0m\u001b[0max\u001b[0m\u001b[1;33m,\u001b[0m \u001b[1;33m*\u001b[0m\u001b[0mmap\u001b[0m\u001b[1;33m(\u001b[0m\u001b[0msanitize_sequence\u001b[0m\u001b[1;33m,\u001b[0m \u001b[0margs\u001b[0m\u001b[1;33m)\u001b[0m\u001b[1;33m,\u001b[0m \u001b[1;33m**\u001b[0m\u001b[0mkwargs\u001b[0m\u001b[1;33m)\u001b[0m\u001b[1;33m\u001b[0m\u001b[1;33m\u001b[0m\u001b[0m\n\u001b[0m\u001b[0;32m   1413\u001b[0m \u001b[1;33m\u001b[0m\u001b[0m\n\u001b[0;32m   1414\u001b[0m         \u001b[0mbound\u001b[0m \u001b[1;33m=\u001b[0m \u001b[0mnew_sig\u001b[0m\u001b[1;33m.\u001b[0m\u001b[0mbind\u001b[0m\u001b[1;33m(\u001b[0m\u001b[0max\u001b[0m\u001b[1;33m,\u001b[0m \u001b[1;33m*\u001b[0m\u001b[0margs\u001b[0m\u001b[1;33m,\u001b[0m \u001b[1;33m**\u001b[0m\u001b[0mkwargs\u001b[0m\u001b[1;33m)\u001b[0m\u001b[1;33m\u001b[0m\u001b[1;33m\u001b[0m\u001b[0m\n",
      "\u001b[1;32mH:\\Programs\\Anaconda\\lib\\site-packages\\matplotlib\\axes\\_axes.py\u001b[0m in \u001b[0;36mpcolormesh\u001b[1;34m(self, alpha, norm, cmap, vmin, vmax, shading, antialiased, *args, **kwargs)\u001b[0m\n\u001b[0;32m   6064\u001b[0m         \u001b[0mkwargs\u001b[0m\u001b[1;33m.\u001b[0m\u001b[0msetdefault\u001b[0m\u001b[1;33m(\u001b[0m\u001b[1;34m'snap'\u001b[0m\u001b[1;33m,\u001b[0m \u001b[0mrcParams\u001b[0m\u001b[1;33m[\u001b[0m\u001b[1;34m'pcolormesh.snap'\u001b[0m\u001b[1;33m]\u001b[0m\u001b[1;33m)\u001b[0m\u001b[1;33m\u001b[0m\u001b[1;33m\u001b[0m\u001b[0m\n\u001b[0;32m   6065\u001b[0m \u001b[1;33m\u001b[0m\u001b[0m\n\u001b[1;32m-> 6066\u001b[1;33m         collection = mcoll.QuadMesh(\n\u001b[0m\u001b[0;32m   6067\u001b[0m             \u001b[0mcoords\u001b[0m\u001b[1;33m,\u001b[0m \u001b[0mantialiased\u001b[0m\u001b[1;33m=\u001b[0m\u001b[0mantialiased\u001b[0m\u001b[1;33m,\u001b[0m \u001b[0mshading\u001b[0m\u001b[1;33m=\u001b[0m\u001b[0mshading\u001b[0m\u001b[1;33m,\u001b[0m\u001b[1;33m\u001b[0m\u001b[1;33m\u001b[0m\u001b[0m\n\u001b[0;32m   6068\u001b[0m             array=C, cmap=cmap, norm=norm, alpha=alpha, **kwargs)\n",
      "\u001b[1;32mH:\\Programs\\Anaconda\\lib\\site-packages\\matplotlib\\collections.py\u001b[0m in \u001b[0;36m__init__\u001b[1;34m(self, *args, **kwargs)\u001b[0m\n\u001b[0;32m   2013\u001b[0m         \u001b[1;31m# super init delayed after own init because array kwarg requires\u001b[0m\u001b[1;33m\u001b[0m\u001b[1;33m\u001b[0m\u001b[0m\n\u001b[0;32m   2014\u001b[0m         \u001b[1;31m# self._coordinates and self._shading\u001b[0m\u001b[1;33m\u001b[0m\u001b[1;33m\u001b[0m\u001b[0m\n\u001b[1;32m-> 2015\u001b[1;33m         \u001b[0msuper\u001b[0m\u001b[1;33m(\u001b[0m\u001b[1;33m)\u001b[0m\u001b[1;33m.\u001b[0m\u001b[0m__init__\u001b[0m\u001b[1;33m(\u001b[0m\u001b[1;33m**\u001b[0m\u001b[0mkwargs\u001b[0m\u001b[1;33m)\u001b[0m\u001b[1;33m\u001b[0m\u001b[1;33m\u001b[0m\u001b[0m\n\u001b[0m\u001b[0;32m   2016\u001b[0m         \u001b[0mself\u001b[0m\u001b[1;33m.\u001b[0m\u001b[0mmouseover\u001b[0m \u001b[1;33m=\u001b[0m \u001b[1;32mFalse\u001b[0m\u001b[1;33m\u001b[0m\u001b[1;33m\u001b[0m\u001b[0m\n\u001b[0;32m   2017\u001b[0m \u001b[1;33m\u001b[0m\u001b[0m\n",
      "\u001b[1;32mH:\\Programs\\Anaconda\\lib\\site-packages\\matplotlib\\collections.py\u001b[0m in \u001b[0;36m__init__\u001b[1;34m(self, edgecolors, facecolors, linewidths, linestyles, capstyle, joinstyle, antialiaseds, offsets, transOffset, norm, cmap, pickradius, hatch, urls, zorder, **kwargs)\u001b[0m\n\u001b[0;32m    215\u001b[0m \u001b[1;33m\u001b[0m\u001b[0m\n\u001b[0;32m    216\u001b[0m         \u001b[0mself\u001b[0m\u001b[1;33m.\u001b[0m\u001b[0m_path_effects\u001b[0m \u001b[1;33m=\u001b[0m \u001b[1;32mNone\u001b[0m\u001b[1;33m\u001b[0m\u001b[1;33m\u001b[0m\u001b[0m\n\u001b[1;32m--> 217\u001b[1;33m         \u001b[0mself\u001b[0m\u001b[1;33m.\u001b[0m\u001b[0mupdate\u001b[0m\u001b[1;33m(\u001b[0m\u001b[0mkwargs\u001b[0m\u001b[1;33m)\u001b[0m\u001b[1;33m\u001b[0m\u001b[1;33m\u001b[0m\u001b[0m\n\u001b[0m\u001b[0;32m    218\u001b[0m         \u001b[0mself\u001b[0m\u001b[1;33m.\u001b[0m\u001b[0m_paths\u001b[0m \u001b[1;33m=\u001b[0m \u001b[1;32mNone\u001b[0m\u001b[1;33m\u001b[0m\u001b[1;33m\u001b[0m\u001b[0m\n\u001b[0;32m    219\u001b[0m \u001b[1;33m\u001b[0m\u001b[0m\n",
      "\u001b[1;32mH:\\Programs\\Anaconda\\lib\\site-packages\\matplotlib\\artist.py\u001b[0m in \u001b[0;36mupdate\u001b[1;34m(self, props)\u001b[0m\n\u001b[0;32m   1064\u001b[0m                         raise AttributeError(f\"{type(self).__name__!r} object \"\n\u001b[0;32m   1065\u001b[0m                                              f\"has no property {k!r}\")\n\u001b[1;32m-> 1066\u001b[1;33m                     \u001b[0mret\u001b[0m\u001b[1;33m.\u001b[0m\u001b[0mappend\u001b[0m\u001b[1;33m(\u001b[0m\u001b[0mfunc\u001b[0m\u001b[1;33m(\u001b[0m\u001b[0mv\u001b[0m\u001b[1;33m)\u001b[0m\u001b[1;33m)\u001b[0m\u001b[1;33m\u001b[0m\u001b[1;33m\u001b[0m\u001b[0m\n\u001b[0m\u001b[0;32m   1067\u001b[0m         \u001b[1;32mif\u001b[0m \u001b[0mret\u001b[0m\u001b[1;33m:\u001b[0m\u001b[1;33m\u001b[0m\u001b[1;33m\u001b[0m\u001b[0m\n\u001b[0;32m   1068\u001b[0m             \u001b[0mself\u001b[0m\u001b[1;33m.\u001b[0m\u001b[0mpchanged\u001b[0m\u001b[1;33m(\u001b[0m\u001b[1;33m)\u001b[0m\u001b[1;33m\u001b[0m\u001b[1;33m\u001b[0m\u001b[0m\n",
      "\u001b[1;32mH:\\Programs\\Anaconda\\lib\\site-packages\\matplotlib\\collections.py\u001b[0m in \u001b[0;36mset_array\u001b[1;34m(self, A)\u001b[0m\n\u001b[0;32m   2071\u001b[0m \u001b[1;33m\u001b[0m\u001b[0m\n\u001b[0;32m   2072\u001b[0m             \u001b[1;32mif\u001b[0m \u001b[0mfaulty_data\u001b[0m\u001b[1;33m:\u001b[0m\u001b[1;33m\u001b[0m\u001b[1;33m\u001b[0m\u001b[0m\n\u001b[1;32m-> 2073\u001b[1;33m                 raise TypeError(\n\u001b[0m\u001b[0;32m   2074\u001b[0m                     \u001b[1;34mf\"Dimensions of A {A.shape} are incompatible with \"\u001b[0m\u001b[1;33m\u001b[0m\u001b[1;33m\u001b[0m\u001b[0m\n\u001b[0;32m   2075\u001b[0m                     f\"X ({width}) and/or Y ({height})\")\n",
      "\u001b[1;31mTypeError\u001b[0m: Dimensions of A (0,) are incompatible with X (513) and/or Y (0)"
     ]
    }
   ],
   "source": [
    "debug=False   #turn on for checking\n",
    "ta.intensity_range=ta.ds.describe().median(axis=1)['75%']*2\n",
    "if debug:ta.Plot_RAW(0)\n",
    "ta.Filter_data(value=0.001)               #remove bad data\n",
    "if debug:ta.Plot_RAW(0)\n",
    "#ta.bordercut=[400,1150]\n",
    "ta.Cor_Chirp() #correct for arrival time difference ta.Cor_Chirp('gui') allows to choose file \n",
    "ta.Background(uplimit=-0.5)           #substract Background before time_zero\n",
    "ta.Plot_RAW(0)"
   ]
  },
  {
   "cell_type": "code",
   "execution_count": 56,
   "metadata": {},
   "outputs": [],
   "source": [
    "ta.ds[ta.ds>0]=0"
   ]
  },
  {
   "cell_type": "code",
   "execution_count": 61,
   "metadata": {},
   "outputs": [
    {
     "data": {
      "text/plain": [
       "True"
      ]
     },
     "execution_count": 61,
     "metadata": {},
     "output_type": "execute_result"
    }
   ],
   "source": [
    "ta.ds[ta.ds==0].notna().sum().sum()>ta.ds[ta.ds!=0].notna().sum().sum()"
   ]
  },
  {
   "cell_type": "markdown",
   "metadata": {},
   "source": [
    "### Shape data and plot Raw images"
   ]
  },
  {
   "cell_type": "code",
   "execution_count": 43,
   "metadata": {},
   "outputs": [],
   "source": [
    "plt.close('all')\n",
    "#ta.rel_wave=[390,420,440,530,580,700,800,950,930,1050]      # use to manually select interesting wavelength for the kinetics\n",
    "ta.wavelength_bin=20                                         # width of wavelength bin in kinetics\n",
    "ta.wave_nm_bin=5;                                            # rebinning wavelength\n",
    "ta.rel_time=[0.3,0.4,1,3,5,10,20,30,100,300,2000,3000]          # use to manually set interesting times for the spectra\n",
    "ta.time_width_percent=0                                      # rebinning of time_points in percent\n",
    "ta.timelimits=[-1,5000]                                      # use to manually limit the range to plot (and fit)     \n",
    "ta.log_scale=False                                           # use to plot the 2d plots with logarithmic intensity scale\n",
    "ta.bordercut=[400,1100]                                      # use to set the outer wavelength limits\n",
    "ta.scattercut=[522,605]                                      # this region is blanked out to block scatter, this can be a list of regions\n",
    "ta.intensity_range=None#[0,3e-3]                                  # set a value 5e-3 or a range [-1e-3,5e-3] for 2d plotting\n",
    "ta.Plot_RAW(title=None)                                      # Plot Raw Spectra"
   ]
  },
  {
   "cell_type": "code",
   "execution_count": 53,
   "metadata": {},
   "outputs": [],
   "source": [
    "self=ta.Copy()"
   ]
  },
  {
   "cell_type": "code",
   "execution_count": 54,
   "metadata": {},
   "outputs": [
    {
     "data": {
      "text/plain": [
       "False"
      ]
     },
     "execution_count": 54,
     "metadata": {},
     "output_type": "execute_result"
    }
   ],
   "source": [
    "any([self.ignore_time_region is not None, self.scattercut is not None, self.bordercut is not None, self.timelimits is not None])"
   ]
  },
  {
   "cell_type": "markdown",
   "metadata": {},
   "source": [
    "### Perform fast fitting using independent exponential decay (first order)"
   ]
  },
  {
   "cell_type": "code",
   "execution_count": 44,
   "metadata": {},
   "outputs": [
    {
     "name": "stdout",
     "output_type": "stream",
     "text": [
      "\n",
      "Fit Results:\n",
      "Model Used: exponential\n",
      "\n",
      "the time between -0.100 ps and 0.500 ps was excluded from the optimization\n",
      "\n",
      "The minimum error is:4.96255333e-05\n",
      "The minimum R2-value is:9.95589444e-01\n",
      "\n",
      "In Rates\n",
      "\n",
      "               value init_value   vary   min  max  expr\n",
      "k0          0.336025       10.0   True     0  inf  None\n",
      "k1           0.01582        0.4   True     0  inf  None\n",
      "k2               0.0      0.025   True     0  inf  None\n",
      "t0                 0          0  False    -2    2  None\n",
      "resolution     0.086      0.086  False  0.04  0.5  None\n",
      "\n",
      "The rates converted to times with unit ps\n",
      "\n",
      "                          value init_value   vary   min  max  expr\n",
      "k0                      2.97597        0.1   True   0.0  inf  None\n",
      "k1                    63.210353        2.5   True   0.0  inf  None\n",
      "k2          105740640683.958954       40.0   True   0.0  inf  None\n",
      "t0                            0          0  False    -2    2  None\n",
      "resolution                0.086      0.086  False  0.04  0.5  None\n"
     ]
    }
   ],
   "source": [
    "ta.wave_nm_bin=2; \n",
    "plt.close('all')                                             # Close old spectra\n",
    "ta.mod='exponential'                                         # Choose the model 'exponential', 'consecutive' and 'fast_consecutive'are build in\n",
    "par=lmfit.Parameters()                                       # create empty parameter object\n",
    "\n",
    "par.add('k0',value=1/0.1,vary=True)                                # Add second rate component\n",
    "par.add('k1',value=1/2.5,vary=True)                                # Add one rate component\n",
    "par.add('k2',value=1/40,vary=True)                                 # Add second rate component\n",
    "par.add('t0',value=0,min=-2,max=2,vary=False)                       # Allow the arrival time to adjust (for all)\n",
    "par.add('resolution',value=0.086,min=0.04,max=0.5,vary=False)       # Allow the instrument response to adjust (for all)\n",
    "#par.add('infinite')                                                # Keyword for an non decaying component\n",
    "#par.add('background')                                             # Keyword to fit the Background Disable the background substraction in the loading cell for best effect\n",
    "#ta.timelimits=[0.2,5000]                                      # select time window in which to fit\n",
    "ta.ignore_time_region=[-0.1,0.5]                              # ignore the region over t0 for the fit\n",
    "ta.log_fit=False                                               # fit in linear or log scale\n",
    "if 0:\n",
    "    for key in par.keys():\n",
    "        par[key].vary=False\n",
    "ta.par=par                                                     # write parameter object into file for fitting\n",
    "ta.Fit_Global(fit_chirp=False,dump_shapes=True)                                 # trigger fitting\n",
    "\n",
    "ta.error_matrix_amplification=10;                              # Choose how much stronger should error be plotted       \n",
    "ta.log_scale=False                                             # 2D plots in linear or log scale\n",
    "ta.Plot_fit_output()                                 # plot the fit output"
   ]
  },
  {
   "cell_type": "code",
   "execution_count": null,
   "metadata": {},
   "outputs": [],
   "source": [
    "par=lmfit.Parameters() \n",
    "par.add('k0',value=1/0.1,vary=True)                                \n",
    "par.add('k1',value=1/2.5,vary=True)\n",
    "par.add('k2',value=1/100,vary=True)\n",
    "par.add('infinite')                               \n",
    "par.add('t0',value=0,min=-2,max=2,vary=False)                 \n",
    "par.add('resolution',value=0.086,min=0.04,max=0.5,vary=False)\n",
    "ta.par=par # write parameter object into file for fitting\n",
    "ta.Fit_Global(fit_chirp=False,confidence_level=0.95) "
   ]
  },
  {
   "cell_type": "code",
   "execution_count": null,
   "metadata": {},
   "outputs": [],
   "source": [
    "plt.close('all')\n",
    "ta.cmap=pf.cm.gist_ncar\n",
    "ta.intensity_range=3e-3\n",
    "ta.Plot_fit_output()"
   ]
  },
  {
   "cell_type": "markdown",
   "metadata": {},
   "source": [
    "### export the results as images and save the project"
   ]
  },
  {
   "cell_type": "code",
   "execution_count": null,
   "metadata": {},
   "outputs": [],
   "source": []
  },
  {
   "cell_type": "code",
   "execution_count": null,
   "metadata": {},
   "outputs": [],
   "source": [
    "#ta.filename='new'+ta.filename\n",
    "ta.Save_project()                     # This saves the whole project including raw data, fits and chirp correction into a single file"
   ]
  },
  {
   "cell_type": "code",
   "execution_count": null,
   "metadata": {},
   "outputs": [],
   "source": [
    "ta.Save_Plots(savetype='png')         # This saves all the figures and a overview powerpoint savetype=['png','svg']"
   ]
  },
  {
   "cell_type": "markdown",
   "metadata": {},
   "source": [
    "### Perform Error analysis and calculate confidence interval"
   ]
  },
  {
   "cell_type": "code",
   "execution_count": null,
   "metadata": {},
   "outputs": [],
   "source": [
    "ta.par=ta.par_fit #write the best results back as starting parameter\n",
    "ta.Fit_Global(confidence_level=0.65)"
   ]
  },
  {
   "cell_type": "markdown",
   "metadata": {},
   "source": [
    "### Perform fast iterative fitting using independent exponential decay and optimise the chirp"
   ]
  },
  {
   "cell_type": "code",
   "execution_count": null,
   "metadata": {},
   "outputs": [],
   "source": [
    "ta1=ta.Copy()                          # Make a copy of the fitting ptoject to test less stable things\n",
    "ta1.timelimits=None                    # To optimise the chirp the region around time-zero must be included\n",
    "ta1.ignore_time_region=None            # To optimise the chirp the region around time-zero must be included\n",
    "ta1.par=ta.par_fit                     # copy fitted parameter into a new fit (e.g. different model)\n",
    "ta1.Fit_Global(fit_chirp=True)         # trigger fitting with Chirp optimization best using 'exponential' for speed\n",
    "ta1.Plot_fit_output(title=None)        # plot the fit output"
   ]
  },
  {
   "cell_type": "code",
   "execution_count": null,
   "metadata": {},
   "outputs": [],
   "source": [
    "ta=ta1.Copy() # if successful they can always be written back"
   ]
  },
  {
   "cell_type": "markdown",
   "metadata": {},
   "source": [
    "### Perform fast fitting using consecutative exponential decay to obtain species associated spectrum assuming a simple model"
   ]
  },
  {
   "cell_type": "code",
   "execution_count": null,
   "metadata": {},
   "outputs": [],
   "source": [
    "ta.mod='consecutive'             # very quick fit using independent exponential followed by one round of sequential\n",
    "ta.par=ta.par_fit                # copy fitted parameter into a new fit (e.g. different model)\n",
    "ta.Fit_Global(fit_chirp=False)   # The iterative chrip is best optimised using 'exponential'\n",
    "ta.Plot_fit_output(title=None)   # plot the fit output"
   ]
  },
  {
   "cell_type": "code",
   "execution_count": null,
   "metadata": {},
   "outputs": [],
   "source": [
    "ta.par=ta.par_fit\n",
    "ta.mod='full_consecutive'        # Truely consecutative fitting, usually much slower\n",
    "ta.Fit_Global(fit_chirp=False)   \n",
    "ta.Plot_fit_output(title=None)"
   ]
  },
  {
   "cell_type": "markdown",
   "metadata": {},
   "source": [
    "### Sometimes required options applicable also to fit plotting"
   ]
  },
  {
   "cell_type": "code",
   "execution_count": null,
   "metadata": {},
   "outputs": [],
   "source": [
    "#ta.Man_Chirp()                   # used to redo the chirp-correction\n",
    "#ta.Save_data()                   # used to dump the Data and fits to disk\n",
    "\n",
    "#ta.cmap=pf.cm.viridis            # use different colour scheme (can also be a list of colours)\n",
    "#pf.changefonts(weight='bold',font='standard',SMALL_SIZE=18,MEDIUM_SIZE=18,LARGE_SIZE=18)  "
   ]
  },
  {
   "cell_type": "code",
   "execution_count": null,
   "metadata": {},
   "outputs": [],
   "source": [
    "ta.Save_Powerpoint()"
   ]
  }
 ],
 "metadata": {
  "ipub": {
   "titlepage": {
    "author": "Jens Uhlig",
    "email": "jens.uhlig@chemphys.lu.se",
    "logo": "http://www.jensuhlig.de//hot_warm_cold.png",
    "subtitle": "Main Worksheet",
    "title": "Transient Absorption Worksheet"
   }
  },
  "kernelspec": {
   "display_name": "Python 3 (ipykernel)",
   "language": "python",
   "name": "python3"
  },
  "language_info": {
   "codemirror_mode": {
    "name": "ipython",
    "version": 3
   },
   "file_extension": ".py",
   "mimetype": "text/x-python",
   "name": "python",
   "nbconvert_exporter": "python",
   "pygments_lexer": "ipython3",
   "version": "3.9.12"
  }
 },
 "nbformat": 4,
 "nbformat_minor": 2
}

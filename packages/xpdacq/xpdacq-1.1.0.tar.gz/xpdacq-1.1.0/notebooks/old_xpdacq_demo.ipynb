{
 "cells": [
  {
   "cell_type": "markdown",
   "id": "d26f3e90",
   "metadata": {},
   "source": [
    "# A demo of the old xpdacq"
   ]
  },
  {
   "cell_type": "markdown",
   "id": "8495cd67",
   "metadata": {},
   "source": [
    "## Load the helper functions and class\n",
    "\n",
    "This is done by ipython startup at the beamline."
   ]
  },
  {
   "cell_type": "code",
   "execution_count": 1,
   "id": "2b8d319a",
   "metadata": {},
   "outputs": [
    {
     "name": "stderr",
     "output_type": "stream",
     "text": [
      "/Users/sst/anaconda3/envs/test_xpdstack/lib/python3.8/site-packages/databroker/v1.py:1602: UserWarning: Failed to load config. Falling back to v0.Exception was: Unable to handle metadatastore.module 'databroker.headersource.sqlite'\n",
      "  warnings.warn(\n"
     ]
    },
    {
     "name": "stdout",
     "output_type": "stream",
     "text": [
      "No config file could be found in the following locations:\n",
      "/Users/sst/.config/acq\n",
      "/Users/sst/anaconda3/envs/test_xpdstack/etc/acq\n",
      "/etc/acq\n",
      "Loading from packaged simulation configuration\n",
      "INFO: Initializing the XPD data acquisition environment ...\n",
      "INFO: area detector has been configured to new acquisition time (time per frame)  = 0.1s\n",
      "INFO: Reload beamtime objects:\n",
      "\n",
      "ScanPlans:\n",
      "0: ct_5\n",
      "1: ct_0.1\n",
      "2: ct_1\n",
      "3: ct_10\n",
      "4: ct_30\n",
      "5: ct_60\n",
      "\n",
      "Samples:\n",
      "0: poop\n",
      "\n",
      "{'Verification time': '2021-05-14 17:38:24', 'Verified by': 'at'}\n"
     ]
    },
    {
     "name": "stdin",
     "output_type": "stream",
     "text": [
      "\n",
      "Is this configuration correct? y/n:  y\n",
      "Please input your initials:  st\n"
     ]
    },
    {
     "name": "stdout",
     "output_type": "stream",
     "text": [
      "INFO: beamtime object has been linked\n",
      "\n",
      "INFO: Initialized glbl, bt, xrun.\n",
      "INFO: Publish data to localhost port 5567 with prefix 'raw'.\n",
      "INFO: Changed home to /Users/sst/acqsim/xpdUser\n",
      "OK, ready to go.  To continue, follow the steps in the xpdAcqdocumentation at http://xpdacq.github.io/xpdacq\n"
     ]
    }
   ],
   "source": [
    "%run -i 999-load.py"
   ]
  },
  {
   "cell_type": "markdown",
   "id": "3f832c94",
   "metadata": {},
   "source": [
    "## The ophyd devices\n",
    "\n",
    "http://nsls-ii.github.io/#overview-of-software-components"
   ]
  },
  {
   "cell_type": "code",
   "execution_count": 5,
   "id": "e865167a",
   "metadata": {},
   "outputs": [
    {
     "data": {
      "text/plain": [
       "{'pe1_image': {'source': 'SIM:pe1_image',\n",
       "  'dtype': 'array',\n",
       "  'shape': [2048, 2048],\n",
       "  'precision': 3,\n",
       "  'external': 'FILESTORE'}}"
      ]
     },
     "execution_count": 5,
     "metadata": {},
     "output_type": "execute_result"
    }
   ],
   "source": [
    "pe1c.describe()"
   ]
  },
  {
   "cell_type": "code",
   "execution_count": 6,
   "id": "3cda849d",
   "metadata": {},
   "outputs": [
    {
     "data": {
      "text/plain": [
       "OrderedDict([('rad',\n",
       "              {'source': 'SIM:rad',\n",
       "               'dtype': 'integer',\n",
       "               'shape': [],\n",
       "               'precision': 3}),\n",
       "             ('shctl1_setpoint',\n",
       "              {'source': 'SIM:shctl1_setpoint',\n",
       "               'dtype': 'integer',\n",
       "               'shape': [],\n",
       "               'precision': 3})])"
      ]
     },
     "execution_count": 6,
     "metadata": {},
     "output_type": "execute_result"
    }
   ],
   "source": [
    "shctl1.describe()"
   ]
  },
  {
   "cell_type": "markdown",
   "id": "2f437e9c",
   "metadata": {},
   "source": [
    "## A demo of a most basic experiment"
   ]
  },
  {
   "cell_type": "code",
   "execution_count": 7,
   "id": "538322b4",
   "metadata": {},
   "outputs": [],
   "source": [
    "import bluesky.plan_stubs as bps\n",
    "\n",
    "\n",
    "def the_simplest_xray_diffraction_measurement():\n",
    "    # open a run, issue a start document\n",
    "    yield from bps.open_run()\n",
    "    # put the detector to active state\n",
    "    yield from bps.stage(pe1c)\n",
    "    # open the shutter\n",
    "    yield from bps.mv(shctl1, 3.14 / 2)\n",
    "    # trigger and read the image, issue descriptors and events\n",
    "    sts = yield from bps.trigger_and_read([pe1c], name=\"primary\")\n",
    "    # close the shutter\n",
    "    yield from bps.mv(shctl1, 0)\n",
    "    # put the detector to idle state\n",
    "    yield from bps.unstage(pe1c)\n",
    "    # close a run, issue a stop document\n",
    "    yield from bps.close_run()\n",
    "    return sts"
   ]
  },
  {
   "cell_type": "code",
   "execution_count": 8,
   "id": "debc5813",
   "metadata": {},
   "outputs": [
    {
     "name": "stdout",
     "output_type": "stream",
     "text": [
      "=================================== Open Run ===================================\n",
      "shctl1 -> 1.57\n",
      "  Read ['pe1_image']\n",
      "shctl1 -> 0\n",
      "================================== Close Run ===================================\n"
     ]
    }
   ],
   "source": [
    "from bluesky.simulators import summarize_plan\n",
    "\n",
    "\n",
    "summarize_plan(the_simplest_xray_diffraction_measurement())"
   ]
  },
  {
   "cell_type": "code",
   "execution_count": 9,
   "id": "b236ceb8",
   "metadata": {},
   "outputs": [
    {
     "data": {
      "text/plain": [
       "0"
      ]
     },
     "execution_count": 9,
     "metadata": {},
     "output_type": "execute_result"
    }
   ],
   "source": [
    "from pprint import pformat\n",
    "from bluesky import RunEngine\n",
    "\n",
    "RE = RunEngine()\n",
    "RE.subscribe(lambda name, doc: print(name, ':\\n', pformat(dict(doc))))"
   ]
  },
  {
   "cell_type": "code",
   "execution_count": 10,
   "id": "f4a5e783",
   "metadata": {},
   "outputs": [
    {
     "name": "stdout",
     "output_type": "stream",
     "text": [
      "start :\n",
      " {'plan_name': 'the_simplest_xray_diffraction_measurement',\n",
      " 'plan_type': 'generator',\n",
      " 'scan_id': 1,\n",
      " 'time': 1619809235.725064,\n",
      " 'uid': '346c781e-a2a1-494d-ab96-a09180bb5feb',\n",
      " 'versions': {'bluesky': '1.6.7', 'ophyd': '1.6.1'}}\n",
      "descriptor :\n",
      " {'configuration': {'pe1_image': {'data': {'pe1_image': '4cfde193-6d14-4b8c-bb8a-820d44db9593/0'},\n",
      "                                 'data_keys': {'pe1_image': {'dtype': 'array',\n",
      "                                                             'external': 'FILESTORE',\n",
      "                                                             'precision': 3,\n",
      "                                                             'shape': [2048,\n",
      "                                                                       2048],\n",
      "                                                             'source': 'SIM:pe1_image'}},\n",
      "                                 'timestamps': {'pe1_image': 1619809235.777209}}},\n",
      " 'data_keys': {'pe1_image': {'dtype': 'array',\n",
      "                             'external': 'FILESTORE',\n",
      "                             'object_name': 'pe1_image',\n",
      "                             'precision': 3,\n",
      "                             'shape': [2048, 2048],\n",
      "                             'source': 'SIM:pe1_image'}},\n",
      " 'hints': {'pe1_image': {'fields': []}},\n",
      " 'name': 'primary',\n",
      " 'object_keys': {'pe1_image': ['pe1_image']},\n",
      " 'run_start': '346c781e-a2a1-494d-ab96-a09180bb5feb',\n",
      " 'time': 1619809235.956223,\n",
      " 'uid': '48ddadee-08e0-4355-98f0-982a9035ab52'}\n",
      "resource :\n",
      " {'path_semantics': 'posix',\n",
      " 'resource_kwargs': {},\n",
      " 'resource_path': 'c3bada',\n",
      " 'root': '/var/folders/jk/6m5q0wh57bqcx3894my4p2680000gn/T/xpdsimzc11wwnt',\n",
      " 'run_start': '346c781e-a2a1-494d-ab96-a09180bb5feb',\n",
      " 'spec': 'NPY_SEQ',\n",
      " 'uid': '4cfde193-6d14-4b8c-bb8a-820d44db9593'}\n",
      "datum :\n",
      " {'datum_id': '4cfde193-6d14-4b8c-bb8a-820d44db9593/0',\n",
      " 'datum_kwargs': {'index': 0},\n",
      " 'resource': '4cfde193-6d14-4b8c-bb8a-820d44db9593'}\n",
      "event :\n",
      " {'data': {'pe1_image': '4cfde193-6d14-4b8c-bb8a-820d44db9593/0'},\n",
      " 'descriptor': '48ddadee-08e0-4355-98f0-982a9035ab52',\n",
      " 'filled': {'pe1_image': False},\n",
      " 'seq_num': 1,\n",
      " 'time': 1619809236.1067011,\n",
      " 'timestamps': {'pe1_image': 1619809235.777209},\n",
      " 'uid': '363fa1d2-9d93-4800-aec7-5ad39fa41d8d'}\n",
      "stop :\n",
      " {'exit_status': 'success',\n",
      " 'num_events': {'primary': 1},\n",
      " 'reason': '',\n",
      " 'run_start': '346c781e-a2a1-494d-ab96-a09180bb5feb',\n",
      " 'time': 1619809236.158367,\n",
      " 'uid': '16160312-c429-4368-b2c6-822566c0674d'}\n"
     ]
    },
    {
     "data": {
      "text/plain": [
       "('346c781e-a2a1-494d-ab96-a09180bb5feb',)"
      ]
     },
     "execution_count": 10,
     "metadata": {},
     "output_type": "execute_result"
    }
   ],
   "source": [
    "RE(the_simplest_xray_diffraction_measurement())"
   ]
  },
  {
   "cell_type": "markdown",
   "id": "01b6f29b",
   "metadata": {},
   "source": [
    "## The event model\n",
    "\n",
    "https://blueskyproject.io/event-model/data-model.html#example-runs"
   ]
  },
  {
   "cell_type": "markdown",
   "id": "a7a61569",
   "metadata": {},
   "source": [
    "## A helper from xpdacq: bt\n",
    "\n",
    "`bt` is a `Beamtime` object. It is a python object to store the metadata of samples and plans."
   ]
  },
  {
   "cell_type": "markdown",
   "id": "15db65fa",
   "metadata": {},
   "source": [
    "## Create a bt"
   ]
  },
  {
   "cell_type": "code",
   "execution_count": 11,
   "id": "be677c74",
   "metadata": {},
   "outputs": [
    {
     "data": {
      "text/plain": [
       "\u001b[0;31mSignature:\u001b[0m\n",
       "\u001b[0m_start_beamtime\u001b[0m\u001b[0;34m(\u001b[0m\u001b[0;34m\u001b[0m\n",
       "\u001b[0;34m\u001b[0m    \u001b[0mPI_last\u001b[0m\u001b[0;34m,\u001b[0m\u001b[0;34m\u001b[0m\n",
       "\u001b[0;34m\u001b[0m    \u001b[0msaf_num\u001b[0m\u001b[0;34m,\u001b[0m\u001b[0;34m\u001b[0m\n",
       "\u001b[0;34m\u001b[0m    \u001b[0mexperimenters\u001b[0m\u001b[0;34m=\u001b[0m\u001b[0;34m[\u001b[0m\u001b[0;34m]\u001b[0m\u001b[0;34m,\u001b[0m\u001b[0;34m\u001b[0m\n",
       "\u001b[0;34m\u001b[0m    \u001b[0mwavelength\u001b[0m\u001b[0;34m=\u001b[0m\u001b[0;32mNone\u001b[0m\u001b[0;34m,\u001b[0m\u001b[0;34m\u001b[0m\n",
       "\u001b[0;34m\u001b[0m    \u001b[0mtest\u001b[0m\u001b[0;34m=\u001b[0m\u001b[0;32mFalse\u001b[0m\u001b[0;34m,\u001b[0m\u001b[0;34m\u001b[0m\n",
       "\u001b[0;34m\u001b[0m\u001b[0;34m)\u001b[0m\u001b[0;34m\u001b[0m\u001b[0;34m\u001b[0m\u001b[0m\n",
       "\u001b[0;31mDocstring:\u001b[0m function for start a beamtime\n",
       "\u001b[0;31mFile:\u001b[0m      ~/anaconda3/envs/test_xpdstack/lib/python3.8/site-packages/xpdacq/beamtimeSetup.py\n",
       "\u001b[0;31mType:\u001b[0m      function\n"
      ]
     },
     "metadata": {},
     "output_type": "display_data"
    }
   ],
   "source": [
    "_start_beamtime?"
   ]
  },
  {
   "cell_type": "code",
   "execution_count": 12,
   "id": "c3d2e09a",
   "metadata": {},
   "outputs": [
    {
     "name": "stdout",
     "output_type": "stream",
     "text": [
      "INFO: initiated requried directories for experiment\n",
      "INFO: to link newly created beamtime object to xrun, please do\n",
      ">>> xrun.beamtime = bt\n",
      "{'Verification time': '2021-04-30 14:38:53', 'Verified by': 'st'}\n"
     ]
    },
    {
     "name": "stdin",
     "output_type": "stream",
     "text": [
      "\n",
      "Is this configuration correct? y/n:  y\n",
      "Please input your initials:  st\n"
     ]
    }
   ],
   "source": [
    "bt = _start_beamtime(\"Billinge\", 300000, wavelength=0.167)"
   ]
  },
  {
   "cell_type": "code",
   "execution_count": 25,
   "id": "793f9247",
   "metadata": {},
   "outputs": [
    {
     "name": "stdout",
     "output_type": "stream",
     "text": [
      "INFO: beamtime object has been linked\n",
      "\n"
     ]
    }
   ],
   "source": [
    "xrun.beamtime = bt"
   ]
  },
  {
   "cell_type": "code",
   "execution_count": 13,
   "id": "62f271e7",
   "metadata": {},
   "outputs": [
    {
     "name": "stdout",
     "output_type": "stream",
     "text": [
      "\n",
      "ScanPlans:\n",
      "0: ct_5\n",
      "1: ct_0.1\n",
      "2: ct_1\n",
      "3: ct_10\n",
      "4: ct_30\n",
      "5: ct_60\n",
      "\n",
      "Samples:\n"
     ]
    }
   ],
   "source": [
    "bt.list()"
   ]
  },
  {
   "cell_type": "markdown",
   "id": "d8a9c9a3",
   "metadata": {},
   "source": [
    "### Add sample to bt\n",
    "\n",
    "We can add from an excel file or use the helper function"
   ]
  },
  {
   "cell_type": "code",
   "execution_count": 2,
   "id": "ec45088f",
   "metadata": {},
   "outputs": [
    {
     "name": "stdout",
     "output_type": "stream",
     "text": [
      "/Users/sst/acqsim/xpdUser\n",
      "├── Import\n",
      "├── config_base\n",
      "│   └── yml\n",
      "│       ├── bt_bt.yml\n",
      "│       ├── glbl.yml\n",
      "│       ├── samples\n",
      "│       └── scanplans\n",
      "│           ├── ct_0.1.yml\n",
      "│           ├── ct_1.yml\n",
      "│           ├── ct_10.yml\n",
      "│           ├── ct_30.yml\n",
      "│           ├── ct_5.yml\n",
      "│           └── ct_60.yml\n",
      "├── tiff_base\n",
      "│   └── meta\n",
      "│       ├── 20210512-151518_0,1s_8d302c.yaml\n",
      "│       ├── 20210512-151519_s_93dd38.yaml\n",
      "│       ├── 20210512-151519_s_bb17fa.yaml\n",
      "│       ├── 20210512-151520_s_a7cc06.yaml\n",
      "│       ├── 20210512-151521_s_80976e.yaml\n",
      "│       ├── 20210512-151522_s_08beff.yaml\n",
      "│       ├── 20210512-151522_s_ea0675.yaml\n",
      "│       ├── 20210512-151523_s_48d5c8.yaml\n",
      "│       ├── 20210512-151524_s_77742a.yaml\n",
      "│       ├── 20210512-151525_s_b4dd4a.yaml\n",
      "│       ├── 20210512-151525_s_c8c283.yaml\n",
      "│       ├── 20210512-151526_s_ae0346.yaml\n",
      "│       ├── 20210512-152323_0,1s_7061b4.yaml\n",
      "│       ├── 20210512-152323_s_3455e7.yaml\n",
      "│       ├── 20210512-152324_s_8e5b1a.yaml\n",
      "│       ├── 20210512-152325_s_4b7121.yaml\n",
      "│       ├── 20210512-152326_s_b58be3.yaml\n",
      "│       ├── 20210512-152326_s_f11621.yaml\n",
      "│       └── 20210512-152327_s_41b39b.yaml\n",
      "├── userAnalysis\n",
      "│   └── Ni24.D\n",
      "└── userScripts\n",
      "\n",
      "9 directories, 28 files\n"
     ]
    }
   ],
   "source": [
    "!tree ~/acqsim/xpdUser"
   ]
  },
  {
   "cell_type": "code",
   "execution_count": 5,
   "id": "4e180380",
   "metadata": {},
   "outputs": [],
   "source": [
    "from xpdacq.beamtime import load_calibration_md, xpdacq_count"
   ]
  },
  {
   "cell_type": "code",
   "execution_count": 6,
   "id": "8dd89636",
   "metadata": {},
   "outputs": [],
   "source": [
    "dd = load_calibration_md(\"/Users/sst/PycharmProjects/pdfstream/tests/test_data/Ni_poni_file.poni\")"
   ]
  },
  {
   "cell_type": "code",
   "execution_count": 7,
   "id": "c34e4e7c",
   "metadata": {},
   "outputs": [
    {
     "name": "stdout",
     "output_type": "stream",
     "text": [
      "INFO: closing shutter...\n",
      "INFO: taking dark frame....\n",
      "INFO: No calibration file found in config_base.\n",
      "Scan will still keep going on....\n",
      "INFO: Current filter status\n",
      "INFO: flt1 : In\n",
      "INFO: flt2 : Out\n",
      "INFO: flt3 : Out\n",
      "INFO: flt4 : Out\n",
      "dark frame complete, update dark dict\n",
      "opening shutter...\n",
      "INFO: No calibration file found in config_base.\n",
      "Scan will still keep going on....\n",
      "INFO: Current filter status\n",
      "INFO: flt1 : In\n",
      "INFO: flt2 : Out\n",
      "INFO: flt3 : Out\n",
      "INFO: flt4 : Out\n"
     ]
    },
    {
     "data": {
      "text/plain": [
       "('681fe435-3777-41bd-8884-de11b3f4c8f8',\n",
       " '2e63503d-9b08-4a3f-a2a2-66aeac4653c3')"
      ]
     },
     "execution_count": 7,
     "metadata": {},
     "output_type": "execute_result"
    }
   ],
   "source": [
    "xrun(0, xpdacq_count([pe1c], calibration_md=dd))"
   ]
  },
  {
   "cell_type": "code",
   "execution_count": 8,
   "id": "3572d670",
   "metadata": {},
   "outputs": [
    {
     "data": {
      "text/plain": [
       "{'poni_version': 2,\n",
       " 'detector': 'Perkin',\n",
       " 'dist': 0.24877604283795038,\n",
       " 'poni1': 0.2053424178138206,\n",
       " 'poni2': 0.2009801660742436,\n",
       " 'rot1': -0.00023710649304047285,\n",
       " 'rot2': -0.00037576003023777056,\n",
       " 'rot3': -8.871356199200895e-12,\n",
       " 'wavelength': 1.671e-11,\n",
       " 'pixel1': 0.0002,\n",
       " 'pixel2': 0.0002}"
      ]
     },
     "execution_count": 8,
     "metadata": {},
     "output_type": "execute_result"
    }
   ],
   "source": [
    "dd"
   ]
  },
  {
   "cell_type": "code",
   "execution_count": 3,
   "id": "06014d3a",
   "metadata": {},
   "outputs": [
    {
     "name": "stdout",
     "output_type": "stream",
     "text": [
      "INFO: using SAF_number = 300000\n"
     ]
    },
    {
     "ename": "FileNotFoundError",
     "evalue": "no spreadsheet exists in /Users/sst/acqsim/xpdUser/Import\nhave you put it in with correct naming scheme: '<SAF_num>_sample.xlsx'yet?",
     "output_type": "error",
     "traceback": [
      "\u001b[0;31m---------------------------------------------------------------------------\u001b[0m",
      "\u001b[0;31mFileNotFoundError\u001b[0m                         Traceback (most recent call last)",
      "\u001b[0;32m~/PycharmProjects/xpdAcq/notebooks/999-load.py\u001b[0m in \u001b[0;36m<module>\u001b[0;34m\u001b[0m\n\u001b[0;32m----> 1\u001b[0;31m \u001b[0mimport_sample_info\u001b[0m\u001b[0;34m(\u001b[0m\u001b[0;34m)\u001b[0m\u001b[0;34m\u001b[0m\u001b[0;34m\u001b[0m\u001b[0m\n\u001b[0m",
      "\u001b[0;32m~/PycharmProjects/xpdAcq/xpdacq/utils.py\u001b[0m in \u001b[0;36mimport_sample_info\u001b[0;34m(saf_num, bt, validate_only)\u001b[0m\n\u001b[1;32m    585\u001b[0m \u001b[0;34m\u001b[0m\u001b[0m\n\u001b[1;32m    586\u001b[0m     \u001b[0;31m# pass to core function\u001b[0m\u001b[0;34m\u001b[0m\u001b[0;34m\u001b[0m\u001b[0;34m\u001b[0m\u001b[0m\n\u001b[0;32m--> 587\u001b[0;31m     \u001b[0m_import_sample_info\u001b[0m\u001b[0;34m(\u001b[0m\u001b[0msaf_num\u001b[0m\u001b[0;34m=\u001b[0m\u001b[0msaf_num\u001b[0m\u001b[0;34m,\u001b[0m \u001b[0mbt\u001b[0m\u001b[0;34m=\u001b[0m\u001b[0mbt\u001b[0m\u001b[0;34m,\u001b[0m \u001b[0mvalidate_only\u001b[0m\u001b[0;34m=\u001b[0m\u001b[0mvalidate_only\u001b[0m\u001b[0;34m)\u001b[0m\u001b[0;34m\u001b[0m\u001b[0;34m\u001b[0m\u001b[0m\n\u001b[0m\u001b[1;32m    588\u001b[0m \u001b[0;34m\u001b[0m\u001b[0m\n\u001b[1;32m    589\u001b[0m \u001b[0;34m\u001b[0m\u001b[0m\n",
      "\u001b[0;32m~/PycharmProjects/xpdAcq/xpdacq/utils.py\u001b[0m in \u001b[0;36m_import_sample_info\u001b[0;34m(saf_num, bt, validate_only)\u001b[0m\n\u001b[1;32m    650\u001b[0m     \u001b[0mprint\u001b[0m\u001b[0;34m(\u001b[0m\u001b[0;34m\"INFO: using SAF_number = {}\"\u001b[0m\u001b[0;34m.\u001b[0m\u001b[0mformat\u001b[0m\u001b[0;34m(\u001b[0m\u001b[0msaf_num\u001b[0m\u001b[0;34m)\u001b[0m\u001b[0;34m)\u001b[0m\u001b[0;34m\u001b[0m\u001b[0;34m\u001b[0m\u001b[0m\n\u001b[1;32m    651\u001b[0m \u001b[0;34m\u001b[0m\u001b[0m\n\u001b[0;32m--> 652\u001b[0;31m     \u001b[0mexcel_to_yaml\u001b[0m\u001b[0;34m.\u001b[0m\u001b[0mload\u001b[0m\u001b[0;34m(\u001b[0m\u001b[0msaf_num\u001b[0m\u001b[0;34m)\u001b[0m\u001b[0;34m\u001b[0m\u001b[0;34m\u001b[0m\u001b[0m\n\u001b[0m\u001b[1;32m    653\u001b[0m     \u001b[0mexcel_to_yaml\u001b[0m\u001b[0;34m.\u001b[0m\u001b[0mparse_sample_md\u001b[0m\u001b[0;34m(\u001b[0m\u001b[0;34m)\u001b[0m\u001b[0;34m\u001b[0m\u001b[0;34m\u001b[0m\u001b[0m\n\u001b[1;32m    654\u001b[0m     \u001b[0;32mif\u001b[0m \u001b[0mvalidate_only\u001b[0m\u001b[0;34m:\u001b[0m\u001b[0;34m\u001b[0m\u001b[0;34m\u001b[0m\u001b[0m\n",
      "\u001b[0;32m~/PycharmProjects/xpdAcq/xpdacq/utils.py\u001b[0m in \u001b[0;36mload\u001b[0;34m(self, saf_num)\u001b[0m\n\u001b[1;32m    251\u001b[0m         ]\n\u001b[1;32m    252\u001b[0m         \u001b[0;32mif\u001b[0m \u001b[0;32mnot\u001b[0m \u001b[0mxl_f\u001b[0m\u001b[0;34m:\u001b[0m\u001b[0;34m\u001b[0m\u001b[0;34m\u001b[0m\u001b[0m\n\u001b[0;32m--> 253\u001b[0;31m             raise FileNotFoundError(\n\u001b[0m\u001b[1;32m    254\u001b[0m                 \u001b[0;34m\"no spreadsheet exists in {}\\n\"\u001b[0m\u001b[0;34m\u001b[0m\u001b[0;34m\u001b[0m\u001b[0m\n\u001b[1;32m    255\u001b[0m                 \u001b[0;34m\"have you put it in with correct \"\u001b[0m\u001b[0;34m\u001b[0m\u001b[0;34m\u001b[0m\u001b[0m\n",
      "\u001b[0;31mFileNotFoundError\u001b[0m: no spreadsheet exists in /Users/sst/acqsim/xpdUser/Import\nhave you put it in with correct naming scheme: '<SAF_num>_sample.xlsx'yet?"
     ]
    }
   ],
   "source": [
    "import_sample_info()"
   ]
  },
  {
   "cell_type": "code",
   "execution_count": 15,
   "id": "5427009d",
   "metadata": {},
   "outputs": [
    {
     "name": "stdout",
     "output_type": "stream",
     "text": [
      "\n",
      "ScanPlans:\n",
      "0: ct_5\n",
      "1: ct_0.1\n",
      "2: ct_1\n",
      "3: ct_10\n",
      "4: ct_30\n",
      "5: ct_60\n",
      "\n",
      "Samples:\n"
     ]
    }
   ],
   "source": [
    "bt.list()"
   ]
  },
  {
   "cell_type": "code",
   "execution_count": 3,
   "id": "73527902",
   "metadata": {},
   "outputs": [
    {
     "data": {
      "text/plain": [
       "Sample({'sample_name': 'poop', 'sample_composition': 'C', 'sa_uid': 'be108e84'}, {'bt_piLast': 'Billinge', 'bt_safN': '300000', 'bt_experimenters': [], 'bt_wavelength': 0.1675, 'bt_uid': '8e7631c8'})"
      ]
     },
     "execution_count": 3,
     "metadata": {},
     "output_type": "execute_result"
    }
   ],
   "source": [
    "Sample(bt, {\"sample_name\": \"poop\", \"sample_composition\": \"C\"})"
   ]
  },
  {
   "cell_type": "code",
   "execution_count": 17,
   "id": "659b9103",
   "metadata": {},
   "outputs": [
    {
     "name": "stdout",
     "output_type": "stream",
     "text": [
      "\n",
      "ScanPlans:\n",
      "0: ct_5\n",
      "1: ct_0.1\n",
      "2: ct_1\n",
      "3: ct_10\n",
      "4: ct_30\n",
      "5: ct_60\n",
      "\n",
      "Samples:\n",
      "0: poop\n"
     ]
    }
   ],
   "source": [
    "bt.list()"
   ]
  },
  {
   "cell_type": "markdown",
   "id": "7debed42",
   "metadata": {},
   "source": [
    "## Register a plan in bt"
   ]
  },
  {
   "cell_type": "code",
   "execution_count": 15,
   "id": "dc0ff21f",
   "metadata": {},
   "outputs": [
    {
     "data": {
      "text/plain": [
       "\u001b[0;31mSignature:\u001b[0m \u001b[0mct\u001b[0m\u001b[0;34m(\u001b[0m\u001b[0mdets\u001b[0m\u001b[0;34m,\u001b[0m \u001b[0mexposure\u001b[0m\u001b[0;34m)\u001b[0m\u001b[0;34m\u001b[0m\u001b[0;34m\u001b[0m\u001b[0m\n",
       "\u001b[0;31mDocstring:\u001b[0m\n",
       "Take one reading from area detector with given exposure time\n",
       "\n",
       "Parameters\n",
       "----------\n",
       "dets : list\n",
       "    list of 'readable' objects. default to area detector\n",
       "    linked to xpdAcq.\n",
       "exposure : float\n",
       "    total time of exposrue in seconds\n",
       "\n",
       "Notes\n",
       "-----\n",
       "area detector being triggered will  always be the one configured\n",
       "in global state. To find out which these are, please using\n",
       "following commands:\n",
       "\n",
       "    >>> xpd_configuration['area_det']\n",
       "\n",
       "to see which device is being linked\n",
       "\u001b[0;31mFile:\u001b[0m      ~/anaconda3/envs/test_xpdstack/lib/python3.8/site-packages/xpdacq/beamtime.py\n",
       "\u001b[0;31mType:\u001b[0m      function\n"
      ]
     },
     "metadata": {},
     "output_type": "display_data"
    }
   ],
   "source": [
    "ct?"
   ]
  },
  {
   "cell_type": "code",
   "execution_count": 19,
   "id": "89b7cb10",
   "metadata": {},
   "outputs": [
    {
     "data": {
      "text/plain": [
       "ScanPlan({'sp_plan_name': 'ct', 'sp_args': (35,), 'sp_kwargs': {}, 'sp_uid': '448a9634'}, {'bt_piLast': 'Billinge', 'bt_safN': '300000', 'bt_experimenters': [], 'bt_wavelength': 0.167, 'bt_uid': '30b66121'})"
      ]
     },
     "execution_count": 19,
     "metadata": {},
     "output_type": "execute_result"
    }
   ],
   "source": [
    "ScanPlan(bt, ct, 35)"
   ]
  },
  {
   "cell_type": "code",
   "execution_count": 20,
   "id": "2272eea0",
   "metadata": {},
   "outputs": [
    {
     "name": "stdout",
     "output_type": "stream",
     "text": [
      "\n",
      "ScanPlans:\n",
      "0: ct_5\n",
      "1: ct_0.1\n",
      "2: ct_1\n",
      "3: ct_10\n",
      "4: ct_30\n",
      "5: ct_60\n",
      "6: ct_35\n",
      "\n",
      "Samples:\n",
      "0: poop\n"
     ]
    }
   ],
   "source": [
    "bt.list()"
   ]
  },
  {
   "cell_type": "markdown",
   "id": "4063ed27",
   "metadata": {},
   "source": [
    "## Where are the devices?"
   ]
  },
  {
   "cell_type": "code",
   "execution_count": 21,
   "id": "ac7e74c3",
   "metadata": {},
   "outputs": [
    {
     "data": {
      "text/plain": [
       "{'area_det': SynSignalWithRegistry(name='pe1_image', value=array([[ 0.        ,  0.        ,  0.        , ...,  0.        ,\n",
       "          0.        ,  0.        ],\n",
       "        [-1.699707  ,  4.7998047 , -0.39990234, ...,  1.5       ,\n",
       "          2.7998047 ,  5.800293  ],\n",
       "        [ 2.3999023 ,  0.2998047 ,  2.        , ..., -1.6000977 ,\n",
       "          8.799805  ,  4.5996094 ],\n",
       "        ...,\n",
       "        [ 1.5       ,  7.300293  ,  0.09960938, ..., -3.8999023 ,\n",
       "          5.2998047 , -1.7998047 ],\n",
       "        [ 0.7998047 ,  3.2998047 ,  3.300293  , ..., 10.        ,\n",
       "          9.400391  , -1.3999023 ],\n",
       "        [ 0.        ,  0.        ,  0.        , ...,  0.        ,\n",
       "          0.        ,  0.        ]], dtype=float32), timestamp=1619809235.777209),\n",
       " 'shutter': SynAxis(prefix='', name='shctl1', read_attrs=['readback', 'setpoint'], configuration_attrs=['velocity', 'acceleration']),\n",
       " 'temp_controller': SynAxis(prefix='', name='cs700', read_attrs=['readback', 'setpoint'], configuration_attrs=['velocity', 'acceleration']),\n",
       " 'db': <Intake catalog: temp>,\n",
       " 'filter_bank': SimFilterBank(prefix='', name='fb', read_attrs=['flt1', 'flt2', 'flt3', 'flt4'], configuration_attrs=[]),\n",
       " 'ring_current': SynSignalRO(name='ring_current', value=300, timestamp=1619807901.221408)}"
      ]
     },
     "execution_count": 21,
     "metadata": {},
     "output_type": "execute_result"
    }
   ],
   "source": [
    "xpd_configuration"
   ]
  },
  {
   "cell_type": "markdown",
   "id": "37ae47ce",
   "metadata": {},
   "source": [
    "## A customized RunEngine: xrun\n",
    "\n",
    "`xrun` is a run engine that can read data from the `bt`. It may also has other subscriber like the database insertion and network publisher."
   ]
  },
  {
   "cell_type": "code",
   "execution_count": 35,
   "id": "fe6ad32a",
   "metadata": {},
   "outputs": [
    {
     "name": "stdout",
     "output_type": "stream",
     "text": [
      "INFO: requested exposure time = 5 - > computed exposure time= 5.0\n",
      "INFO: This scan will append calibration parameters recorded in /Users/sst/acqsim/xpdUser/config_base/xpdAcq_calib_info.poni\n",
      "INFO: Current filter status\n",
      "INFO: flt1 : In\n",
      "INFO: flt2 : Out\n",
      "INFO: flt3 : Out\n",
      "INFO: flt4 : Out\n",
      "\n",
      "\n",
      "+-----------+------------+\n",
      "|   seq_num |       time |\n",
      "+-----------+------------+\n",
      "|         1 | 16:26:03.8 |\n",
      "+-----------+------------+\n",
      "generator count ['e7d6aa9c'] (scan num: 7)\n",
      "\n",
      "\n"
     ]
    },
    {
     "data": {
      "text/plain": [
       "('e7d6aa9c-69e9-414b-9e85-59c988115757',)"
      ]
     },
     "execution_count": 35,
     "metadata": {},
     "output_type": "execute_result"
    }
   ],
   "source": [
    "# run the plan 0 with the metadata of sample 0\n",
    "xrun(0, 0)"
   ]
  },
  {
   "cell_type": "code",
   "execution_count": 3,
   "id": "d609a8f6",
   "metadata": {},
   "outputs": [],
   "source": [
    "import bluesky.plans as bp"
   ]
  },
  {
   "cell_type": "code",
   "execution_count": 4,
   "id": "23b087ed",
   "metadata": {},
   "outputs": [
    {
     "name": "stdout",
     "output_type": "stream",
     "text": [
      "INFO: closing shutter...\n",
      "INFO: taking dark frame....\n",
      "INFO: This scan will append calibration parameters recorded in /Users/sst/acqsim/xpdUser/config_base/xpdAcq_calib_info.poni\n",
      "INFO: Current filter status\n",
      "INFO: flt1 : In\n",
      "INFO: flt2 : Out\n",
      "INFO: flt3 : Out\n",
      "INFO: flt4 : Out\n",
      "dark frame complete, update dark dict\n",
      "opening shutter...\n",
      "INFO: This scan will append calibration parameters recorded in /Users/sst/acqsim/xpdUser/config_base/xpdAcq_calib_info.poni\n",
      "INFO: Current filter status\n",
      "INFO: flt1 : In\n",
      "INFO: flt2 : Out\n",
      "INFO: flt3 : Out\n",
      "INFO: flt4 : Out\n"
     ]
    },
    {
     "data": {
      "text/plain": [
       "('43635799-b5a7-4ed4-88e4-57052792e026',\n",
       " 'd5cc5063-6112-4222-8368-198d2bd30cf3')"
      ]
     },
     "execution_count": 4,
     "metadata": {},
     "output_type": "execute_result"
    }
   ],
   "source": [
    "xrun(0, bp.scan([pe1c], cs700, 300, 400, 3))"
   ]
  },
  {
   "cell_type": "code",
   "execution_count": 5,
   "id": "6e3cacc6",
   "metadata": {},
   "outputs": [
    {
     "data": {
      "text/plain": [
       "Start({'analysis_stage': 'raw',\n",
       " 'beamline_config': {'Verification time': '2021-05-14 16:30:27',\n",
       "                     'Verified by': 'st'},\n",
       " 'beamline_id': '28-id-2',\n",
       " 'bt_experimenters': [],\n",
       " 'bt_piLast': 'Billinge',\n",
       " 'bt_safN': '300000',\n",
       " 'bt_uid': '8e7631c8',\n",
       " 'bt_wavelength': 0.1675,\n",
       " 'calibration_md': {'Detector': 'Perkin',\n",
       "                    'Detector_config': {'pixel1': 0.0002, 'pixel2': 0.0002},\n",
       "                    'Distance': 0.2243532875271189,\n",
       "                    'Poni1': 0.20824765844451498,\n",
       "                    'Poni2': 0.20120937604378425,\n",
       "                    'Rot1': 0.00697763199117967,\n",
       "                    'Rot2': 0.00525168715954453,\n",
       "                    'Rot3': 4.3789540033360746e-10,\n",
       "                    'Wavelength': 1.675e-11,\n",
       "                    'poni_version': 2},\n",
       " 'detector_calibration_client_uid': '6a0aff69-d900-4f55-bde9-67da050e5470',\n",
       " 'detectors': ['pe1_image'],\n",
       " 'facility': 'sim',\n",
       " 'filter_positions': {'flt1': 'In',\n",
       "                      'flt2': 'Out',\n",
       "                      'flt3': 'Out',\n",
       "                      'flt4': 'Out'},\n",
       " 'group': 'sim',\n",
       " 'hints': {'dimensions': [[['temperature'], 'primary']]},\n",
       " 'motors': ['cs700'],\n",
       " 'num_intervals': 2,\n",
       " 'num_points': 3,\n",
       " 'plan_args': {'args': [\"SynAxis(prefix='', name='cs700', \"\n",
       "                        \"read_attrs=['readback', 'setpoint'], \"\n",
       "                        \"configuration_attrs=['velocity', 'acceleration'])\",\n",
       "                        300,\n",
       "                        400],\n",
       "               'detectors': [\"SynSignalWithRegistry(name='pe1_image', \"\n",
       "                             'value=array([[0., 0., 0., ..., 0., 0., 0.],\\n'\n",
       "                             '       [0., 0., 0., ..., 0., 0., 0.],\\n'\n",
       "                             '       [0., 0., 0., ..., 0., 0., 0.],\\n'\n",
       "                             '       ...,\\n'\n",
       "                             '       [0., 0., 0., ..., 0., 0., 0.],\\n'\n",
       "                             '       [0., 0., 0., ..., 0., 0., 0.],\\n'\n",
       "                             '       [0., 0., 0., ..., 0., 0., 0.]], '\n",
       "                             'dtype=float32), timestamp=1621024222.40736)'],\n",
       "               'num': 3,\n",
       "               'per_step': 'None'},\n",
       " 'plan_name': 'scan',\n",
       " 'plan_pattern': 'inner_product',\n",
       " 'plan_pattern_args': {'args': [\"SynAxis(prefix='', name='cs700', \"\n",
       "                                \"read_attrs=['readback', 'setpoint'], \"\n",
       "                                \"configuration_attrs=['velocity', \"\n",
       "                                \"'acceleration'])\",\n",
       "                                300,\n",
       "                                400],\n",
       "                       'num': 3},\n",
       " 'plan_pattern_module': 'bluesky.plan_patterns',\n",
       " 'plan_type': 'generator',\n",
       " 'sa_uid': 'be108e84',\n",
       " 'sample_composition': 'C',\n",
       " 'sample_name': 'poop',\n",
       " 'sc_dk_field_uid': '43635799-b5a7-4ed4-88e4-57052792e026',\n",
       " 'scan_id': 2,\n",
       " 'time': 1621024259.120024,\n",
       " 'uid': 'd5cc5063-6112-4222-8368-198d2bd30cf3',\n",
       " 'versions': {'bluesky': '1.6.7', 'ophyd': '1.6.1'},\n",
       " 'xpdacq_md_version': 0.1})"
      ]
     },
     "execution_count": 5,
     "metadata": {},
     "output_type": "execute_result"
    }
   ],
   "source": [
    "db[-1].metadata[\"start\"]"
   ]
  },
  {
   "cell_type": "code",
   "execution_count": 6,
   "id": "f16f58f2",
   "metadata": {},
   "outputs": [],
   "source": [
    "from bluesky.callbacks.best_effort import BestEffortCallback"
   ]
  },
  {
   "cell_type": "code",
   "execution_count": 7,
   "id": "931cf757",
   "metadata": {},
   "outputs": [
    {
     "data": {
      "text/plain": [
       "3"
      ]
     },
     "execution_count": 7,
     "metadata": {},
     "output_type": "execute_result"
    }
   ],
   "source": [
    "bec = BestEffortCallback()\n",
    "xrun.subscribe(bec)"
   ]
  },
  {
   "cell_type": "code",
   "execution_count": 23,
   "id": "fcc29c27",
   "metadata": {},
   "outputs": [],
   "source": [
    "bec.disable_plots()"
   ]
  },
  {
   "cell_type": "code",
   "execution_count": 30,
   "id": "27e78dfd",
   "metadata": {},
   "outputs": [],
   "source": [
    "from ophyd.sim import hw"
   ]
  },
  {
   "cell_type": "code",
   "execution_count": 31,
   "id": "40ae741f",
   "metadata": {},
   "outputs": [],
   "source": [
    "HW = hw()"
   ]
  },
  {
   "cell_type": "code",
   "execution_count": 35,
   "id": "5798768b",
   "metadata": {},
   "outputs": [
    {
     "name": "stdout",
     "output_type": "stream",
     "text": [
      "INFO: This scan will append calibration parameters recorded in /Users/sst/acqsim/xpdUser/config_base/xpdAcq_calib_info.poni\n",
      "INFO: Current filter status\n",
      "INFO: flt1 : In\n",
      "INFO: flt2 : Out\n",
      "INFO: flt3 : Out\n",
      "INFO: flt4 : Out\n",
      "\n",
      "\n",
      "Transient Scan ID: 16     Time: 2021-05-14 17:30:49\n",
      "Persistent Unique Scan ID: 'f9e34f7d-d169-4f20-bedb-936a37fe0278'\n",
      "New stream: 'primary'\n",
      "+-----------+------------+-------------+------------+\n",
      "|   seq_num |       time | temperature |     motor1 |\n",
      "+-----------+------------+-------------+------------+\n",
      "|         1 | 17:30:49.9 |     300.000 |    300.000 |\n",
      "|         2 | 17:30:50.7 |     300.000 |    350.000 |\n",
      "|         3 | 17:30:51.4 |     300.000 |    400.000 |\n",
      "|         4 | 17:30:52.0 |     350.000 |    300.000 |\n",
      "|         5 | 17:30:52.6 |     350.000 |    350.000 |\n",
      "|         6 | 17:30:53.3 |     350.000 |    400.000 |\n",
      "|         7 | 17:30:53.9 |     400.000 |    300.000 |\n",
      "|         8 | 17:30:54.6 |     400.000 |    350.000 |\n",
      "|         9 | 17:30:55.4 |     400.000 |    400.000 |\n",
      "+-----------+------------+-------------+------------+\n",
      "generator grid_scan ['f9e34f7d'] (scan num: 16)\n",
      "\n",
      "\n",
      "\n"
     ]
    },
    {
     "data": {
      "text/plain": [
       "('f9e34f7d-d169-4f20-bedb-936a37fe0278',)"
      ]
     },
     "execution_count": 35,
     "metadata": {},
     "output_type": "execute_result"
    }
   ],
   "source": [
    "xrun(0, bp.grid_scan([pe1c], cs700, 300, 400, 3, HW.motor1, 300, 400, 3))"
   ]
  },
  {
   "cell_type": "markdown",
   "id": "9003dd61",
   "metadata": {},
   "source": [
    "`xrun` can also be used like an usual run engine."
   ]
  },
  {
   "cell_type": "code",
   "execution_count": 36,
   "id": "b57c0d72",
   "metadata": {},
   "outputs": [
    {
     "name": "stdout",
     "output_type": "stream",
     "text": [
      "INFO: requested exposure time = 5 - > computed exposure time= 5.0\n",
      "INFO: closing shutter...\n",
      "INFO: taking dark frame....\n",
      "INFO: This scan will append calibration parameters recorded in /Users/sst/acqsim/xpdUser/config_base/xpdAcq_calib_info.poni\n",
      "INFO: Current filter status\n",
      "INFO: flt1 : In\n",
      "INFO: flt2 : Out\n",
      "INFO: flt3 : Out\n",
      "INFO: flt4 : Out\n",
      "\n",
      "\n",
      "Transient Scan ID: 17     Time: 2021-05-14 17:35:34\n",
      "Persistent Unique Scan ID: '38a0a295-3a21-4c1b-8f94-32a180b93f0b'\n",
      "New stream: 'primary'\n",
      "+-----------+------------+\n",
      "|   seq_num |       time |\n",
      "+-----------+------------+\n",
      "\n",
      "\n",
      "+-----------+------------+\n",
      "|   seq_num |       time |\n",
      "+-----------+------------+\n",
      "|         1 | 17:35:34.4 |\n",
      "|         1 | 17:35:34.4 |\n",
      "+-----------+------------+\n",
      "generator count ['38a0a295'] (scan num: 17)\n",
      "\n",
      "\n",
      "\n",
      "+-----------+------------+\n",
      "generator count ['38a0a295'] (scan num: 17)\n",
      "\n",
      "\n",
      "dark frame complete, update dark dict\n",
      "opening shutter...\n",
      "INFO: Current filter status\n",
      "INFO: flt1 : In\n",
      "INFO: flt2 : Out\n",
      "INFO: flt3 : Out\n",
      "INFO: flt4 : Out\n",
      "\n",
      "\n",
      "Transient Scan ID: 18     Time: 2021-05-14 17:35:34\n",
      "Persistent Unique Scan ID: '2c6caad8-f5cb-4c52-bc9c-badd7d5f5da5'\n",
      "New stream: 'primary'\n",
      "+-----------+------------+\n",
      "|   seq_num |       time |\n",
      "+-----------+------------+\n",
      "\n",
      "\n",
      "+-----------+------------+\n",
      "|   seq_num |       time |\n",
      "+-----------+------------+\n",
      "|         1 | 17:35:35.4 |\n",
      "|         1 | 17:35:35.4 |\n",
      "+-----------+------------+\n",
      "generator count ['2c6caad8'] (scan num: 18)\n",
      "\n",
      "\n",
      "\n",
      "+-----------+------------+\n",
      "generator count ['2c6caad8'] (scan num: 18)\n",
      "\n",
      "\n",
      "INFO: Please navigate to the analysis terminal to complete the interactive calibration process.\n",
      "You may find the the analysis terminal similar to data acquisition terminal(current terminal) except there is information about the analysis pipeline printed\n",
      "INFO: For a quick guide on the interactive calibration process, please visit our web-doc at:\n",
      "https://xpdacq.github.io/xpdAcq/usb_Running.html#calib-manual\n",
      "\n",
      "Waiting for calibration to finish\n",
      "\n",
      "If calibration has failed please press Ctrl+C in this terminal and run ``run_calibration`` again!\n",
      "\n",
      "\n"
     ]
    },
    {
     "ename": "KeyboardInterrupt",
     "evalue": "",
     "output_type": "error",
     "traceback": [
      "\u001b[0;31m---------------------------------------------------------------------------\u001b[0m",
      "\u001b[0;31mKeyboardInterrupt\u001b[0m                         Traceback (most recent call last)",
      "\u001b[0;32m~/PycharmProjects/xpdAcq/notebooks/999-load.py\u001b[0m in \u001b[0;36m<module>\u001b[0;34m\u001b[0m\n\u001b[0;32m----> 1\u001b[0;31m \u001b[0mrun_calibration\u001b[0m\u001b[0;34m(\u001b[0m\u001b[0;34m)\u001b[0m\u001b[0;34m\u001b[0m\u001b[0;34m\u001b[0m\u001b[0m\n\u001b[0m",
      "\u001b[0;32m~/PycharmProjects/xpdAcq/xpdacq/calib.py\u001b[0m in \u001b[0;36mrun_calibration\u001b[0;34m(exposure, dark_sub_bool, calibrant, phase_info, detector, RE_instance, wait_for_cal, **kwargs)\u001b[0m\n\u001b[1;32m    177\u001b[0m                 \u001b[0;32mbreak\u001b[0m\u001b[0;34m\u001b[0m\u001b[0;34m\u001b[0m\u001b[0m\n\u001b[1;32m    178\u001b[0m             \u001b[0;32melse\u001b[0m\u001b[0;34m:\u001b[0m\u001b[0;34m\u001b[0m\u001b[0;34m\u001b[0m\u001b[0m\n\u001b[0;32m--> 179\u001b[0;31m                 \u001b[0mtime\u001b[0m\u001b[0;34m.\u001b[0m\u001b[0msleep\u001b[0m\u001b[0;34m(\u001b[0m\u001b[0;36m1\u001b[0m\u001b[0;34m)\u001b[0m\u001b[0;34m\u001b[0m\u001b[0;34m\u001b[0m\u001b[0m\n\u001b[0m\u001b[1;32m    180\u001b[0m     \"\"\"\n\u001b[1;32m    181\u001b[0m     \u001b[0;32mif\u001b[0m \u001b[0;32mnot\u001b[0m \u001b[0mparallel\u001b[0m\u001b[0;34m:\u001b[0m  \u001b[0;31m# backup when pipeline fails\u001b[0m\u001b[0;34m\u001b[0m\u001b[0;34m\u001b[0m\u001b[0m\n",
      "\u001b[0;31mKeyboardInterrupt\u001b[0m: "
     ]
    }
   ],
   "source": [
    "run_calibration()"
   ]
  },
  {
   "cell_type": "markdown",
   "id": "3e395610",
   "metadata": {},
   "source": [
    "## Run calibration"
   ]
  },
  {
   "cell_type": "code",
   "execution_count": 5,
   "id": "74d294b5",
   "metadata": {},
   "outputs": [
    {
     "name": "stdout",
     "output_type": "stream",
     "text": [
      "INFO: requested exposure time = 5 - > computed exposure time= 5.0\n",
      "INFO: Current filter status\n",
      "INFO: flt1 : In\n",
      "INFO: flt2 : Out\n",
      "INFO: flt3 : Out\n",
      "INFO: flt4 : Out\n",
      "\n",
      "\n",
      "+-----------+------------+\n",
      "|   seq_num |       time |\n",
      "+-----------+------------+\n",
      "|         1 | 15:56:07.4 |\n",
      "+-----------+------------+\n",
      "generator count ['722317f1'] (scan num: 3)\n",
      "\n",
      "\n",
      "INFO: Please navigate to the analysis terminal to complete the interactive calibration process.\n",
      "You may find the the analysis terminal similar to data acquisition terminal(current terminal) except there is information about the analysis pipeline printed\n",
      "INFO: For a quick guide on the interactive calibration process, please visit our web-doc at:\n",
      "https://xpdacq.github.io/xpdAcq/usb_Running.html#calib-manual\n",
      "\n",
      "Waiting for calibration to finish\n",
      "\n",
      "If calibration has failed please press Ctrl+C in this terminal and run ``run_calibration`` again!\n",
      "\n",
      "\n"
     ]
    },
    {
     "ename": "KeyboardInterrupt",
     "evalue": "",
     "output_type": "error",
     "traceback": [
      "\u001b[0;31m---------------------------------------------------------------------------\u001b[0m",
      "\u001b[0;31mKeyboardInterrupt\u001b[0m                         Traceback (most recent call last)",
      "\u001b[0;32m~/PycharmProjects/xpdAcq/notebooks/999-load.py\u001b[0m in \u001b[0;36m<module>\u001b[0;34m\u001b[0m\n\u001b[0;32m----> 1\u001b[0;31m \u001b[0mrun_calibration\u001b[0m\u001b[0;34m(\u001b[0m\u001b[0;34m)\u001b[0m\u001b[0;34m\u001b[0m\u001b[0;34m\u001b[0m\u001b[0m\n\u001b[0m",
      "\u001b[0;32m~/PycharmProjects/xpdAcq/xpdacq/calib.py\u001b[0m in \u001b[0;36mrun_calibration\u001b[0;34m(exposure, dark_sub_bool, calibrant, phase_info, detector, RE_instance, wait_for_cal, **kwargs)\u001b[0m\n\u001b[1;32m    177\u001b[0m                 \u001b[0;32mbreak\u001b[0m\u001b[0;34m\u001b[0m\u001b[0;34m\u001b[0m\u001b[0m\n\u001b[1;32m    178\u001b[0m             \u001b[0;32melse\u001b[0m\u001b[0;34m:\u001b[0m\u001b[0;34m\u001b[0m\u001b[0;34m\u001b[0m\u001b[0m\n\u001b[0;32m--> 179\u001b[0;31m                 \u001b[0mtime\u001b[0m\u001b[0;34m.\u001b[0m\u001b[0msleep\u001b[0m\u001b[0;34m(\u001b[0m\u001b[0;36m1\u001b[0m\u001b[0;34m)\u001b[0m\u001b[0;34m\u001b[0m\u001b[0;34m\u001b[0m\u001b[0m\n\u001b[0m\u001b[1;32m    180\u001b[0m     \"\"\"\n\u001b[1;32m    181\u001b[0m     \u001b[0;32mif\u001b[0m \u001b[0;32mnot\u001b[0m \u001b[0mparallel\u001b[0m\u001b[0;34m:\u001b[0m  \u001b[0;31m# backup when pipeline fails\u001b[0m\u001b[0;34m\u001b[0m\u001b[0;34m\u001b[0m\u001b[0m\n",
      "\u001b[0;31mKeyboardInterrupt\u001b[0m: "
     ]
    }
   ],
   "source": [
    "run_calibration()"
   ]
  },
  {
   "cell_type": "markdown",
   "id": "0686f76a",
   "metadata": {},
   "source": [
    "## More info\n",
    "\n",
    "Find more info on https://xpdacq.github.io/xpdAcq/xpdusers.html."
   ]
  }
 ],
 "metadata": {
  "kernelspec": {
   "display_name": "Python [conda env:test_xpdstack]",
   "language": "python",
   "name": "conda-env-test_xpdstack-py"
  },
  "language_info": {
   "codemirror_mode": {
    "name": "ipython",
    "version": 3
   },
   "file_extension": ".py",
   "mimetype": "text/x-python",
   "name": "python",
   "nbconvert_exporter": "python",
   "pygments_lexer": "ipython3",
   "version": "3.8.8"
  }
 },
 "nbformat": 4,
 "nbformat_minor": 5
}

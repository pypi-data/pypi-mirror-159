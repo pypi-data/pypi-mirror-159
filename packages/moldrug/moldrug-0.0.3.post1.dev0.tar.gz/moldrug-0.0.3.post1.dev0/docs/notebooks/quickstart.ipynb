{
 "cells": [
  {
   "cell_type": "markdown",
   "metadata": {},
   "source": [
    "# Quickstart\n",
    "First let import the modules to work with"
   ]
  },
  {
   "cell_type": "code",
   "execution_count": 1,
   "metadata": {},
   "outputs": [],
   "source": [
    "from rdkit import Chem\n",
    "from moldrug import utils, fitness\n",
    "from moldrug.data import receptors, ligands, boxes\n",
    "import tempfile, os, gzip, shutil, requests\n",
    "from multiprocessing import cpu_count"
   ]
  },
  {
   "cell_type": "code",
   "execution_count": 9,
   "metadata": {},
   "outputs": [
    {
     "name": "stderr",
     "output_type": "stream",
     "text": [
      "100%|██████████| 10/10 [00:01<00:00,  9.91it/s]\n"
     ]
    }
   ],
   "source": [
    "import tqdm\n",
    "from time import sleep\n",
    "for i in tqdm.tqdm(range(10),):\n",
    "    sleep(0.1)"
   ]
  },
  {
   "cell_type": "markdown",
   "metadata": {},
   "source": [
    "We will use the some test examples on the `moldrug.data` module."
   ]
  },
  {
   "cell_type": "code",
   "execution_count": 2,
   "metadata": {},
   "outputs": [],
   "source": [
    "# Creating a temporal directory\n",
    "tmp_path = tempfile.TemporaryDirectory()\n",
    "# Creating receptors files\n",
    "r_x0161_file = os.path.join(tmp_path.name, 'r_x0161.pdbqt')\n",
    "with open(r_x0161_file, 'w') as r:\n",
    "    r.write(receptors.r_x0161)"
   ]
  },
  {
   "cell_type": "markdown",
   "metadata": {},
   "source": [
    "Now let's download the crem data base. Here we are downloading the smaller one. But consider to visit [CReM](https://github.com/DrrDom/crem) for more information about how to use and create the data base of fragments."
   ]
  },
  {
   "cell_type": "code",
   "execution_count": 3,
   "metadata": {},
   "outputs": [],
   "source": [
    "url = \"http://www.qsar4u.com/files/cremdb/replacements02_sc2.db.gz\"\n",
    "r = requests.get(url, allow_redirects=True)\n",
    "crem_dbgz_path = os.path.join(tmp_path.name,'crem.db.gz')\n",
    "crem_db_path = os.path.join(tmp_path.name,'crem.db')\n",
    "open(crem_dbgz_path, 'wb').write(r.content)\n",
    "with gzip.open(crem_dbgz_path, 'rb') as f_in:\n",
    "    with open(crem_db_path, 'wb') as f_out:\n",
    "        shutil.copyfileobj(f_in, f_out)"
   ]
  },
  {
   "cell_type": "markdown",
   "metadata": {},
   "source": [
    "Now We initialize the `GA` class. "
   ]
  },
  {
   "cell_type": "code",
   "execution_count": 4,
   "metadata": {},
   "outputs": [],
   "source": [
    "maxiter = 3\n",
    "popsize = 20\n",
    "njobs = 2\n",
    "\n",
    "out = utils.GA(\n",
    "    seed_smiles=ligands.r_x0161,\n",
    "    maxiter=maxiter,\n",
    "    popsize=popsize,\n",
    "    crem_db_path = crem_db_path,#'/home/ale/GITLAB/bi_crem_database/replacements02_sc2.db',\n",
    "    pc = 1,\n",
    "    get_similar = False,\n",
    "    mutate_crem_kwargs = {\n",
    "        'radius':3,\n",
    "        'min_size':1,\n",
    "        'max_size':8,\n",
    "        'min_inc':-5,\n",
    "        'max_inc':3,\n",
    "        'ncores':cpu_count(),\n",
    "    },\n",
    "    costfunc = fitness.Cost,#__CostSimilarity,# __VinaCostLipinski, Cost, __VinaCost, __QedSasVinaCost, CostMultiReceptors\n",
    "    costfunc_kwargs = {\n",
    "        'vina_executable': 'vina',\n",
    "        'receptor_path': r_x0161_file,\n",
    "        'boxcenter' : boxes.r_x0161[\"A\"]['boxcenter'] ,\n",
    "        'boxsize': boxes.r_x0161[\"A\"]['boxsize'],\n",
    "        'exhaustiveness': 4,\n",
    "        'ncores': int(cpu_count() / njobs),\n",
    "        'num_modes': 1,\n",
    "    },\n",
    "    save_pop_every_gen = 20,\n",
    "    deffnm = os.path.join(tmp_path.name, 'pop_test_single_receptor')\n",
    ")\n"
   ]
  },
  {
   "cell_type": "markdown",
   "metadata": {},
   "source": [
    "Then we call the class"
   ]
  },
  {
   "cell_type": "code",
   "execution_count": 5,
   "metadata": {},
   "outputs": [
    {
     "name": "stdout",
     "output_type": "stream",
     "text": [
      "\n",
      "\n",
      "Creating the first population with 20 members:\n"
     ]
    },
    {
     "data": {
      "application/vnd.jupyter.widget-view+json": {
       "model_id": "f520d55014d84d7685a05ec729e6519d",
       "version_major": 2,
       "version_minor": 0
      },
      "text/plain": [
       "  0%|          | 0/20 [00:00<?, ?it/s]"
      ]
     },
     "metadata": {},
     "output_type": "display_data"
    },
    {
     "name": "stderr",
     "output_type": "stream",
     "text": [
      "Process ForkPoolWorker-13:\n",
      "Process ForkPoolWorker-14:\n",
      "Traceback (most recent call last):\n",
      "Traceback (most recent call last):\n",
      "  File \"/home/ale/anaconda3/envs/moldrug/lib/python3.9/multiprocessing/process.py\", line 315, in _bootstrap\n",
      "    self.run()\n",
      "  File \"/home/ale/anaconda3/envs/moldrug/lib/python3.9/multiprocessing/process.py\", line 315, in _bootstrap\n",
      "    self.run()\n",
      "  File \"/home/ale/anaconda3/envs/moldrug/lib/python3.9/multiprocessing/process.py\", line 108, in run\n",
      "    self._target(*self._args, **self._kwargs)\n",
      "  File \"/home/ale/anaconda3/envs/moldrug/lib/python3.9/multiprocessing/process.py\", line 108, in run\n",
      "    self._target(*self._args, **self._kwargs)\n",
      "  File \"/home/ale/anaconda3/envs/moldrug/lib/python3.9/multiprocessing/pool.py\", line 125, in worker\n",
      "    result = (True, func(*args, **kwds))\n",
      "  File \"/home/ale/anaconda3/envs/moldrug/lib/python3.9/multiprocessing/pool.py\", line 125, in worker\n",
      "    result = (True, func(*args, **kwds))\n",
      "  File \"/home/ale/GITLAB/moldrug/moldrug/utils.py\", line 1048, in __costfunc__\n",
      "    return self.costfunc(individual, **kwargs)\n",
      "  File \"/home/ale/GITLAB/moldrug/moldrug/utils.py\", line 1048, in __costfunc__\n",
      "    return self.costfunc(individual, **kwargs)\n",
      "  File \"/home/ale/GITLAB/moldrug/moldrug/fitness.py\", line 71, in Cost\n",
      "    utils.run(cmd)\n",
      "  File \"/home/ale/GITLAB/moldrug/moldrug/fitness.py\", line 71, in Cost\n",
      "    utils.run(cmd)\n",
      "  File \"/home/ale/GITLAB/moldrug/moldrug/utils.py\", line 68, in run\n",
      "    process = subprocess.run(command, shell = shell, executable = executable, stdout=subprocess.PIPE, stderr=subprocess.PIPE, text = True)\n",
      "  File \"/home/ale/GITLAB/moldrug/moldrug/utils.py\", line 68, in run\n",
      "    process = subprocess.run(command, shell = shell, executable = executable, stdout=subprocess.PIPE, stderr=subprocess.PIPE, text = True)\n",
      "  File \"/home/ale/anaconda3/envs/moldrug/lib/python3.9/subprocess.py\", line 507, in run\n",
      "    stdout, stderr = process.communicate(input, timeout=timeout)\n",
      "  File \"/home/ale/anaconda3/envs/moldrug/lib/python3.9/subprocess.py\", line 507, in run\n",
      "    stdout, stderr = process.communicate(input, timeout=timeout)\n",
      "  File \"/home/ale/anaconda3/envs/moldrug/lib/python3.9/subprocess.py\", line 1134, in communicate\n",
      "    stdout, stderr = self._communicate(input, endtime, timeout)\n",
      "  File \"/home/ale/anaconda3/envs/moldrug/lib/python3.9/subprocess.py\", line 1979, in _communicate\n",
      "    ready = selector.select(timeout)\n",
      "  File \"/home/ale/anaconda3/envs/moldrug/lib/python3.9/subprocess.py\", line 1134, in communicate\n",
      "    stdout, stderr = self._communicate(input, endtime, timeout)\n",
      "  File \"/home/ale/anaconda3/envs/moldrug/lib/python3.9/selectors.py\", line 416, in select\n",
      "    fd_event_list = self._selector.poll(timeout)\n",
      "KeyboardInterrupt\n",
      "  File \"/home/ale/anaconda3/envs/moldrug/lib/python3.9/subprocess.py\", line 1979, in _communicate\n",
      "    ready = selector.select(timeout)\n",
      "  File \"/home/ale/anaconda3/envs/moldrug/lib/python3.9/selectors.py\", line 416, in select\n",
      "    fd_event_list = self._selector.poll(timeout)\n",
      "KeyboardInterrupt\n"
     ]
    },
    {
     "ename": "KeyboardInterrupt",
     "evalue": "",
     "output_type": "error",
     "traceback": [
      "\u001b[0;31m---------------------------------------------------------------------------\u001b[0m",
      "\u001b[0;31mIndexError\u001b[0m                                Traceback (most recent call last)",
      "File \u001b[0;32m~/anaconda3/envs/moldrug/lib/python3.9/multiprocessing/pool.py:853\u001b[0m, in \u001b[0;36mIMapIterator.next\u001b[0;34m(self, timeout)\u001b[0m\n\u001b[1;32m    852\u001b[0m \u001b[39mtry\u001b[39;00m:\n\u001b[0;32m--> 853\u001b[0m     item \u001b[39m=\u001b[39m \u001b[39mself\u001b[39;49m\u001b[39m.\u001b[39;49m_items\u001b[39m.\u001b[39;49mpopleft()\n\u001b[1;32m    854\u001b[0m \u001b[39mexcept\u001b[39;00m \u001b[39mIndexError\u001b[39;00m:\n",
      "\u001b[0;31mIndexError\u001b[0m: pop from an empty deque",
      "\nDuring handling of the above exception, another exception occurred:\n",
      "\u001b[0;31mKeyboardInterrupt\u001b[0m                         Traceback (most recent call last)",
      "\u001b[1;32m/home/ale/GITLAB/moldrug/docs/notebooks/quickstart.ipynb Cell 10\u001b[0m in \u001b[0;36m<cell line: 1>\u001b[0;34m()\u001b[0m\n\u001b[0;32m----> <a href='vscode-notebook-cell:/home/ale/GITLAB/moldrug/docs/notebooks/quickstart.ipynb#ch0000009?line=0'>1</a>\u001b[0m out(njobs \u001b[39m=\u001b[39;49m njobs)\n",
      "File \u001b[0;32m~/GITLAB/moldrug/moldrug/utils.py:29\u001b[0m, in \u001b[0;36mtimeit.<locals>.timed\u001b[0;34m(*args, **kw)\u001b[0m\n\u001b[1;32m     27\u001b[0m \u001b[39mdef\u001b[39;00m \u001b[39mtimed\u001b[39m(\u001b[39m*\u001b[39margs, \u001b[39m*\u001b[39m\u001b[39m*\u001b[39mkw):\n\u001b[1;32m     28\u001b[0m     ts \u001b[39m=\u001b[39m time\u001b[39m.\u001b[39mtime()\n\u001b[0;32m---> 29\u001b[0m     result \u001b[39m=\u001b[39m method(\u001b[39m*\u001b[39;49margs, \u001b[39m*\u001b[39;49m\u001b[39m*\u001b[39;49mkw)\n\u001b[1;32m     30\u001b[0m     te \u001b[39m=\u001b[39m time\u001b[39m.\u001b[39mtime()\n\u001b[1;32m     31\u001b[0m     \u001b[39mif\u001b[39;00m \u001b[39m'\u001b[39m\u001b[39mlog_time\u001b[39m\u001b[39m'\u001b[39m \u001b[39min\u001b[39;00m kw:\n",
      "File \u001b[0;32m~/GITLAB/moldrug/moldrug/utils.py:938\u001b[0m, in \u001b[0;36mGA.__call__\u001b[0;34m(self, njobs)\u001b[0m\n\u001b[1;32m    936\u001b[0m \u001b[39mprint\u001b[39m(\u001b[39mf\u001b[39m\u001b[39m'\u001b[39m\u001b[39m\\n\u001b[39;00m\u001b[39m\\n\u001b[39;00m\u001b[39mCreating the first population with \u001b[39m\u001b[39m{\u001b[39;00m\u001b[39mself\u001b[39m\u001b[39m.\u001b[39mpopsize\u001b[39m}\u001b[39;00m\u001b[39m members:\u001b[39m\u001b[39m'\u001b[39m)\n\u001b[1;32m    937\u001b[0m pool \u001b[39m=\u001b[39m mp\u001b[39m.\u001b[39mPool(njobs)\n\u001b[0;32m--> 938\u001b[0m \u001b[39mself\u001b[39m\u001b[39m.\u001b[39mpop \u001b[39m=\u001b[39m [individual \u001b[39mfor\u001b[39;00m individual \u001b[39min\u001b[39;00m tqdm(pool\u001b[39m.\u001b[39mimap(\u001b[39mself\u001b[39m\u001b[39m.\u001b[39m__costfunc__, args_list), total\u001b[39m=\u001b[39m\u001b[39mlen\u001b[39m(args_list))]\n\u001b[1;32m    939\u001b[0m pool\u001b[39m.\u001b[39mclose()\n\u001b[1;32m    941\u001b[0m \u001b[39mif\u001b[39;00m \u001b[39m'\u001b[39m\u001b[39mwd\u001b[39m\u001b[39m'\u001b[39m \u001b[39min\u001b[39;00m getfullargspec(\u001b[39mself\u001b[39m\u001b[39m.\u001b[39mcostfunc)\u001b[39m.\u001b[39margs: shutil\u001b[39m.\u001b[39mrmtree(costfunc_jobs\u001b[39m.\u001b[39mname)\n",
      "File \u001b[0;32m~/GITLAB/moldrug/moldrug/utils.py:938\u001b[0m, in \u001b[0;36m<listcomp>\u001b[0;34m(.0)\u001b[0m\n\u001b[1;32m    936\u001b[0m \u001b[39mprint\u001b[39m(\u001b[39mf\u001b[39m\u001b[39m'\u001b[39m\u001b[39m\\n\u001b[39;00m\u001b[39m\\n\u001b[39;00m\u001b[39mCreating the first population with \u001b[39m\u001b[39m{\u001b[39;00m\u001b[39mself\u001b[39m\u001b[39m.\u001b[39mpopsize\u001b[39m}\u001b[39;00m\u001b[39m members:\u001b[39m\u001b[39m'\u001b[39m)\n\u001b[1;32m    937\u001b[0m pool \u001b[39m=\u001b[39m mp\u001b[39m.\u001b[39mPool(njobs)\n\u001b[0;32m--> 938\u001b[0m \u001b[39mself\u001b[39m\u001b[39m.\u001b[39mpop \u001b[39m=\u001b[39m [individual \u001b[39mfor\u001b[39;00m individual \u001b[39min\u001b[39;00m tqdm(pool\u001b[39m.\u001b[39mimap(\u001b[39mself\u001b[39m\u001b[39m.\u001b[39m__costfunc__, args_list), total\u001b[39m=\u001b[39m\u001b[39mlen\u001b[39m(args_list))]\n\u001b[1;32m    939\u001b[0m pool\u001b[39m.\u001b[39mclose()\n\u001b[1;32m    941\u001b[0m \u001b[39mif\u001b[39;00m \u001b[39m'\u001b[39m\u001b[39mwd\u001b[39m\u001b[39m'\u001b[39m \u001b[39min\u001b[39;00m getfullargspec(\u001b[39mself\u001b[39m\u001b[39m.\u001b[39mcostfunc)\u001b[39m.\u001b[39margs: shutil\u001b[39m.\u001b[39mrmtree(costfunc_jobs\u001b[39m.\u001b[39mname)\n",
      "File \u001b[0;32m~/anaconda3/envs/moldrug/lib/python3.9/site-packages/tqdm/notebook.py:258\u001b[0m, in \u001b[0;36mtqdm_notebook.__iter__\u001b[0;34m(self)\u001b[0m\n\u001b[1;32m    256\u001b[0m \u001b[39mtry\u001b[39;00m:\n\u001b[1;32m    257\u001b[0m     it \u001b[39m=\u001b[39m \u001b[39msuper\u001b[39m(tqdm_notebook, \u001b[39mself\u001b[39m)\u001b[39m.\u001b[39m\u001b[39m__iter__\u001b[39m()\n\u001b[0;32m--> 258\u001b[0m     \u001b[39mfor\u001b[39;00m obj \u001b[39min\u001b[39;00m it:\n\u001b[1;32m    259\u001b[0m         \u001b[39m# return super(tqdm...) will not catch exception\u001b[39;00m\n\u001b[1;32m    260\u001b[0m         \u001b[39myield\u001b[39;00m obj\n\u001b[1;32m    261\u001b[0m \u001b[39m# NB: except ... [ as ...] breaks IPython async KeyboardInterrupt\u001b[39;00m\n",
      "File \u001b[0;32m~/anaconda3/envs/moldrug/lib/python3.9/site-packages/tqdm/std.py:1195\u001b[0m, in \u001b[0;36mtqdm.__iter__\u001b[0;34m(self)\u001b[0m\n\u001b[1;32m   1192\u001b[0m time \u001b[39m=\u001b[39m \u001b[39mself\u001b[39m\u001b[39m.\u001b[39m_time\n\u001b[1;32m   1194\u001b[0m \u001b[39mtry\u001b[39;00m:\n\u001b[0;32m-> 1195\u001b[0m     \u001b[39mfor\u001b[39;00m obj \u001b[39min\u001b[39;00m iterable:\n\u001b[1;32m   1196\u001b[0m         \u001b[39myield\u001b[39;00m obj\n\u001b[1;32m   1197\u001b[0m         \u001b[39m# Update and possibly print the progressbar.\u001b[39;00m\n\u001b[1;32m   1198\u001b[0m         \u001b[39m# Note: does not call self.update(1) for speed optimisation.\u001b[39;00m\n",
      "File \u001b[0;32m~/anaconda3/envs/moldrug/lib/python3.9/multiprocessing/pool.py:858\u001b[0m, in \u001b[0;36mIMapIterator.next\u001b[0;34m(self, timeout)\u001b[0m\n\u001b[1;32m    856\u001b[0m     \u001b[39mself\u001b[39m\u001b[39m.\u001b[39m_pool \u001b[39m=\u001b[39m \u001b[39mNone\u001b[39;00m\n\u001b[1;32m    857\u001b[0m     \u001b[39mraise\u001b[39;00m \u001b[39mStopIteration\u001b[39;00m \u001b[39mfrom\u001b[39;00m \u001b[39mNone\u001b[39m\n\u001b[0;32m--> 858\u001b[0m \u001b[39mself\u001b[39;49m\u001b[39m.\u001b[39;49m_cond\u001b[39m.\u001b[39;49mwait(timeout)\n\u001b[1;32m    859\u001b[0m \u001b[39mtry\u001b[39;00m:\n\u001b[1;32m    860\u001b[0m     item \u001b[39m=\u001b[39m \u001b[39mself\u001b[39m\u001b[39m.\u001b[39m_items\u001b[39m.\u001b[39mpopleft()\n",
      "File \u001b[0;32m~/anaconda3/envs/moldrug/lib/python3.9/threading.py:312\u001b[0m, in \u001b[0;36mCondition.wait\u001b[0;34m(self, timeout)\u001b[0m\n\u001b[1;32m    310\u001b[0m \u001b[39mtry\u001b[39;00m:    \u001b[39m# restore state no matter what (e.g., KeyboardInterrupt)\u001b[39;00m\n\u001b[1;32m    311\u001b[0m     \u001b[39mif\u001b[39;00m timeout \u001b[39mis\u001b[39;00m \u001b[39mNone\u001b[39;00m:\n\u001b[0;32m--> 312\u001b[0m         waiter\u001b[39m.\u001b[39;49macquire()\n\u001b[1;32m    313\u001b[0m         gotit \u001b[39m=\u001b[39m \u001b[39mTrue\u001b[39;00m\n\u001b[1;32m    314\u001b[0m     \u001b[39melse\u001b[39;00m:\n",
      "\u001b[0;31mKeyboardInterrupt\u001b[0m: "
     ]
    }
   ],
   "source": [
    "out(njobs = njobs)"
   ]
  },
  {
   "cell_type": "markdown",
   "metadata": {},
   "source": [
    "This is a very silly example. In real life, you should increase the population size and the number of generation. In this way we explore in a better way ther chemical space. The `GA` clas has some nice methods that give you an idea of the obtained results."
   ]
  },
  {
   "cell_type": "code",
   "execution_count": null,
   "metadata": {},
   "outputs": [
    {
     "data": {
      "text/html": [
       "<div>\n",
       "<style scoped>\n",
       "    .dataframe tbody tr th:only-of-type {\n",
       "        vertical-align: middle;\n",
       "    }\n",
       "\n",
       "    .dataframe tbody tr th {\n",
       "        vertical-align: top;\n",
       "    }\n",
       "\n",
       "    .dataframe thead th {\n",
       "        text-align: right;\n",
       "    }\n",
       "</style>\n",
       "<table border=\"1\" class=\"dataframe\">\n",
       "  <thead>\n",
       "    <tr style=\"text-align: right;\">\n",
       "      <th></th>\n",
       "      <th>smiles</th>\n",
       "      <th>idx</th>\n",
       "      <th>pdbqt</th>\n",
       "      <th>cost</th>\n",
       "      <th>qed</th>\n",
       "      <th>sa_score</th>\n",
       "      <th>vina_score</th>\n",
       "    </tr>\n",
       "  </thead>\n",
       "  <tbody>\n",
       "    <tr>\n",
       "      <th>74</th>\n",
       "      <td>COC(=O)c1ccc(NC(=S)NCC(C)O)cc1</td>\n",
       "      <td>74</td>\n",
       "      <td>MODEL 1\\nREMARK VINA RESULT:      -5.8      0....</td>\n",
       "      <td>1.000000</td>\n",
       "      <td>0.561765</td>\n",
       "      <td>2.315570</td>\n",
       "      <td>-5.8</td>\n",
       "    </tr>\n",
       "    <tr>\n",
       "      <th>75</th>\n",
       "      <td>CC(Sc1ccc(OCCN2CCCC2)cc1)C(N)=O</td>\n",
       "      <td>75</td>\n",
       "      <td>MODEL 1\\nREMARK VINA RESULT:      -5.8      0....</td>\n",
       "      <td>1.000000</td>\n",
       "      <td>0.782761</td>\n",
       "      <td>2.418557</td>\n",
       "      <td>-5.8</td>\n",
       "    </tr>\n",
       "    <tr>\n",
       "      <th>76</th>\n",
       "      <td>CCSC(=S)SCc1ccc(C(=O)OC)cc1</td>\n",
       "      <td>76</td>\n",
       "      <td>MODEL 1\\nREMARK VINA RESULT:      -4.8      0....</td>\n",
       "      <td>1.000000</td>\n",
       "      <td>0.620342</td>\n",
       "      <td>2.424015</td>\n",
       "      <td>-4.8</td>\n",
       "    </tr>\n",
       "    <tr>\n",
       "      <th>77</th>\n",
       "      <td>C#CCN(N)c1ccc(C(F)(F)F)cc1</td>\n",
       "      <td>77</td>\n",
       "      <td>MODEL 1\\nREMARK VINA RESULT:      -5.4      0....</td>\n",
       "      <td>1.000000</td>\n",
       "      <td>0.463317</td>\n",
       "      <td>2.719737</td>\n",
       "      <td>-5.4</td>\n",
       "    </tr>\n",
       "    <tr>\n",
       "      <th>78</th>\n",
       "      <td>CC(=O)NNC(=O)c1ccc(CC(CC(=O)O)C(=O)O)cc1</td>\n",
       "      <td>78</td>\n",
       "      <td>MODEL 1\\nREMARK VINA RESULT:      -6.8      0....</td>\n",
       "      <td>0.546637</td>\n",
       "      <td>0.554267</td>\n",
       "      <td>2.482462</td>\n",
       "      <td>-6.8</td>\n",
       "    </tr>\n",
       "  </tbody>\n",
       "</table>\n",
       "</div>"
      ],
      "text/plain": [
       "                                      smiles  idx  \\\n",
       "74            COC(=O)c1ccc(NC(=S)NCC(C)O)cc1   74   \n",
       "75           CC(Sc1ccc(OCCN2CCCC2)cc1)C(N)=O   75   \n",
       "76               CCSC(=S)SCc1ccc(C(=O)OC)cc1   76   \n",
       "77                C#CCN(N)c1ccc(C(F)(F)F)cc1   77   \n",
       "78  CC(=O)NNC(=O)c1ccc(CC(CC(=O)O)C(=O)O)cc1   78   \n",
       "\n",
       "                                                pdbqt      cost       qed  \\\n",
       "74  MODEL 1\\nREMARK VINA RESULT:      -5.8      0....  1.000000  0.561765   \n",
       "75  MODEL 1\\nREMARK VINA RESULT:      -5.8      0....  1.000000  0.782761   \n",
       "76  MODEL 1\\nREMARK VINA RESULT:      -4.8      0....  1.000000  0.620342   \n",
       "77  MODEL 1\\nREMARK VINA RESULT:      -5.4      0....  1.000000  0.463317   \n",
       "78  MODEL 1\\nREMARK VINA RESULT:      -6.8      0....  0.546637  0.554267   \n",
       "\n",
       "    sa_score  vina_score  \n",
       "74  2.315570        -5.8  \n",
       "75  2.418557        -5.8  \n",
       "76  2.424015        -4.8  \n",
       "77  2.719737        -5.4  \n",
       "78  2.482462        -6.8  "
      ]
     },
     "execution_count": 24,
     "metadata": {},
     "output_type": "execute_result"
    }
   ],
   "source": [
    "out.to_dataframe().tail()"
   ]
  },
  {
   "cell_type": "markdown",
   "metadata": {},
   "source": [
    "You could save the entire class for future use both in a compressed file. Here I just saved the file in the temporal directory, you could change the path to your current working directory."
   ]
  },
  {
   "cell_type": "code",
   "execution_count": null,
   "metadata": {},
   "outputs": [],
   "source": [
    "out.pickle(os.path.join(tmp_path.name, f\"NumGens_{out.NumGens}_PopSize_{popsize}\"), compress=True)"
   ]
  },
  {
   "cell_type": "markdown",
   "metadata": {},
   "source": [
    "But Could be that after a long simulation we would like to perform a different searching strategy over the last population. This is really simple, we could initialize againg the `out` instance with a differnt set of parameters. Let say that we would like close to the last solutions. Then we could use the parameters: `min_size=0, max_size=1, min_inc=-1, max_inc=1`.This flavor will add, delate mutate heavy atoms or change Hydrogens for heavy atoms."
   ]
  },
  {
   "cell_type": "code",
   "execution_count": null,
   "metadata": {},
   "outputs": [],
   "source": [
    "out.maxiter = 5\n",
    "out.mutate_crem_kwargs = {\n",
    "        'radius':3,\n",
    "        'min_size':0,\n",
    "        'max_size':1,\n",
    "        'min_inc':-1,\n",
    "        'max_inc':1,\n",
    "        'ncores':cpu_count(),\n",
    "    }"
   ]
  },
  {
   "cell_type": "markdown",
   "metadata": {},
   "source": [
    "And run againg the class"
   ]
  },
  {
   "cell_type": "code",
   "execution_count": null,
   "metadata": {},
   "outputs": [
    {
     "name": "stdout",
     "output_type": "stream",
     "text": [
      "Evaluating generation 4 / 8:\n"
     ]
    },
    {
     "name": "stderr",
     "output_type": "stream",
     "text": [
      "100%|██████████| 20/20 [00:28<00:00,  1.40s/it]"
     ]
    },
    {
     "name": "stdout",
     "output_type": "stream",
     "text": [
      "Generation 4: Best Individual: Individual(idx = 88, smiles = NS(=O)(=O)c1ccc(NNC(=O)c2ccncc2)cc1, cost = 0.5457306975450334).\n",
      "\n"
     ]
    },
    {
     "name": "stderr",
     "output_type": "stream",
     "text": [
      "\n"
     ]
    },
    {
     "name": "stdout",
     "output_type": "stream",
     "text": [
      "Evaluating generation 5 / 8:\n"
     ]
    },
    {
     "name": "stderr",
     "output_type": "stream",
     "text": [
      "100%|██████████| 19/19 [00:32<00:00,  1.69s/it]"
     ]
    },
    {
     "name": "stdout",
     "output_type": "stream",
     "text": [
      "Generation 5: Best Individual: Individual(idx = 88, smiles = NS(=O)(=O)c1ccc(NNC(=O)c2ccncc2)cc1, cost = 0.5457306975450334).\n",
      "\n"
     ]
    },
    {
     "name": "stderr",
     "output_type": "stream",
     "text": [
      "\n"
     ]
    },
    {
     "name": "stdout",
     "output_type": "stream",
     "text": [
      "Evaluating generation 6 / 8:\n"
     ]
    },
    {
     "name": "stderr",
     "output_type": "stream",
     "text": [
      "100%|██████████| 19/19 [00:33<00:00,  1.74s/it]"
     ]
    },
    {
     "name": "stdout",
     "output_type": "stream",
     "text": [
      "Generation 6: Best Individual: Individual(idx = 133, smiles = CN(NC(=O)c1ccncc1)c1ccc(S(N)(=O)=O)cc1, cost = 0.44967879185089554).\n",
      "\n"
     ]
    },
    {
     "name": "stderr",
     "output_type": "stream",
     "text": [
      "\n"
     ]
    },
    {
     "name": "stdout",
     "output_type": "stream",
     "text": [
      "Evaluating generation 7 / 8:\n"
     ]
    },
    {
     "name": "stderr",
     "output_type": "stream",
     "text": [
      "100%|██████████| 18/18 [00:31<00:00,  1.73s/it]"
     ]
    },
    {
     "name": "stdout",
     "output_type": "stream",
     "text": [
      "Generation 7: Best Individual: Individual(idx = 133, smiles = CN(NC(=O)c1ccncc1)c1ccc(S(N)(=O)=O)cc1, cost = 0.44967879185089554).\n",
      "\n"
     ]
    },
    {
     "name": "stderr",
     "output_type": "stream",
     "text": [
      "\n"
     ]
    },
    {
     "name": "stdout",
     "output_type": "stream",
     "text": [
      "Evaluating generation 8 / 8:\n"
     ]
    },
    {
     "name": "stderr",
     "output_type": "stream",
     "text": [
      "100%|██████████| 19/19 [00:34<00:00,  1.80s/it]"
     ]
    },
    {
     "name": "stdout",
     "output_type": "stream",
     "text": [
      "Generation 8: Best Individual: Individual(idx = 133, smiles = CN(NC(=O)c1ccncc1)c1ccc(S(N)(=O)=O)cc1, cost = 0.44967879185089554).\n",
      "\n",
      "\n",
      "=+=+=+=+=+=+=+=+=+=+=+=+=+=+=+=+=+=+=+=+=+=+=+=+=+=+=+=+=+=+=+=+=+=+=+=+=+=+=+=+=+=+=+=+=+=+=+=+=+=+\n",
      "\n",
      "The simulation finished successfully after 5 generations with a population of 20 individuals. A total number of 174 Individuals were seen during the simulation.\n",
      "Initial Individual: Individual(idx = 0, smiles = COC(=O)C=1C=CC(=CC1)S(=O)(=O)N, cost = 1.0)\n",
      "Final Individual: Individual(idx = 133, smiles = CN(NC(=O)c1ccncc1)c1ccc(S(N)(=O)=O)cc1, cost = 0.44967879185089554)\n",
      "The cost fucntion droped in 0.5503212081491045 units.\n",
      "\n",
      "=+=+=+=+=+=+=+=+=+=+=+=+=+=+=+=+=+=+=+=+=+=+=+=+=+=+=+=+=+=+=+=+=+=+=+=+=+=+=+=+=+=+=+=+=+=+=+=+=+=+\n",
      "\n",
      "'__call__'  193031.96 ms\n"
     ]
    },
    {
     "name": "stderr",
     "output_type": "stream",
     "text": [
      "\n"
     ]
    }
   ],
   "source": [
    "out(njobs = njobs)"
   ]
  },
  {
   "cell_type": "markdown",
   "metadata": {},
   "source": [
    "As you can see the `GA` class is updated reather that replacead. This is a perfect feature for rerun with different ideas. As you see the number of generations is also updatead as well the number of calls."
   ]
  },
  {
   "cell_type": "code",
   "execution_count": null,
   "metadata": {},
   "outputs": [
    {
     "name": "stdout",
     "output_type": "stream",
     "text": [
      "8 2\n"
     ]
    }
   ],
   "source": [
    "print(out.NumGens, out.NumCalls)"
   ]
  },
  {
   "cell_type": "markdown",
   "metadata": {},
   "source": [
    "The same idea is for the rest of the methods and atributtes"
   ]
  },
  {
   "cell_type": "code",
   "execution_count": null,
   "metadata": {},
   "outputs": [
    {
     "data": {
      "text/html": [
       "<div>\n",
       "<style scoped>\n",
       "    .dataframe tbody tr th:only-of-type {\n",
       "        vertical-align: middle;\n",
       "    }\n",
       "\n",
       "    .dataframe tbody tr th {\n",
       "        vertical-align: top;\n",
       "    }\n",
       "\n",
       "    .dataframe thead th {\n",
       "        text-align: right;\n",
       "    }\n",
       "</style>\n",
       "<table border=\"1\" class=\"dataframe\">\n",
       "  <thead>\n",
       "    <tr style=\"text-align: right;\">\n",
       "      <th></th>\n",
       "      <th>smiles</th>\n",
       "      <th>idx</th>\n",
       "      <th>pdbqt</th>\n",
       "      <th>cost</th>\n",
       "      <th>qed</th>\n",
       "      <th>sa_score</th>\n",
       "      <th>vina_score</th>\n",
       "    </tr>\n",
       "  </thead>\n",
       "  <tbody>\n",
       "    <tr>\n",
       "      <th>169</th>\n",
       "      <td>NS(=O)(=O)c1ccc(NNC(=O)c2ccnc(Cl)c2)cc1</td>\n",
       "      <td>169</td>\n",
       "      <td>MODEL 1\\nREMARK VINA RESULT:      -6.6      0....</td>\n",
       "      <td>0.581768</td>\n",
       "      <td>0.575517</td>\n",
       "      <td>2.113010</td>\n",
       "      <td>-6.6</td>\n",
       "    </tr>\n",
       "    <tr>\n",
       "      <th>170</th>\n",
       "      <td>C=CS(=O)(=O)c1ccc(N(C)Cc2cc(F)cc(Br)c2)cc1</td>\n",
       "      <td>170</td>\n",
       "      <td>MODEL 1\\nREMARK VINA RESULT:      -6.6      0....</td>\n",
       "      <td>0.535841</td>\n",
       "      <td>0.777729</td>\n",
       "      <td>2.460395</td>\n",
       "      <td>-6.6</td>\n",
       "    </tr>\n",
       "    <tr>\n",
       "      <th>171</th>\n",
       "      <td>COc1ccc(Cl)cc1C=[N+]([O-])c1ccc(S(=O)(=O)O)cc1</td>\n",
       "      <td>171</td>\n",
       "      <td>MODEL 1\\nREMARK VINA RESULT:      -6.4      0....</td>\n",
       "      <td>0.724682</td>\n",
       "      <td>0.303473</td>\n",
       "      <td>2.432525</td>\n",
       "      <td>-6.4</td>\n",
       "    </tr>\n",
       "    <tr>\n",
       "      <th>172</th>\n",
       "      <td>NNS(=O)(=O)c1ccc(OC(=O)c2cc(N)nc(F)c2)cc1</td>\n",
       "      <td>172</td>\n",
       "      <td>MODEL 1\\nREMARK VINA RESULT:      -7.4      0....</td>\n",
       "      <td>0.631541</td>\n",
       "      <td>0.239349</td>\n",
       "      <td>2.499351</td>\n",
       "      <td>-7.4</td>\n",
       "    </tr>\n",
       "    <tr>\n",
       "      <th>173</th>\n",
       "      <td>CNC(=O)C=Cc1ccc(OCc2cccc(O)c2)cc1C</td>\n",
       "      <td>173</td>\n",
       "      <td>MODEL 1\\nREMARK VINA RESULT:      -6.6      0....</td>\n",
       "      <td>0.535841</td>\n",
       "      <td>0.833992</td>\n",
       "      <td>2.166602</td>\n",
       "      <td>-6.6</td>\n",
       "    </tr>\n",
       "  </tbody>\n",
       "</table>\n",
       "</div>"
      ],
      "text/plain": [
       "                                             smiles  idx  \\\n",
       "169         NS(=O)(=O)c1ccc(NNC(=O)c2ccnc(Cl)c2)cc1  169   \n",
       "170      C=CS(=O)(=O)c1ccc(N(C)Cc2cc(F)cc(Br)c2)cc1  170   \n",
       "171  COc1ccc(Cl)cc1C=[N+]([O-])c1ccc(S(=O)(=O)O)cc1  171   \n",
       "172       NNS(=O)(=O)c1ccc(OC(=O)c2cc(N)nc(F)c2)cc1  172   \n",
       "173              CNC(=O)C=Cc1ccc(OCc2cccc(O)c2)cc1C  173   \n",
       "\n",
       "                                                 pdbqt      cost       qed  \\\n",
       "169  MODEL 1\\nREMARK VINA RESULT:      -6.6      0....  0.581768  0.575517   \n",
       "170  MODEL 1\\nREMARK VINA RESULT:      -6.6      0....  0.535841  0.777729   \n",
       "171  MODEL 1\\nREMARK VINA RESULT:      -6.4      0....  0.724682  0.303473   \n",
       "172  MODEL 1\\nREMARK VINA RESULT:      -7.4      0....  0.631541  0.239349   \n",
       "173  MODEL 1\\nREMARK VINA RESULT:      -6.6      0....  0.535841  0.833992   \n",
       "\n",
       "     sa_score  vina_score  \n",
       "169  2.113010        -6.6  \n",
       "170  2.460395        -6.6  \n",
       "171  2.432525        -6.4  \n",
       "172  2.499351        -7.4  \n",
       "173  2.166602        -6.6  "
      ]
     },
     "execution_count": 29,
     "metadata": {},
     "output_type": "execute_result"
    }
   ],
   "source": [
    "out.to_dataframe().tail()"
   ]
  },
  {
   "cell_type": "markdown",
   "metadata": {},
   "source": [
    "This is the best solution of this simulation (you for sure, will get a different one):"
   ]
  },
  {
   "cell_type": "code",
   "execution_count": null,
   "metadata": {},
   "outputs": [
    {
     "data": {
      "image/png": "[encoded data removed]",
      "text/plain": [
       "<rdkit.Chem.rdchem.Mol at 0x7fea406bba60>"
      ]
     },
     "execution_count": 34,
     "metadata": {},
     "output_type": "execute_result"
    }
   ],
   "source": [
    "Chem.MolFromSmiles(out.pop[0].smiles)"
   ]
  },
  {
   "cell_type": "code",
   "execution_count": null,
   "metadata": {},
   "outputs": [
    {
     "data": {
      "image/png": "[encoded data removed]",
      "text/plain": [
       "<rdkit.Chem.rdchem.Mol at 0x7fea406ca800>"
      ]
     },
     "execution_count": 31,
     "metadata": {},
     "output_type": "execute_result"
    }
   ],
   "source": [
    "from rdkit import Chem\n",
    "Chem.MolFromSmiles(\"COC(=O)C=1C=CC(=CC1)S(=O)(=O)N\")"
   ]
  },
  {
   "cell_type": "markdown",
   "metadata": {},
   "source": [
    "Printing some information"
   ]
  },
  {
   "cell_type": "code",
   "execution_count": null,
   "metadata": {},
   "outputs": [
    {
     "name": "stdout",
     "output_type": "stream",
     "text": [
      "Initial vina score: -5.1. Final vina score: -7.0\n",
      "sascorer of the best Individual: 2.2216932225541868\n",
      "QED of the best Individual: 0.8006849419310699\n",
      "{\n",
      "  \"NumHAcceptors\": 5,\n",
      "  \"NumHDonors\": 2,\n",
      "  \"wt\": 306.3470000000001,\n",
      "  \"MLogP\": 0.5102000000000001,\n",
      "  \"NumRotatableBonds\": 4,\n",
      "  \"TPSA\": 105.39,\n",
      "  \"FractionCSP3\": 0.07692307692307693,\n",
      "  \"HeavyAtomCount\": 21,\n",
      "  \"NHOHCount\": 3,\n",
      "  \"NOCount\": 7,\n",
      "  \"NumAliphaticCarbocycles\": 0,\n",
      "  \"NumAliphaticHeterocycles\": 0,\n",
      "  \"NumAliphaticRings\": 0,\n",
      "  \"NumAromaticCarbocycles\": 1,\n",
      "  \"NumAromaticHeterocycles\": 1,\n",
      "  \"NumAromaticRings\": 2,\n",
      "  \"NumHeteroatoms\": 8,\n",
      "  \"NumSaturatedCarbocycles\": 0,\n",
      "  \"NumSaturatedHeterocycles\": 0,\n",
      "  \"NumSaturatedRings\": 0,\n",
      "  \"RingCount\": 2\n",
      "}\n"
     ]
    },
    {
     "data": {
      "text/plain": [
       "[Text(0.5, 1.0, 'bestcost')]"
      ]
     },
     "execution_count": 32,
     "metadata": {},
     "output_type": "execute_result"
    },
    {
     "data": {
      "image/png": "[encoded data removed]",
      "text/plain": [
       "<Figure size 1152x1440 with 6 Axes>"
      ]
     },
     "metadata": {
      "needs_background": "light"
     },
     "output_type": "display_data"
    }
   ],
   "source": [
    "import json\n",
    "import matplotlib.pyplot as plt\n",
    "from moldrug import utils\n",
    "sascorer = utils.import_sascorer()\n",
    "print(f\"Initial vina score: {out.InitIndividual.vina_score}. Final vina score: {out.pop[0].vina_score}\")\n",
    "print(f\"sascorer of the best Individual: {sascorer.calculateScore(out.pop[0].mol)}\")\n",
    "print(f\"QED of the best Individual: {fitness.QED.weights_mean(out.pop[0].mol)}\")\n",
    "print(json.dumps(utils.lipinski_profile(out.pop[0].mol), indent = 2))\n",
    "\n",
    "fig, ax = plt.subplots(nrows = 6, figsize = (16,20))\n",
    "\n",
    "ax[0].plot(range(len(out.SawIndividuals)),[Individual.qed for Individual in out.SawIndividuals], 'o')\n",
    "ax[0].set(title = 'qed')\n",
    "\n",
    "ax[1].plot(range(len(out.SawIndividuals)),[Individual.sa_score for Individual in out.SawIndividuals], 'o')\n",
    "ax[1].set(title = 'sa_score')\n",
    "\n",
    "ax[2].plot(range(len(out.SawIndividuals)),[Individual.vina_score for Individual in out.SawIndividuals], 'o')\n",
    "ax[2].set(title = 'vina_score')\n",
    "\n",
    "ax[3].plot(range(len(out.SawIndividuals)),[Individual.cost for Individual in out.SawIndividuals], 'o')\n",
    "ax[3].set(title = 'cost')\n",
    "\n",
    "ax[4].plot(range(len(out.avg_cost)),out.avg_cost, 'o')\n",
    "ax[4].set(title = 'avg_cost')\n",
    "\n",
    "ax[5].plot(range(len(out.bestcost)),out.bestcost, 'o')\n",
    "ax[5].set(title = 'bestcost')\n"
   ]
  },
  {
   "cell_type": "code",
   "execution_count": null,
   "metadata": {},
   "outputs": [],
   "source": []
  }
 ],
 "metadata": {
  "kernelspec": {
   "display_name": "Python 3.9.13 ('moldrug')",
   "language": "python",
   "name": "python3"
  },
  "language_info": {
   "codemirror_mode": {
    "name": "ipython",
    "version": 3
   },
   "file_extension": ".py",
   "mimetype": "text/x-python",
   "name": "python",
   "nbconvert_exporter": "python",
   "pygments_lexer": "ipython3",
   "version": "3.9.13"
  },
  "orig_nbformat": 4,
  "vscode": {
   "interpreter": {
    "hash": "580997a69bc0f3991857025e1d93e87ed090e2c1fa4aff0ca8e9824f56baf8cb"
   }
  }
 },
 "nbformat": 4,
 "nbformat_minor": 2
}

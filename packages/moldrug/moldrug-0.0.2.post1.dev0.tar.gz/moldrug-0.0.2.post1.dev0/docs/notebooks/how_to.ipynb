{
 "cells": [
  {
   "cell_type": "markdown",
   "metadata": {},
   "source": [
    "# How-to\n",
    "This notebook serves as a practical guide to common questions users might have.\n",
    "\n",
    "**Table of content**\n",
    "\n",
    "1.  Create your own cost function"
   ]
  }
 ],
 "metadata": {
  "kernelspec": {
   "display_name": "Python 3.10.4 ('bi')",
   "language": "python",
   "name": "python3"
  },
  "language_info": {
   "name": "python",
   "version": "3.10.4"
  },
  "orig_nbformat": 4,
  "vscode": {
   "interpreter": {
    "hash": "2626eeb7fe19129dd07afefce8140e2cbf2ad2e0685d569eaeed9fa006e12293"
   }
  }
 },
 "nbformat": 4,
 "nbformat_minor": 2
}

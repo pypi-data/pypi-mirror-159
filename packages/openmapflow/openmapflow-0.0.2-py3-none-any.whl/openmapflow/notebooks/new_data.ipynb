{
  "cells": [
    {
      "cell_type": "markdown",
      "metadata": {
        "id": "wBYSuraxoKJy"
      },
      "source": [
        "# Add new labeled data 🛰️\n",
        "\n",
        "**Description:** Stand alone notebook for adding new training and evaluation data. \n",
        "\n",
        "[![Open In Colab](https://colab.research.google.com/assets/colab-badge.svg)](https://colab.research.google.com/github/nasaharvest/openmapflow/blob/main/openmapflow/notebooks/new_data.ipynb)"
      ]
    },
    {
      "cell_type": "markdown",
      "metadata": {
        "id": "UdI-wLrbxHZn"
      },
      "source": [
        "# 1. Setup\n",
        "\n",
        "If you don't already have one, obtain a Github Personal Access Token using the steps [here](https://docs.github.com/en/authentication/keeping-your-account-and-data-secure/creating-a-personal-access-token). Save this token somewhere private."
      ]
    },
    {
      "cell_type": "code",
      "execution_count": null,
      "metadata": {
        "id": "pcgm4kgRBK3K"
      },
      "outputs": [],
      "source": [
        "try:\n",
        "    from google.colab import files\n",
        "    IN_COLAB = True\n",
        "except:\n",
        "    IN_COLAB = False\n",
        "    \n",
        "if IN_COLAB:\n",
        "    from getpass import getpass\n",
        "    github_url = input(\"Github HTTPS URL: \")\n",
        "    email = input(\"Github email: \")\n",
        "    username = input(\"Github username: \")\n",
        "    token = getpass('Github Personal Access Token:')\n",
        "\n",
        "    !git config --global user.email $username\n",
        "    !git config --global user.name $email\n",
        "    !git clone {github_url.replace(\"https://\", f\"https://{username}:{token}@\")}\n",
        "\n",
        "    !pip install openmapflow -q\n",
        "else:\n",
        "    !pip install google-auth -q\n",
        "    print(\"Running notebook outside Google Colab. Assuming in local repository.\")"
      ]
    },
    {
      "cell_type": "code",
      "execution_count": null,
      "metadata": {
        "id": "hsKgTbYYBU9z"
      },
      "outputs": [],
      "source": [
        "from pathlib import Path\n",
        "from ipywidgets import Box\n",
        "from tqdm.notebook import tqdm\n",
        "from openmapflow.constants import CONFIG_FILE\n",
        "from openmapflow.utils import colab_gee_gcloud_login\n",
        "\n",
        "import ipywidgets as widgets\n",
        "import os\n",
        "\n",
        "cwd = Path.cwd()\n",
        "root = None\n",
        "for p in [cwd, cwd.parent, cwd.parent.parent]:\n",
        "    if (p / CONFIG_FILE).exists():\n",
        "        root = p\n",
        "        break\n",
        "if root == None:\n",
        "    root = input(\"Path to project_root: \")\n",
        "%cd {root}\n",
        "\n",
        "from openmapflow.config import PROJECT_ROOT, DataPaths, GCLOUD_PROJECT_ID"
      ]
    },
    {
      "cell_type": "code",
      "execution_count": null,
      "metadata": {
        "id": "zU4ssAB2BrJ_"
      },
      "outputs": [],
      "source": [
        "box_layout = widgets.Layout(flex_flow='column')\n",
        "\n",
        "options = [\"Add new labels\", \"Check progress of previously uploaded labels\"]\n",
        "use = widgets.RadioButtons(\n",
        "    options=options,\n",
        "    style= {'description_width': 'initial'},\n",
        "    value=options[0],\n",
        "    description='',\n",
        "    disabled=False\n",
        ")\n",
        "\n",
        "branches_available = []\n",
        "local_branches = os.popen('git branch').read().split(\"\\n\")\n",
        "remote_branches = os.popen('git branch -r').read().split(\"\\n\")\n",
        "for branch in local_branches + remote_branches:\n",
        "    if branch == \"\":\n",
        "        continue\n",
        "    branches_available.append(branch.replace(\"*\", \"\").strip().replace(\"origin/\", \"\"))\n",
        "\n",
        "new_branch = widgets.Text(description='Enter a new branch name',\n",
        "                        style={'description_width': 'initial'})\n",
        "existing_branch = widgets.Dropdown(options=branches_available, \n",
        "                              description=\"Branch with existing labels\",\n",
        "                              style={'description_width': 'initial'})\n",
        "existing_branch.layout.visibility = \"hidden\"\n",
        "\n",
        "def change_visibility(event):\n",
        "    try:\n",
        "        i = event[\"new\"][\"index\"]  \n",
        "    except:\n",
        "        return\n",
        "    show_new = i == 0\n",
        "    existing_branch.layout.visibility = \"hidden\" if show_new else \"visible\" \n",
        "    new_branch.layout.display = \"block\" if show_new else \"none\"\n",
        "\n",
        "use.observe(change_visibility)\n",
        "Box(children=[use, new_branch, existing_branch], layout=box_layout)"
      ]
    },
    {
      "cell_type": "code",
      "execution_count": null,
      "metadata": {
        "id": "HaGL_QzXJOlu"
      },
      "outputs": [],
      "source": [
        "checking_progress_only = new_branch.value == \"\"\n",
        "if checking_progress_only:\n",
        "    !git checkout {existing_branch.value}\n",
        "    !git pull\n",
        "else:\n",
        "    !git checkout -b'{new_branch.value}'"
      ]
    },
    {
      "cell_type": "markdown",
      "metadata": {
        "id": "QEusgSrCqxaz"
      },
      "source": [
        "# 2. Download latest data\n",
        "Data is stored in remote storage (ie. Google Drive) so authentication is necessary."
      ]
    },
    {
      "cell_type": "code",
      "execution_count": null,
      "metadata": {
        "id": "ls-7sN9Hoew6"
      },
      "outputs": [],
      "source": [
        "if IN_COLAB or not checking_progress_only:\n",
        "    for p in tqdm([DataPaths.MODELS, DataPaths.PROCESSED_LABELS, DataPaths.COMPRESSED_FEATURES]):\n",
        "        !dvc pull {p} -q\n",
        "\n",
        "    !tar -xzf {DataPaths.COMPRESSED_FEATURES} -C data"
      ]
    },
    {
      "cell_type": "markdown",
      "metadata": {
        "id": "-JVvrrWH0SJn"
      },
      "source": [
        "# 3. Upload labels"
      ]
    },
    {
      "cell_type": "code",
      "execution_count": null,
      "metadata": {
        "id": "kaiEJDq11SxD"
      },
      "outputs": [],
      "source": [
        "if checking_progress_only:\n",
        "    print(\"Checking progress only, skipping this cell.\")\n",
        "else:\n",
        "    dataset_name = input(\"Dataset name (suggested format: <Country_Region_Year>): \")\n",
        "    while True:\n",
        "        dataset_dir = PROJECT_ROOT / DataPaths.RAW_LABELS / dataset_name\n",
        "        if dataset_dir.exists() and len(list(dataset_dir.iterdir())) > 0:\n",
        "            dataset_name = input(\"Dataset name already exists, try a different name: \")\n",
        "        else:\n",
        "            dataset_dir.mkdir(exist_ok=True)\n",
        "            break\n",
        "\n",
        "    print(\"--------------------------------------------------\")\n",
        "    print(f\"Dataset: {dataset_name} directory created\")\n",
        "    print(\"---------------------------------------------------\")\n",
        "    \n",
        "    if IN_COLAB:\n",
        "        uploaded = files.upload()\n",
        "\n",
        "        for file_name in uploaded.keys():\n",
        "            Path(file_name).rename(dataset_dir / file_name)\n",
        "    else:\n",
        "        print(f\"Please add file(s) into {dataset_dir}\")"
      ]
    },
    {
      "cell_type": "markdown",
      "metadata": {
        "id": "qmqM6F1PGaNd"
      },
      "source": [
        "# 4. Create features\n",
        "<img src=\"https://storage.googleapis.com/harvest-public-assets/openmapflow/new_data.png\"/>"
      ]
    },
    {
      "cell_type": "code",
      "execution_count": null,
      "metadata": {
        "id": "tRdlDnqTeTPc"
      },
      "outputs": [],
      "source": [
        "if checking_progress_only:\n",
        "    print(\"Checking progress only, skipping this cell.\")\n",
        "else:\n",
        "    user_confirmation = input(\n",
        "        \"Open datasets.py and add a `LabeledDataset` object representing the labels just added.\\n\"+\n",
        "        \"Added `LabeledDataset y/[n]: \"\n",
        "    )\n",
        "    if user_confirmation.lower() != \"y\":\n",
        "        print(\"New features can only be created when a `LabeledDataset` object is added.\")"
      ]
    },
    {
      "cell_type": "code",
      "execution_count": null,
      "metadata": {
        "id": "AWkYXba7f5uw"
      },
      "outputs": [],
      "source": [
        "from openmapflow.config import GCLOUD_PROJECT_ID"
      ]
    },
    {
      "cell_type": "code",
      "execution_count": null,
      "metadata": {
        "id": "Ouc6qqtm_8tM"
      },
      "outputs": [],
      "source": [
        "# TODO figure out public bucket permissions\n",
        "if IN_COLAB:\n",
        "    colab_gee_gcloud_login(GCLOUD_PROJECT_ID, google)\n",
        "else:\n",
        "    !earthengine authenticate"
      ]
    },
    {
      "cell_type": "markdown",
      "metadata": {
        "id": "bZ_UcNJx20aL"
      },
      "source": [
        "`openmapflow create-features` creates features from labels and earth observation data referenced in datasets.py.\n",
        "\n",
        "It first checks if the necessary earth observation data is already available in Cloud Storage, or if an active Earth Engine task is already active. So Google Cloud and Earth Engine authentication is needed."
      ]
    },
    {
      "cell_type": "code",
      "execution_count": null,
      "metadata": {
        "id": "f-5NQB9B56oe"
      },
      "outputs": [],
      "source": [
        "!openmapflow create-features"
      ]
    },
    {
      "cell_type": "code",
      "execution_count": null,
      "metadata": {
        "id": "5oTbgscJdZKS"
      },
      "outputs": [],
      "source": [
        "!cat {DataPaths.DATASETS}"
      ]
    },
    {
      "cell_type": "code",
      "execution_count": null,
      "metadata": {
        "id": "5-sArcuPdZKT"
      },
      "outputs": [],
      "source": [
        "!git diff {DataPaths.DATASETS}"
      ]
    },
    {
      "cell_type": "markdown",
      "metadata": {
        "id": "XG94Q3lAzmyu"
      },
      "source": [
        "# 4. Pushing the new data to the repository"
      ]
    },
    {
      "cell_type": "code",
      "execution_count": null,
      "metadata": {
        "id": "Fbv1fwFNzrnS"
      },
      "outputs": [],
      "source": [
        "# Pushing to remote storage\n",
        "for p in tqdm([DataPaths.RAW_LABELS, DataPaths.PROCESSED_LABELS, DataPaths.COMPRESSED_FEATURES]):\n",
        "    !dvc commit {p} -f -q\n",
        "!dvc push"
      ]
    },
    {
      "cell_type": "code",
      "execution_count": null,
      "metadata": {
        "id": "9EywOpWv8JDV"
      },
      "outputs": [],
      "source": [
        "# Pushing reference to github\n",
        "commit_message = input(\"Commit message: \")\n",
        "!git add .\n",
        "!git commit -m '{commit_message}'\n",
        "!git push "
      ]
    },
    {
      "cell_type": "markdown",
      "metadata": {
        "id": "YENWoPX_1AJC"
      },
      "source": [
        "Create a Pull Request so the data can be merged into the main branch."
      ]
    }
  ],
  "metadata": {
    "colab": {
      "name": "new_data.ipynb",
      "provenance": []
    },
    "kernelspec": {
      "display_name": "Python 3 (ipykernel)",
      "language": "python",
      "name": "python3"
    },
    "language_info": {
      "codemirror_mode": {
        "name": "ipython",
        "version": 3
      },
      "file_extension": ".py",
      "mimetype": "text/x-python",
      "name": "python",
      "nbconvert_exporter": "python",
      "pygments_lexer": "ipython3",
      "version": "3.7.12"
    }
  },
  "nbformat": 4,
  "nbformat_minor": 0
}

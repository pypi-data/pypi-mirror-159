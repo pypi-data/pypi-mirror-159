{
 "cells": [
  {
   "cell_type": "markdown",
   "metadata": {},
   "source": [
    "# Introduction"
   ]
  },
  {
   "cell_type": "code",
   "execution_count": 1,
   "metadata": {},
   "outputs": [],
   "source": [
    "%reload_ext divewidgets"
   ]
  },
  {
   "cell_type": "code",
   "execution_count": 2,
   "metadata": {},
   "outputs": [
    {
     "data": {
      "application/vnd.jupyter.widget-view+json": {
       "model_id": "5b08a2b6415e46baa23c7c13323863cf",
       "version_major": 2,
       "version_minor": 0
      },
      "text/plain": [
       "JSXGraph(value=None, code=\"var brd, k;\\nJXG.Options.text.useMathJax = true;\\nbrd = JXG.JSXGraph.initBoard('jxg…"
      ]
     },
     "metadata": {},
     "output_type": "display_data"
    }
   ],
   "source": [
    "%%jsxgraph -i jxgbox -m ./load-mathjax.js -h 400 -w 600\n",
    "var brd, k;\n",
    "JXG.Options.text.useMathJax = true;\n",
    "brd = JXG.JSXGraph.initBoard('jxgbox', {boundingbox:[-5,20,5,-5], axis:true, showNavigation:true, showCopyright:true});\n",
    "k = brd.create('slider',[[-4,-2],[3,-2],[-5,1,5]],{name:'n', snapWidth:1});\n",
    "brd.create('functiongraph', [function(t) {return JXG.Math.pow(Math.E,t*k.Value());}],{strokeColor:'#ff0000'});\n",
    "brd.create('text',[-4,15,\n",
    "  function() { \n",
    "    return '\\\\[f(x) = \\\\R{e}^{' + k.Value() + 'x}\\\\]';\n",
    "  }]);"
   ]
  },
  {
   "cell_type": "code",
   "execution_count": 7,
   "metadata": {},
   "outputs": [
    {
     "data": {
      "application/vnd.jupyter.widget-view+json": {
       "model_id": "18e23c57ae844d2f928c7b5430946c7e",
       "version_major": 2,
       "version_minor": 0
      },
      "text/plain": [
       "JSXGraph(value=None, code='const board = JXG.JSXGraph.initBoard(\"box\", { boundingbox: [-5, 5, 5, -5], axis:tru…"
      ]
     },
     "metadata": {},
     "output_type": "display_data"
    }
   ],
   "source": [
    "_"
   ]
  },
  {
   "cell_type": "code",
   "execution_count": 3,
   "metadata": {},
   "outputs": [],
   "source": [
    "import divewidgets"
   ]
  },
  {
   "cell_type": "code",
   "execution_count": 4,
   "metadata": {},
   "outputs": [
    {
     "data": {
      "application/vnd.jupyter.widget-view+json": {
       "model_id": "a6f3c855b0a64adf8a3b3c4cc73597fa",
       "version_major": 2,
       "version_minor": 0
      },
      "text/plain": [
       "JSXGraph(value=None)"
      ]
     },
     "metadata": {},
     "output_type": "display_data"
    }
   ],
   "source": [
    "w = divewidgets.JSXGraph()\n",
    "w"
   ]
  },
  {
   "cell_type": "code",
   "execution_count": 7,
   "metadata": {},
   "outputs": [],
   "source": [
    "from ipyemail import Email"
   ]
  },
  {
   "cell_type": "code",
   "execution_count": 8,
   "metadata": {},
   "outputs": [
    {
     "data": {
      "application/vnd.jupyter.widget-view+json": {
       "model_id": "0793092d8be945b8b4f0a70fb604afb2",
       "version_major": 2,
       "version_minor": 0
      },
      "text/plain": [
       "Email(value='example@example.com')"
      ]
     },
     "metadata": {},
     "output_type": "display_data"
    }
   ],
   "source": [
    "Email()"
   ]
  },
  {
   "cell_type": "code",
   "execution_count": null,
   "metadata": {},
   "outputs": [],
   "source": []
  }
 ],
 "metadata": {
  "kernelspec": {
   "display_name": "Python 3 (ipykernel)",
   "language": "python",
   "name": "python3"
  },
  "language_info": {
   "codemirror_mode": {
    "name": "ipython",
    "version": 3
   },
   "file_extension": ".py",
   "mimetype": "text/x-python",
   "name": "python",
   "nbconvert_exporter": "python",
   "pygments_lexer": "ipython3",
   "version": "3.10.5"
  },
  "widgets": {
   "application/vnd.jupyter.widget-state+json": {
    "state": {
     "0793092d8be945b8b4f0a70fb604afb2": {
      "model_module": "jupyter-email",
      "model_module_version": "^0.1.0",
      "model_name": "EmailModel",
      "state": {
       "_model_module_version": "^0.1.0",
       "_view_module_version": "^0.1.0",
       "disabled": false,
       "layout": "IPY_MODEL_9ff7d3484b8e4678b9a0b49b560c58d5",
       "value": "example@example.com"
      }
     },
     "5d0b56efdc114eeb832da683310e453f": {
      "model_module": "@jupyter-widgets/base",
      "model_module_version": "1.2.0",
      "model_name": "LayoutModel",
      "state": {}
     },
     "9ff7d3484b8e4678b9a0b49b560c58d5": {
      "model_module": "@jupyter-widgets/base",
      "model_module_version": "1.2.0",
      "model_name": "LayoutModel",
      "state": {}
     },
     "a92000d0287246febef27730adc491ac": {
      "model_module": "jupyter-email",
      "model_module_version": "^0.1.0",
      "model_name": "JSXGraphModel",
      "state": {
       "_model_module_version": "^0.1.0",
       "_view_module_version": "^0.1.0",
       "code": "const board = JXG.JSXGraph.initBoard(\"box\", {      boundingbox: [-5, 5, 5, -5], axis:true });",
       "height": 600,
       "id": "box",
       "layout": "IPY_MODEL_b7678522aca34924b36b4c0c7107c893",
       "mathjax_url": "https://cdn.jsdelivr.net/npm/mathjax@3/es5/tex-chtml.js",
       "width": 600
      }
     },
     "b7678522aca34924b36b4c0c7107c893": {
      "model_module": "@jupyter-widgets/base",
      "model_module_version": "1.2.0",
      "model_name": "LayoutModel",
      "state": {}
     },
     "cdef6c3fd727447294e05a1b86623792": {
      "model_module": "jupyter-email",
      "model_module_version": "^0.1.0",
      "model_name": "JSXGraphModel",
      "state": {
       "_model_module_version": "^0.1.0",
       "_view_module_version": "^0.1.0",
       "code": "var brd, k;\nJXG.Options.text.useMathJax = true;\nbrd = JXG.JSXGraph.initBoard('jxgbox', {boundingbox:[-5,20,5,-5], axis:true, showNavigation:true, showCopyright:true});\nk = brd.create('slider',[[-4,-2],[3,-2],[-5,1,5]],{name:'n', snapWidth:1});\nbrd.create('functiongraph', [function(t) {return JXG.Math.pow(Math.E,t*k.Value());}],{strokeColor:'#ff0000'});\nbrd.create('text',[-4,15,\n  function() { \n    return '\\\\[f(x) = \\\\R{e}^{' + k.Value() + 'x}\\\\]';\n  }]);\n",
       "height": 400,
       "id": "jxgbox",
       "layout": "IPY_MODEL_dd3a261c2e3a48d39f7d2b7a03f758de",
       "mathjax_url": "./load-mathjax.js",
       "width": 600
      }
     },
     "dd3a261c2e3a48d39f7d2b7a03f758de": {
      "model_module": "@jupyter-widgets/base",
      "model_module_version": "1.2.0",
      "model_name": "LayoutModel",
      "state": {}
     },
     "eb609c42861a42babb127e12bb42fff1": {
      "model_module": "jupyter-email",
      "model_module_version": "^0.1.0",
      "model_name": "EmailModel",
      "state": {
       "_model_module_version": "^0.1.0",
       "_view_module_version": "^0.1.0",
       "disabled": false,
       "layout": "IPY_MODEL_5d0b56efdc114eeb832da683310e453f",
       "value": "example@example.com"
      }
     }
    },
    "version_major": 2,
    "version_minor": 0
   }
  }
 },
 "nbformat": 4,
 "nbformat_minor": 4
}

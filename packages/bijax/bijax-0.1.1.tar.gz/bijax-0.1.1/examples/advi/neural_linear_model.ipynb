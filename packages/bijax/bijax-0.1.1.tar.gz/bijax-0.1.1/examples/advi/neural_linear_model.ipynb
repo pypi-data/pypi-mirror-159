{
 "cells": [
  {
   "cell_type": "code",
   "execution_count": 3,
   "id": "32259b5f",
   "metadata": {},
   "outputs": [],
   "source": [
    "import flax.linen as nn\n",
    "from flax.core.frozen_dict import freeze, unfreeze\n",
    "\n",
    "import jax\n",
    "from jax.flatten_util import ravel_pytree\n",
    "import jax.numpy as jnp\n",
    "import optax\n",
    "import tensorflow_probability.substrates.jax as tfp\n",
    "\n",
    "tfd = tfp.distributions\n",
    "tfb = tfp.bijectors\n",
    "\n",
    "import matplotlib.pyplot as plt\n",
    "import seaborn as sns\n",
    "\n",
    "from bijax.advi import ADVI\n",
    "from bijax.core import transform_dist_params\n",
    "from bijax.utils import train_fn, initialize_params\n",
    "\n",
    "from functools import partial\n",
    "import regdata as rd\n",
    "\n",
    "init = 0"
   ]
  },
  {
   "cell_type": "markdown",
   "id": "242e1a46",
   "metadata": {},
   "source": [
    "## Prepare dataset"
   ]
  },
  {
   "cell_type": "code",
   "execution_count": 4,
   "id": "3e215ec6",
   "metadata": {},
   "outputs": [],
   "source": [
    "def load_multinoise(seed):\n",
    "    N = 100\n",
    "    key, subkey = jax.random.split(seed)\n",
    "    X = jax.random.uniform(key, shape=(100, 1), minval=0.0, maxval=0.5).reshape(-1, 1)\n",
    "    X_test = jax.random.uniform(key, shape=(200, 1), minval=-0.5, maxval=1.0).reshape(-1, 1)\n",
    "    def f(seed, x):\n",
    "        epsilons = jax.random.normal(seed, shape=(3,)) * 0.02\n",
    "        return x + 0.3 * jnp.sin(2 * jnp.pi * (x + epsilons[0])) + 0.3 * jnp.sin(4 * jnp.pi * (x + epsilons[1])) + epsilons[2]\n",
    "    target_vmap = jax.vmap(f)\n",
    "    keys = jax.random.split(subkey, X.shape[0])\n",
    "    y = target_vmap(keys, X)# + jax.random.normal(subkey, shape=(X.shape[0], 1))*0.02\n",
    "    idx = jnp.argsort(X.ravel())\n",
    "    return X[idx], y[idx].ravel(), X_test.sort(axis=0)"
   ]
  },
  {
   "cell_type": "code",
   "execution_count": 5,
   "id": "0d7a760c",
   "metadata": {},
   "outputs": [
    {
     "name": "stderr",
     "output_type": "stream",
     "text": [
      "WARNING:absl:No GPU/TPU found, falling back to CPU. (Set TF_CPP_MIN_LOG_LEVEL=0 and rerun for more info.)\n"
     ]
    },
    {
     "data": {
      "text/plain": [
       "((100, 1), (100,))"
      ]
     },
     "execution_count": 5,
     "metadata": {},
     "output_type": "execute_result"
    },
    {
     "data": {
      "image/png": "[encoded data removed]",
      "text/plain": [
       "<Figure size 432x288 with 1 Axes>"
      ]
     },
     "metadata": {
      "needs_background": "light"
     },
     "output_type": "display_data"
    }
   ],
   "source": [
    "seed = jax.random.PRNGKey(init)\n",
    "X, y, X_test = load_multinoise(seed)\n",
    "# X, y, X_test = rd.SineNoisy().get_data()\n",
    "\n",
    "plt.scatter(X, y);\n",
    "X.shape, y.shape"
   ]
  },
  {
   "cell_type": "markdown",
   "id": "69b9b3c5",
   "metadata": {},
   "source": [
    "## Define and initialize NN"
   ]
  },
  {
   "cell_type": "code",
   "execution_count": 6,
   "id": "f0243acd",
   "metadata": {},
   "outputs": [],
   "source": [
    "class MLP(nn.Module):\n",
    "    layers: list\n",
    "    @nn.compact\n",
    "    def __call__(self, x):\n",
    "        for num_features in self.layers:\n",
    "            x = nn.relu(nn.Dense(num_features)(x))\n",
    "        return x\n",
    "\n",
    "class Linear(nn.Module):\n",
    "    @nn.compact\n",
    "    def __call__(self, x):\n",
    "        x = nn.Dense(1)(x)\n",
    "        return x.ravel()\n",
    "\n",
    "mlp = MLP([16])\n",
    "linear = Linear()"
   ]
  },
  {
   "cell_type": "code",
   "execution_count": 7,
   "id": "a6f096db",
   "metadata": {},
   "outputs": [
    {
     "data": {
      "text/plain": [
       "(100,)"
      ]
     },
     "execution_count": 7,
     "metadata": {},
     "output_type": "execute_result"
    }
   ],
   "source": [
    "mlp_out = mlp.apply(mlp.init(seed, X), X)\n",
    "linear_out = linear.apply(linear.init(seed, mlp_out), mlp_out)\n",
    "linear_out.shape"
   ]
  },
  {
   "cell_type": "markdown",
   "id": "8a000c5d",
   "metadata": {},
   "source": [
    "## Initialize NN parameters"
   ]
  },
  {
   "cell_type": "code",
   "execution_count": 8,
   "id": "f7f34d06",
   "metadata": {
    "scrolled": false
   },
   "outputs": [
    {
     "data": {
      "text/plain": [
       "FrozenDict({\n",
       "    params: {\n",
       "        Dense_0: {\n",
       "            kernel: DeviceArray([[-0.34015724],\n",
       "                         [ 0.35990006],\n",
       "                         [-0.29169452],\n",
       "                         [ 0.13812357],\n",
       "                         [-0.06816821],\n",
       "                         [ 0.02852958],\n",
       "                         [-0.00667705],\n",
       "                         [-0.2687957 ],\n",
       "                         [-0.09560655],\n",
       "                         [ 0.4854728 ],\n",
       "                         [ 0.10001474],\n",
       "                         [ 0.5217002 ],\n",
       "                         [-0.03545877],\n",
       "                         [-0.05049552],\n",
       "                         [-0.5000216 ],\n",
       "                         [ 0.0288471 ]], dtype=float32),\n",
       "            bias: DeviceArray([0.], dtype=float32),\n",
       "        },\n",
       "    },\n",
       "})"
      ]
     },
     "execution_count": 8,
     "metadata": {},
     "output_type": "execute_result"
    }
   ],
   "source": [
    "seed = jax.random.PRNGKey(init+1)\n",
    "frozen_params = linear.init(seed, mlp_out)\n",
    "frozen_params"
   ]
  },
  {
   "cell_type": "markdown",
   "id": "5a358106",
   "metadata": {},
   "source": [
    "We need to unfreeze the parameters to use outside of `flax`."
   ]
  },
  {
   "cell_type": "code",
   "execution_count": 9,
   "id": "497698f6",
   "metadata": {},
   "outputs": [
    {
     "data": {
      "text/plain": [
       "{'params': {'Dense_0': {'bias': DeviceArray([0.], dtype=float32),\n",
       "   'kernel': DeviceArray([[-0.34015724],\n",
       "                [ 0.35990006],\n",
       "                [-0.29169452],\n",
       "                [ 0.13812357],\n",
       "                [-0.06816821],\n",
       "                [ 0.02852958],\n",
       "                [-0.00667705],\n",
       "                [-0.2687957 ],\n",
       "                [-0.09560655],\n",
       "                [ 0.4854728 ],\n",
       "                [ 0.10001474],\n",
       "                [ 0.5217002 ],\n",
       "                [-0.03545877],\n",
       "                [-0.05049552],\n",
       "                [-0.5000216 ],\n",
       "                [ 0.0288471 ]], dtype=float32)}}}"
      ]
     },
     "execution_count": 9,
     "metadata": {},
     "output_type": "execute_result"
    }
   ],
   "source": [
    "params = unfreeze(frozen_params)\n",
    "params"
   ]
  },
  {
   "cell_type": "markdown",
   "id": "c441ed1a",
   "metadata": {},
   "source": [
    "## Define $\\mathcal{N}(0, 1)$ prior for all NN parameters"
   ]
  },
  {
   "cell_type": "markdown",
   "id": "10195a87",
   "metadata": {},
   "source": [
    "Note that `tfd.Independent` will convert all batch dimensions to event dimensions so that each prior distribution can return a scalar log prob."
   ]
  },
  {
   "cell_type": "code",
   "execution_count": 10,
   "id": "d4d20bbb",
   "metadata": {},
   "outputs": [
    {
     "data": {
      "text/plain": [
       "{'params': {'Dense_0': {'bias': <tfp.distributions.Independent 'IndependentNormal' batch_shape=[] event_shape=[1] dtype=float32>,\n",
       "   'kernel': <tfp.distributions.Independent 'IndependentNormal' batch_shape=[] event_shape=[16, 1] dtype=float32>}}}"
      ]
     },
     "execution_count": 10,
     "metadata": {},
     "output_type": "execute_result"
    }
   ],
   "source": [
    "prior = jax.tree_map(\n",
    "    lambda param: tfd.Independent(\n",
    "        tfd.Normal(loc=jnp.zeros(param.shape), scale=jnp.ones(param.shape)),\n",
    "        reinterpreted_batch_ndims=len(param.shape),\n",
    "    ),\n",
    "    params,\n",
    ")\n",
    "prior"
   ]
  },
  {
   "cell_type": "markdown",
   "id": "c99dc462",
   "metadata": {},
   "source": [
    "No change of variable is needed for this model, thus we set `tfd.Identity()` bijector."
   ]
  },
  {
   "cell_type": "code",
   "execution_count": 11,
   "id": "a1a7f49c",
   "metadata": {
    "scrolled": true
   },
   "outputs": [
    {
     "data": {
      "text/plain": [
       "{'params': {'Dense_0': {'bias': <tfp.bijectors.Identity 'identity' batch_shape=[] forward_min_event_ndims=0 inverse_min_event_ndims=0 dtype_x=? dtype_y=?>,\n",
       "   'kernel': <tfp.bijectors.Identity 'identity' batch_shape=[] forward_min_event_ndims=0 inverse_min_event_ndims=0 dtype_x=? dtype_y=?>}}}"
      ]
     },
     "execution_count": 11,
     "metadata": {},
     "output_type": "execute_result"
    }
   ],
   "source": [
    "bijector = jax.tree_map(lambda param: tfb.Identity(), params)\n",
    "bijector"
   ]
  },
  {
   "cell_type": "markdown",
   "id": "c969817c",
   "metadata": {},
   "source": [
    "## Define log likelihood function"
   ]
  },
  {
   "cell_type": "code",
   "execution_count": 12,
   "id": "1fd20f0e",
   "metadata": {},
   "outputs": [],
   "source": [
    "def log_likelihood_fn(latent_sample, outputs, inputs, **kwargs):\n",
    "    frozen_params_linear = freeze(latent_sample)\n",
    "    frozen_params_mlp = freeze(kwargs[\"mlp_params\"])\n",
    "    mlp_out = mlp.apply(frozen_params_mlp, inputs['X'])\n",
    "    y_pred = linear.apply(frozen_params_linear, mlp_out)\n",
    "    scale = jnp.exp(kwargs[\"log_noise_scale\"])\n",
    "    return tfd.Normal(loc=y_pred, scale=scale).log_prob(outputs).sum()"
   ]
  },
  {
   "cell_type": "markdown",
   "id": "70ef0c4b",
   "metadata": {},
   "source": [
    "## Initialize the ADVI model"
   ]
  },
  {
   "cell_type": "code",
   "execution_count": 13,
   "id": "c3f3062a",
   "metadata": {},
   "outputs": [],
   "source": [
    "model = ADVI(prior, bijector, log_likelihood_fn, vi_type=\"mean_field\")"
   ]
  },
  {
   "cell_type": "markdown",
   "id": "a38e3ac6",
   "metadata": {},
   "source": [
    "## Initialize the parameters"
   ]
  },
  {
   "cell_type": "code",
   "execution_count": 14,
   "id": "ceb8984a",
   "metadata": {},
   "outputs": [],
   "source": [
    "params = model.init(jax.random.PRNGKey(init + 2))\n",
    "params[\"log_noise_scale\"] = jnp.log(0.001)\n",
    "params[\"mlp_params\"] = unfreeze(mlp.init(jax.random.PRNGKey(init-2), X))"
   ]
  },
  {
   "cell_type": "markdown",
   "id": "851a7d90",
   "metadata": {},
   "source": [
    "## Fit the model"
   ]
  },
  {
   "cell_type": "code",
   "execution_count": 16,
   "id": "a2518956",
   "metadata": {},
   "outputs": [
    {
     "name": "stdout",
     "output_type": "stream",
     "text": [
      "CPU times: user 7.35 s, sys: 1.34 s, total: 8.69 s\n",
      "Wall time: 6.65 s\n"
     ]
    }
   ],
   "source": [
    "%%time\n",
    "tx = optax.adam(learning_rate=0.001)\n",
    "seed1 = jax.random.PRNGKey(init + 4)\n",
    "seed2 = jax.random.PRNGKey(init + 5)\n",
    "\n",
    "loss_fn = partial(model.loss_fn, inputs={\"X\": X}, outputs=y, full_data_size=len(y), n_samples=100)\n",
    "results = train_fn(\n",
    "    loss_fn,\n",
    "    params,\n",
    "    n_epochs=20000,\n",
    "    optimizer=tx,\n",
    "    seed=seed2,\n",
    "    return_args={\"losses\"},\n",
    ")"
   ]
  },
  {
   "cell_type": "code",
   "execution_count": 17,
   "id": "963787d9",
   "metadata": {},
   "outputs": [
    {
     "data": {
      "text/plain": [
       "{'params': {'log_noise_scale': DeviceArray(-3.6541853, dtype=float32),\n",
       "  'mlp_params': {'params': {'Dense_0': {'bias': DeviceArray([ 0.        ,  0.        , -0.15914324,  0.        ,\n",
       "                  -0.34641784, -0.30050346, -0.38571617,  0.        ,\n",
       "                   0.        ,  0.        ,  0.        ,  0.        ,\n",
       "                   0.15448804,  0.        , -0.00669614, -0.30679905],            dtype=float32),\n",
       "     'kernel': DeviceArray([[-0.01561241, -0.7494856 ,  0.95457   , -1.3324082 ,\n",
       "                    0.8921254 ,  0.61364335,  0.7853247 , -0.87009794,\n",
       "                   -1.4571064 , -0.5685537 , -1.7247839 , -1.0837975 ,\n",
       "                    0.99790084, -0.854734  ,  0.01346357,  0.6237599 ]],            dtype=float32)}}},\n",
       "  'posterior': <tfp.distributions.MultivariateNormalDiag 'MultivariateNormalDiag' batch_shape=[] event_shape=[17] dtype=float32>},\n",
       " 'losses': DeviceArray([6.6277651e+08, 8.0289677e+08, 6.4402413e+08, ...,\n",
       "              2.0044613e+03, 2.0669446e+03, 2.4036260e+03], dtype=float32)}"
      ]
     },
     "execution_count": 17,
     "metadata": {},
     "output_type": "execute_result"
    }
   ],
   "source": [
    "results"
   ]
  },
  {
   "cell_type": "markdown",
   "id": "d3526f36",
   "metadata": {},
   "source": [
    "Check the loss"
   ]
  },
  {
   "cell_type": "code",
   "execution_count": 18,
   "id": "c2c9bab3",
   "metadata": {
    "scrolled": true
   },
   "outputs": [
    {
     "data": {
      "image/png": "[encoded data removed]",
      "text/plain": [
       "<Figure size 432x288 with 1 Axes>"
      ]
     },
     "metadata": {
      "needs_background": "light"
     },
     "output_type": "display_data"
    }
   ],
   "source": [
    "plt.plot(results['losses']);"
   ]
  },
  {
   "cell_type": "markdown",
   "id": "37f489c3",
   "metadata": {},
   "source": [
    "## Get the posterior distribution"
   ]
  },
  {
   "cell_type": "code",
   "execution_count": 19,
   "id": "34202144",
   "metadata": {},
   "outputs": [],
   "source": [
    "posterior = model.apply(results[\"params\"])"
   ]
  },
  {
   "cell_type": "markdown",
   "id": "c83dfc04",
   "metadata": {},
   "source": [
    "## Draw samples from the posterior"
   ]
  },
  {
   "cell_type": "markdown",
   "id": "dcc9262b",
   "metadata": {},
   "source": [
    "We now generate the samples from the predictive distribution."
   ]
  },
  {
   "cell_type": "code",
   "execution_count": 20,
   "id": "99ae81cc",
   "metadata": {},
   "outputs": [
    {
     "data": {
      "text/plain": [
       "(1000, 200)"
      ]
     },
     "execution_count": 20,
     "metadata": {},
     "output_type": "execute_result"
    }
   ],
   "source": [
    "seed = jax.random.PRNGKey(init+6)\n",
    "weights = posterior.sample(seed, sample_shape=(1000,))\n",
    "def draw_sample(weights):\n",
    "    mlp_out = mlp.apply(freeze(results[\"params\"][\"mlp_params\"]), X_test)\n",
    "    y_pred = linear.apply(freeze(weights), mlp_out)\n",
    "    return y_pred\n",
    "y_samples = jax.vmap(draw_sample)(weights)\n",
    "y_samples.shape"
   ]
  },
  {
   "cell_type": "markdown",
   "id": "1f63c5c0",
   "metadata": {},
   "source": [
    "## Visualizing the fit"
   ]
  },
  {
   "cell_type": "code",
   "execution_count": 21,
   "id": "b034a6c7",
   "metadata": {
    "scrolled": true
   },
   "outputs": [
    {
     "data": {
      "image/png": "[encoded data removed]",
      "text/plain": [
       "<Figure size 432x288 with 1 Axes>"
      ]
     },
     "metadata": {
      "needs_background": "light"
     },
     "output_type": "display_data"
    }
   ],
   "source": [
    "y_mean = y_samples.mean(axis=0)\n",
    "y_std = y_samples.std(axis=0)\n",
    "\n",
    "noise_scale = jnp.exp(results[\"params\"][\"log_noise_scale\"])\n",
    "plt.scatter(X, y);\n",
    "plt.plot(X_test, y_mean);\n",
    "plt.fill_between(X_test.ravel(), y_mean-2*y_std-noise_scale, y_mean+2*y_std+noise_scale, alpha=0.4);\n",
    "plt.ylim(-2, 2);"
   ]
  }
 ],
 "metadata": {
  "kernelspec": {
   "display_name": "Python [conda env:ajax]",
   "language": "python",
   "name": "conda-env-ajax-py"
  },
  "language_info": {
   "codemirror_mode": {
    "name": "ipython",
    "version": 3
   },
   "file_extension": ".py",
   "mimetype": "text/x-python",
   "name": "python",
   "nbconvert_exporter": "python",
   "pygments_lexer": "ipython3",
   "version": "3.9.12"
  }
 },
 "nbformat": 4,
 "nbformat_minor": 5
}

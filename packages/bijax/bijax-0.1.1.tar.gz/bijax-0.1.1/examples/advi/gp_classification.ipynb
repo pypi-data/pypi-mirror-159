{
 "cells": [
  {
   "cell_type": "code",
   "execution_count": 1,
   "id": "c3a96efc",
   "metadata": {},
   "outputs": [
    {
     "name": "stderr",
     "output_type": "stream",
     "text": [
      "WARNING (aesara.tensor.blas): Using NumPy C-API based implementation for BLAS functions.\n"
     ]
    }
   ],
   "source": [
    "from time import time\n",
    "import jax\n",
    "from jax.flatten_util import ravel_pytree\n",
    "import jax.numpy as jnp\n",
    "import optax\n",
    "import tensorflow_probability.substrates.jax as tfp\n",
    "\n",
    "tfd = tfp.distributions\n",
    "tfb = tfp.bijectors\n",
    "\n",
    "import matplotlib.pyplot as plt\n",
    "import seaborn as sns\n",
    "\n",
    "from bijax import ADVI, MCMC\n",
    "from bijax.utils import train_fn\n",
    "\n",
    "import pymc as pm\n",
    "import numpy as np\n",
    "import arviz as az\n",
    "\n",
    "import numpy as np\n",
    "from sklearn.datasets import make_moons\n",
    "from tinygp import GaussianProcess, kernels"
   ]
  },
  {
   "cell_type": "code",
   "execution_count": 2,
   "id": "ce89d5d3",
   "metadata": {
    "scrolled": true
   },
   "outputs": [
    {
     "data": {
      "image/png": "[encoded data removed]",
      "text/plain": [
       "<Figure size 432x288 with 1 Axes>"
      ]
     },
     "metadata": {
      "needs_background": "light"
     },
     "output_type": "display_data"
    }
   ],
   "source": [
    "x, y = make_moons(n_samples=50, shuffle=True, noise=0.1, random_state=1)\n",
    "plt.scatter(x[: ,0], x[:, 1], c=y);"
   ]
  },
  {
   "cell_type": "markdown",
   "id": "230d0f76",
   "metadata": {},
   "source": [
    "## Model"
   ]
  },
  {
   "cell_type": "code",
   "execution_count": 3,
   "id": "5121e2df",
   "metadata": {},
   "outputs": [
    {
     "name": "stderr",
     "output_type": "stream",
     "text": [
      "WARNING:absl:No GPU/TPU found, falling back to CPU. (Set TF_CPP_MIN_LOG_LEVEL=0 and rerun for more info.)\n"
     ]
    }
   ],
   "source": [
    "kernel = kernels.ExpSquared()\n",
    "gp = GaussianProcess(kernel, x)"
   ]
  },
  {
   "cell_type": "code",
   "execution_count": 4,
   "id": "b2ebf76c",
   "metadata": {},
   "outputs": [],
   "source": [
    "def get_gp_sample(latent_sample, inputs):\n",
    "    scale = jnp.exp(latent_sample['scale'])\n",
    "    scaled_inputs = inputs/scale\n",
    "    gp_kernel = jnp.exp(latent_sample['var']) * kernels.ExpSquared(scale=1.0)\n",
    "    cov = gp_kernel(scaled_inputs, scaled_inputs)\n",
    "    gp = GaussianProcess(gp_kernel, scaled_inputs)\n",
    "    chol = jnp.linalg.cholesky(gp.covariance)\n",
    "    f_sample = latent_sample['mean'] + chol@latent_sample['epsilon']\n",
    "    return f_sample, gp\n",
    "\n",
    "def log_likelihood_fn(latent_sample, outputs, inputs, **kwargs):\n",
    "    f_sample, gp = get_gp_sample(latent_sample, inputs)\n",
    "    likelihood = tfd.Bernoulli(logits=f_sample)\n",
    "    return likelihood.log_prob(outputs).sum()\n",
    "\n",
    "def get_model1():\n",
    "    prior = {'scale': tfd.LogNormal([0.0, 0.0], [1.0, 1.0]), \n",
    "             'var': tfd.LogNormal(0.0, 1.0), \n",
    "             'mean': tfd.Normal(0.0, 1.0), \n",
    "             'epsilon':tfd.MultivariateNormalDiag(loc=jnp.zeros(len(y)), scale_diag=jnp.ones(len(y)))}\n",
    "    bijector = {'scale': tfb.Exp(), 'var': tfb.Exp()}\n",
    "    return prior, bijector\n",
    "\n",
    "prior, bijector = get_model1()"
   ]
  },
  {
   "cell_type": "markdown",
   "id": "482dd304",
   "metadata": {},
   "source": [
    "## MCMC"
   ]
  },
  {
   "cell_type": "code",
   "execution_count": null,
   "id": "89332e69",
   "metadata": {},
   "outputs": [],
   "source": [
    "mcmc = MCMC(prior, bijector, log_likelihood_fn)\n",
    "kernel = mcmc.get_nuts_kernel(outputs=y, inputs=x, step_size=1e-3)\n",
    "\n",
    "seed = jax.random.PRNGKey(9)\n",
    "init_params = mcmc.init(seed)\n",
    "init_params\n",
    "seed = jax.random.PRNGKey(10)\n",
    "init = time()\n",
    "n_burnin = 3000\n",
    "n_samples = 5000\n",
    "samples, log_probs = mcmc.sample(seed=seed, init_params_pytree=init_params, kernel=kernel, n_burnin=n_burnin, n_samples=n_samples)\n",
    "print((time() - init)/60, 'minutes')"
   ]
  },
  {
   "cell_type": "code",
   "execution_count": null,
   "id": "7f2eed72",
   "metadata": {},
   "outputs": [],
   "source": [
    "eps = 1\n",
    "n = 100\n",
    "x0, x1 = np.meshgrid(np.linspace(x[:, 0].min()-eps, x[:, 0].max()+eps, n),\n",
    "                         np.linspace(x[:, 1].min()-eps, x[:, 1].max()+eps, n))\n",
    "\n",
    "x_test = jnp.array([(xi, xj) for xi, xj in zip(x0.ravel(), x1.ravel())])\n",
    "\n",
    "def get_predictive_samples(seed, sample):\n",
    "    f_sample, gp = get_gp_sample(latent_sample=sample, inputs=x)\n",
    "    f_loc = gp.condition(f_sample, x_test).gp.loc\n",
    "#     return jax.nn.sigmoid(f_loc)\n",
    "    likelihood = tfd.Bernoulli(logits=f_loc)\n",
    "    return likelihood.sample(seed=seed)\n",
    "\n",
    "seeds = jax.random.split(seed, num=n_samples)\n",
    "init = time()\n",
    "y_pred = jax.jit(jax.vmap(get_predictive_samples))(seeds, samples)\n",
    "print((time() - init)/60, 'minutes')\n",
    "y_pred_mean = y_pred.mean(axis=0).reshape(n, n)\n",
    "y_pred_std = y_pred.std(axis=0).reshape(n, n)\n",
    "y_pred_mean.shape, y_pred_std.shape"
   ]
  },
  {
   "cell_type": "code",
   "execution_count": null,
   "id": "6cce44bb",
   "metadata": {},
   "outputs": [],
   "source": [
    "def plot_data(x, y, **kwargs):\n",
    "    colors = np.array(['blue', 'red'])\n",
    "    plt.scatter(x[:, 0], x[:, 1], c=colors[y], **kwargs)\n",
    "\n",
    "def plot_uq(sample_mean, sample_std, figsize=np.array([8, 3]), grid_eps=0.5):\n",
    "    plt.figure(figsize=figsize)\n",
    "    plt.subplot(1, 2, 1)\n",
    "    plt.contourf(x0, x1, sample_mean, 101,\n",
    "                cmap=plt.get_cmap('bwr'), vmin=0, vmax=1)\n",
    "    plt.title(f'Posterior Mean function')\n",
    "    plt.xticks([]); plt.yticks([])\n",
    "    plt.colorbar()\n",
    "    plot_data(x, y, edgecolor=\"orange\")\n",
    "\n",
    "    plt.subplot(1, 2, 2)\n",
    "    plt.contourf(x0, x1, sample_std, 101,\n",
    "                cmap=plt.get_cmap('Oranges'), vmin=0)\n",
    "    plt.title(f'Posterior SD function')\n",
    "    plt.xticks([]); plt.yticks([])\n",
    "    plt.colorbar()\n",
    "    plot_data(x, y, edgecolor=\"black\")\n",
    "    plt.tight_layout()"
   ]
  },
  {
   "cell_type": "code",
   "execution_count": null,
   "id": "a6648413",
   "metadata": {},
   "outputs": [],
   "source": [
    "plot_uq(y_pred_mean, y_pred_std);"
   ]
  },
  {
   "cell_type": "markdown",
   "id": "e951257a",
   "metadata": {},
   "source": [
    "## ADVI"
   ]
  },
  {
   "cell_type": "code",
   "execution_count": null,
   "id": "51b980bd",
   "metadata": {},
   "outputs": [],
   "source": [
    "advi = ADVI(prior, bijector, log_likelihood_fn, vi_type='mean_field')"
   ]
  },
  {
   "cell_type": "code",
   "execution_count": null,
   "id": "fa46abe9",
   "metadata": {},
   "outputs": [],
   "source": [
    "seed = jax.random.PRNGKey(0)\n",
    "optimizer = optax.adam(learning_rate=0.0001)\n",
    "params = advi.init(seed=seed)\n",
    "seed = jax.random.PRNGKey(1)\n",
    "\n",
    "# print(params['posterior'].mean(), params['posterior'].variance())\n",
    "\n",
    "loss_fn = jax.tree_util.Partial(advi.loss_fn, outputs=y, inputs=x, full_data_size=len(y))\n",
    "log_likelihood_fn(params['posterior'].sample(seed=seed), y, x)\n",
    "# print(params)\n",
    "# loss_fn(params, seed=seed)\n",
    "# result = train_fn(loss_fn, params, optimizer, n_epochs=1000, seed=seed, return_args=['losses'])\n",
    "# plt.plot(result['losses']);"
   ]
  },
  {
   "cell_type": "code",
   "execution_count": null,
   "id": "b0aa079e",
   "metadata": {},
   "outputs": [],
   "source": [
    "advi_posterior = advi.apply(result['params'])"
   ]
  },
  {
   "cell_type": "code",
   "execution_count": null,
   "id": "f9da1ae0",
   "metadata": {},
   "outputs": [],
   "source": [
    "import lab.jax as B\n",
    "import matplotlib.pyplot as plt\n",
    "from varz.jax import Vars, minimise_l_bfgs_b, parametrised, Positive\n",
    "from wbml.plot import tweak\n",
    "\n",
    "from stheno.jax import EQ, GP\n",
    "\n",
    "# Increase regularisation because PyTorch defaults to 32-bit floats.\n",
    "B.epsilon = 1e-6\n",
    "\n",
    "# Define points to predict at.\n",
    "x = np.linspace(0, 2, 100)\n",
    "x_obs = np.linspace(0, 2, 50)\n",
    "\n",
    "# Sample a true, underlying function and observations with observation noise `0.05`.\n",
    "f_true = np.sin(5 * x)\n",
    "y_obs = np.sin(5 * x_obs) + 0.05**0.5 * np.random.normal((50, ))\n",
    "\n",
    "\n",
    "def model(vs):\n",
    "    \"\"\"Construct a model with learnable parameters.\"\"\"\n",
    "    p = vs.struct  # Varz handles positivity (and other) constraints.\n",
    "    kernel = p.variance.positive() * EQ().stretch(p.scale.positive())\n",
    "    return GP(kernel), p.noise.positive()\n",
    "\n",
    "\n",
    "@parametrised\n",
    "def model_alternative(vs, scale: Positive, variance: Positive, noise: Positive):\n",
    "    \"\"\"Equivalent to :func:`model`, but with `@parametrised`.\"\"\"\n",
    "    kernel = variance * EQ().stretch(scale)\n",
    "    return GP(kernel), noise\n",
    "\n",
    "\n",
    "vs = Vars(jnp.float32)\n",
    "f, noise = model(vs)\n",
    "\n",
    "# Condition on observations and make predictions before optimisation.\n",
    "f_post = f | (f(x_obs, noise), y_obs)\n",
    "prior_before = f, noise\n",
    "pred_before = f_post(x, noise).marginal_credible_bounds()\n",
    "\n",
    "\n",
    "def objective(x, y):\n",
    "    f, noise = model(vs)\n",
    "    evidence = f(x, noise).logpdf(y)\n",
    "    return -evidence"
   ]
  },
  {
   "cell_type": "code",
   "execution_count": null,
   "id": "850cd814",
   "metadata": {
    "scrolled": false
   },
   "outputs": [],
   "source": [
    "objective(x_obs, y_obs)"
   ]
  }
 ],
 "metadata": {
  "kernelspec": {
   "display_name": "Python [conda env:ajax]",
   "language": "python",
   "name": "conda-env-ajax-py"
  },
  "language_info": {
   "codemirror_mode": {
    "name": "ipython",
    "version": 3
   },
   "file_extension": ".py",
   "mimetype": "text/x-python",
   "name": "python",
   "nbconvert_exporter": "python",
   "pygments_lexer": "ipython3",
   "version": "3.9.12"
  }
 },
 "nbformat": 4,
 "nbformat_minor": 5
}

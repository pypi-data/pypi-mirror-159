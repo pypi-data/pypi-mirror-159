{
 "cells": [
  {
   "cell_type": "markdown",
   "metadata": {},
   "source": [
    "# Motif Enrichment Analysis\n",
    "\n",
    "After motif scan, we can run motif enrichment analysis by chosing two list of regions, running Fisher's Exact test between the two sets for each motif-cluster (or motif) and perform multiple tests correction"
   ]
  },
  {
   "cell_type": "markdown",
   "metadata": {},
   "source": [
    "## Import"
   ]
  },
  {
   "cell_type": "code",
   "execution_count": 1,
   "metadata": {
    "ExecuteTime": {
     "end_time": "2022-01-13T21:01:16.510765Z",
     "start_time": "2022-01-13T21:01:14.810403Z"
    }
   },
   "outputs": [],
   "source": [
    "import numpy as np\n",
    "import pandas as pd\n",
    "import xarray as xr\n",
    "import seaborn as sns\n",
    "import matplotlib.pyplot as plt\n",
    "from scipy.stats import fisher_exact\n",
    "from statsmodels.stats.multitest import multipletests\n",
    "from ALLCools.mcds import RegionDS"
   ]
  },
  {
   "cell_type": "markdown",
   "metadata": {},
   "source": [
    "## Load"
   ]
  },
  {
   "cell_type": "code",
   "execution_count": 2,
   "metadata": {
    "ExecuteTime": {
     "end_time": "2022-01-13T21:01:22.055198Z",
     "start_time": "2022-01-13T21:01:21.944985Z"
    }
   },
   "outputs": [
    {
     "name": "stdout",
     "output_type": "stream",
     "text": [
      "Using dmr as region_dim\n"
     ]
    }
   ],
   "source": [
    "dmr = RegionDS.open('test_HIP')"
   ]
  },
  {
   "cell_type": "markdown",
   "metadata": {},
   "source": [
    "## Motif Enrichment Between Two Sets of Regions"
   ]
  },
  {
   "cell_type": "code",
   "execution_count": 3,
   "metadata": {
    "ExecuteTime": {
     "end_time": "2022-01-13T21:01:22.947799Z",
     "start_time": "2022-01-13T21:01:22.945759Z"
    }
   },
   "outputs": [],
   "source": [
    "region_dim = 'dmr'\n",
    "region_state_da = 'dmr_state'\n",
    "feature_dim = 'sample'"
   ]
  },
  {
   "cell_type": "code",
   "execution_count": 4,
   "metadata": {
    "ExecuteTime": {
     "end_time": "2022-01-13T21:01:23.484621Z",
     "start_time": "2022-01-13T21:01:23.480988Z"
    }
   },
   "outputs": [],
   "source": [
    "# this is a helper function to select hypo- and hyper-DMR for one sample\n",
    "hypo_dmr, hyper_dmr = dmr.get_hypo_hyper_index('CA1')"
   ]
  },
  {
   "cell_type": "code",
   "execution_count": 5,
   "metadata": {
    "ExecuteTime": {
     "end_time": "2022-01-13T21:01:24.274097Z",
     "start_time": "2022-01-13T21:01:24.030905Z"
    }
   },
   "outputs": [
    {
     "data": {
      "text/html": [
       "<div>\n",
       "<style scoped>\n",
       "    .dataframe tbody tr th:only-of-type {\n",
       "        vertical-align: middle;\n",
       "    }\n",
       "\n",
       "    .dataframe tbody tr th {\n",
       "        vertical-align: top;\n",
       "    }\n",
       "\n",
       "    .dataframe thead th {\n",
       "        text-align: right;\n",
       "    }\n",
       "</style>\n",
       "<table border=\"1\" class=\"dataframe\">\n",
       "  <thead>\n",
       "    <tr style=\"text-align: right;\">\n",
       "      <th></th>\n",
       "      <th>oddsratio</th>\n",
       "      <th>p</th>\n",
       "      <th>q</th>\n",
       "      <th>log2OR</th>\n",
       "      <th>-lgq</th>\n",
       "    </tr>\n",
       "    <tr>\n",
       "      <th>motif-cluster</th>\n",
       "      <th></th>\n",
       "      <th></th>\n",
       "      <th></th>\n",
       "      <th></th>\n",
       "      <th></th>\n",
       "    </tr>\n",
       "  </thead>\n",
       "  <tbody>\n",
       "    <tr>\n",
       "      <th>c1</th>\n",
       "      <td>0.285714</td>\n",
       "      <td>0.413636</td>\n",
       "      <td>0.413636</td>\n",
       "      <td>-1.807355</td>\n",
       "      <td>0.383381</td>\n",
       "    </tr>\n",
       "    <tr>\n",
       "      <th>c10</th>\n",
       "      <td>0.285714</td>\n",
       "      <td>0.413636</td>\n",
       "      <td>0.413636</td>\n",
       "      <td>-1.807355</td>\n",
       "      <td>0.383381</td>\n",
       "    </tr>\n",
       "    <tr>\n",
       "      <th>c100</th>\n",
       "      <td>0.285714</td>\n",
       "      <td>0.413636</td>\n",
       "      <td>0.413636</td>\n",
       "      <td>-1.807355</td>\n",
       "      <td>0.383381</td>\n",
       "    </tr>\n",
       "    <tr>\n",
       "      <th>c101</th>\n",
       "      <td>0.285714</td>\n",
       "      <td>0.413636</td>\n",
       "      <td>0.413636</td>\n",
       "      <td>-1.807355</td>\n",
       "      <td>0.383381</td>\n",
       "    </tr>\n",
       "    <tr>\n",
       "      <th>c102</th>\n",
       "      <td>0.285714</td>\n",
       "      <td>0.413636</td>\n",
       "      <td>0.413636</td>\n",
       "      <td>-1.807355</td>\n",
       "      <td>0.383381</td>\n",
       "    </tr>\n",
       "  </tbody>\n",
       "</table>\n",
       "</div>"
      ],
      "text/plain": [
       "               oddsratio         p         q    log2OR      -lgq\n",
       "motif-cluster                                                   \n",
       "c1              0.285714  0.413636  0.413636 -1.807355  0.383381\n",
       "c10             0.285714  0.413636  0.413636 -1.807355  0.383381\n",
       "c100            0.285714  0.413636  0.413636 -1.807355  0.383381\n",
       "c101            0.285714  0.413636  0.413636 -1.807355  0.383381\n",
       "c102            0.285714  0.413636  0.413636 -1.807355  0.383381"
      ]
     },
     "execution_count": 5,
     "metadata": {},
     "output_type": "execute_result"
    }
   ],
   "source": [
    "result = dmr.motif_enrichment(true_regions=hypo_dmr,\n",
    "                              background_regions=hyper_dmr,\n",
    "                              region_dim=None,\n",
    "                              motif_dim='motif-cluster',\n",
    "                              motif_da=None,\n",
    "                              alternative='two-sided')\n",
    "result.head()"
   ]
  },
  {
   "cell_type": "markdown",
   "metadata": {},
   "source": [
    "### Motif Enrichment For Each Sample\n",
    "Alternatively, you can use `RegionDS.sample_dmr_motif_enrichment()` to achieve the same purpose."
   ]
  },
  {
   "cell_type": "code",
   "execution_count": 6,
   "metadata": {
    "ExecuteTime": {
     "end_time": "2022-01-13T21:01:25.531530Z",
     "start_time": "2022-01-13T21:01:25.292538Z"
    }
   },
   "outputs": [
    {
     "data": {
      "text/html": [
       "<div>\n",
       "<style scoped>\n",
       "    .dataframe tbody tr th:only-of-type {\n",
       "        vertical-align: middle;\n",
       "    }\n",
       "\n",
       "    .dataframe tbody tr th {\n",
       "        vertical-align: top;\n",
       "    }\n",
       "\n",
       "    .dataframe thead th {\n",
       "        text-align: right;\n",
       "    }\n",
       "</style>\n",
       "<table border=\"1\" class=\"dataframe\">\n",
       "  <thead>\n",
       "    <tr style=\"text-align: right;\">\n",
       "      <th></th>\n",
       "      <th>oddsratio</th>\n",
       "      <th>p</th>\n",
       "      <th>q</th>\n",
       "      <th>log2OR</th>\n",
       "      <th>-lgq</th>\n",
       "    </tr>\n",
       "    <tr>\n",
       "      <th>motif-cluster</th>\n",
       "      <th></th>\n",
       "      <th></th>\n",
       "      <th></th>\n",
       "      <th></th>\n",
       "      <th></th>\n",
       "    </tr>\n",
       "  </thead>\n",
       "  <tbody>\n",
       "    <tr>\n",
       "      <th>c1</th>\n",
       "      <td>0.285714</td>\n",
       "      <td>0.413636</td>\n",
       "      <td>0.413636</td>\n",
       "      <td>-1.807355</td>\n",
       "      <td>0.383381</td>\n",
       "    </tr>\n",
       "    <tr>\n",
       "      <th>c10</th>\n",
       "      <td>0.285714</td>\n",
       "      <td>0.413636</td>\n",
       "      <td>0.413636</td>\n",
       "      <td>-1.807355</td>\n",
       "      <td>0.383381</td>\n",
       "    </tr>\n",
       "    <tr>\n",
       "      <th>c100</th>\n",
       "      <td>0.285714</td>\n",
       "      <td>0.413636</td>\n",
       "      <td>0.413636</td>\n",
       "      <td>-1.807355</td>\n",
       "      <td>0.383381</td>\n",
       "    </tr>\n",
       "    <tr>\n",
       "      <th>c101</th>\n",
       "      <td>0.285714</td>\n",
       "      <td>0.413636</td>\n",
       "      <td>0.413636</td>\n",
       "      <td>-1.807355</td>\n",
       "      <td>0.383381</td>\n",
       "    </tr>\n",
       "    <tr>\n",
       "      <th>c102</th>\n",
       "      <td>0.285714</td>\n",
       "      <td>0.413636</td>\n",
       "      <td>0.413636</td>\n",
       "      <td>-1.807355</td>\n",
       "      <td>0.383381</td>\n",
       "    </tr>\n",
       "  </tbody>\n",
       "</table>\n",
       "</div>"
      ],
      "text/plain": [
       "               oddsratio         p         q    log2OR      -lgq\n",
       "motif-cluster                                                   \n",
       "c1              0.285714  0.413636  0.413636 -1.807355  0.383381\n",
       "c10             0.285714  0.413636  0.413636 -1.807355  0.383381\n",
       "c100            0.285714  0.413636  0.413636 -1.807355  0.383381\n",
       "c101            0.285714  0.413636  0.413636 -1.807355  0.383381\n",
       "c102            0.285714  0.413636  0.413636 -1.807355  0.383381"
      ]
     },
     "execution_count": 6,
     "metadata": {},
     "output_type": "execute_result"
    }
   ],
   "source": [
    "result = dmr.sample_dmr_motif_enrichment('CA1')\n",
    "result.head()"
   ]
  },
  {
   "cell_type": "markdown",
   "metadata": {},
   "source": [
    "### Motif Enrichment Between Sample Pairs\n",
    "You can also compare hypo-DMRs (non-overlapping) from two different samples. "
   ]
  },
  {
   "cell_type": "code",
   "execution_count": 7,
   "metadata": {
    "ExecuteTime": {
     "end_time": "2022-01-13T21:01:26.571564Z",
     "start_time": "2022-01-13T21:01:26.336881Z"
    }
   },
   "outputs": [
    {
     "data": {
      "text/html": [
       "<div>\n",
       "<style scoped>\n",
       "    .dataframe tbody tr th:only-of-type {\n",
       "        vertical-align: middle;\n",
       "    }\n",
       "\n",
       "    .dataframe tbody tr th {\n",
       "        vertical-align: top;\n",
       "    }\n",
       "\n",
       "    .dataframe thead th {\n",
       "        text-align: right;\n",
       "    }\n",
       "</style>\n",
       "<table border=\"1\" class=\"dataframe\">\n",
       "  <thead>\n",
       "    <tr style=\"text-align: right;\">\n",
       "      <th></th>\n",
       "      <th>oddsratio</th>\n",
       "      <th>p</th>\n",
       "      <th>q</th>\n",
       "      <th>log2OR</th>\n",
       "      <th>-lgq</th>\n",
       "    </tr>\n",
       "    <tr>\n",
       "      <th>motif-cluster</th>\n",
       "      <th></th>\n",
       "      <th></th>\n",
       "      <th></th>\n",
       "      <th></th>\n",
       "      <th></th>\n",
       "    </tr>\n",
       "  </thead>\n",
       "  <tbody>\n",
       "    <tr>\n",
       "      <th>c1</th>\n",
       "      <td>0.309524</td>\n",
       "      <td>0.434211</td>\n",
       "      <td>0.434211</td>\n",
       "      <td>-1.691878</td>\n",
       "      <td>0.3623</td>\n",
       "    </tr>\n",
       "    <tr>\n",
       "      <th>c10</th>\n",
       "      <td>0.309524</td>\n",
       "      <td>0.434211</td>\n",
       "      <td>0.434211</td>\n",
       "      <td>-1.691878</td>\n",
       "      <td>0.3623</td>\n",
       "    </tr>\n",
       "    <tr>\n",
       "      <th>c100</th>\n",
       "      <td>0.309524</td>\n",
       "      <td>0.434211</td>\n",
       "      <td>0.434211</td>\n",
       "      <td>-1.691878</td>\n",
       "      <td>0.3623</td>\n",
       "    </tr>\n",
       "    <tr>\n",
       "      <th>c101</th>\n",
       "      <td>0.309524</td>\n",
       "      <td>0.434211</td>\n",
       "      <td>0.434211</td>\n",
       "      <td>-1.691878</td>\n",
       "      <td>0.3623</td>\n",
       "    </tr>\n",
       "    <tr>\n",
       "      <th>c102</th>\n",
       "      <td>0.309524</td>\n",
       "      <td>0.434211</td>\n",
       "      <td>0.434211</td>\n",
       "      <td>-1.691878</td>\n",
       "      <td>0.3623</td>\n",
       "    </tr>\n",
       "  </tbody>\n",
       "</table>\n",
       "</div>"
      ],
      "text/plain": [
       "               oddsratio         p         q    log2OR    -lgq\n",
       "motif-cluster                                                 \n",
       "c1              0.309524  0.434211  0.434211 -1.691878  0.3623\n",
       "c10             0.309524  0.434211  0.434211 -1.691878  0.3623\n",
       "c100            0.309524  0.434211  0.434211 -1.691878  0.3623\n",
       "c101            0.309524  0.434211  0.434211 -1.691878  0.3623\n",
       "c102            0.309524  0.434211  0.434211 -1.691878  0.3623"
      ]
     },
     "execution_count": 7,
     "metadata": {},
     "output_type": "execute_result"
    }
   ],
   "source": [
    "a_not_b, a_and_b, b_not_a = dmr.get_pairwise_differential_index('CA1', 'ASC', dmr_type='hypo')\n",
    "\n",
    "result = dmr.motif_enrichment(true_regions=a_not_b,\n",
    "                              background_regions=b_not_a,\n",
    "                              region_dim=None,\n",
    "                              motif_dim='motif-cluster',\n",
    "                              motif_da=None,\n",
    "                              alternative='two-sided')\n",
    "result.head()"
   ]
  },
  {
   "cell_type": "code",
   "execution_count": 8,
   "metadata": {
    "ExecuteTime": {
     "end_time": "2022-01-13T21:01:27.327136Z",
     "start_time": "2022-01-13T21:01:27.096109Z"
    }
   },
   "outputs": [
    {
     "data": {
      "text/html": [
       "<div>\n",
       "<style scoped>\n",
       "    .dataframe tbody tr th:only-of-type {\n",
       "        vertical-align: middle;\n",
       "    }\n",
       "\n",
       "    .dataframe tbody tr th {\n",
       "        vertical-align: top;\n",
       "    }\n",
       "\n",
       "    .dataframe thead th {\n",
       "        text-align: right;\n",
       "    }\n",
       "</style>\n",
       "<table border=\"1\" class=\"dataframe\">\n",
       "  <thead>\n",
       "    <tr style=\"text-align: right;\">\n",
       "      <th></th>\n",
       "      <th>oddsratio</th>\n",
       "      <th>p</th>\n",
       "      <th>q</th>\n",
       "      <th>log2OR</th>\n",
       "      <th>-lgq</th>\n",
       "    </tr>\n",
       "    <tr>\n",
       "      <th>motif-cluster</th>\n",
       "      <th></th>\n",
       "      <th></th>\n",
       "      <th></th>\n",
       "      <th></th>\n",
       "      <th></th>\n",
       "    </tr>\n",
       "  </thead>\n",
       "  <tbody>\n",
       "    <tr>\n",
       "      <th>c1</th>\n",
       "      <td>0.309524</td>\n",
       "      <td>0.434211</td>\n",
       "      <td>0.434211</td>\n",
       "      <td>-1.691878</td>\n",
       "      <td>0.3623</td>\n",
       "    </tr>\n",
       "    <tr>\n",
       "      <th>c10</th>\n",
       "      <td>0.309524</td>\n",
       "      <td>0.434211</td>\n",
       "      <td>0.434211</td>\n",
       "      <td>-1.691878</td>\n",
       "      <td>0.3623</td>\n",
       "    </tr>\n",
       "    <tr>\n",
       "      <th>c100</th>\n",
       "      <td>0.309524</td>\n",
       "      <td>0.434211</td>\n",
       "      <td>0.434211</td>\n",
       "      <td>-1.691878</td>\n",
       "      <td>0.3623</td>\n",
       "    </tr>\n",
       "    <tr>\n",
       "      <th>c101</th>\n",
       "      <td>0.309524</td>\n",
       "      <td>0.434211</td>\n",
       "      <td>0.434211</td>\n",
       "      <td>-1.691878</td>\n",
       "      <td>0.3623</td>\n",
       "    </tr>\n",
       "    <tr>\n",
       "      <th>c102</th>\n",
       "      <td>0.309524</td>\n",
       "      <td>0.434211</td>\n",
       "      <td>0.434211</td>\n",
       "      <td>-1.691878</td>\n",
       "      <td>0.3623</td>\n",
       "    </tr>\n",
       "  </tbody>\n",
       "</table>\n",
       "</div>"
      ],
      "text/plain": [
       "               oddsratio         p         q    log2OR    -lgq\n",
       "motif-cluster                                                 \n",
       "c1              0.309524  0.434211  0.434211 -1.691878  0.3623\n",
       "c10             0.309524  0.434211  0.434211 -1.691878  0.3623\n",
       "c100            0.309524  0.434211  0.434211 -1.691878  0.3623\n",
       "c101            0.309524  0.434211  0.434211 -1.691878  0.3623\n",
       "c102            0.309524  0.434211  0.434211 -1.691878  0.3623"
      ]
     },
     "execution_count": 8,
     "metadata": {},
     "output_type": "execute_result"
    }
   ],
   "source": [
    "# this function are the same as above\n",
    "result = dmr.pairwise_dmr_motif_enrichment('CA1', 'ASC', dmr_type='hypo')\n",
    "result.head()"
   ]
  },
  {
   "cell_type": "code",
   "execution_count": null,
   "metadata": {},
   "outputs": [],
   "source": []
  },
  {
   "cell_type": "code",
   "execution_count": null,
   "metadata": {},
   "outputs": [],
   "source": []
  },
  {
   "cell_type": "code",
   "execution_count": null,
   "metadata": {},
   "outputs": [],
   "source": []
  },
  {
   "cell_type": "code",
   "execution_count": null,
   "metadata": {},
   "outputs": [],
   "source": []
  }
 ],
 "metadata": {
  "hide_input": false,
  "kernelspec": {
   "display_name": "Python 3 (ipykernel)",
   "language": "python",
   "name": "python3"
  },
  "language_info": {
   "codemirror_mode": {
    "name": "ipython",
    "version": 3
   },
   "file_extension": ".py",
   "mimetype": "text/x-python",
   "name": "python",
   "nbconvert_exporter": "python",
   "pygments_lexer": "ipython3",
   "version": "3.8.12"
  },
  "toc": {
   "base_numbering": 1,
   "nav_menu": {},
   "number_sections": true,
   "sideBar": true,
   "skip_h1_title": true,
   "title_cell": "Table of Contents",
   "title_sidebar": "Contents",
   "toc_cell": false,
   "toc_position": {},
   "toc_section_display": true,
   "toc_window_display": true
  }
 },
 "nbformat": 4,
 "nbformat_minor": 4
}

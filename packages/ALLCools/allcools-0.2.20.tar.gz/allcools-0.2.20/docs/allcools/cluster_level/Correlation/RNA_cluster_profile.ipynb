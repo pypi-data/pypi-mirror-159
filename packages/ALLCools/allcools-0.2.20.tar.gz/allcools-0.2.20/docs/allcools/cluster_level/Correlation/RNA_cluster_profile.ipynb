{
 "cells": [
  {
   "cell_type": "markdown",
   "id": "20846f75",
   "metadata": {},
   "source": [
    "# Prepare Cluster-by-Gene RNA Profile"
   ]
  },
  {
   "cell_type": "code",
   "execution_count": 1,
   "id": "6bb057fc",
   "metadata": {
    "ExecuteTime": {
     "end_time": "2022-01-04T04:41:03.550069Z",
     "start_time": "2022-01-04T04:40:51.890530Z"
    }
   },
   "outputs": [],
   "source": [
    "import pandas as pd\n",
    "import xarray as xr\n",
    "import anndata\n",
    "from ALLCools.clustering import cluster_enriched_features"
   ]
  },
  {
   "cell_type": "code",
   "execution_count": 3,
   "id": "a040bcac",
   "metadata": {
    "ExecuteTime": {
     "end_time": "2022-01-04T04:41:20.969742Z",
     "start_time": "2022-01-04T04:41:14.628300Z"
    }
   },
   "outputs": [],
   "source": [
    "adata = anndata.read_h5ad('/home/hanliu/project/allcools_doc/data/Brain/10X/HIP.10X.ABI.UMI.h5ad')"
   ]
  },
  {
   "cell_type": "markdown",
   "id": "a98ddba6",
   "metadata": {},
   "source": [
    "## Get Cluster Level Profiles"
   ]
  },
  {
   "cell_type": "code",
   "execution_count": 7,
   "id": "66a316a5",
   "metadata": {
    "ExecuteTime": {
     "end_time": "2022-01-04T04:41:33.299759Z",
     "start_time": "2022-01-04T04:41:33.294037Z"
    }
   },
   "outputs": [],
   "source": [
    "cluster_map = {\n",
    "    'Astro': 'ASC',\n",
    "    'CA1-ProS': 'CA1',\n",
    "    'CA2': 'CA23',\n",
    "    'CA3': 'CA23',\n",
    "    'DG': 'DG',\n",
    "    'Endo': 'NonN',\n",
    "    'Lamp5': 'CGE-VipLamp5',\n",
    "    'Micro-PVM': 'MGC',\n",
    "    'Oligo': 'ODC',\n",
    "    'Pvalb': 'MGE-PvSst',\n",
    "    'SMC-Peri': 'NonN',\n",
    "    'Sncg': 'CGE-VipLamp5',\n",
    "    'Sst': 'MGE-PvSst',\n",
    "    'Sst Chodl': 'MGE-PvSst',\n",
    "    'VLMC': 'NonN',\n",
    "    'Vip': 'CGE-VipLamp5'\n",
    "}\n",
    "adata.obs['integration_group'] = adata.obs['MajorType'].map(cluster_map)"
   ]
  },
  {
   "cell_type": "code",
   "execution_count": 9,
   "id": "5bb21d50",
   "metadata": {
    "ExecuteTime": {
     "end_time": "2022-01-04T04:41:50.165297Z",
     "start_time": "2022-01-04T04:41:48.332720Z"
    }
   },
   "outputs": [],
   "source": [
    "data = adata.to_df()\n",
    "cluster_profile = data.groupby(adata.obs['integration_group']).sum()"
   ]
  },
  {
   "cell_type": "code",
   "execution_count": 28,
   "id": "c692cc7e",
   "metadata": {
    "ExecuteTime": {
     "end_time": "2022-01-04T04:50:54.989502Z",
     "start_time": "2022-01-04T04:50:54.979486Z"
    }
   },
   "outputs": [],
   "source": [
    "cluster_profile.loc['OPC'] = cluster_profile.loc['ODC']"
   ]
  },
  {
   "cell_type": "code",
   "execution_count": 37,
   "id": "f898b3f1",
   "metadata": {
    "ExecuteTime": {
     "end_time": "2022-01-04T04:52:14.212298Z",
     "start_time": "2022-01-04T04:52:14.106937Z"
    }
   },
   "outputs": [],
   "source": [
    "cpm = cluster_profile * 1000000 / cluster_profile.sum(axis=1).values[:, None]\n",
    "cpm.to_hdf('RNA.cluster_cpm.hdf', key='data')"
   ]
  },
  {
   "cell_type": "markdown",
   "id": "9161eca3",
   "metadata": {},
   "source": [
    "## Cluster Enriched Features"
   ]
  },
  {
   "cell_type": "code",
   "execution_count": 40,
   "id": "62d71b90",
   "metadata": {
    "ExecuteTime": {
     "end_time": "2022-01-04T04:53:51.003597Z",
     "start_time": "2022-01-04T04:53:42.349210Z"
    }
   },
   "outputs": [],
   "source": [
    "downsample = data.groupby(adata.obs['integration_group']).apply(\n",
    "    lambda i: i if i.shape[0] < 3000 else i.sample(3000))\n",
    "cell_index = downsample.index.get_level_values(1)\n",
    "_adata = adata[cell_index, :]"
   ]
  },
  {
   "cell_type": "code",
   "execution_count": 47,
   "id": "6b1ec59d",
   "metadata": {
    "ExecuteTime": {
     "end_time": "2022-01-04T04:55:10.385013Z",
     "start_time": "2022-01-04T04:54:57.779511Z"
    }
   },
   "outputs": [
    {
     "name": "stdout",
     "output_type": "stream",
     "text": [
      "Found 9 clusters to compute feature enrichment score\n",
      "Computing enrichment score\n",
      "Computing enrichment score FDR-corrected P values\n",
      "Selected 7548 unique features\n"
     ]
    },
    {
     "name": "stderr",
     "output_type": "stream",
     "text": [
      "Trying to set attribute `.uns` of view, copying.\n"
     ]
    },
    {
     "data": {
      "image/png": "[encoded data removed]",
      "text/plain": [
       "<Figure size 1080x360 with 3 Axes>"
      ]
     },
     "metadata": {
      "needs_background": "light"
     },
     "output_type": "display_data"
    }
   ],
   "source": [
    "cluster_enriched_features(_adata,\n",
    "                          cluster_col='integration_group',\n",
    "                          top_n=2000,\n",
    "                          alpha=0.05,\n",
    "                          stat_plot=True,\n",
    "                          method='rna')"
   ]
  },
  {
   "cell_type": "code",
   "execution_count": 50,
   "id": "1bfe8c99",
   "metadata": {
    "ExecuteTime": {
     "end_time": "2022-01-04T04:56:19.306877Z",
     "start_time": "2022-01-04T04:56:19.288485Z"
    }
   },
   "outputs": [],
   "source": [
    "qvals = pd.DataFrame(\n",
    "    _adata.uns['integration_group_feature_enrichment']['qvals'],\n",
    "    index=_adata.var_names,\n",
    "    columns=_adata.uns['integration_group_feature_enrichment']\n",
    "    ['cluster_order'])\n",
    "\n",
    "qvals.to_hdf('RNA.cluster_enrichment_qvals.hdf', key='data')"
   ]
  },
  {
   "cell_type": "code",
   "execution_count": null,
   "id": "b6dce0fc",
   "metadata": {},
   "outputs": [],
   "source": []
  },
  {
   "cell_type": "code",
   "execution_count": null,
   "id": "2b29bebc",
   "metadata": {},
   "outputs": [],
   "source": []
  },
  {
   "cell_type": "code",
   "execution_count": null,
   "id": "706c862f",
   "metadata": {},
   "outputs": [],
   "source": []
  },
  {
   "cell_type": "code",
   "execution_count": null,
   "id": "46d50909",
   "metadata": {},
   "outputs": [],
   "source": []
  },
  {
   "cell_type": "code",
   "execution_count": null,
   "id": "57eb5725",
   "metadata": {},
   "outputs": [],
   "source": []
  },
  {
   "cell_type": "code",
   "execution_count": null,
   "id": "31538691",
   "metadata": {},
   "outputs": [],
   "source": []
  },
  {
   "cell_type": "code",
   "execution_count": null,
   "id": "36dc0cc6",
   "metadata": {},
   "outputs": [],
   "source": []
  },
  {
   "cell_type": "code",
   "execution_count": null,
   "id": "6ed1acf6",
   "metadata": {},
   "outputs": [],
   "source": []
  },
  {
   "cell_type": "code",
   "execution_count": null,
   "id": "4544d9a2",
   "metadata": {},
   "outputs": [],
   "source": []
  },
  {
   "cell_type": "code",
   "execution_count": null,
   "id": "8fee68f3",
   "metadata": {},
   "outputs": [],
   "source": []
  },
  {
   "cell_type": "code",
   "execution_count": null,
   "id": "4cc02a0c",
   "metadata": {},
   "outputs": [],
   "source": []
  }
 ],
 "metadata": {
  "hide_input": false,
  "kernelspec": {
   "display_name": "Python 3 (ipykernel)",
   "language": "python",
   "name": "python3"
  },
  "language_info": {
   "codemirror_mode": {
    "name": "ipython",
    "version": 3
   },
   "file_extension": ".py",
   "mimetype": "text/x-python",
   "name": "python",
   "nbconvert_exporter": "python",
   "pygments_lexer": "ipython3",
   "version": "3.8.6"
  },
  "toc": {
   "base_numbering": 1,
   "nav_menu": {},
   "number_sections": true,
   "sideBar": true,
   "skip_h1_title": true,
   "title_cell": "Table of Contents",
   "title_sidebar": "Contents",
   "toc_cell": false,
   "toc_position": {},
   "toc_section_display": true,
   "toc_window_display": false
  }
 },
 "nbformat": 4,
 "nbformat_minor": 5
}

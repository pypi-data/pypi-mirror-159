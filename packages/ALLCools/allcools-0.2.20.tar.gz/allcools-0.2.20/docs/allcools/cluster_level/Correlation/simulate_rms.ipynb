{
 "cells": [
  {
   "cell_type": "markdown",
   "id": "c213f586",
   "metadata": {},
   "source": [
    "# NOT FOR DOC"
   ]
  },
  {
   "cell_type": "code",
   "execution_count": 2,
   "id": "7325c8f9",
   "metadata": {
    "ExecuteTime": {
     "end_time": "2022-01-02T07:07:31.445445Z",
     "start_time": "2022-01-02T07:07:31.442571Z"
    }
   },
   "outputs": [],
   "source": [
    "import seaborn as sns\n",
    "import matplotlib.pyplot as plt\n",
    "import pandas as pd\n",
    "import numpy as np\n",
    "from ALLCools.dmr.rms_test import permute_root_mean_square_test\n",
    "from concurrent.futures import ProcessPoolExecutor, as_completed"
   ]
  },
  {
   "cell_type": "code",
   "execution_count": 3,
   "id": "dc4e6783",
   "metadata": {
    "ExecuteTime": {
     "end_time": "2022-01-02T07:07:35.910984Z",
     "start_time": "2022-01-02T07:07:32.393105Z"
    }
   },
   "outputs": [
    {
     "data": {
      "text/plain": [
       "1.0"
      ]
     },
     "execution_count": 3,
     "metadata": {},
     "output_type": "execute_result"
    }
   ],
   "source": [
    "# init numba\n",
    "permute_root_mean_square_test(np.array([[0, 1], [0, 1]]))"
   ]
  },
  {
   "cell_type": "code",
   "execution_count": 4,
   "id": "66b1db39",
   "metadata": {
    "ExecuteTime": {
     "end_time": "2022-01-02T07:17:08.588718Z",
     "start_time": "2022-01-02T07:08:07.856801Z"
    },
    "scrolled": true
   },
   "outputs": [
    {
     "name": "stdout",
     "output_type": "stream",
     "text": [
      "(92, 5, 3000)\n",
      "(92, 5, 1000)\n",
      "(92, 5, 5000)\n",
      "(92, 5, 7000)\n",
      "(92, 45, 1000)\n",
      "(92, 5, 9000)\n",
      "(92, 5, 11000)\n",
      "(92, 5, 13000)\n",
      "(92, 45, 3000)\n",
      "(92, 45, 5000)\n",
      "(62, 85, 1000)\n",
      "(92, 45, 7000)\n",
      "(92, 45, 9000)\n",
      "(62, 45, 13000)\n",
      "(92, 85, 1000)\n",
      "(62, 45, 9000)\n",
      "(62, 45, 11000)\n",
      "(62, 45, 1000)\n",
      "(62, 45, 7000)\n",
      "(62, 5, 13000)\n",
      "(62, 5, 7000)\n",
      "(62, 5, 11000)\n",
      "(62, 5, 1000)\n",
      "(62, 5, 9000)\n",
      "(62, 5, 3000)\n",
      "(62, 5, 5000)\n",
      "(92, 45, 11000)\n",
      "(62, 45, 3000)\n",
      "(62, 45, 5000)\n",
      "(92, 45, 13000)\n",
      "(62, 85, 3000)\n",
      "(62, 125, 1000)\n",
      "(62, 85, 5000)\n",
      "(32, 165, 1000)\n",
      "(92, 85, 3000)\n",
      "(62, 85, 7000)\n",
      "(62, 165, 1000)\n",
      "(92, 125, 1000)\n",
      "(32, 125, 1000)\n",
      "(62, 85, 9000)\n",
      "(92, 85, 5000)\n",
      "(62, 85, 11000)\n",
      "(32, 125, 3000)\n",
      "(32, 85, 1000)\n",
      "(32, 85, 7000)\n",
      "(62, 85, 13000)\n",
      "(32, 85, 3000)\n",
      "(32, 125, 5000)\n",
      "(32, 85, 9000)\n",
      "(32, 45, 9000)\n",
      "(32, 45, 3000)\n",
      "(32, 45, 7000)\n",
      "(32, 45, 11000)\n",
      "(32, 45, 1000)\n",
      "(32, 45, 5000)\n",
      "(32, 5, 13000)\n",
      "(32, 5, 11000)\n",
      "(32, 5, 9000)\n",
      "(32, 5, 1000)\n",
      "(32, 5, 5000)\n",
      "(32, 5, 3000)\n",
      "(32, 5, 7000)\n",
      "(92, 165, 1000)\n",
      "(2, 165, 3000)\n",
      "(32, 45, 13000)\n",
      "(2, 165, 1000)\n",
      "(2, 165, 5000)\n",
      "(32, 85, 11000)\n",
      "(2, 125, 9000)\n",
      "(2, 165, 9000)\n",
      "(2, 165, 7000)\n",
      "(2, 125, 13000)\n",
      "(2, 125, 5000)\n",
      "(2, 125, 1000)\n",
      "(2, 125, 3000)\n",
      "(2, 125, 11000)\n",
      "(2, 165, 11000)\n",
      "(2, 125, 7000)\n",
      "(2, 85, 1000)\n",
      "(2, 85, 3000)\n",
      "(62, 125, 3000)\n",
      "(2, 85, 7000)\n",
      "(2, 85, 9000)\n",
      "(32, 85, 5000)\n",
      "(2, 45, 3000)\n",
      "(2, 85, 5000)\n",
      "(2, 45, 1000)\n",
      "(2, 45, 5000)\n",
      "(2, 45, 11000)\n",
      "(2, 5, 13000)\n",
      "(2, 45, 7000)\n",
      "(32, 165, 3000)\n",
      "(2, 45, 13000)\n",
      "(2, 5, 1000)\n",
      "(2, 5, 3000)\n",
      "(2, 5, 7000)\n",
      "(2, 5, 11000)\n",
      "(2, 5, 5000)\n",
      "(2, 45, 9000)\n",
      "(2, 5, 9000)\n",
      "(2, 85, 11000)\n",
      "(2, 165, 13000)\n",
      "(2, 85, 13000)\n",
      "(32, 85, 13000)\n",
      "(32, 125, 7000)\n",
      "(92, 85, 7000)\n",
      "(32, 165, 5000)\n",
      "(32, 125, 11000)\n",
      "(32, 125, 9000)\n",
      "(92, 85, 9000)\n",
      "(32, 125, 13000)\n",
      "(62, 125, 5000)\n",
      "(62, 165, 3000)\n",
      "(92, 125, 3000)\n",
      "(32, 165, 7000)\n",
      "(92, 85, 11000)\n",
      "(92, 85, 13000)\n",
      "(32, 165, 9000)\n",
      "(62, 125, 7000)\n",
      "(32, 165, 11000)\n",
      "(62, 165, 5000)\n",
      "(92, 165, 3000)\n",
      "(62, 125, 9000)\n",
      "(92, 125, 5000)\n",
      "(32, 165, 13000)\n",
      "(62, 125, 11000)\n",
      "(62, 165, 7000)\n",
      "(62, 125, 13000)\n",
      "(92, 125, 7000)\n",
      "(92, 165, 5000)\n",
      "(62, 165, 9000)\n",
      "(92, 125, 9000)\n",
      "(62, 165, 11000)\n",
      "(92, 125, 11000)\n",
      "(92, 165, 7000)\n",
      "(62, 165, 13000)\n",
      "(92, 125, 13000)\n",
      "(92, 165, 9000)\n",
      "(92, 165, 11000)\n",
      "(92, 165, 13000)\n"
     ]
    }
   ],
   "source": [
    "coverages = np.arange(5, 201, 40)[::-1]\n",
    "n_permutes = np.arange(1000, 15000, 2000)[::-1]\n",
    "n_samples = np.arange(2, 101, 30)[::-1]\n",
    "n_test = 50\n",
    "\n",
    "\n",
    "def run_tests(n_sample, coverage, n_permute):\n",
    "    ps = []\n",
    "    # repeat to get robust stats of p_values\n",
    "    for i in range(n_test):\n",
    "        true_fracs = np.random.uniform(low=0.8, high=0.9, size=n_sample)\n",
    "        cov = np.random.uniform(low=coverage / 3,\n",
    "                                high=coverage * 3,\n",
    "                                size=true_fracs.size).astype(int)\n",
    "        mc = np.random.binomial(cov, p=true_fracs)\n",
    "        unc = cov - mc\n",
    "        table = np.array([mc, unc]).T\n",
    "        # the methylpy RMS test\n",
    "        p = permute_root_mean_square_test(table, n_permute=n_permute)\n",
    "        ps.append(p)\n",
    "    return np.array(ps)\n",
    "\n",
    "\n",
    "with ProcessPoolExecutor(48) as exe:\n",
    "    futures = {}\n",
    "    results = {}\n",
    "    for n_sample in n_samples:\n",
    "        for coverage in coverages:\n",
    "            for n_permute in n_permutes:\n",
    "                f = exe.submit(run_tests, \n",
    "                               n_sample=n_sample, \n",
    "                               coverage=coverage, \n",
    "                               n_permute=n_permute)\n",
    "                futures[f] = (n_sample, coverage, n_permute)\n",
    "\n",
    "    for f in as_completed(futures):\n",
    "        key = futures[f]\n",
    "        print(key)\n",
    "        results[key] = f.result()"
   ]
  },
  {
   "cell_type": "code",
   "execution_count": 5,
   "id": "d8963b3e",
   "metadata": {
    "ExecuteTime": {
     "end_time": "2022-01-02T07:17:08.609986Z",
     "start_time": "2022-01-02T07:17:08.590827Z"
    }
   },
   "outputs": [
    {
     "data": {
      "text/html": [
       "<div>\n",
       "<style scoped>\n",
       "    .dataframe tbody tr th:only-of-type {\n",
       "        vertical-align: middle;\n",
       "    }\n",
       "\n",
       "    .dataframe tbody tr th {\n",
       "        vertical-align: top;\n",
       "    }\n",
       "\n",
       "    .dataframe thead th {\n",
       "        text-align: right;\n",
       "    }\n",
       "</style>\n",
       "<table border=\"1\" class=\"dataframe\">\n",
       "  <thead>\n",
       "    <tr style=\"text-align: right;\">\n",
       "      <th></th>\n",
       "      <th>n_sample</th>\n",
       "      <th>coverage</th>\n",
       "      <th>n_permute</th>\n",
       "      <th>sample</th>\n",
       "      <th>pvalue</th>\n",
       "    </tr>\n",
       "  </thead>\n",
       "  <tbody>\n",
       "    <tr>\n",
       "      <th>0</th>\n",
       "      <td>92</td>\n",
       "      <td>5</td>\n",
       "      <td>3000</td>\n",
       "      <td>0</td>\n",
       "      <td>1.000000</td>\n",
       "    </tr>\n",
       "    <tr>\n",
       "      <th>1</th>\n",
       "      <td>92</td>\n",
       "      <td>5</td>\n",
       "      <td>3000</td>\n",
       "      <td>1</td>\n",
       "      <td>1.000000</td>\n",
       "    </tr>\n",
       "    <tr>\n",
       "      <th>2</th>\n",
       "      <td>92</td>\n",
       "      <td>5</td>\n",
       "      <td>3000</td>\n",
       "      <td>2</td>\n",
       "      <td>1.000000</td>\n",
       "    </tr>\n",
       "    <tr>\n",
       "      <th>3</th>\n",
       "      <td>92</td>\n",
       "      <td>5</td>\n",
       "      <td>3000</td>\n",
       "      <td>3</td>\n",
       "      <td>1.000000</td>\n",
       "    </tr>\n",
       "    <tr>\n",
       "      <th>4</th>\n",
       "      <td>92</td>\n",
       "      <td>5</td>\n",
       "      <td>3000</td>\n",
       "      <td>4</td>\n",
       "      <td>0.990385</td>\n",
       "    </tr>\n",
       "  </tbody>\n",
       "</table>\n",
       "</div>"
      ],
      "text/plain": [
       "   n_sample  coverage  n_permute  sample    pvalue\n",
       "0        92         5       3000       0  1.000000\n",
       "1        92         5       3000       1  1.000000\n",
       "2        92         5       3000       2  1.000000\n",
       "3        92         5       3000       3  1.000000\n",
       "4        92         5       3000       4  0.990385"
      ]
     },
     "execution_count": 5,
     "metadata": {},
     "output_type": "execute_result"
    }
   ],
   "source": [
    "data = pd.DataFrame(results).T.stack().reset_index()\n",
    "data.columns = ['n_sample', 'coverage', 'n_permute', 'sample', 'pvalue']\n",
    "data.head()"
   ]
  },
  {
   "cell_type": "code",
   "execution_count": 6,
   "id": "b4f2820c",
   "metadata": {
    "ExecuteTime": {
     "end_time": "2022-01-02T07:17:08.638172Z",
     "start_time": "2022-01-02T07:17:08.611093Z"
    },
    "scrolled": true
   },
   "outputs": [],
   "source": [
    "pass_cutoff = data.groupby(\n",
    "    ['n_sample', 'coverage',\n",
    "     'n_permute'])['pvalue'].apply(lambda i: (i < 0.003).sum()).reset_index()"
   ]
  },
  {
   "cell_type": "code",
   "execution_count": 7,
   "id": "b0b03d68",
   "metadata": {
    "ExecuteTime": {
     "end_time": "2022-01-02T07:17:08.645142Z",
     "start_time": "2022-01-02T07:17:08.639488Z"
    },
    "scrolled": true
   },
   "outputs": [
    {
     "data": {
      "text/html": [
       "<div>\n",
       "<style scoped>\n",
       "    .dataframe tbody tr th:only-of-type {\n",
       "        vertical-align: middle;\n",
       "    }\n",
       "\n",
       "    .dataframe tbody tr th {\n",
       "        vertical-align: top;\n",
       "    }\n",
       "\n",
       "    .dataframe thead th {\n",
       "        text-align: right;\n",
       "    }\n",
       "</style>\n",
       "<table border=\"1\" class=\"dataframe\">\n",
       "  <thead>\n",
       "    <tr style=\"text-align: right;\">\n",
       "      <th></th>\n",
       "      <th>n_sample</th>\n",
       "      <th>coverage</th>\n",
       "      <th>n_permute</th>\n",
       "      <th>pvalue</th>\n",
       "    </tr>\n",
       "  </thead>\n",
       "  <tbody>\n",
       "    <tr>\n",
       "      <th>0</th>\n",
       "      <td>2</td>\n",
       "      <td>5</td>\n",
       "      <td>1000</td>\n",
       "      <td>0</td>\n",
       "    </tr>\n",
       "    <tr>\n",
       "      <th>1</th>\n",
       "      <td>2</td>\n",
       "      <td>5</td>\n",
       "      <td>3000</td>\n",
       "      <td>0</td>\n",
       "    </tr>\n",
       "    <tr>\n",
       "      <th>2</th>\n",
       "      <td>2</td>\n",
       "      <td>5</td>\n",
       "      <td>5000</td>\n",
       "      <td>0</td>\n",
       "    </tr>\n",
       "    <tr>\n",
       "      <th>3</th>\n",
       "      <td>2</td>\n",
       "      <td>5</td>\n",
       "      <td>7000</td>\n",
       "      <td>0</td>\n",
       "    </tr>\n",
       "    <tr>\n",
       "      <th>4</th>\n",
       "      <td>2</td>\n",
       "      <td>5</td>\n",
       "      <td>9000</td>\n",
       "      <td>0</td>\n",
       "    </tr>\n",
       "  </tbody>\n",
       "</table>\n",
       "</div>"
      ],
      "text/plain": [
       "   n_sample  coverage  n_permute  pvalue\n",
       "0         2         5       1000       0\n",
       "1         2         5       3000       0\n",
       "2         2         5       5000       0\n",
       "3         2         5       7000       0\n",
       "4         2         5       9000       0"
      ]
     },
     "execution_count": 7,
     "metadata": {},
     "output_type": "execute_result"
    }
   ],
   "source": [
    "pass_cutoff.head()"
   ]
  },
  {
   "cell_type": "code",
   "execution_count": 10,
   "id": "95b27a25",
   "metadata": {
    "ExecuteTime": {
     "end_time": "2022-01-02T07:18:14.743340Z",
     "start_time": "2022-01-02T07:18:12.678067Z"
    }
   },
   "outputs": [
    {
     "data": {
      "image/png": "[encoded data removed]",
      "text/plain": [
       "<Figure size 750x600 with 20 Axes>"
      ]
     },
     "metadata": {
      "needs_background": "light"
     },
     "output_type": "display_data"
    }
   ],
   "source": [
    "# Initialize a grid of plots with an Axes for each walk\n",
    "ncols = coverages.size\n",
    "nrows = n_samples.size\n",
    "fig, axes = plt.subplots(figsize=(ncols*1.5, nrows*1.5),\n",
    "                         ncols=ncols,\n",
    "                         nrows=nrows,\n",
    "                         dpi=100, \n",
    "                         sharex=True, \n",
    "                         sharey=True,\n",
    "                         constrained_layout=True)\n",
    "\n",
    "for col, coverage in enumerate(coverages[::-1]):\n",
    "    for row, n_sample in enumerate(n_samples[::-1]):\n",
    "        ax = axes[row, col]\n",
    "        sns.lineplot(data=pass_cutoff[(pass_cutoff['n_sample'] == n_sample)\n",
    "                                      & (pass_cutoff['coverage'] == coverage)],\n",
    "                     x='n_permute',\n",
    "                     y='pvalue',\n",
    "                     ax=ax)\n",
    "        if ax.get_subplotspec().is_last_row():\n",
    "            ax.set(xlabel=f\"cov {coverage}\")\n",
    "            ax.ticklabel_format(axis='x', scilimits=(0, 0))\n",
    "        if ax.get_subplotspec().is_first_col():\n",
    "            ax.set(ylabel=f\"n_sample {n_sample}\")\n",
    "        ax.set(ylim=(0, n_test))"
   ]
  },
  {
   "cell_type": "code",
   "execution_count": null,
   "id": "026a5adc",
   "metadata": {},
   "outputs": [],
   "source": []
  },
  {
   "cell_type": "code",
   "execution_count": null,
   "id": "97df04ea",
   "metadata": {},
   "outputs": [],
   "source": []
  },
  {
   "cell_type": "code",
   "execution_count": null,
   "id": "8d5d0fd8",
   "metadata": {},
   "outputs": [],
   "source": []
  },
  {
   "cell_type": "code",
   "execution_count": null,
   "id": "1f26bddf",
   "metadata": {},
   "outputs": [],
   "source": []
  },
  {
   "cell_type": "code",
   "execution_count": null,
   "id": "e823e3ee",
   "metadata": {},
   "outputs": [],
   "source": []
  },
  {
   "cell_type": "code",
   "execution_count": null,
   "id": "9c1557ec",
   "metadata": {},
   "outputs": [],
   "source": []
  },
  {
   "cell_type": "code",
   "execution_count": null,
   "id": "25d45320",
   "metadata": {},
   "outputs": [],
   "source": []
  },
  {
   "cell_type": "code",
   "execution_count": null,
   "id": "431bd272",
   "metadata": {},
   "outputs": [],
   "source": []
  },
  {
   "cell_type": "code",
   "execution_count": null,
   "id": "9a7b874c",
   "metadata": {},
   "outputs": [],
   "source": []
  },
  {
   "cell_type": "code",
   "execution_count": null,
   "id": "9d9db70d",
   "metadata": {},
   "outputs": [],
   "source": []
  },
  {
   "cell_type": "code",
   "execution_count": null,
   "id": "e8189f65",
   "metadata": {},
   "outputs": [],
   "source": []
  },
  {
   "cell_type": "code",
   "execution_count": null,
   "id": "40e9ce0a",
   "metadata": {},
   "outputs": [],
   "source": []
  },
  {
   "cell_type": "code",
   "execution_count": null,
   "id": "33a5ca2f",
   "metadata": {},
   "outputs": [],
   "source": []
  },
  {
   "cell_type": "code",
   "execution_count": null,
   "id": "554df58a",
   "metadata": {},
   "outputs": [],
   "source": []
  },
  {
   "cell_type": "code",
   "execution_count": null,
   "id": "7af6141a",
   "metadata": {},
   "outputs": [],
   "source": []
  }
 ],
 "metadata": {
  "hide_input": false,
  "kernelspec": {
   "display_name": "Python 3 (ipykernel)",
   "language": "python",
   "name": "python3"
  },
  "language_info": {
   "codemirror_mode": {
    "name": "ipython",
    "version": 3
   },
   "file_extension": ".py",
   "mimetype": "text/x-python",
   "name": "python",
   "nbconvert_exporter": "python",
   "pygments_lexer": "ipython3",
   "version": "3.8.12"
  },
  "toc": {
   "base_numbering": 1,
   "nav_menu": {},
   "number_sections": true,
   "sideBar": true,
   "skip_h1_title": true,
   "title_cell": "Table of Contents",
   "title_sidebar": "Contents",
   "toc_cell": false,
   "toc_position": {},
   "toc_section_display": true,
   "toc_window_display": true
  }
 },
 "nbformat": 4,
 "nbformat_minor": 5
}

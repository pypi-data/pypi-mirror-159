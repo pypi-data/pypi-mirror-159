{
 "cells": [
  {
   "cell_type": "markdown",
   "metadata": {},
   "source": [
    "# Prepare Cluster-by-Gene mC Profile\n",
    "\n",
    "This notebook sum cell feature counts in a cell MCDS by cell clusters. The cluster MCDS can be transform and saved as RegionDS"
   ]
  },
  {
   "cell_type": "code",
   "execution_count": 1,
   "metadata": {
    "ExecuteTime": {
     "end_time": "2022-01-13T21:03:47.410447Z",
     "start_time": "2022-01-13T21:03:41.847861Z"
    }
   },
   "outputs": [],
   "source": [
    "import pandas as pd\n",
    "from ALLCools.mcds import MCDS\n",
    "from ALLCools.clustering import cluster_enriched_features"
   ]
  },
  {
   "cell_type": "markdown",
   "metadata": {},
   "source": [
    "## Merge Cluster"
   ]
  },
  {
   "cell_type": "code",
   "execution_count": 2,
   "metadata": {
    "ExecuteTime": {
     "end_time": "2022-01-13T21:03:47.441575Z",
     "start_time": "2022-01-13T21:03:47.412014Z"
    }
   },
   "outputs": [],
   "source": [
    "mc_cluster = pd.read_csv(\n",
    "    '../../data/HIPBulk/DesideBulkLevel/snmC.anno.csv',\n",
    "    header=None,\n",
    "    index_col=0,\n",
    "    squeeze=True)\n",
    "\n",
    "m3c_cluster = pd.read_csv(\n",
    "    '../../data/HIPBulk/DesideBulkLevel/snm3C.anno.csv',\n",
    "    header=None,\n",
    "    index_col=0,\n",
    "    squeeze=True)\n",
    "\n",
    "mc_cluster = 'snmC_' + mc_cluster\n",
    "m3c_cluster = 'snm3C_' + m3c_cluster\n",
    "cell_cluster = pd.concat([mc_cluster, m3c_cluster])\n",
    "cell_cluster.index.name = 'cell'\n",
    "cell_cluster.name = 'sample'"
   ]
  },
  {
   "cell_type": "code",
   "execution_count": 3,
   "metadata": {
    "ExecuteTime": {
     "end_time": "2022-01-13T21:03:50.188105Z",
     "start_time": "2022-01-13T21:03:47.443286Z"
    }
   },
   "outputs": [
    {
     "name": "stdout",
     "output_type": "stream",
     "text": [
      "Open MCDS with netcdf4 engine.\n"
     ]
    }
   ],
   "source": [
    "mcds = MCDS.open('../../data/Brain/snm*C-seq*/*.mcds')"
   ]
  },
  {
   "cell_type": "code",
   "execution_count": 4,
   "metadata": {
    "ExecuteTime": {
     "end_time": "2022-01-13T21:03:50.202534Z",
     "start_time": "2022-01-13T21:03:50.189592Z"
    }
   },
   "outputs": [],
   "source": [
    "mcds.coords['sample'] = cell_cluster"
   ]
  },
  {
   "cell_type": "code",
   "execution_count": 5,
   "metadata": {
    "ExecuteTime": {
     "end_time": "2022-01-13T21:06:36.556856Z",
     "start_time": "2022-01-13T21:03:50.203713Z"
    }
   },
   "outputs": [],
   "source": [
    "cluster_mcds = mcds.merge_cluster(cluster_col='sample').to_region_ds('geneslop2k')"
   ]
  },
  {
   "cell_type": "code",
   "execution_count": 6,
   "metadata": {
    "ExecuteTime": {
     "end_time": "2022-01-13T21:06:36.594142Z",
     "start_time": "2022-01-13T21:06:36.559085Z"
    }
   },
   "outputs": [
    {
     "data": {
      "text/html": [
       "<div><svg style=\"position: absolute; width: 0; height: 0; overflow: hidden\">\n",
       "<defs>\n",
       "<symbol id=\"icon-database\" viewBox=\"0 0 32 32\">\n",
       "<path d=\"M16 0c-8.837 0-16 2.239-16 5v4c0 2.761 7.163 5 16 5s16-2.239 16-5v-4c0-2.761-7.163-5-16-5z\"></path>\n",
       "<path d=\"M16 17c-8.837 0-16-2.239-16-5v6c0 2.761 7.163 5 16 5s16-2.239 16-5v-6c0 2.761-7.163 5-16 5z\"></path>\n",
       "<path d=\"M16 26c-8.837 0-16-2.239-16-5v6c0 2.761 7.163 5 16 5s16-2.239 16-5v-6c0 2.761-7.163 5-16 5z\"></path>\n",
       "</symbol>\n",
       "<symbol id=\"icon-file-text2\" viewBox=\"0 0 32 32\">\n",
       "<path d=\"M28.681 7.159c-0.694-0.947-1.662-2.053-2.724-3.116s-2.169-2.030-3.116-2.724c-1.612-1.182-2.393-1.319-2.841-1.319h-15.5c-1.378 0-2.5 1.121-2.5 2.5v27c0 1.378 1.122 2.5 2.5 2.5h23c1.378 0 2.5-1.122 2.5-2.5v-19.5c0-0.448-0.137-1.23-1.319-2.841zM24.543 5.457c0.959 0.959 1.712 1.825 2.268 2.543h-4.811v-4.811c0.718 0.556 1.584 1.309 2.543 2.268zM28 29.5c0 0.271-0.229 0.5-0.5 0.5h-23c-0.271 0-0.5-0.229-0.5-0.5v-27c0-0.271 0.229-0.5 0.5-0.5 0 0 15.499-0 15.5 0v7c0 0.552 0.448 1 1 1h7v19.5z\"></path>\n",
       "<path d=\"M23 26h-14c-0.552 0-1-0.448-1-1s0.448-1 1-1h14c0.552 0 1 0.448 1 1s-0.448 1-1 1z\"></path>\n",
       "<path d=\"M23 22h-14c-0.552 0-1-0.448-1-1s0.448-1 1-1h14c0.552 0 1 0.448 1 1s-0.448 1-1 1z\"></path>\n",
       "<path d=\"M23 18h-14c-0.552 0-1-0.448-1-1s0.448-1 1-1h14c0.552 0 1 0.448 1 1s-0.448 1-1 1z\"></path>\n",
       "</symbol>\n",
       "</defs>\n",
       "</svg>\n",
       "<style>/* CSS stylesheet for displaying xarray objects in jupyterlab.\n",
       " *\n",
       " */\n",
       "\n",
       ":root {\n",
       "  --xr-font-color0: var(--jp-content-font-color0, rgba(0, 0, 0, 1));\n",
       "  --xr-font-color2: var(--jp-content-font-color2, rgba(0, 0, 0, 0.54));\n",
       "  --xr-font-color3: var(--jp-content-font-color3, rgba(0, 0, 0, 0.38));\n",
       "  --xr-border-color: var(--jp-border-color2, #e0e0e0);\n",
       "  --xr-disabled-color: var(--jp-layout-color3, #bdbdbd);\n",
       "  --xr-background-color: var(--jp-layout-color0, white);\n",
       "  --xr-background-color-row-even: var(--jp-layout-color1, white);\n",
       "  --xr-background-color-row-odd: var(--jp-layout-color2, #eeeeee);\n",
       "}\n",
       "\n",
       "html[theme=dark],\n",
       "body.vscode-dark {\n",
       "  --xr-font-color0: rgba(255, 255, 255, 1);\n",
       "  --xr-font-color2: rgba(255, 255, 255, 0.54);\n",
       "  --xr-font-color3: rgba(255, 255, 255, 0.38);\n",
       "  --xr-border-color: #1F1F1F;\n",
       "  --xr-disabled-color: #515151;\n",
       "  --xr-background-color: #111111;\n",
       "  --xr-background-color-row-even: #111111;\n",
       "  --xr-background-color-row-odd: #313131;\n",
       "}\n",
       "\n",
       ".xr-wrap {\n",
       "  display: block !important;\n",
       "  min-width: 300px;\n",
       "  max-width: 700px;\n",
       "}\n",
       "\n",
       ".xr-text-repr-fallback {\n",
       "  /* fallback to plain text repr when CSS is not injected (untrusted notebook) */\n",
       "  display: none;\n",
       "}\n",
       "\n",
       ".xr-header {\n",
       "  padding-top: 6px;\n",
       "  padding-bottom: 6px;\n",
       "  margin-bottom: 4px;\n",
       "  border-bottom: solid 1px var(--xr-border-color);\n",
       "}\n",
       "\n",
       ".xr-header > div,\n",
       ".xr-header > ul {\n",
       "  display: inline;\n",
       "  margin-top: 0;\n",
       "  margin-bottom: 0;\n",
       "}\n",
       "\n",
       ".xr-obj-type,\n",
       ".xr-array-name {\n",
       "  margin-left: 2px;\n",
       "  margin-right: 10px;\n",
       "}\n",
       "\n",
       ".xr-obj-type {\n",
       "  color: var(--xr-font-color2);\n",
       "}\n",
       "\n",
       ".xr-sections {\n",
       "  padding-left: 0 !important;\n",
       "  display: grid;\n",
       "  grid-template-columns: 150px auto auto 1fr 20px 20px;\n",
       "}\n",
       "\n",
       ".xr-section-item {\n",
       "  display: contents;\n",
       "}\n",
       "\n",
       ".xr-section-item input {\n",
       "  display: none;\n",
       "}\n",
       "\n",
       ".xr-section-item input + label {\n",
       "  color: var(--xr-disabled-color);\n",
       "}\n",
       "\n",
       ".xr-section-item input:enabled + label {\n",
       "  cursor: pointer;\n",
       "  color: var(--xr-font-color2);\n",
       "}\n",
       "\n",
       ".xr-section-item input:enabled + label:hover {\n",
       "  color: var(--xr-font-color0);\n",
       "}\n",
       "\n",
       ".xr-section-summary {\n",
       "  grid-column: 1;\n",
       "  color: var(--xr-font-color2);\n",
       "  font-weight: 500;\n",
       "}\n",
       "\n",
       ".xr-section-summary > span {\n",
       "  display: inline-block;\n",
       "  padding-left: 0.5em;\n",
       "}\n",
       "\n",
       ".xr-section-summary-in:disabled + label {\n",
       "  color: var(--xr-font-color2);\n",
       "}\n",
       "\n",
       ".xr-section-summary-in + label:before {\n",
       "  display: inline-block;\n",
       "  content: '►';\n",
       "  font-size: 11px;\n",
       "  width: 15px;\n",
       "  text-align: center;\n",
       "}\n",
       "\n",
       ".xr-section-summary-in:disabled + label:before {\n",
       "  color: var(--xr-disabled-color);\n",
       "}\n",
       "\n",
       ".xr-section-summary-in:checked + label:before {\n",
       "  content: '▼';\n",
       "}\n",
       "\n",
       ".xr-section-summary-in:checked + label > span {\n",
       "  display: none;\n",
       "}\n",
       "\n",
       ".xr-section-summary,\n",
       ".xr-section-inline-details {\n",
       "  padding-top: 4px;\n",
       "  padding-bottom: 4px;\n",
       "}\n",
       "\n",
       ".xr-section-inline-details {\n",
       "  grid-column: 2 / -1;\n",
       "}\n",
       "\n",
       ".xr-section-details {\n",
       "  display: none;\n",
       "  grid-column: 1 / -1;\n",
       "  margin-bottom: 5px;\n",
       "}\n",
       "\n",
       ".xr-section-summary-in:checked ~ .xr-section-details {\n",
       "  display: contents;\n",
       "}\n",
       "\n",
       ".xr-array-wrap {\n",
       "  grid-column: 1 / -1;\n",
       "  display: grid;\n",
       "  grid-template-columns: 20px auto;\n",
       "}\n",
       "\n",
       ".xr-array-wrap > label {\n",
       "  grid-column: 1;\n",
       "  vertical-align: top;\n",
       "}\n",
       "\n",
       ".xr-preview {\n",
       "  color: var(--xr-font-color3);\n",
       "}\n",
       "\n",
       ".xr-array-preview,\n",
       ".xr-array-data {\n",
       "  padding: 0 5px !important;\n",
       "  grid-column: 2;\n",
       "}\n",
       "\n",
       ".xr-array-data,\n",
       ".xr-array-in:checked ~ .xr-array-preview {\n",
       "  display: none;\n",
       "}\n",
       "\n",
       ".xr-array-in:checked ~ .xr-array-data,\n",
       ".xr-array-preview {\n",
       "  display: inline-block;\n",
       "}\n",
       "\n",
       ".xr-dim-list {\n",
       "  display: inline-block !important;\n",
       "  list-style: none;\n",
       "  padding: 0 !important;\n",
       "  margin: 0;\n",
       "}\n",
       "\n",
       ".xr-dim-list li {\n",
       "  display: inline-block;\n",
       "  padding: 0;\n",
       "  margin: 0;\n",
       "}\n",
       "\n",
       ".xr-dim-list:before {\n",
       "  content: '(';\n",
       "}\n",
       "\n",
       ".xr-dim-list:after {\n",
       "  content: ')';\n",
       "}\n",
       "\n",
       ".xr-dim-list li:not(:last-child):after {\n",
       "  content: ',';\n",
       "  padding-right: 5px;\n",
       "}\n",
       "\n",
       ".xr-has-index {\n",
       "  font-weight: bold;\n",
       "}\n",
       "\n",
       ".xr-var-list,\n",
       ".xr-var-item {\n",
       "  display: contents;\n",
       "}\n",
       "\n",
       ".xr-var-item > div,\n",
       ".xr-var-item label,\n",
       ".xr-var-item > .xr-var-name span {\n",
       "  background-color: var(--xr-background-color-row-even);\n",
       "  margin-bottom: 0;\n",
       "}\n",
       "\n",
       ".xr-var-item > .xr-var-name:hover span {\n",
       "  padding-right: 5px;\n",
       "}\n",
       "\n",
       ".xr-var-list > li:nth-child(odd) > div,\n",
       ".xr-var-list > li:nth-child(odd) > label,\n",
       ".xr-var-list > li:nth-child(odd) > .xr-var-name span {\n",
       "  background-color: var(--xr-background-color-row-odd);\n",
       "}\n",
       "\n",
       ".xr-var-name {\n",
       "  grid-column: 1;\n",
       "}\n",
       "\n",
       ".xr-var-dims {\n",
       "  grid-column: 2;\n",
       "}\n",
       "\n",
       ".xr-var-dtype {\n",
       "  grid-column: 3;\n",
       "  text-align: right;\n",
       "  color: var(--xr-font-color2);\n",
       "}\n",
       "\n",
       ".xr-var-preview {\n",
       "  grid-column: 4;\n",
       "}\n",
       "\n",
       ".xr-var-name,\n",
       ".xr-var-dims,\n",
       ".xr-var-dtype,\n",
       ".xr-preview,\n",
       ".xr-attrs dt {\n",
       "  white-space: nowrap;\n",
       "  overflow: hidden;\n",
       "  text-overflow: ellipsis;\n",
       "  padding-right: 10px;\n",
       "}\n",
       "\n",
       ".xr-var-name:hover,\n",
       ".xr-var-dims:hover,\n",
       ".xr-var-dtype:hover,\n",
       ".xr-attrs dt:hover {\n",
       "  overflow: visible;\n",
       "  width: auto;\n",
       "  z-index: 1;\n",
       "}\n",
       "\n",
       ".xr-var-attrs,\n",
       ".xr-var-data {\n",
       "  display: none;\n",
       "  background-color: var(--xr-background-color) !important;\n",
       "  padding-bottom: 5px !important;\n",
       "}\n",
       "\n",
       ".xr-var-attrs-in:checked ~ .xr-var-attrs,\n",
       ".xr-var-data-in:checked ~ .xr-var-data {\n",
       "  display: block;\n",
       "}\n",
       "\n",
       ".xr-var-data > table {\n",
       "  float: right;\n",
       "}\n",
       "\n",
       ".xr-var-name span,\n",
       ".xr-var-data,\n",
       ".xr-attrs {\n",
       "  padding-left: 25px !important;\n",
       "}\n",
       "\n",
       ".xr-attrs,\n",
       ".xr-var-attrs,\n",
       ".xr-var-data {\n",
       "  grid-column: 1 / -1;\n",
       "}\n",
       "\n",
       "dl.xr-attrs {\n",
       "  padding: 0;\n",
       "  margin: 0;\n",
       "  display: grid;\n",
       "  grid-template-columns: 125px auto;\n",
       "}\n",
       "\n",
       ".xr-attrs dt,\n",
       ".xr-attrs dd {\n",
       "  padding: 0;\n",
       "  margin: 0;\n",
       "  float: left;\n",
       "  padding-right: 10px;\n",
       "  width: auto;\n",
       "}\n",
       "\n",
       ".xr-attrs dt {\n",
       "  font-weight: normal;\n",
       "  grid-column: 1;\n",
       "}\n",
       "\n",
       ".xr-attrs dt:hover span {\n",
       "  display: inline-block;\n",
       "  background: var(--xr-background-color);\n",
       "  padding-right: 10px;\n",
       "}\n",
       "\n",
       ".xr-attrs dd {\n",
       "  grid-column: 2;\n",
       "  white-space: pre-wrap;\n",
       "  word-break: break-all;\n",
       "}\n",
       "\n",
       ".xr-icon-database,\n",
       ".xr-icon-file-text2 {\n",
       "  display: inline-block;\n",
       "  vertical-align: middle;\n",
       "  width: 1em;\n",
       "  height: 1.5em !important;\n",
       "  stroke-width: 0;\n",
       "  stroke: currentColor;\n",
       "  fill: currentColor;\n",
       "}\n",
       "</style><pre class='xr-text-repr-fallback'>&lt;xarray.RegionDS&gt;\n",
       "Dimensions:              (mc_type: 2, count_type: 2, geneslop2k: 55487, sample: 20, chrom100k: 27269)\n",
       "Coordinates: (12/14)\n",
       "  * mc_type              (mc_type) object &#x27;CGN&#x27; &#x27;CHN&#x27;\n",
       "  * count_type           (count_type) object &#x27;mc&#x27; &#x27;cov&#x27;\n",
       "    strand_type          &lt;U4 &#x27;both&#x27;\n",
       "  * geneslop2k           (geneslop2k) object &#x27;ENSMUSG00000102693.1&#x27; ... &#x27;ENSM...\n",
       "    geneslop2k_chrom     (geneslop2k) object &#x27;chr1&#x27; &#x27;chr1&#x27; ... &#x27;chrM&#x27; &#x27;chrM&#x27;\n",
       "    geneslop2k_start     (geneslop2k) int64 3071252 3100015 ... 13288 13355\n",
       "    ...                   ...\n",
       "    sample_CGN           (sample) float64 0.7203 0.7387 0.7422 ... 0.7434 0.7196\n",
       "    sample_CHN           (sample) float64 0.007835 0.02362 ... 0.01121 0.005743\n",
       "  * chrom100k            (chrom100k) int64 0 1 2 3 4 ... 27265 27266 27267 27268\n",
       "    chrom100k_chrom      (chrom100k) object &#x27;chr1&#x27; &#x27;chr1&#x27; ... &#x27;chrY&#x27; &#x27;chrM&#x27;\n",
       "    chrom100k_bin_start  (chrom100k) int64 0 100000 200000 ... 91700000 0\n",
       "    chrom100k_bin_end    (chrom100k) int64 100000 200000 ... 91744698 16299\n",
       "Data variables:\n",
       "    geneslop2k_da        (sample, geneslop2k, mc_type, count_type) float64 1....\n",
       "    chrom100k_da         (sample, chrom100k, mc_type, count_type) float64 0.0...\n",
       "    geneslop2k_da_frac   (sample, geneslop2k, mc_type) float64 1.252 ... 4.546\n",
       "    chrom100k_da_frac    (sample, chrom100k, mc_type) float64 1.0 1.0 ... 5.264\n",
       "Attributes:\n",
       "    region_dim:  geneslop2k</pre><div class='xr-wrap' style='display:none'><div class='xr-header'><div class='xr-obj-type'>xarray.RegionDS</div></div><ul class='xr-sections'><li class='xr-section-item'><input id='section-d77407b8-f33b-4a21-b24e-3d6675893fea' class='xr-section-summary-in' type='checkbox' disabled ><label for='section-d77407b8-f33b-4a21-b24e-3d6675893fea' class='xr-section-summary'  title='Expand/collapse section'>Dimensions:</label><div class='xr-section-inline-details'><ul class='xr-dim-list'><li><span class='xr-has-index'>mc_type</span>: 2</li><li><span class='xr-has-index'>count_type</span>: 2</li><li><span class='xr-has-index'>geneslop2k</span>: 55487</li><li><span class='xr-has-index'>sample</span>: 20</li><li><span class='xr-has-index'>chrom100k</span>: 27269</li></ul></div><div class='xr-section-details'></div></li><li class='xr-section-item'><input id='section-34d91b60-1c89-4497-81d6-0cc7fe92d7ff' class='xr-section-summary-in' type='checkbox'  checked><label for='section-34d91b60-1c89-4497-81d6-0cc7fe92d7ff' class='xr-section-summary' >Coordinates: <span>(14)</span></label><div class='xr-section-inline-details'></div><div class='xr-section-details'><ul class='xr-var-list'><li class='xr-var-item'><div class='xr-var-name'><span class='xr-has-index'>mc_type</span></div><div class='xr-var-dims'>(mc_type)</div><div class='xr-var-dtype'>object</div><div class='xr-var-preview xr-preview'>&#x27;CGN&#x27; &#x27;CHN&#x27;</div><input id='attrs-b32e669d-7885-4eed-bf7c-323812a3bdb9' class='xr-var-attrs-in' type='checkbox' disabled><label for='attrs-b32e669d-7885-4eed-bf7c-323812a3bdb9' title='Show/Hide attributes'><svg class='icon xr-icon-file-text2'><use xlink:href='#icon-file-text2'></use></svg></label><input id='data-57940762-6970-4835-8514-571d99ab0833' class='xr-var-data-in' type='checkbox'><label for='data-57940762-6970-4835-8514-571d99ab0833' title='Show/Hide data repr'><svg class='icon xr-icon-database'><use xlink:href='#icon-database'></use></svg></label><div class='xr-var-attrs'><dl class='xr-attrs'></dl></div><div class='xr-var-data'><pre>array([&#x27;CGN&#x27;, &#x27;CHN&#x27;], dtype=object)</pre></div></li><li class='xr-var-item'><div class='xr-var-name'><span class='xr-has-index'>count_type</span></div><div class='xr-var-dims'>(count_type)</div><div class='xr-var-dtype'>object</div><div class='xr-var-preview xr-preview'>&#x27;mc&#x27; &#x27;cov&#x27;</div><input id='attrs-fc59db05-e22d-4283-a509-800ba76ea59f' class='xr-var-attrs-in' type='checkbox' disabled><label for='attrs-fc59db05-e22d-4283-a509-800ba76ea59f' title='Show/Hide attributes'><svg class='icon xr-icon-file-text2'><use xlink:href='#icon-file-text2'></use></svg></label><input id='data-f82273ef-3fe9-4221-bfa1-b7cfe8cd0b2a' class='xr-var-data-in' type='checkbox'><label for='data-f82273ef-3fe9-4221-bfa1-b7cfe8cd0b2a' title='Show/Hide data repr'><svg class='icon xr-icon-database'><use xlink:href='#icon-database'></use></svg></label><div class='xr-var-attrs'><dl class='xr-attrs'></dl></div><div class='xr-var-data'><pre>array([&#x27;mc&#x27;, &#x27;cov&#x27;], dtype=object)</pre></div></li><li class='xr-var-item'><div class='xr-var-name'><span>strand_type</span></div><div class='xr-var-dims'>()</div><div class='xr-var-dtype'>&lt;U4</div><div class='xr-var-preview xr-preview'>&#x27;both&#x27;</div><input id='attrs-63a5efe8-c15e-4149-8ef8-e927d31d59e1' class='xr-var-attrs-in' type='checkbox' disabled><label for='attrs-63a5efe8-c15e-4149-8ef8-e927d31d59e1' title='Show/Hide attributes'><svg class='icon xr-icon-file-text2'><use xlink:href='#icon-file-text2'></use></svg></label><input id='data-78e66101-c810-4307-98c9-3ebd0ef63378' class='xr-var-data-in' type='checkbox'><label for='data-78e66101-c810-4307-98c9-3ebd0ef63378' title='Show/Hide data repr'><svg class='icon xr-icon-database'><use xlink:href='#icon-database'></use></svg></label><div class='xr-var-attrs'><dl class='xr-attrs'></dl></div><div class='xr-var-data'><pre>array(&#x27;both&#x27;, dtype=&#x27;&lt;U4&#x27;)</pre></div></li><li class='xr-var-item'><div class='xr-var-name'><span class='xr-has-index'>geneslop2k</span></div><div class='xr-var-dims'>(geneslop2k)</div><div class='xr-var-dtype'>object</div><div class='xr-var-preview xr-preview'>&#x27;ENSMUSG00000102693.1&#x27; ... &#x27;ENSM...</div><input id='attrs-8f3fcf12-0ec4-416b-afe5-b77247b37b7e' class='xr-var-attrs-in' type='checkbox' disabled><label for='attrs-8f3fcf12-0ec4-416b-afe5-b77247b37b7e' title='Show/Hide attributes'><svg class='icon xr-icon-file-text2'><use xlink:href='#icon-file-text2'></use></svg></label><input id='data-306dc5b8-6443-402f-8854-43b30ce1e905' class='xr-var-data-in' type='checkbox'><label for='data-306dc5b8-6443-402f-8854-43b30ce1e905' title='Show/Hide data repr'><svg class='icon xr-icon-database'><use xlink:href='#icon-database'></use></svg></label><div class='xr-var-attrs'><dl class='xr-attrs'></dl></div><div class='xr-var-data'><pre>array([&#x27;ENSMUSG00000102693.1&#x27;, &#x27;ENSMUSG00000064842.1&#x27;, &#x27;ENSMUSG00000051951.5&#x27;,\n",
       "       ..., &#x27;ENSMUSG00000064370.1&#x27;, &#x27;ENSMUSG00000064371.1&#x27;,\n",
       "       &#x27;ENSMUSG00000064372.1&#x27;], dtype=object)</pre></div></li><li class='xr-var-item'><div class='xr-var-name'><span>geneslop2k_chrom</span></div><div class='xr-var-dims'>(geneslop2k)</div><div class='xr-var-dtype'>object</div><div class='xr-var-preview xr-preview'>&#x27;chr1&#x27; &#x27;chr1&#x27; ... &#x27;chrM&#x27; &#x27;chrM&#x27;</div><input id='attrs-0270d5d3-c8a2-4d7a-9fab-5de10edd891f' class='xr-var-attrs-in' type='checkbox' disabled><label for='attrs-0270d5d3-c8a2-4d7a-9fab-5de10edd891f' title='Show/Hide attributes'><svg class='icon xr-icon-file-text2'><use xlink:href='#icon-file-text2'></use></svg></label><input id='data-1a661bde-a6f0-4cea-8236-172c34b4013a' class='xr-var-data-in' type='checkbox'><label for='data-1a661bde-a6f0-4cea-8236-172c34b4013a' title='Show/Hide data repr'><svg class='icon xr-icon-database'><use xlink:href='#icon-database'></use></svg></label><div class='xr-var-attrs'><dl class='xr-attrs'></dl></div><div class='xr-var-data'><pre>array([&#x27;chr1&#x27;, &#x27;chr1&#x27;, &#x27;chr1&#x27;, ..., &#x27;chrM&#x27;, &#x27;chrM&#x27;, &#x27;chrM&#x27;], dtype=object)</pre></div></li><li class='xr-var-item'><div class='xr-var-name'><span>geneslop2k_start</span></div><div class='xr-var-dims'>(geneslop2k)</div><div class='xr-var-dtype'>int64</div><div class='xr-var-preview xr-preview'>3071252 3100015 ... 13288 13355</div><input id='attrs-26e39d87-8321-4124-89ca-168e299cad09' class='xr-var-attrs-in' type='checkbox' disabled><label for='attrs-26e39d87-8321-4124-89ca-168e299cad09' title='Show/Hide attributes'><svg class='icon xr-icon-file-text2'><use xlink:href='#icon-file-text2'></use></svg></label><input id='data-74668be5-a849-47bc-8c8d-4f691d965497' class='xr-var-data-in' type='checkbox'><label for='data-74668be5-a849-47bc-8c8d-4f691d965497' title='Show/Hide data repr'><svg class='icon xr-icon-database'><use xlink:href='#icon-database'></use></svg></label><div class='xr-var-attrs'><dl class='xr-attrs'></dl></div><div class='xr-var-data'><pre>array([3071252, 3100015, 3203900, ...,   12144,   13288,   13355])</pre></div></li><li class='xr-var-item'><div class='xr-var-name'><span>geneslop2k_end</span></div><div class='xr-var-dims'>(geneslop2k)</div><div class='xr-var-dtype'>int64</div><div class='xr-var-preview xr-preview'>3076321 3104124 ... 16299 16299</div><input id='attrs-f1b277bc-77c9-45f2-806c-d815ad609399' class='xr-var-attrs-in' type='checkbox' disabled><label for='attrs-f1b277bc-77c9-45f2-806c-d815ad609399' title='Show/Hide attributes'><svg class='icon xr-icon-file-text2'><use xlink:href='#icon-file-text2'></use></svg></label><input id='data-c309cd44-1857-415e-b876-c361aa190399' class='xr-var-data-in' type='checkbox'><label for='data-c309cd44-1857-415e-b876-c361aa190399' title='Show/Hide data repr'><svg class='icon xr-icon-database'><use xlink:href='#icon-database'></use></svg></label><div class='xr-var-attrs'><dl class='xr-attrs'></dl></div><div class='xr-var-data'><pre>array([3076321, 3104124, 3673497, ...,   16299,   16299,   16299])</pre></div></li><li class='xr-var-item'><div class='xr-var-name'><span class='xr-has-index'>sample</span></div><div class='xr-var-dims'>(sample)</div><div class='xr-var-dtype'>object</div><div class='xr-var-preview xr-preview'>&#x27;snm3C_ASC&#x27; ... &#x27;snmC_OPC&#x27;</div><input id='attrs-626188f8-3aec-42dc-8b7f-3effa7025348' class='xr-var-attrs-in' type='checkbox' disabled><label for='attrs-626188f8-3aec-42dc-8b7f-3effa7025348' title='Show/Hide attributes'><svg class='icon xr-icon-file-text2'><use xlink:href='#icon-file-text2'></use></svg></label><input id='data-8bdbf529-fe00-4efd-959e-2fb7553a4929' class='xr-var-data-in' type='checkbox'><label for='data-8bdbf529-fe00-4efd-959e-2fb7553a4929' title='Show/Hide data repr'><svg class='icon xr-icon-database'><use xlink:href='#icon-database'></use></svg></label><div class='xr-var-attrs'><dl class='xr-attrs'></dl></div><div class='xr-var-data'><pre>array([&#x27;snm3C_ASC&#x27;, &#x27;snm3C_CA1&#x27;, &#x27;snm3C_CA23&#x27;, &#x27;snm3C_CGE-VipLamp5&#x27;,\n",
       "       &#x27;snm3C_DG&#x27;, &#x27;snm3C_MGC&#x27;, &#x27;snm3C_MGE-PvSst&#x27;, &#x27;snm3C_NonN&#x27;, &#x27;snm3C_ODC&#x27;,\n",
       "       &#x27;snm3C_OPC&#x27;, &#x27;snmC_ASC&#x27;, &#x27;snmC_CA1&#x27;, &#x27;snmC_CA23&#x27;, &#x27;snmC_CGE-VipLamp5&#x27;,\n",
       "       &#x27;snmC_DG&#x27;, &#x27;snmC_MGC&#x27;, &#x27;snmC_MGE-PvSst&#x27;, &#x27;snmC_NonN&#x27;, &#x27;snmC_ODC&#x27;,\n",
       "       &#x27;snmC_OPC&#x27;], dtype=object)</pre></div></li><li class='xr-var-item'><div class='xr-var-name'><span>sample_CGN</span></div><div class='xr-var-dims'>(sample)</div><div class='xr-var-dtype'>float64</div><div class='xr-var-preview xr-preview'>0.7203 0.7387 ... 0.7434 0.7196</div><input id='attrs-803bcd26-c53f-4882-a2ef-8d0733201fdd' class='xr-var-attrs-in' type='checkbox' disabled><label for='attrs-803bcd26-c53f-4882-a2ef-8d0733201fdd' title='Show/Hide attributes'><svg class='icon xr-icon-file-text2'><use xlink:href='#icon-file-text2'></use></svg></label><input id='data-057e41db-e1cf-40ee-a1b8-ec2a40e7dae2' class='xr-var-data-in' type='checkbox'><label for='data-057e41db-e1cf-40ee-a1b8-ec2a40e7dae2' title='Show/Hide data repr'><svg class='icon xr-icon-database'><use xlink:href='#icon-database'></use></svg></label><div class='xr-var-attrs'><dl class='xr-attrs'></dl></div><div class='xr-var-data'><pre>array([0.72027702, 0.7386765 , 0.74223235, 0.78137746, 0.70998683,\n",
       "       0.69529767, 0.79745986, 0.6957201 , 0.72761756, 0.70625517,\n",
       "       0.73871943, 0.74009099, 0.75324386, 0.80065615, 0.72773628,\n",
       "       0.71349106, 0.8149437 , 0.70807914, 0.74336865, 0.71960449])</pre></div></li><li class='xr-var-item'><div class='xr-var-name'><span>sample_CHN</span></div><div class='xr-var-dims'>(sample)</div><div class='xr-var-dtype'>float64</div><div class='xr-var-preview xr-preview'>0.007835 0.02362 ... 0.005743</div><input id='attrs-57d7ad4f-5bfc-4f2c-9df9-b4cf03e38a0c' class='xr-var-attrs-in' type='checkbox' disabled><label for='attrs-57d7ad4f-5bfc-4f2c-9df9-b4cf03e38a0c' title='Show/Hide attributes'><svg class='icon xr-icon-file-text2'><use xlink:href='#icon-file-text2'></use></svg></label><input id='data-e19b6ffd-797d-4061-a36b-66c3c52c56d3' class='xr-var-data-in' type='checkbox'><label for='data-e19b6ffd-797d-4061-a36b-66c3c52c56d3' title='Show/Hide data repr'><svg class='icon xr-icon-database'><use xlink:href='#icon-database'></use></svg></label><div class='xr-var-attrs'><dl class='xr-attrs'></dl></div><div class='xr-var-data'><pre>array([0.00783526, 0.02362182, 0.02493468, 0.02857215, 0.0106706 ,\n",
       "       0.00696775, 0.03594073, 0.00793199, 0.01268308, 0.00754718,\n",
       "       0.00681991, 0.01997363, 0.02210814, 0.02925379, 0.00979016,\n",
       "       0.00561416, 0.03664812, 0.00748145, 0.01121077, 0.00574326])</pre></div></li><li class='xr-var-item'><div class='xr-var-name'><span class='xr-has-index'>chrom100k</span></div><div class='xr-var-dims'>(chrom100k)</div><div class='xr-var-dtype'>int64</div><div class='xr-var-preview xr-preview'>0 1 2 3 ... 27265 27266 27267 27268</div><input id='attrs-0f53fbdd-5c9c-4763-841f-fed3c1293e08' class='xr-var-attrs-in' type='checkbox' disabled><label for='attrs-0f53fbdd-5c9c-4763-841f-fed3c1293e08' title='Show/Hide attributes'><svg class='icon xr-icon-file-text2'><use xlink:href='#icon-file-text2'></use></svg></label><input id='data-c506bcb0-1ff0-4449-856a-1dc2c983452b' class='xr-var-data-in' type='checkbox'><label for='data-c506bcb0-1ff0-4449-856a-1dc2c983452b' title='Show/Hide data repr'><svg class='icon xr-icon-database'><use xlink:href='#icon-database'></use></svg></label><div class='xr-var-attrs'><dl class='xr-attrs'></dl></div><div class='xr-var-data'><pre>array([    0,     1,     2, ..., 27266, 27267, 27268])</pre></div></li><li class='xr-var-item'><div class='xr-var-name'><span>chrom100k_chrom</span></div><div class='xr-var-dims'>(chrom100k)</div><div class='xr-var-dtype'>object</div><div class='xr-var-preview xr-preview'>&#x27;chr1&#x27; &#x27;chr1&#x27; ... &#x27;chrY&#x27; &#x27;chrM&#x27;</div><input id='attrs-471cb39f-fbb5-42b3-8e75-3a0427b64695' class='xr-var-attrs-in' type='checkbox' disabled><label for='attrs-471cb39f-fbb5-42b3-8e75-3a0427b64695' title='Show/Hide attributes'><svg class='icon xr-icon-file-text2'><use xlink:href='#icon-file-text2'></use></svg></label><input id='data-547d31eb-3b53-46f0-9dab-c279be9a95ec' class='xr-var-data-in' type='checkbox'><label for='data-547d31eb-3b53-46f0-9dab-c279be9a95ec' title='Show/Hide data repr'><svg class='icon xr-icon-database'><use xlink:href='#icon-database'></use></svg></label><div class='xr-var-attrs'><dl class='xr-attrs'></dl></div><div class='xr-var-data'><pre>array([&#x27;chr1&#x27;, &#x27;chr1&#x27;, &#x27;chr1&#x27;, ..., &#x27;chrY&#x27;, &#x27;chrY&#x27;, &#x27;chrM&#x27;], dtype=object)</pre></div></li><li class='xr-var-item'><div class='xr-var-name'><span>chrom100k_bin_start</span></div><div class='xr-var-dims'>(chrom100k)</div><div class='xr-var-dtype'>int64</div><div class='xr-var-preview xr-preview'>0 100000 200000 ... 91700000 0</div><input id='attrs-2faa36e7-62ec-495d-b4f3-8d876a6e5ca9' class='xr-var-attrs-in' type='checkbox' disabled><label for='attrs-2faa36e7-62ec-495d-b4f3-8d876a6e5ca9' title='Show/Hide attributes'><svg class='icon xr-icon-file-text2'><use xlink:href='#icon-file-text2'></use></svg></label><input id='data-82b92529-9154-4158-b428-6963d5de815f' class='xr-var-data-in' type='checkbox'><label for='data-82b92529-9154-4158-b428-6963d5de815f' title='Show/Hide data repr'><svg class='icon xr-icon-database'><use xlink:href='#icon-database'></use></svg></label><div class='xr-var-attrs'><dl class='xr-attrs'></dl></div><div class='xr-var-data'><pre>array([       0,   100000,   200000, ..., 91600000, 91700000,        0])</pre></div></li><li class='xr-var-item'><div class='xr-var-name'><span>chrom100k_bin_end</span></div><div class='xr-var-dims'>(chrom100k)</div><div class='xr-var-dtype'>int64</div><div class='xr-var-preview xr-preview'>100000 200000 ... 91744698 16299</div><input id='attrs-c22948f9-1a8b-48a2-83d4-232b96663893' class='xr-var-attrs-in' type='checkbox' disabled><label for='attrs-c22948f9-1a8b-48a2-83d4-232b96663893' title='Show/Hide attributes'><svg class='icon xr-icon-file-text2'><use xlink:href='#icon-file-text2'></use></svg></label><input id='data-9592e772-f73c-4242-812a-7197c30130cb' class='xr-var-data-in' type='checkbox'><label for='data-9592e772-f73c-4242-812a-7197c30130cb' title='Show/Hide data repr'><svg class='icon xr-icon-database'><use xlink:href='#icon-database'></use></svg></label><div class='xr-var-attrs'><dl class='xr-attrs'></dl></div><div class='xr-var-data'><pre>array([  100000,   200000,   300000, ..., 91700000, 91744698,    16299])</pre></div></li></ul></div></li><li class='xr-section-item'><input id='section-c44b7da9-0dab-4a79-a362-85116acbbb4f' class='xr-section-summary-in' type='checkbox'  checked><label for='section-c44b7da9-0dab-4a79-a362-85116acbbb4f' class='xr-section-summary' >Data variables: <span>(4)</span></label><div class='xr-section-inline-details'></div><div class='xr-section-details'><ul class='xr-var-list'><li class='xr-var-item'><div class='xr-var-name'><span>geneslop2k_da</span></div><div class='xr-var-dims'>(sample, geneslop2k, mc_type, count_type)</div><div class='xr-var-dtype'>float64</div><div class='xr-var-preview xr-preview'>1.193e+03 1.385e+03 ... 2.146e+04</div><input id='attrs-09f85167-efef-47c2-a954-af2af234d64e' class='xr-var-attrs-in' type='checkbox' disabled><label for='attrs-09f85167-efef-47c2-a954-af2af234d64e' title='Show/Hide attributes'><svg class='icon xr-icon-file-text2'><use xlink:href='#icon-file-text2'></use></svg></label><input id='data-f1bdc5b2-2906-4648-bc8e-286b7a1622fe' class='xr-var-data-in' type='checkbox'><label for='data-f1bdc5b2-2906-4648-bc8e-286b7a1622fe' title='Show/Hide data repr'><svg class='icon xr-icon-database'><use xlink:href='#icon-database'></use></svg></label><div class='xr-var-attrs'><dl class='xr-attrs'></dl></div><div class='xr-var-data'><pre>array([[[[1.1930000e+03, 1.3850000e+03],\n",
       "         [4.8500000e+02, 6.5949000e+04]],\n",
       "\n",
       "        [[1.4510000e+03, 1.6610000e+03],\n",
       "         [3.3900000e+02, 5.1618000e+04]],\n",
       "\n",
       "        [[1.0676200e+05, 1.4673500e+05],\n",
       "         [3.6626000e+04, 5.7407940e+06]],\n",
       "\n",
       "        ...,\n",
       "\n",
       "        [[1.6530000e+03, 6.8485000e+04],\n",
       "         [1.2274000e+04, 6.4640900e+05]],\n",
       "\n",
       "        [[8.2300000e+02, 4.0571000e+04],\n",
       "         [7.8900000e+03, 4.5093500e+05]],\n",
       "\n",
       "        [[8.0000000e+02, 3.9703000e+04],\n",
       "         [7.6570000e+03, 4.4041600e+05]]],\n",
       "\n",
       "...\n",
       "\n",
       "       [[[1.8500000e+02, 2.4000000e+02],\n",
       "         [3.7000000e+01, 1.0423000e+04]],\n",
       "\n",
       "        [[1.9000000e+02, 2.2100000e+02],\n",
       "         [3.4000000e+01, 7.5610000e+03]],\n",
       "\n",
       "        [[1.8051000e+04, 2.3380000e+04],\n",
       "         [5.0840000e+03, 8.9327000e+05]],\n",
       "\n",
       "        ...,\n",
       "\n",
       "        [[1.4600000e+02, 3.9620000e+03],\n",
       "         [9.1300000e+02, 3.2601000e+04]],\n",
       "\n",
       "        [[7.9000000e+01, 2.3630000e+03],\n",
       "         [5.8800000e+02, 2.1761000e+04]],\n",
       "\n",
       "        [[7.7000000e+01, 2.3230000e+03],\n",
       "         [5.7600000e+02, 2.1461000e+04]]]])</pre></div></li><li class='xr-var-item'><div class='xr-var-name'><span>chrom100k_da</span></div><div class='xr-var-dims'>(sample, chrom100k, mc_type, count_type)</div><div class='xr-var-dtype'>float64</div><div class='xr-var-preview xr-preview'>0.0 0.0 0.0 ... 3.125e+03 1.016e+05</div><input id='attrs-a86adedb-2722-488e-8f7f-b5304684c254' class='xr-var-attrs-in' type='checkbox' disabled><label for='attrs-a86adedb-2722-488e-8f7f-b5304684c254' title='Show/Hide attributes'><svg class='icon xr-icon-file-text2'><use xlink:href='#icon-file-text2'></use></svg></label><input id='data-a10d6cc0-31bc-4603-bfde-b7cb121e4473' class='xr-var-data-in' type='checkbox'><label for='data-a10d6cc0-31bc-4603-bfde-b7cb121e4473' title='Show/Hide data repr'><svg class='icon xr-icon-database'><use xlink:href='#icon-database'></use></svg></label><div class='xr-var-attrs'><dl class='xr-attrs'></dl></div><div class='xr-var-data'><pre>array([[[[0.000000e+00, 0.000000e+00],\n",
       "         [0.000000e+00, 0.000000e+00]],\n",
       "\n",
       "        [[0.000000e+00, 0.000000e+00],\n",
       "         [0.000000e+00, 0.000000e+00]],\n",
       "\n",
       "        [[0.000000e+00, 0.000000e+00],\n",
       "         [0.000000e+00, 0.000000e+00]],\n",
       "\n",
       "        ...,\n",
       "\n",
       "        [[0.000000e+00, 0.000000e+00],\n",
       "         [0.000000e+00, 0.000000e+00]],\n",
       "\n",
       "        [[0.000000e+00, 0.000000e+00],\n",
       "         [0.000000e+00, 0.000000e+00]],\n",
       "\n",
       "        [[5.664000e+03, 2.102670e+05],\n",
       "         [4.131200e+04, 1.888354e+06]]],\n",
       "\n",
       "...\n",
       "\n",
       "       [[[0.000000e+00, 0.000000e+00],\n",
       "         [0.000000e+00, 0.000000e+00]],\n",
       "\n",
       "        [[0.000000e+00, 0.000000e+00],\n",
       "         [0.000000e+00, 0.000000e+00]],\n",
       "\n",
       "        [[0.000000e+00, 0.000000e+00],\n",
       "         [0.000000e+00, 0.000000e+00]],\n",
       "\n",
       "        ...,\n",
       "\n",
       "        [[0.000000e+00, 0.000000e+00],\n",
       "         [0.000000e+00, 0.000000e+00]],\n",
       "\n",
       "        [[0.000000e+00, 0.000000e+00],\n",
       "         [0.000000e+00, 0.000000e+00]],\n",
       "\n",
       "        [[4.190000e+02, 1.206300e+04],\n",
       "         [3.125000e+03, 1.015860e+05]]]])</pre></div></li><li class='xr-var-item'><div class='xr-var-name'><span>geneslop2k_da_frac</span></div><div class='xr-var-dims'>(sample, geneslop2k, mc_type)</div><div class='xr-var-dtype'>float64</div><div class='xr-var-preview xr-preview'>1.252 0.9426 1.27 ... 0.05111 4.546</div><input id='attrs-209d3f00-f322-4504-a29a-2b8d9b136db2' class='xr-var-attrs-in' type='checkbox' disabled><label for='attrs-209d3f00-f322-4504-a29a-2b8d9b136db2' title='Show/Hide attributes'><svg class='icon xr-icon-file-text2'><use xlink:href='#icon-file-text2'></use></svg></label><input id='data-573173d5-bdb8-403c-b815-9eb35e88a447' class='xr-var-data-in' type='checkbox'><label for='data-573173d5-bdb8-403c-b815-9eb35e88a447' title='Show/Hide data repr'><svg class='icon xr-icon-database'><use xlink:href='#icon-database'></use></svg></label><div class='xr-var-attrs'><dl class='xr-attrs'></dl></div><div class='xr-var-data'><pre>array([[[1.25219807, 0.94261248],\n",
       "        [1.27002211, 0.84193406],\n",
       "        [1.05833895, 0.81769466],\n",
       "        ...,\n",
       "        [0.03516715, 2.43346102],\n",
       "        [0.02960564, 2.24232928],\n",
       "        [0.02941026, 2.22808224]],\n",
       "\n",
       "       [[1.22488888, 1.18910391],\n",
       "        [1.18153842, 1.50760544],\n",
       "        [1.01539405, 0.72134256],\n",
       "        ...,\n",
       "        [0.02887709, 0.82077725],\n",
       "        [0.02440405, 0.74615862],\n",
       "        [0.02426797, 0.74721835]],\n",
       "\n",
       "       [[1.1946092 , 1.49740746],\n",
       "        [1.26495285, 1.50378073],\n",
       "        [1.01086379, 0.70067793],\n",
       "        ...,\n",
       "...\n",
       "        ...,\n",
       "        [0.05201749, 3.85798599],\n",
       "        [0.04560926, 3.61770185],\n",
       "        [0.04606893, 3.64285723]],\n",
       "\n",
       "       [[1.14765229, 0.59260797],\n",
       "        [1.25406652, 0.85432549],\n",
       "        [1.15804136, 1.56300458],\n",
       "        ...,\n",
       "        [0.06438765, 3.47377861],\n",
       "        [0.06960209, 3.61996134],\n",
       "        [0.06915771, 3.57642823]],\n",
       "\n",
       "       [[1.14162114, 0.66214186],\n",
       "        [1.27064057, 0.81947595],\n",
       "        [1.14617436, 1.00326578],\n",
       "        ...,\n",
       "        [0.05581611, 4.80563787],\n",
       "        [0.05150077, 4.57853936],\n",
       "        [0.05111019, 4.54569428]]])</pre></div></li><li class='xr-var-item'><div class='xr-var-name'><span>chrom100k_da_frac</span></div><div class='xr-var-dims'>(sample, chrom100k, mc_type)</div><div class='xr-var-dtype'>float64</div><div class='xr-var-preview xr-preview'>1.0 1.0 1.0 ... 1.0 0.04887 5.264</div><input id='attrs-965612af-5984-487f-93c7-0e77f036d1f7' class='xr-var-attrs-in' type='checkbox' disabled><label for='attrs-965612af-5984-487f-93c7-0e77f036d1f7' title='Show/Hide attributes'><svg class='icon xr-icon-file-text2'><use xlink:href='#icon-file-text2'></use></svg></label><input id='data-17710795-48d7-40ca-8947-a3f450dd4e7b' class='xr-var-data-in' type='checkbox'><label for='data-17710795-48d7-40ca-8947-a3f450dd4e7b' title='Show/Hide data repr'><svg class='icon xr-icon-database'><use xlink:href='#icon-database'></use></svg></label><div class='xr-var-attrs'><dl class='xr-attrs'></dl></div><div class='xr-var-data'><pre>array([[[1.        , 1.        ],\n",
       "        [1.        , 1.        ],\n",
       "        [1.        , 1.        ],\n",
       "        ...,\n",
       "        [1.        , 1.        ],\n",
       "        [1.        , 1.        ],\n",
       "        [0.03603531, 2.80319811]],\n",
       "\n",
       "       [[1.        , 1.        ],\n",
       "        [1.        , 1.        ],\n",
       "        [1.        , 1.        ],\n",
       "        ...,\n",
       "        [1.        , 1.        ],\n",
       "        [1.        , 1.        ],\n",
       "        [0.03011631, 0.83989358]],\n",
       "\n",
       "       [[1.        , 1.        ],\n",
       "        [1.        , 1.        ],\n",
       "        [1.        , 1.        ],\n",
       "        ...,\n",
       "...\n",
       "        ...,\n",
       "        [1.        , 1.        ],\n",
       "        [1.        , 1.        ],\n",
       "        [0.05617179, 4.39955729]],\n",
       "\n",
       "       [[1.        , 1.        ],\n",
       "        [1.        , 1.        ],\n",
       "        [1.        , 1.        ],\n",
       "        ...,\n",
       "        [1.        , 1.        ],\n",
       "        [1.        , 1.        ],\n",
       "        [0.06058024, 3.63652247]],\n",
       "\n",
       "       [[1.        , 1.        ],\n",
       "        [1.        , 1.        ],\n",
       "        [1.        , 1.        ],\n",
       "        ...,\n",
       "        [1.        , 1.        ],\n",
       "        [1.        , 1.        ],\n",
       "        [0.04887091, 5.26428485]]])</pre></div></li></ul></div></li><li class='xr-section-item'><input id='section-91f142ff-d297-4a5e-82ff-6acb19df87af' class='xr-section-summary-in' type='checkbox'  checked><label for='section-91f142ff-d297-4a5e-82ff-6acb19df87af' class='xr-section-summary' >Attributes: <span>(1)</span></label><div class='xr-section-inline-details'></div><div class='xr-section-details'><dl class='xr-attrs'><dt><span>region_dim :</span></dt><dd>geneslop2k</dd></dl></div></li></ul></div></div>"
      ],
      "text/plain": [
       "<xarray.RegionDS>\n",
       "Dimensions:              (mc_type: 2, count_type: 2, geneslop2k: 55487, sample: 20, chrom100k: 27269)\n",
       "Coordinates: (12/14)\n",
       "  * mc_type              (mc_type) object 'CGN' 'CHN'\n",
       "  * count_type           (count_type) object 'mc' 'cov'\n",
       "    strand_type          <U4 'both'\n",
       "  * geneslop2k           (geneslop2k) object 'ENSMUSG00000102693.1' ... 'ENSM...\n",
       "    geneslop2k_chrom     (geneslop2k) object 'chr1' 'chr1' ... 'chrM' 'chrM'\n",
       "    geneslop2k_start     (geneslop2k) int64 3071252 3100015 ... 13288 13355\n",
       "    ...                   ...\n",
       "    sample_CGN           (sample) float64 0.7203 0.7387 0.7422 ... 0.7434 0.7196\n",
       "    sample_CHN           (sample) float64 0.007835 0.02362 ... 0.01121 0.005743\n",
       "  * chrom100k            (chrom100k) int64 0 1 2 3 4 ... 27265 27266 27267 27268\n",
       "    chrom100k_chrom      (chrom100k) object 'chr1' 'chr1' ... 'chrY' 'chrM'\n",
       "    chrom100k_bin_start  (chrom100k) int64 0 100000 200000 ... 91700000 0\n",
       "    chrom100k_bin_end    (chrom100k) int64 100000 200000 ... 91744698 16299\n",
       "Data variables:\n",
       "    geneslop2k_da        (sample, geneslop2k, mc_type, count_type) float64 1....\n",
       "    chrom100k_da         (sample, chrom100k, mc_type, count_type) float64 0.0...\n",
       "    geneslop2k_da_frac   (sample, geneslop2k, mc_type) float64 1.252 ... 4.546\n",
       "    chrom100k_da_frac    (sample, chrom100k, mc_type) float64 1.0 1.0 ... 5.264\n",
       "Attributes:\n",
       "    region_dim:  geneslop2k"
      ]
     },
     "execution_count": 6,
     "metadata": {},
     "output_type": "execute_result"
    }
   ],
   "source": [
    "cluster_mcds"
   ]
  },
  {
   "cell_type": "code",
   "execution_count": 7,
   "metadata": {
    "ExecuteTime": {
     "end_time": "2022-01-13T21:06:36.779183Z",
     "start_time": "2022-01-13T21:06:36.595253Z"
    }
   },
   "outputs": [
    {
     "data": {
      "text/plain": [
       "<xarray.backends.zarr.ZarrStore at 0x7fb99abac040>"
      ]
     },
     "execution_count": 7,
     "metadata": {},
     "output_type": "execute_result"
    }
   ],
   "source": [
    "cluster_mcds.to_zarr('test_HIP_Cluster')"
   ]
  },
  {
   "cell_type": "markdown",
   "metadata": {},
   "source": [
    "## Cluster Enrichment"
   ]
  },
  {
   "cell_type": "code",
   "execution_count": 8,
   "metadata": {
    "ExecuteTime": {
     "end_time": "2022-01-13T21:06:36.885976Z",
     "start_time": "2022-01-13T21:06:36.780476Z"
    }
   },
   "outputs": [],
   "source": [
    "mcds.add_mc_frac(var_dim='geneslop2k')"
   ]
  },
  {
   "cell_type": "code",
   "execution_count": 9,
   "metadata": {
    "ExecuteTime": {
     "end_time": "2022-01-13T21:08:19.112530Z",
     "start_time": "2022-01-13T21:06:36.887284Z"
    }
   },
   "outputs": [
    {
     "name": "stderr",
     "output_type": "stream",
     "text": [
      "/home/hanliu/miniconda3/envs/allcools_new/lib/python3.8/site-packages/dask/core.py:119: RuntimeWarning: invalid value encountered in true_divide\n",
      "  return func(*(_execute_task(a, cache) for a in args))\n",
      "/home/hanliu/miniconda3/envs/allcools_new/lib/python3.8/site-packages/dask/core.py:119: RuntimeWarning: divide by zero encountered in true_divide\n",
      "  return func(*(_execute_task(a, cache) for a in args))\n",
      "/home/hanliu/miniconda3/envs/allcools_new/lib/python3.8/site-packages/dask/array/numpy_compat.py:39: RuntimeWarning: invalid value encountered in true_divide\n",
      "  x = np.divide(x1, x2, out)\n"
     ]
    }
   ],
   "source": [
    "adata = mcds.get_adata(mc_type='CHN',\n",
    "                       var_dim='geneslop2k',\n",
    "                       da_suffix='frac',\n",
    "                       obs_dim='cell',\n",
    "                       select_hvf=False)"
   ]
  },
  {
   "cell_type": "code",
   "execution_count": 10,
   "metadata": {
    "ExecuteTime": {
     "end_time": "2022-01-13T21:08:19.212988Z",
     "start_time": "2022-01-13T21:08:19.114661Z"
    }
   },
   "outputs": [],
   "source": [
    "adata.obs['cluster'] = adata.obs['sample'].str.split('_').str[1]\n",
    "\n",
    "cell_ids = adata.obs.groupby('cluster').apply(lambda i: i if i.shape[\n",
    "    0] < 1500 else i.sample(1500)).index.get_level_values(1)\n",
    "adata = adata[cell_ids, :]"
   ]
  },
  {
   "cell_type": "code",
   "execution_count": 11,
   "metadata": {
    "ExecuteTime": {
     "end_time": "2022-01-13T21:09:18.088644Z",
     "start_time": "2022-01-13T21:08:19.214524Z"
    }
   },
   "outputs": [
    {
     "name": "stdout",
     "output_type": "stream",
     "text": [
      "Found 10 clusters to compute feature enrichment score\n",
      "Computing enrichment score\n",
      "Computing enrichment score FDR-corrected P values\n"
     ]
    },
    {
     "name": "stderr",
     "output_type": "stream",
     "text": [
      "findfont: Font family ['sans-serif'] not found. Falling back to DejaVu Sans.\n",
      "findfont: Generic family 'sans-serif' not found because none of the following families were found: Helvetica\n",
      "findfont: Font family ['sans-serif'] not found. Falling back to DejaVu Sans.\n",
      "findfont: Generic family 'sans-serif' not found because none of the following families were found: Helvetica\n",
      "Trying to set attribute `._uns` of view, copying.\n"
     ]
    },
    {
     "name": "stdout",
     "output_type": "stream",
     "text": [
      "Selected 1653 unique features\n"
     ]
    },
    {
     "data": {
      "image/png": "[encoded data removed]",
      "text/plain": [
       "<Figure size 1080x360 with 3 Axes>"
      ]
     },
     "metadata": {
      "needs_background": "light"
     },
     "output_type": "display_data"
    }
   ],
   "source": [
    "cluster_enriched_features(adata,\n",
    "                          cluster_col='cluster',\n",
    "                          top_n=200,\n",
    "                          alpha=0.05,\n",
    "                          stat_plot=True,\n",
    "                          method='mc')"
   ]
  },
  {
   "cell_type": "code",
   "execution_count": 12,
   "metadata": {
    "ExecuteTime": {
     "end_time": "2022-01-13T21:09:18.201173Z",
     "start_time": "2022-01-13T21:09:18.090898Z"
    }
   },
   "outputs": [],
   "source": [
    "qvals = pd.DataFrame(\n",
    "    adata.uns['cluster_feature_enrichment']['qvals'],\n",
    "    index=adata.var_names,\n",
    "    columns=adata.uns['cluster_feature_enrichment']\n",
    "    ['cluster_order'])\n",
    "\n",
    "qvals.to_hdf('mCH.cluster_enrichment_qvals.hdf', key='data')"
   ]
  },
  {
   "cell_type": "code",
   "execution_count": null,
   "metadata": {},
   "outputs": [],
   "source": []
  },
  {
   "cell_type": "code",
   "execution_count": null,
   "metadata": {},
   "outputs": [],
   "source": []
  },
  {
   "cell_type": "code",
   "execution_count": null,
   "metadata": {},
   "outputs": [],
   "source": []
  },
  {
   "cell_type": "code",
   "execution_count": null,
   "metadata": {},
   "outputs": [],
   "source": []
  },
  {
   "cell_type": "code",
   "execution_count": null,
   "metadata": {},
   "outputs": [],
   "source": []
  },
  {
   "cell_type": "code",
   "execution_count": null,
   "metadata": {},
   "outputs": [],
   "source": []
  },
  {
   "cell_type": "code",
   "execution_count": null,
   "metadata": {},
   "outputs": [],
   "source": []
  },
  {
   "cell_type": "code",
   "execution_count": null,
   "metadata": {},
   "outputs": [],
   "source": []
  },
  {
   "cell_type": "code",
   "execution_count": null,
   "metadata": {},
   "outputs": [],
   "source": []
  },
  {
   "cell_type": "code",
   "execution_count": null,
   "metadata": {},
   "outputs": [],
   "source": []
  },
  {
   "cell_type": "code",
   "execution_count": null,
   "metadata": {},
   "outputs": [],
   "source": []
  },
  {
   "cell_type": "code",
   "execution_count": null,
   "metadata": {},
   "outputs": [],
   "source": []
  },
  {
   "cell_type": "code",
   "execution_count": null,
   "metadata": {},
   "outputs": [],
   "source": []
  },
  {
   "cell_type": "code",
   "execution_count": null,
   "metadata": {},
   "outputs": [],
   "source": []
  },
  {
   "cell_type": "code",
   "execution_count": null,
   "metadata": {},
   "outputs": [],
   "source": []
  }
 ],
 "metadata": {
  "hide_input": false,
  "kernelspec": {
   "display_name": "Python 3 (ipykernel)",
   "language": "python",
   "name": "python3"
  },
  "language_info": {
   "codemirror_mode": {
    "name": "ipython",
    "version": 3
   },
   "file_extension": ".py",
   "mimetype": "text/x-python",
   "name": "python",
   "nbconvert_exporter": "python",
   "pygments_lexer": "ipython3",
   "version": "3.8.12"
  },
  "toc": {
   "base_numbering": 1,
   "nav_menu": {},
   "number_sections": true,
   "sideBar": true,
   "skip_h1_title": true,
   "title_cell": "Table of Contents",
   "title_sidebar": "Contents",
   "toc_cell": false,
   "toc_position": {},
   "toc_section_display": true,
   "toc_window_display": true
  }
 },
 "nbformat": 4,
 "nbformat_minor": 4
}

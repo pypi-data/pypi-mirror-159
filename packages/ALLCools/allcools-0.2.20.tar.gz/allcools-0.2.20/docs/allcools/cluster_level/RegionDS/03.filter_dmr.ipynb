{
 "cells": [
  {
   "cell_type": "markdown",
   "id": "14f325a7",
   "metadata": {},
   "source": [
    "# Filter DMR\n",
    "With the {{ RegionDS }}, you can further filter DMRs based on additional information. For example, remove those DMRs overlapping with ENCODE blacklist regions and readjust dmr state based on replicate information."
   ]
  },
  {
   "cell_type": "markdown",
   "id": "9d40e085",
   "metadata": {},
   "source": [
    "## Import"
   ]
  },
  {
   "cell_type": "code",
   "execution_count": 1,
   "id": "5355c0c2",
   "metadata": {
    "ExecuteTime": {
     "end_time": "2022-01-10T00:15:59.648632Z",
     "start_time": "2022-01-10T00:15:58.077365Z"
    }
   },
   "outputs": [],
   "source": [
    "from ALLCools.mcds import RegionDS\n",
    "from ALLCools.dmr import collapse_replicates"
   ]
  },
  {
   "cell_type": "markdown",
   "id": "c0ccf95a",
   "metadata": {
    "ExecuteTime": {
     "end_time": "2022-01-09T23:29:12.038335Z",
     "start_time": "2022-01-09T23:29:12.035661Z"
    }
   },
   "source": [
    "## Open RegionDS"
   ]
  },
  {
   "cell_type": "code",
   "execution_count": 2,
   "id": "908b38c2",
   "metadata": {
    "ExecuteTime": {
     "end_time": "2022-01-10T00:15:59.782429Z",
     "start_time": "2022-01-10T00:15:59.650798Z"
    },
    "scrolled": true
   },
   "outputs": [
    {
     "name": "stdout",
     "output_type": "stream",
     "text": [
      "Using dmr as region_dim\n"
     ]
    }
   ],
   "source": [
    "region_ds = RegionDS.open('test_HIP', select_dir=['dmr', 'dmr_genome-features'])"
   ]
  },
  {
   "cell_type": "markdown",
   "id": "0b285e5f",
   "metadata": {},
   "source": [
    "## Remove Blacklist\n",
    "Only if your genome has a blacklist and you've annotated the RegionDS with blacklist bed file through {func}`RegionDS.annotate_by_beds <ALLCools.mcds.region_ds.RegionDS.annotate_by_beds>`."
   ]
  },
  {
   "cell_type": "code",
   "execution_count": 3,
   "id": "56f3ad82",
   "metadata": {
    "ExecuteTime": {
     "end_time": "2022-01-10T00:15:59.792161Z",
     "start_time": "2022-01-10T00:15:59.783377Z"
    }
   },
   "outputs": [
    {
     "data": {
      "text/plain": [
       "dmr\n",
       "chr1-0       False\n",
       "chr1-1       False\n",
       "chr1-2       False\n",
       "chr1-3       False\n",
       "chr1-4       False\n",
       "             ...  \n",
       "chr19-119    False\n",
       "chr19-120    False\n",
       "chr19-121    False\n",
       "chr19-122    False\n",
       "chr19-123    False\n",
       "Length: 132, dtype: bool"
      ]
     },
     "execution_count": 3,
     "metadata": {},
     "output_type": "execute_result"
    }
   ],
   "source": [
    "# blacklist is annotated in the genome-features dataset\n",
    "is_blacklist= region_ds.get_feature('blacklist', 'genome-features').astype(bool)\n",
    "is_blacklist"
   ]
  },
  {
   "cell_type": "markdown",
   "id": "5e457d47",
   "metadata": {},
   "source": [
    "### Filter by change DMR state\n",
    "Here we do not really delete the \"bad\" DMRs, instead, just change the DMR state to 0 so they will not be included in the following selections. It is the recommended way to handel in-memory filtering"
   ]
  },
  {
   "cell_type": "code",
   "execution_count": 4,
   "id": "612b83fd",
   "metadata": {
    "ExecuteTime": {
     "end_time": "2022-01-10T00:15:59.797397Z",
     "start_time": "2022-01-10T00:15:59.793204Z"
    }
   },
   "outputs": [],
   "source": [
    "# assign blacklist-overlapping DMR state to 0 (not significant)\n",
    "region_ds['dmr_state'].loc[{'dmr': is_blacklist.values}] = 0"
   ]
  },
  {
   "cell_type": "markdown",
   "id": "719c7f64",
   "metadata": {},
   "source": [
    "### Save the state change\n",
    "If you do want to save the state change to the RegionDS on-disk storage, you would need to esplicitly save the whole dataset."
   ]
  },
  {
   "cell_type": "code",
   "execution_count": 5,
   "id": "ac66326d",
   "metadata": {
    "ExecuteTime": {
     "end_time": "2022-01-10T00:15:59.838823Z",
     "start_time": "2022-01-10T00:15:59.798282Z"
    }
   },
   "outputs": [],
   "source": [
    "# mode='a' will overwrite the existing dataarray. See xarray.Dataset.to_zarr for details\n",
    "region_ds.save(da_name='dmr_state', mode='a')"
   ]
  },
  {
   "cell_type": "markdown",
   "id": "08ef3926",
   "metadata": {},
   "source": [
    "### Filter by recreate in-memory RegionDS view\n",
    "\n",
    "Alternatively, you can also recreate an RegionDS object by selecting the regions you need, like [what you can do with any xarray objects](https://xarray.pydata.org/en/stable/user-guide/indexing.html).\n",
    "\n",
    "```{important} Changes only happen in-memory\n",
    "The xarray selection will not apply to on-disk storage of RegionDS unless esplicitly wrote. However, giving xarray's lazy loading and dask backend, subsetting DMRs on-the-fly will not slow down computation. On the other hand, change the on-disk storage (zarr dataset) is (usually) much more expensive because the large matrix may need to be chunked again.\n",
    "```"
   ]
  },
  {
   "cell_type": "code",
   "execution_count": 6,
   "id": "a134a738",
   "metadata": {
    "ExecuteTime": {
     "end_time": "2022-01-10T00:15:59.842482Z",
     "start_time": "2022-01-10T00:15:59.839772Z"
    }
   },
   "outputs": [],
   "source": [
    "# select non-blacklist regions \n",
    "new_region_ds = region_ds.sel({'dmr': ~is_blacklist.values})"
   ]
  },
  {
   "cell_type": "markdown",
   "id": "0a53c091",
   "metadata": {},
   "source": [
    "## Replicate Consistency"
   ]
  },
  {
   "cell_type": "code",
   "execution_count": 7,
   "id": "b17b0e83",
   "metadata": {
    "ExecuteTime": {
     "end_time": "2022-01-10T00:15:59.848924Z",
     "start_time": "2022-01-10T00:15:59.844055Z"
    }
   },
   "outputs": [
    {
     "data": {
      "text/plain": [
       "ASC             2\n",
       "CA1             2\n",
       "CA23            2\n",
       "CGE-VipLamp5    2\n",
       "DG              2\n",
       "MGC             2\n",
       "MGE-PvSst       2\n",
       "NonN            2\n",
       "ODC             2\n",
       "OPC             2\n",
       "dtype: int64"
      ]
     },
     "execution_count": 7,
     "metadata": {},
     "output_type": "execute_result"
    }
   ],
   "source": [
    "# each cell cluster has two \"replicates\"\n",
    "sample_to_replicate = region_ds.get_feature('sample').apply(lambda i: i.split('_')[1])\n",
    "sample_to_replicate.value_counts()"
   ]
  },
  {
   "cell_type": "code",
   "execution_count": 8,
   "id": "2430bfbb",
   "metadata": {
    "ExecuteTime": {
     "end_time": "2022-01-10T00:15:59.909520Z",
     "start_time": "2022-01-10T00:15:59.849855Z"
    }
   },
   "outputs": [
    {
     "name": "stdout",
     "output_type": "stream",
     "text": [
      "Collapsed sample state added in exist RegionDS at /home/hanliu/pkg/ALLCools_pycharm/docs/allcools/cluster_level/RegionDS/test_HIP\n"
     ]
    }
   ],
   "source": [
    "# add sample level DMR state matrix\n",
    "collapse_replicates(region_ds=region_ds,\n",
    "                    replicate_label=sample_to_replicate,\n",
    "                    state_da='dmr_state')"
   ]
  },
  {
   "cell_type": "markdown",
   "id": "c49d33a9",
   "metadata": {},
   "source": [
    "## Final DMR hypo- hyper- state matrix\n",
    "set `dmr_state_collapsed` in futher sample based analysis or set `use_collapsed=True`"
   ]
  },
  {
   "cell_type": "code",
   "execution_count": 9,
   "id": "023b96e0",
   "metadata": {
    "ExecuteTime": {
     "end_time": "2022-01-10T00:15:59.928739Z",
     "start_time": "2022-01-10T00:15:59.910488Z"
    }
   },
   "outputs": [
    {
     "data": {
      "text/html": [
       "<div><svg style=\"position: absolute; width: 0; height: 0; overflow: hidden\">\n",
       "<defs>\n",
       "<symbol id=\"icon-database\" viewBox=\"0 0 32 32\">\n",
       "<path d=\"M16 0c-8.837 0-16 2.239-16 5v4c0 2.761 7.163 5 16 5s16-2.239 16-5v-4c0-2.761-7.163-5-16-5z\"></path>\n",
       "<path d=\"M16 17c-8.837 0-16-2.239-16-5v6c0 2.761 7.163 5 16 5s16-2.239 16-5v-6c0 2.761-7.163 5-16 5z\"></path>\n",
       "<path d=\"M16 26c-8.837 0-16-2.239-16-5v6c0 2.761 7.163 5 16 5s16-2.239 16-5v-6c0 2.761-7.163 5-16 5z\"></path>\n",
       "</symbol>\n",
       "<symbol id=\"icon-file-text2\" viewBox=\"0 0 32 32\">\n",
       "<path d=\"M28.681 7.159c-0.694-0.947-1.662-2.053-2.724-3.116s-2.169-2.030-3.116-2.724c-1.612-1.182-2.393-1.319-2.841-1.319h-15.5c-1.378 0-2.5 1.121-2.5 2.5v27c0 1.378 1.122 2.5 2.5 2.5h23c1.378 0 2.5-1.122 2.5-2.5v-19.5c0-0.448-0.137-1.23-1.319-2.841zM24.543 5.457c0.959 0.959 1.712 1.825 2.268 2.543h-4.811v-4.811c0.718 0.556 1.584 1.309 2.543 2.268zM28 29.5c0 0.271-0.229 0.5-0.5 0.5h-23c-0.271 0-0.5-0.229-0.5-0.5v-27c0-0.271 0.229-0.5 0.5-0.5 0 0 15.499-0 15.5 0v7c0 0.552 0.448 1 1 1h7v19.5z\"></path>\n",
       "<path d=\"M23 26h-14c-0.552 0-1-0.448-1-1s0.448-1 1-1h14c0.552 0 1 0.448 1 1s-0.448 1-1 1z\"></path>\n",
       "<path d=\"M23 22h-14c-0.552 0-1-0.448-1-1s0.448-1 1-1h14c0.552 0 1 0.448 1 1s-0.448 1-1 1z\"></path>\n",
       "<path d=\"M23 18h-14c-0.552 0-1-0.448-1-1s0.448-1 1-1h14c0.552 0 1 0.448 1 1s-0.448 1-1 1z\"></path>\n",
       "</symbol>\n",
       "</defs>\n",
       "</svg>\n",
       "<style>/* CSS stylesheet for displaying xarray objects in jupyterlab.\n",
       " *\n",
       " */\n",
       "\n",
       ":root {\n",
       "  --xr-font-color0: var(--jp-content-font-color0, rgba(0, 0, 0, 1));\n",
       "  --xr-font-color2: var(--jp-content-font-color2, rgba(0, 0, 0, 0.54));\n",
       "  --xr-font-color3: var(--jp-content-font-color3, rgba(0, 0, 0, 0.38));\n",
       "  --xr-border-color: var(--jp-border-color2, #e0e0e0);\n",
       "  --xr-disabled-color: var(--jp-layout-color3, #bdbdbd);\n",
       "  --xr-background-color: var(--jp-layout-color0, white);\n",
       "  --xr-background-color-row-even: var(--jp-layout-color1, white);\n",
       "  --xr-background-color-row-odd: var(--jp-layout-color2, #eeeeee);\n",
       "}\n",
       "\n",
       "html[theme=dark],\n",
       "body.vscode-dark {\n",
       "  --xr-font-color0: rgba(255, 255, 255, 1);\n",
       "  --xr-font-color2: rgba(255, 255, 255, 0.54);\n",
       "  --xr-font-color3: rgba(255, 255, 255, 0.38);\n",
       "  --xr-border-color: #1F1F1F;\n",
       "  --xr-disabled-color: #515151;\n",
       "  --xr-background-color: #111111;\n",
       "  --xr-background-color-row-even: #111111;\n",
       "  --xr-background-color-row-odd: #313131;\n",
       "}\n",
       "\n",
       ".xr-wrap {\n",
       "  display: block !important;\n",
       "  min-width: 300px;\n",
       "  max-width: 700px;\n",
       "}\n",
       "\n",
       ".xr-text-repr-fallback {\n",
       "  /* fallback to plain text repr when CSS is not injected (untrusted notebook) */\n",
       "  display: none;\n",
       "}\n",
       "\n",
       ".xr-header {\n",
       "  padding-top: 6px;\n",
       "  padding-bottom: 6px;\n",
       "  margin-bottom: 4px;\n",
       "  border-bottom: solid 1px var(--xr-border-color);\n",
       "}\n",
       "\n",
       ".xr-header > div,\n",
       ".xr-header > ul {\n",
       "  display: inline;\n",
       "  margin-top: 0;\n",
       "  margin-bottom: 0;\n",
       "}\n",
       "\n",
       ".xr-obj-type,\n",
       ".xr-array-name {\n",
       "  margin-left: 2px;\n",
       "  margin-right: 10px;\n",
       "}\n",
       "\n",
       ".xr-obj-type {\n",
       "  color: var(--xr-font-color2);\n",
       "}\n",
       "\n",
       ".xr-sections {\n",
       "  padding-left: 0 !important;\n",
       "  display: grid;\n",
       "  grid-template-columns: 150px auto auto 1fr 20px 20px;\n",
       "}\n",
       "\n",
       ".xr-section-item {\n",
       "  display: contents;\n",
       "}\n",
       "\n",
       ".xr-section-item input {\n",
       "  display: none;\n",
       "}\n",
       "\n",
       ".xr-section-item input + label {\n",
       "  color: var(--xr-disabled-color);\n",
       "}\n",
       "\n",
       ".xr-section-item input:enabled + label {\n",
       "  cursor: pointer;\n",
       "  color: var(--xr-font-color2);\n",
       "}\n",
       "\n",
       ".xr-section-item input:enabled + label:hover {\n",
       "  color: var(--xr-font-color0);\n",
       "}\n",
       "\n",
       ".xr-section-summary {\n",
       "  grid-column: 1;\n",
       "  color: var(--xr-font-color2);\n",
       "  font-weight: 500;\n",
       "}\n",
       "\n",
       ".xr-section-summary > span {\n",
       "  display: inline-block;\n",
       "  padding-left: 0.5em;\n",
       "}\n",
       "\n",
       ".xr-section-summary-in:disabled + label {\n",
       "  color: var(--xr-font-color2);\n",
       "}\n",
       "\n",
       ".xr-section-summary-in + label:before {\n",
       "  display: inline-block;\n",
       "  content: '►';\n",
       "  font-size: 11px;\n",
       "  width: 15px;\n",
       "  text-align: center;\n",
       "}\n",
       "\n",
       ".xr-section-summary-in:disabled + label:before {\n",
       "  color: var(--xr-disabled-color);\n",
       "}\n",
       "\n",
       ".xr-section-summary-in:checked + label:before {\n",
       "  content: '▼';\n",
       "}\n",
       "\n",
       ".xr-section-summary-in:checked + label > span {\n",
       "  display: none;\n",
       "}\n",
       "\n",
       ".xr-section-summary,\n",
       ".xr-section-inline-details {\n",
       "  padding-top: 4px;\n",
       "  padding-bottom: 4px;\n",
       "}\n",
       "\n",
       ".xr-section-inline-details {\n",
       "  grid-column: 2 / -1;\n",
       "}\n",
       "\n",
       ".xr-section-details {\n",
       "  display: none;\n",
       "  grid-column: 1 / -1;\n",
       "  margin-bottom: 5px;\n",
       "}\n",
       "\n",
       ".xr-section-summary-in:checked ~ .xr-section-details {\n",
       "  display: contents;\n",
       "}\n",
       "\n",
       ".xr-array-wrap {\n",
       "  grid-column: 1 / -1;\n",
       "  display: grid;\n",
       "  grid-template-columns: 20px auto;\n",
       "}\n",
       "\n",
       ".xr-array-wrap > label {\n",
       "  grid-column: 1;\n",
       "  vertical-align: top;\n",
       "}\n",
       "\n",
       ".xr-preview {\n",
       "  color: var(--xr-font-color3);\n",
       "}\n",
       "\n",
       ".xr-array-preview,\n",
       ".xr-array-data {\n",
       "  padding: 0 5px !important;\n",
       "  grid-column: 2;\n",
       "}\n",
       "\n",
       ".xr-array-data,\n",
       ".xr-array-in:checked ~ .xr-array-preview {\n",
       "  display: none;\n",
       "}\n",
       "\n",
       ".xr-array-in:checked ~ .xr-array-data,\n",
       ".xr-array-preview {\n",
       "  display: inline-block;\n",
       "}\n",
       "\n",
       ".xr-dim-list {\n",
       "  display: inline-block !important;\n",
       "  list-style: none;\n",
       "  padding: 0 !important;\n",
       "  margin: 0;\n",
       "}\n",
       "\n",
       ".xr-dim-list li {\n",
       "  display: inline-block;\n",
       "  padding: 0;\n",
       "  margin: 0;\n",
       "}\n",
       "\n",
       ".xr-dim-list:before {\n",
       "  content: '(';\n",
       "}\n",
       "\n",
       ".xr-dim-list:after {\n",
       "  content: ')';\n",
       "}\n",
       "\n",
       ".xr-dim-list li:not(:last-child):after {\n",
       "  content: ',';\n",
       "  padding-right: 5px;\n",
       "}\n",
       "\n",
       ".xr-has-index {\n",
       "  font-weight: bold;\n",
       "}\n",
       "\n",
       ".xr-var-list,\n",
       ".xr-var-item {\n",
       "  display: contents;\n",
       "}\n",
       "\n",
       ".xr-var-item > div,\n",
       ".xr-var-item label,\n",
       ".xr-var-item > .xr-var-name span {\n",
       "  background-color: var(--xr-background-color-row-even);\n",
       "  margin-bottom: 0;\n",
       "}\n",
       "\n",
       ".xr-var-item > .xr-var-name:hover span {\n",
       "  padding-right: 5px;\n",
       "}\n",
       "\n",
       ".xr-var-list > li:nth-child(odd) > div,\n",
       ".xr-var-list > li:nth-child(odd) > label,\n",
       ".xr-var-list > li:nth-child(odd) > .xr-var-name span {\n",
       "  background-color: var(--xr-background-color-row-odd);\n",
       "}\n",
       "\n",
       ".xr-var-name {\n",
       "  grid-column: 1;\n",
       "}\n",
       "\n",
       ".xr-var-dims {\n",
       "  grid-column: 2;\n",
       "}\n",
       "\n",
       ".xr-var-dtype {\n",
       "  grid-column: 3;\n",
       "  text-align: right;\n",
       "  color: var(--xr-font-color2);\n",
       "}\n",
       "\n",
       ".xr-var-preview {\n",
       "  grid-column: 4;\n",
       "}\n",
       "\n",
       ".xr-var-name,\n",
       ".xr-var-dims,\n",
       ".xr-var-dtype,\n",
       ".xr-preview,\n",
       ".xr-attrs dt {\n",
       "  white-space: nowrap;\n",
       "  overflow: hidden;\n",
       "  text-overflow: ellipsis;\n",
       "  padding-right: 10px;\n",
       "}\n",
       "\n",
       ".xr-var-name:hover,\n",
       ".xr-var-dims:hover,\n",
       ".xr-var-dtype:hover,\n",
       ".xr-attrs dt:hover {\n",
       "  overflow: visible;\n",
       "  width: auto;\n",
       "  z-index: 1;\n",
       "}\n",
       "\n",
       ".xr-var-attrs,\n",
       ".xr-var-data {\n",
       "  display: none;\n",
       "  background-color: var(--xr-background-color) !important;\n",
       "  padding-bottom: 5px !important;\n",
       "}\n",
       "\n",
       ".xr-var-attrs-in:checked ~ .xr-var-attrs,\n",
       ".xr-var-data-in:checked ~ .xr-var-data {\n",
       "  display: block;\n",
       "}\n",
       "\n",
       ".xr-var-data > table {\n",
       "  float: right;\n",
       "}\n",
       "\n",
       ".xr-var-name span,\n",
       ".xr-var-data,\n",
       ".xr-attrs {\n",
       "  padding-left: 25px !important;\n",
       "}\n",
       "\n",
       ".xr-attrs,\n",
       ".xr-var-attrs,\n",
       ".xr-var-data {\n",
       "  grid-column: 1 / -1;\n",
       "}\n",
       "\n",
       "dl.xr-attrs {\n",
       "  padding: 0;\n",
       "  margin: 0;\n",
       "  display: grid;\n",
       "  grid-template-columns: 125px auto;\n",
       "}\n",
       "\n",
       ".xr-attrs dt,\n",
       ".xr-attrs dd {\n",
       "  padding: 0;\n",
       "  margin: 0;\n",
       "  float: left;\n",
       "  padding-right: 10px;\n",
       "  width: auto;\n",
       "}\n",
       "\n",
       ".xr-attrs dt {\n",
       "  font-weight: normal;\n",
       "  grid-column: 1;\n",
       "}\n",
       "\n",
       ".xr-attrs dt:hover span {\n",
       "  display: inline-block;\n",
       "  background: var(--xr-background-color);\n",
       "  padding-right: 10px;\n",
       "}\n",
       "\n",
       ".xr-attrs dd {\n",
       "  grid-column: 2;\n",
       "  white-space: pre-wrap;\n",
       "  word-break: break-all;\n",
       "}\n",
       "\n",
       ".xr-icon-database,\n",
       ".xr-icon-file-text2 {\n",
       "  display: inline-block;\n",
       "  vertical-align: middle;\n",
       "  width: 1em;\n",
       "  height: 1.5em !important;\n",
       "  stroke-width: 0;\n",
       "  stroke: currentColor;\n",
       "  fill: currentColor;\n",
       "}\n",
       "</style><pre class='xr-text-repr-fallback'>&lt;xarray.DataArray &#x27;dmr_state_collapsed&#x27; (dmr: 132, sample_collapsed: 10)&gt;\n",
       "array([[ 0,  0,  0, ...,  0,  0,  0],\n",
       "       [ 0,  1,  1, ...,  0,  0,  0],\n",
       "       [ 0,  0,  0, ..., -1,  0, -1],\n",
       "       ...,\n",
       "       [ 0,  0, -1, ...,  0,  0,  0],\n",
       "       [ 0, -1, -1, ...,  0,  1,  0],\n",
       "       [ 0,  0,  0, ...,  0,  0,  0]], dtype=int8)\n",
       "Coordinates:\n",
       "  * dmr               (dmr) object &#x27;chr1-0&#x27; &#x27;chr1-1&#x27; ... &#x27;chr19-122&#x27; &#x27;chr19-123&#x27;\n",
       "    dmr_chrom         (dmr) &lt;U5 &#x27;chr1&#x27; &#x27;chr1&#x27; &#x27;chr1&#x27; ... &#x27;chr19&#x27; &#x27;chr19&#x27; &#x27;chr19&#x27;\n",
       "    dmr_end           (dmr) int64 10002172 10003542 10003967 ... 5099203 5099952\n",
       "    dmr_length        (dmr) int64 2 305 54 2 2 2 2 ... 924 632 842 195 399 335\n",
       "    dmr_ndms          (dmr) int64 1 7 2 1 1 1 1 13 3 2 ... 2 7 13 19 9 9 3 6 13\n",
       "    dmr_start         (dmr) int64 10002170 10003237 10003913 ... 5098804 5099617\n",
       "  * sample_collapsed  (sample_collapsed) object &#x27;ASC&#x27; &#x27;CA1&#x27; ... &#x27;ODC&#x27; &#x27;OPC&#x27;</pre><div class='xr-wrap' style='display:none'><div class='xr-header'><div class='xr-obj-type'>xarray.DataArray</div><div class='xr-array-name'>'dmr_state_collapsed'</div><ul class='xr-dim-list'><li><span class='xr-has-index'>dmr</span>: 132</li><li><span class='xr-has-index'>sample_collapsed</span>: 10</li></ul></div><ul class='xr-sections'><li class='xr-section-item'><div class='xr-array-wrap'><input id='section-65631a95-1e2b-4347-8a45-ef05527727b6' class='xr-array-in' type='checkbox' checked><label for='section-65631a95-1e2b-4347-8a45-ef05527727b6' title='Show/hide data repr'><svg class='icon xr-icon-database'><use xlink:href='#icon-database'></use></svg></label><div class='xr-array-preview xr-preview'><span>0 0 0 0 0 0 0 0 0 0 0 1 1 0 0 -1 ... -1 1 0 0 1 0 0 0 0 0 -1 0 0 0 0 0</span></div><div class='xr-array-data'><pre>array([[ 0,  0,  0, ...,  0,  0,  0],\n",
       "       [ 0,  1,  1, ...,  0,  0,  0],\n",
       "       [ 0,  0,  0, ..., -1,  0, -1],\n",
       "       ...,\n",
       "       [ 0,  0, -1, ...,  0,  0,  0],\n",
       "       [ 0, -1, -1, ...,  0,  1,  0],\n",
       "       [ 0,  0,  0, ...,  0,  0,  0]], dtype=int8)</pre></div></div></li><li class='xr-section-item'><input id='section-73af4de7-9ee2-47e0-bbf8-ae6568db6ea2' class='xr-section-summary-in' type='checkbox'  checked><label for='section-73af4de7-9ee2-47e0-bbf8-ae6568db6ea2' class='xr-section-summary' >Coordinates: <span>(7)</span></label><div class='xr-section-inline-details'></div><div class='xr-section-details'><ul class='xr-var-list'><li class='xr-var-item'><div class='xr-var-name'><span class='xr-has-index'>dmr</span></div><div class='xr-var-dims'>(dmr)</div><div class='xr-var-dtype'>object</div><div class='xr-var-preview xr-preview'>&#x27;chr1-0&#x27; &#x27;chr1-1&#x27; ... &#x27;chr19-123&#x27;</div><input id='attrs-66a04b36-8cba-4929-bd96-579c0750eb15' class='xr-var-attrs-in' type='checkbox' disabled><label for='attrs-66a04b36-8cba-4929-bd96-579c0750eb15' title='Show/Hide attributes'><svg class='icon xr-icon-file-text2'><use xlink:href='#icon-file-text2'></use></svg></label><input id='data-fc67d0f4-bf03-4829-8132-d5546db7685e' class='xr-var-data-in' type='checkbox'><label for='data-fc67d0f4-bf03-4829-8132-d5546db7685e' title='Show/Hide data repr'><svg class='icon xr-icon-database'><use xlink:href='#icon-database'></use></svg></label><div class='xr-var-attrs'><dl class='xr-attrs'></dl></div><div class='xr-var-data'><pre>array([&#x27;chr1-0&#x27;, &#x27;chr1-1&#x27;, &#x27;chr1-2&#x27;, &#x27;chr1-3&#x27;, &#x27;chr1-4&#x27;, &#x27;chr1-5&#x27;, &#x27;chr1-6&#x27;,\n",
       "       &#x27;chr1-7&#x27;, &#x27;chr19-0&#x27;, &#x27;chr19-1&#x27;, &#x27;chr19-2&#x27;, &#x27;chr19-3&#x27;, &#x27;chr19-4&#x27;,\n",
       "       &#x27;chr19-5&#x27;, &#x27;chr19-6&#x27;, &#x27;chr19-7&#x27;, &#x27;chr19-8&#x27;, &#x27;chr19-9&#x27;, &#x27;chr19-10&#x27;,\n",
       "       &#x27;chr19-11&#x27;, &#x27;chr19-12&#x27;, &#x27;chr19-13&#x27;, &#x27;chr19-14&#x27;, &#x27;chr19-15&#x27;, &#x27;chr19-16&#x27;,\n",
       "       &#x27;chr19-17&#x27;, &#x27;chr19-18&#x27;, &#x27;chr19-19&#x27;, &#x27;chr19-20&#x27;, &#x27;chr19-21&#x27;, &#x27;chr19-22&#x27;,\n",
       "       &#x27;chr19-23&#x27;, &#x27;chr19-24&#x27;, &#x27;chr19-25&#x27;, &#x27;chr19-26&#x27;, &#x27;chr19-27&#x27;, &#x27;chr19-28&#x27;,\n",
       "       &#x27;chr19-29&#x27;, &#x27;chr19-30&#x27;, &#x27;chr19-31&#x27;, &#x27;chr19-32&#x27;, &#x27;chr19-33&#x27;, &#x27;chr19-34&#x27;,\n",
       "       &#x27;chr19-35&#x27;, &#x27;chr19-36&#x27;, &#x27;chr19-37&#x27;, &#x27;chr19-38&#x27;, &#x27;chr19-39&#x27;, &#x27;chr19-40&#x27;,\n",
       "       &#x27;chr19-41&#x27;, &#x27;chr19-42&#x27;, &#x27;chr19-43&#x27;, &#x27;chr19-44&#x27;, &#x27;chr19-45&#x27;, &#x27;chr19-46&#x27;,\n",
       "       &#x27;chr19-47&#x27;, &#x27;chr19-48&#x27;, &#x27;chr19-49&#x27;, &#x27;chr19-50&#x27;, &#x27;chr19-51&#x27;, &#x27;chr19-52&#x27;,\n",
       "       &#x27;chr19-53&#x27;, &#x27;chr19-54&#x27;, &#x27;chr19-55&#x27;, &#x27;chr19-56&#x27;, &#x27;chr19-57&#x27;, &#x27;chr19-58&#x27;,\n",
       "       &#x27;chr19-59&#x27;, &#x27;chr19-60&#x27;, &#x27;chr19-61&#x27;, &#x27;chr19-62&#x27;, &#x27;chr19-63&#x27;, &#x27;chr19-64&#x27;,\n",
       "       &#x27;chr19-65&#x27;, &#x27;chr19-66&#x27;, &#x27;chr19-67&#x27;, &#x27;chr19-68&#x27;, &#x27;chr19-69&#x27;, &#x27;chr19-70&#x27;,\n",
       "       &#x27;chr19-71&#x27;, &#x27;chr19-72&#x27;, &#x27;chr19-73&#x27;, &#x27;chr19-74&#x27;, &#x27;chr19-75&#x27;, &#x27;chr19-76&#x27;,\n",
       "       &#x27;chr19-77&#x27;, &#x27;chr19-78&#x27;, &#x27;chr19-79&#x27;, &#x27;chr19-80&#x27;, &#x27;chr19-81&#x27;, &#x27;chr19-82&#x27;,\n",
       "       &#x27;chr19-83&#x27;, &#x27;chr19-84&#x27;, &#x27;chr19-85&#x27;, &#x27;chr19-86&#x27;, &#x27;chr19-87&#x27;, &#x27;chr19-88&#x27;,\n",
       "       &#x27;chr19-89&#x27;, &#x27;chr19-90&#x27;, &#x27;chr19-91&#x27;, &#x27;chr19-92&#x27;, &#x27;chr19-93&#x27;, &#x27;chr19-94&#x27;,\n",
       "       &#x27;chr19-95&#x27;, &#x27;chr19-96&#x27;, &#x27;chr19-97&#x27;, &#x27;chr19-98&#x27;, &#x27;chr19-99&#x27;, &#x27;chr19-100&#x27;,\n",
       "       &#x27;chr19-101&#x27;, &#x27;chr19-102&#x27;, &#x27;chr19-103&#x27;, &#x27;chr19-104&#x27;, &#x27;chr19-105&#x27;,\n",
       "       &#x27;chr19-106&#x27;, &#x27;chr19-107&#x27;, &#x27;chr19-108&#x27;, &#x27;chr19-109&#x27;, &#x27;chr19-110&#x27;,\n",
       "       &#x27;chr19-111&#x27;, &#x27;chr19-112&#x27;, &#x27;chr19-113&#x27;, &#x27;chr19-114&#x27;, &#x27;chr19-115&#x27;,\n",
       "       &#x27;chr19-116&#x27;, &#x27;chr19-117&#x27;, &#x27;chr19-118&#x27;, &#x27;chr19-119&#x27;, &#x27;chr19-120&#x27;,\n",
       "       &#x27;chr19-121&#x27;, &#x27;chr19-122&#x27;, &#x27;chr19-123&#x27;], dtype=object)</pre></div></li><li class='xr-var-item'><div class='xr-var-name'><span>dmr_chrom</span></div><div class='xr-var-dims'>(dmr)</div><div class='xr-var-dtype'>&lt;U5</div><div class='xr-var-preview xr-preview'>&#x27;chr1&#x27; &#x27;chr1&#x27; ... &#x27;chr19&#x27; &#x27;chr19&#x27;</div><input id='attrs-201259a0-dc2a-45f1-8ed0-36f0ad0e3e7a' class='xr-var-attrs-in' type='checkbox' disabled><label for='attrs-201259a0-dc2a-45f1-8ed0-36f0ad0e3e7a' title='Show/Hide attributes'><svg class='icon xr-icon-file-text2'><use xlink:href='#icon-file-text2'></use></svg></label><input id='data-73d614da-821a-4eea-9577-93941afec706' class='xr-var-data-in' type='checkbox'><label for='data-73d614da-821a-4eea-9577-93941afec706' title='Show/Hide data repr'><svg class='icon xr-icon-database'><use xlink:href='#icon-database'></use></svg></label><div class='xr-var-attrs'><dl class='xr-attrs'></dl></div><div class='xr-var-data'><pre>array([&#x27;chr1&#x27;, &#x27;chr1&#x27;, &#x27;chr1&#x27;, &#x27;chr1&#x27;, &#x27;chr1&#x27;, &#x27;chr1&#x27;, &#x27;chr1&#x27;, &#x27;chr1&#x27;,\n",
       "       &#x27;chr19&#x27;, &#x27;chr19&#x27;, &#x27;chr19&#x27;, &#x27;chr19&#x27;, &#x27;chr19&#x27;, &#x27;chr19&#x27;, &#x27;chr19&#x27;,\n",
       "       &#x27;chr19&#x27;, &#x27;chr19&#x27;, &#x27;chr19&#x27;, &#x27;chr19&#x27;, &#x27;chr19&#x27;, &#x27;chr19&#x27;, &#x27;chr19&#x27;,\n",
       "       &#x27;chr19&#x27;, &#x27;chr19&#x27;, &#x27;chr19&#x27;, &#x27;chr19&#x27;, &#x27;chr19&#x27;, &#x27;chr19&#x27;, &#x27;chr19&#x27;,\n",
       "       &#x27;chr19&#x27;, &#x27;chr19&#x27;, &#x27;chr19&#x27;, &#x27;chr19&#x27;, &#x27;chr19&#x27;, &#x27;chr19&#x27;, &#x27;chr19&#x27;,\n",
       "       &#x27;chr19&#x27;, &#x27;chr19&#x27;, &#x27;chr19&#x27;, &#x27;chr19&#x27;, &#x27;chr19&#x27;, &#x27;chr19&#x27;, &#x27;chr19&#x27;,\n",
       "       &#x27;chr19&#x27;, &#x27;chr19&#x27;, &#x27;chr19&#x27;, &#x27;chr19&#x27;, &#x27;chr19&#x27;, &#x27;chr19&#x27;, &#x27;chr19&#x27;,\n",
       "       &#x27;chr19&#x27;, &#x27;chr19&#x27;, &#x27;chr19&#x27;, &#x27;chr19&#x27;, &#x27;chr19&#x27;, &#x27;chr19&#x27;, &#x27;chr19&#x27;,\n",
       "       &#x27;chr19&#x27;, &#x27;chr19&#x27;, &#x27;chr19&#x27;, &#x27;chr19&#x27;, &#x27;chr19&#x27;, &#x27;chr19&#x27;, &#x27;chr19&#x27;,\n",
       "       &#x27;chr19&#x27;, &#x27;chr19&#x27;, &#x27;chr19&#x27;, &#x27;chr19&#x27;, &#x27;chr19&#x27;, &#x27;chr19&#x27;, &#x27;chr19&#x27;,\n",
       "       &#x27;chr19&#x27;, &#x27;chr19&#x27;, &#x27;chr19&#x27;, &#x27;chr19&#x27;, &#x27;chr19&#x27;, &#x27;chr19&#x27;, &#x27;chr19&#x27;,\n",
       "       &#x27;chr19&#x27;, &#x27;chr19&#x27;, &#x27;chr19&#x27;, &#x27;chr19&#x27;, &#x27;chr19&#x27;, &#x27;chr19&#x27;, &#x27;chr19&#x27;,\n",
       "       &#x27;chr19&#x27;, &#x27;chr19&#x27;, &#x27;chr19&#x27;, &#x27;chr19&#x27;, &#x27;chr19&#x27;, &#x27;chr19&#x27;, &#x27;chr19&#x27;,\n",
       "       &#x27;chr19&#x27;, &#x27;chr19&#x27;, &#x27;chr19&#x27;, &#x27;chr19&#x27;, &#x27;chr19&#x27;, &#x27;chr19&#x27;, &#x27;chr19&#x27;,\n",
       "       &#x27;chr19&#x27;, &#x27;chr19&#x27;, &#x27;chr19&#x27;, &#x27;chr19&#x27;, &#x27;chr19&#x27;, &#x27;chr19&#x27;, &#x27;chr19&#x27;,\n",
       "       &#x27;chr19&#x27;, &#x27;chr19&#x27;, &#x27;chr19&#x27;, &#x27;chr19&#x27;, &#x27;chr19&#x27;, &#x27;chr19&#x27;, &#x27;chr19&#x27;,\n",
       "       &#x27;chr19&#x27;, &#x27;chr19&#x27;, &#x27;chr19&#x27;, &#x27;chr19&#x27;, &#x27;chr19&#x27;, &#x27;chr19&#x27;, &#x27;chr19&#x27;,\n",
       "       &#x27;chr19&#x27;, &#x27;chr19&#x27;, &#x27;chr19&#x27;, &#x27;chr19&#x27;, &#x27;chr19&#x27;, &#x27;chr19&#x27;, &#x27;chr19&#x27;,\n",
       "       &#x27;chr19&#x27;, &#x27;chr19&#x27;, &#x27;chr19&#x27;, &#x27;chr19&#x27;, &#x27;chr19&#x27;], dtype=&#x27;&lt;U5&#x27;)</pre></div></li><li class='xr-var-item'><div class='xr-var-name'><span>dmr_end</span></div><div class='xr-var-dims'>(dmr)</div><div class='xr-var-dtype'>int64</div><div class='xr-var-preview xr-preview'>10002172 10003542 ... 5099952</div><input id='attrs-6f688db8-e64e-41ce-bb7d-6a8cc7c22952' class='xr-var-attrs-in' type='checkbox' disabled><label for='attrs-6f688db8-e64e-41ce-bb7d-6a8cc7c22952' title='Show/Hide attributes'><svg class='icon xr-icon-file-text2'><use xlink:href='#icon-file-text2'></use></svg></label><input id='data-cace2016-88cb-4924-9e9c-5db348ca408a' class='xr-var-data-in' type='checkbox'><label for='data-cace2016-88cb-4924-9e9c-5db348ca408a' title='Show/Hide data repr'><svg class='icon xr-icon-database'><use xlink:href='#icon-database'></use></svg></label><div class='xr-var-attrs'><dl class='xr-attrs'></dl></div><div class='xr-var-data'><pre>array([10002172, 10003542, 10003967, 10005479, 10007099, 10007758,\n",
       "       10008881, 10009927,  5000194,  5000343,  5000715,  5001506,\n",
       "        5001549,  5003862,  5004785,  5005319,  5005816,  5006789,\n",
       "        5008015,  5008084,  5008130,  5008805,  5010091,  5011268,\n",
       "        5011724,  5011926,  5012429,  5012955,  5013312,  5013603,\n",
       "        5014250,  5014562,  5014921,  5015099,  5016145,  5016791,\n",
       "        5017181,  5017656,  5018165,  5018340,  5019014,  5019656,\n",
       "        5020498,  5021894,  5022034,  5022299,  5023452,  5025645,\n",
       "        5026013,  5026581,  5028070,  5029223,  5029469,  5029930,\n",
       "        5031623,  5032343,  5033665,  5035273,  5036180,  5036656,\n",
       "        5037800,  5040294,  5040872,  5042216,  5042541,  5043207,\n",
       "        5043818,  5045206,  5046083,  5046469,  5047139,  5050164,\n",
       "        5051764,  5054110,  5055419,  5056089,  5056189,  5056309,\n",
       "        5056642,  5057152,  5057233,  5059280,  5059541,  5060286,\n",
       "        5060636,  5061033,  5061586,  5062181,  5062652,  5063270,\n",
       "        5064727,  5065461,  5065765,  5066074,  5066405,  5067916,\n",
       "        5069149,  5070132,  5071656,  5071800,  5073983,  5074921,\n",
       "        5076037,  5076379,  5077207,  5078490,  5078805,  5080040,\n",
       "        5080229,  5081032,  5081240,  5081796,  5082893,  5083285,\n",
       "        5083313,  5083586,  5084274,  5084686,  5086323,  5087101,\n",
       "        5087539,  5089466,  5089734,  5090283,  5091820,  5092737,\n",
       "        5094022,  5095601,  5097380,  5097870,  5099203,  5099952])</pre></div></li><li class='xr-var-item'><div class='xr-var-name'><span>dmr_length</span></div><div class='xr-var-dims'>(dmr)</div><div class='xr-var-dtype'>int64</div><div class='xr-var-preview xr-preview'>2 305 54 2 2 ... 842 195 399 335</div><input id='attrs-7a757940-0e33-4faa-a66f-8a8d090fd830' class='xr-var-attrs-in' type='checkbox' disabled><label for='attrs-7a757940-0e33-4faa-a66f-8a8d090fd830' title='Show/Hide attributes'><svg class='icon xr-icon-file-text2'><use xlink:href='#icon-file-text2'></use></svg></label><input id='data-e24adc54-616d-4733-8614-7ac6fe120f53' class='xr-var-data-in' type='checkbox'><label for='data-e24adc54-616d-4733-8614-7ac6fe120f53' title='Show/Hide data repr'><svg class='icon xr-icon-database'><use xlink:href='#icon-database'></use></svg></label><div class='xr-var-attrs'><dl class='xr-attrs'></dl></div><div class='xr-var-data'><pre>array([   2,  305,   54,    2,    2,    2,    2,  440,  171,   12,    2,\n",
       "          2,   22,  504,  128,  146,  201,    2,    2,    2,    2,  182,\n",
       "          2,  246,    2,    2,  101,  343,   49,  183,    2,   88,    2,\n",
       "          2,   89,  385,   55,    2,    2,   48,  144,    2,    2,  821,\n",
       "          2,    2,  306,  913,    2,   71,   91,   22,   21,  149,    2,\n",
       "          2,    2,    2,   57,   76,    2,  532,  552,  211,    2,  243,\n",
       "          2,    2,  322,   63,    2, 2314, 1029, 2090,    2,   58,    2,\n",
       "         67,    2,  253,    2, 1351,    2,  478,    2,  127,   42,   43,\n",
       "          2,   46,    2,  482,   14,    2,    2,  773,  760,    2,  661,\n",
       "        126,  345,  687,  537,    2,  469,  866,    2,    2,   59,  315,\n",
       "          2,  368, 1053,  367,    2,    2,  186,    2,  391,  108,  323,\n",
       "         31,    2,  138,  434,  589,  924,  632,  842,  195,  399,  335])</pre></div></li><li class='xr-var-item'><div class='xr-var-name'><span>dmr_ndms</span></div><div class='xr-var-dims'>(dmr)</div><div class='xr-var-dtype'>int64</div><div class='xr-var-preview xr-preview'>1 7 2 1 1 1 1 ... 13 19 9 9 3 6 13</div><input id='attrs-bc714582-e115-4b69-a86b-d4bd25345bcf' class='xr-var-attrs-in' type='checkbox' disabled><label for='attrs-bc714582-e115-4b69-a86b-d4bd25345bcf' title='Show/Hide attributes'><svg class='icon xr-icon-file-text2'><use xlink:href='#icon-file-text2'></use></svg></label><input id='data-306e234f-9a60-41e8-a2aa-60a26e646132' class='xr-var-data-in' type='checkbox'><label for='data-306e234f-9a60-41e8-a2aa-60a26e646132' title='Show/Hide data repr'><svg class='icon xr-icon-database'><use xlink:href='#icon-database'></use></svg></label><div class='xr-var-attrs'><dl class='xr-attrs'></dl></div><div class='xr-var-data'><pre>array([ 1,  7,  2,  1,  1,  1,  1, 13,  3,  2,  1,  1,  2,  5,  2,  3,  2,\n",
       "        1,  1,  1,  1,  4,  1,  2,  1,  1,  3,  6,  4,  3,  1,  4,  1,  1,\n",
       "        3,  7,  4,  1,  1,  2,  4,  1,  1,  8,  1,  1,  9, 14,  1,  5,  3,\n",
       "        2,  2,  2,  1,  1,  1,  1,  2,  2,  1, 17, 11,  3,  1,  5,  1,  1,\n",
       "        9,  4,  1, 33, 28, 56,  1,  2,  1,  2,  1,  4,  1, 20,  1,  7,  1,\n",
       "        2,  2,  2,  1,  2,  1,  7,  3,  1,  1, 15, 29,  1, 20,  4,  8, 13,\n",
       "        4,  1,  5, 15,  1,  1,  4,  6,  1, 10, 47,  9,  1,  1,  2,  1,  3,\n",
       "        4,  8,  2,  1,  2,  7, 13, 19,  9,  9,  3,  6, 13])</pre></div></li><li class='xr-var-item'><div class='xr-var-name'><span>dmr_start</span></div><div class='xr-var-dims'>(dmr)</div><div class='xr-var-dtype'>int64</div><div class='xr-var-preview xr-preview'>10002170 10003237 ... 5099617</div><input id='attrs-77b1974d-0556-45d0-be70-a44d0047aba6' class='xr-var-attrs-in' type='checkbox' disabled><label for='attrs-77b1974d-0556-45d0-be70-a44d0047aba6' title='Show/Hide attributes'><svg class='icon xr-icon-file-text2'><use xlink:href='#icon-file-text2'></use></svg></label><input id='data-cf44164d-0fee-4393-a829-9c40c6b0de51' class='xr-var-data-in' type='checkbox'><label for='data-cf44164d-0fee-4393-a829-9c40c6b0de51' title='Show/Hide data repr'><svg class='icon xr-icon-database'><use xlink:href='#icon-database'></use></svg></label><div class='xr-var-attrs'><dl class='xr-attrs'></dl></div><div class='xr-var-data'><pre>array([10002170, 10003237, 10003913, 10005477, 10007097, 10007756,\n",
       "       10008879, 10009487,  5000023,  5000331,  5000713,  5001504,\n",
       "        5001527,  5003358,  5004657,  5005173,  5005615,  5006787,\n",
       "        5008013,  5008082,  5008128,  5008623,  5010089,  5011022,\n",
       "        5011722,  5011924,  5012328,  5012612,  5013263,  5013420,\n",
       "        5014248,  5014474,  5014919,  5015097,  5016056,  5016406,\n",
       "        5017126,  5017654,  5018163,  5018292,  5018870,  5019654,\n",
       "        5020496,  5021073,  5022032,  5022297,  5023146,  5024732,\n",
       "        5026011,  5026510,  5027979,  5029201,  5029448,  5029781,\n",
       "        5031621,  5032341,  5033663,  5035271,  5036123,  5036580,\n",
       "        5037798,  5039762,  5040320,  5042005,  5042539,  5042964,\n",
       "        5043816,  5045204,  5045761,  5046406,  5047137,  5047850,\n",
       "        5050735,  5052020,  5055417,  5056031,  5056187,  5056242,\n",
       "        5056640,  5056899,  5057231,  5057929,  5059539,  5059808,\n",
       "        5060634,  5060906,  5061544,  5062138,  5062650,  5063224,\n",
       "        5064725,  5064979,  5065751,  5066072,  5066403,  5067143,\n",
       "        5068389,  5070130,  5070995,  5071674,  5073638,  5074234,\n",
       "        5075500,  5076377,  5076738,  5077624,  5078803,  5080038,\n",
       "        5080170,  5080717,  5081238,  5081428,  5081840,  5082918,\n",
       "        5083311,  5083584,  5084088,  5084684,  5085932,  5086993,\n",
       "        5087216,  5089435,  5089732,  5090145,  5091386,  5092148,\n",
       "        5093098,  5094969,  5096538,  5097675,  5098804,  5099617])</pre></div></li><li class='xr-var-item'><div class='xr-var-name'><span class='xr-has-index'>sample_collapsed</span></div><div class='xr-var-dims'>(sample_collapsed)</div><div class='xr-var-dtype'>object</div><div class='xr-var-preview xr-preview'>&#x27;ASC&#x27; &#x27;CA1&#x27; &#x27;CA23&#x27; ... &#x27;ODC&#x27; &#x27;OPC&#x27;</div><input id='attrs-815dac4f-d8c9-4ecf-8572-90b7a888135c' class='xr-var-attrs-in' type='checkbox' disabled><label for='attrs-815dac4f-d8c9-4ecf-8572-90b7a888135c' title='Show/Hide attributes'><svg class='icon xr-icon-file-text2'><use xlink:href='#icon-file-text2'></use></svg></label><input id='data-1fc6c860-62dd-4ea9-a405-a8a2ef19a21b' class='xr-var-data-in' type='checkbox'><label for='data-1fc6c860-62dd-4ea9-a405-a8a2ef19a21b' title='Show/Hide data repr'><svg class='icon xr-icon-database'><use xlink:href='#icon-database'></use></svg></label><div class='xr-var-attrs'><dl class='xr-attrs'></dl></div><div class='xr-var-data'><pre>array([&#x27;ASC&#x27;, &#x27;CA1&#x27;, &#x27;CA23&#x27;, &#x27;CGE-VipLamp5&#x27;, &#x27;DG&#x27;, &#x27;MGC&#x27;, &#x27;MGE-PvSst&#x27;, &#x27;NonN&#x27;,\n",
       "       &#x27;ODC&#x27;, &#x27;OPC&#x27;], dtype=object)</pre></div></li></ul></div></li><li class='xr-section-item'><input id='section-18bb9ec7-4738-463d-86cd-3677f1212506' class='xr-section-summary-in' type='checkbox' disabled ><label for='section-18bb9ec7-4738-463d-86cd-3677f1212506' class='xr-section-summary'  title='Expand/collapse section'>Attributes: <span>(0)</span></label><div class='xr-section-inline-details'></div><div class='xr-section-details'><dl class='xr-attrs'></dl></div></li></ul></div></div>"
      ],
      "text/plain": [
       "<xarray.DataArray 'dmr_state_collapsed' (dmr: 132, sample_collapsed: 10)>\n",
       "array([[ 0,  0,  0, ...,  0,  0,  0],\n",
       "       [ 0,  1,  1, ...,  0,  0,  0],\n",
       "       [ 0,  0,  0, ..., -1,  0, -1],\n",
       "       ...,\n",
       "       [ 0,  0, -1, ...,  0,  0,  0],\n",
       "       [ 0, -1, -1, ...,  0,  1,  0],\n",
       "       [ 0,  0,  0, ...,  0,  0,  0]], dtype=int8)\n",
       "Coordinates:\n",
       "  * dmr               (dmr) object 'chr1-0' 'chr1-1' ... 'chr19-122' 'chr19-123'\n",
       "    dmr_chrom         (dmr) <U5 'chr1' 'chr1' 'chr1' ... 'chr19' 'chr19' 'chr19'\n",
       "    dmr_end           (dmr) int64 10002172 10003542 10003967 ... 5099203 5099952\n",
       "    dmr_length        (dmr) int64 2 305 54 2 2 2 2 ... 924 632 842 195 399 335\n",
       "    dmr_ndms          (dmr) int64 1 7 2 1 1 1 1 13 3 2 ... 2 7 13 19 9 9 3 6 13\n",
       "    dmr_start         (dmr) int64 10002170 10003237 10003913 ... 5098804 5099617\n",
       "  * sample_collapsed  (sample_collapsed) object 'ASC' 'CA1' ... 'ODC' 'OPC'"
      ]
     },
     "execution_count": 9,
     "metadata": {},
     "output_type": "execute_result"
    }
   ],
   "source": [
    "# this dataarray is newly added\n",
    "region_ds['dmr_state_collapsed']"
   ]
  },
  {
   "cell_type": "code",
   "execution_count": 10,
   "id": "787e6668",
   "metadata": {
    "ExecuteTime": {
     "end_time": "2022-01-10T00:15:59.932389Z",
     "start_time": "2022-01-10T00:15:59.929675Z"
    }
   },
   "outputs": [],
   "source": [
    "# you can get collapsed sample DMR ids\n",
    "ca1_hypo, ca1_hyper = region_ds.get_hypo_hyper_index('CA1')"
   ]
  },
  {
   "cell_type": "code",
   "execution_count": 11,
   "id": "843b2e42",
   "metadata": {
    "ExecuteTime": {
     "end_time": "2022-01-10T00:15:59.936336Z",
     "start_time": "2022-01-10T00:15:59.933373Z"
    }
   },
   "outputs": [
    {
     "data": {
      "text/plain": [
       "Index(['chr1-3', 'chr1-5', 'chr19-1', 'chr19-4', 'chr19-16', 'chr19-23',\n",
       "       'chr19-24', 'chr19-25', 'chr19-34', 'chr19-43', 'chr19-45', 'chr19-46',\n",
       "       'chr19-48', 'chr19-52', 'chr19-54', 'chr19-57', 'chr19-58', 'chr19-60',\n",
       "       'chr19-61', 'chr19-63', 'chr19-64', 'chr19-67', 'chr19-68', 'chr19-79',\n",
       "       'chr19-91', 'chr19-95', 'chr19-96', 'chr19-97', 'chr19-98', 'chr19-101',\n",
       "       'chr19-103', 'chr19-108', 'chr19-109', 'chr19-112', 'chr19-114',\n",
       "       'chr19-116', 'chr19-117', 'chr19-118', 'chr19-119', 'chr19-120',\n",
       "       'chr19-122'],\n",
       "      dtype='object', name='dmr')"
      ]
     },
     "execution_count": 11,
     "metadata": {},
     "output_type": "execute_result"
    }
   ],
   "source": [
    "ca1_hypo"
   ]
  },
  {
   "cell_type": "code",
   "execution_count": 12,
   "id": "0275fa31",
   "metadata": {
    "ExecuteTime": {
     "end_time": "2022-01-10T00:15:59.939868Z",
     "start_time": "2022-01-10T00:15:59.937250Z"
    }
   },
   "outputs": [
    {
     "data": {
      "text/plain": [
       "Index(['chr1-1', 'chr19-5', 'chr19-6', 'chr19-7', 'chr19-10', 'chr19-12',\n",
       "       'chr19-17', 'chr19-40', 'chr19-82', 'chr19-89'],\n",
       "      dtype='object', name='dmr')"
      ]
     },
     "execution_count": 12,
     "metadata": {},
     "output_type": "execute_result"
    }
   ],
   "source": [
    "ca1_hyper"
   ]
  },
  {
   "cell_type": "code",
   "execution_count": null,
   "id": "68614ce9",
   "metadata": {},
   "outputs": [],
   "source": []
  },
  {
   "cell_type": "code",
   "execution_count": null,
   "id": "389534e8",
   "metadata": {},
   "outputs": [],
   "source": []
  },
  {
   "cell_type": "code",
   "execution_count": null,
   "id": "51ef3800",
   "metadata": {},
   "outputs": [],
   "source": []
  },
  {
   "cell_type": "code",
   "execution_count": null,
   "id": "56a8edc0",
   "metadata": {},
   "outputs": [],
   "source": []
  }
 ],
 "metadata": {
  "hide_input": false,
  "kernelspec": {
   "display_name": "Python 3 (ipykernel)",
   "language": "python",
   "name": "python3"
  },
  "language_info": {
   "codemirror_mode": {
    "name": "ipython",
    "version": 3
   },
   "file_extension": ".py",
   "mimetype": "text/x-python",
   "name": "python",
   "nbconvert_exporter": "python",
   "pygments_lexer": "ipython3",
   "version": "3.8.6"
  },
  "toc": {
   "base_numbering": 1,
   "nav_menu": {},
   "number_sections": true,
   "sideBar": true,
   "skip_h1_title": true,
   "title_cell": "Table of Contents",
   "title_sidebar": "Contents",
   "toc_cell": false,
   "toc_position": {},
   "toc_section_display": true,
   "toc_window_display": true
  }
 },
 "nbformat": 4,
 "nbformat_minor": 5
}

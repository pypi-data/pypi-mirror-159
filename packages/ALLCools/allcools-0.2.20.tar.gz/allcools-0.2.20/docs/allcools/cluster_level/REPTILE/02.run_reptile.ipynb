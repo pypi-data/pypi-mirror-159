{
 "cells": [
  {
   "cell_type": "markdown",
   "id": "9ec940f0",
   "metadata": {
    "ExecuteTime": {
     "end_time": "2022-01-08T03:19:36.316950Z",
     "start_time": "2022-01-08T03:19:34.286840Z"
    }
   },
   "source": [
    "# Predict Enhancer with REPTILE Algorithm"
   ]
  },
  {
   "cell_type": "markdown",
   "id": "d559ce80",
   "metadata": {},
   "source": [
    "## Import"
   ]
  },
  {
   "cell_type": "code",
   "execution_count": 1,
   "id": "16dd187e",
   "metadata": {
    "ExecuteTime": {
     "end_time": "2022-01-08T03:34:19.714172Z",
     "start_time": "2022-01-08T03:34:17.731042Z"
    }
   },
   "outputs": [],
   "source": [
    "from ALLCools.reptile import REPTILE"
   ]
  },
  {
   "cell_type": "markdown",
   "id": "3d0643e7",
   "metadata": {},
   "source": [
    "## Initiate REPTILE Model"
   ]
  },
  {
   "cell_type": "code",
   "execution_count": null,
   "id": "41d08544",
   "metadata": {
    "ExecuteTime": {
     "start_time": "2022-01-08T03:34:17.537Z"
    }
   },
   "outputs": [
    {
     "name": "stdout",
     "output_type": "stream",
     "text": [
      "Got 2 modalities from bigwig_table: mC, ATAC\n",
      "Training sample: mESC\n",
      "Other samples: ASC, CA1, CA23, CGE, DG, MGC, MGE, NonN, ODC, OPC\n"
     ]
    }
   ],
   "source": [
    "reptile_model = REPTILE(\n",
    "    output_path=\n",
    "    '/home/hanliu/project/allcools_doc/cluster_level/REPTILE/REPTILE_test',\n",
    "    dmr_regions=\n",
    "    '/home/hanliu/project/allcools_doc/cluster_level/REPTILE/DMR.bed',\n",
    "    train_regions=\n",
    "    '/home/hanliu/project/allcools_doc/data/REPTILE/mESC_region_for_train.bed',\n",
    "    train_region_labels=\n",
    "    '/home/hanliu/project/allcools_doc/data/REPTILE/mESC_region_for_train_label.tsv',\n",
    "    train_sample='mESC',\n",
    "    bigwig_table=\n",
    "    '/home/hanliu/project/allcools_doc/cluster_level/REPTILE/bigwigs.csv',\n",
    "    chrom_size_path='/home/hanliu/ref/mouse/genome/mm10.main.chrom.sizes',\n",
    "    window_size=2000,\n",
    "    step_size=200,\n",
    "    dmr_slop=150,\n",
    "    fillna_by_zero=['ATAC'])"
   ]
  },
  {
   "cell_type": "markdown",
   "id": "52b1de9c",
   "metadata": {},
   "source": [
    "## Training"
   ]
  },
  {
   "cell_type": "code",
   "execution_count": null,
   "id": "9b43755a",
   "metadata": {
    "ExecuteTime": {
     "start_time": "2022-01-08T03:34:17.539Z"
    },
    "scrolled": true
   },
   "outputs": [],
   "source": [
    "reptile_model.fit(cpu=40)"
   ]
  },
  {
   "cell_type": "markdown",
   "id": "732028d6",
   "metadata": {},
   "source": [
    "## Prediction"
   ]
  },
  {
   "cell_type": "code",
   "execution_count": null,
   "id": "41d4e580",
   "metadata": {
    "ExecuteTime": {
     "start_time": "2022-01-08T03:34:17.541Z"
    },
    "scrolled": true
   },
   "outputs": [],
   "source": [
    "reptile_model.predict(cpu=40)"
   ]
  },
  {
   "cell_type": "markdown",
   "id": "201ca93b",
   "metadata": {},
   "source": [
    "## Check Results"
   ]
  },
  {
   "cell_type": "code",
   "execution_count": null,
   "id": "eac6de1f",
   "metadata": {
    "ExecuteTime": {
     "start_time": "2022-01-08T03:34:17.542Z"
    }
   },
   "outputs": [],
   "source": [
    "import matplotlib.pyplot as plt\n",
    "import seaborn as sns"
   ]
  },
  {
   "cell_type": "code",
   "execution_count": null,
   "id": "39cde4d6",
   "metadata": {
    "ExecuteTime": {
     "start_time": "2022-01-08T03:34:17.543Z"
    }
   },
   "outputs": [],
   "source": [
    "# as an example, check the prediction score of CA1\n",
    "ca1_scores = reptile_model.query_dmr_ds['query-dmr_prediction'].sel(sample='CA1').to_pandas()\n",
    "ca1_scores = ca1_scores[ca1_scores > 0.5]\n",
    "dmrs = ca1_scores.index"
   ]
  },
  {
   "cell_type": "code",
   "execution_count": null,
   "id": "0316039d",
   "metadata": {
    "ExecuteTime": {
     "start_time": "2022-01-08T03:34:17.544Z"
    }
   },
   "outputs": [],
   "source": [
    "data = reptile_model.query_dmr_ds.sel({'query-dmr': dmrs.tolist()})"
   ]
  },
  {
   "cell_type": "code",
   "execution_count": null,
   "id": "621713a7",
   "metadata": {
    "ExecuteTime": {
     "start_time": "2022-01-08T03:34:17.545Z"
    }
   },
   "outputs": [],
   "source": [
    "fig, axes = plt.subplots(figsize=(6, 6), ncols=2, dpi=200, sharey=True)\n",
    "\n",
    "ax = axes[0]\n",
    "df = data['query-dmr_ATAC_da'].to_pandas()\n",
    "ax.imshow(df, \n",
    "          aspect='auto', vmin=0.5, vmax=2)\n",
    "ax.set(xticks=range(df.shape[1]), xticklabels=df.columns, title='snATAC')\n",
    "ax.xaxis.set_tick_params(rotation=90)\n",
    "\n",
    "ax = axes[1]\n",
    "df = data['query-dmr_mC_da'].to_pandas()\n",
    "ax.imshow(df, aspect='auto',\n",
    "          vmin=0, vmax=1)\n",
    "ax.set(xticks=range(df.shape[1]), xticklabels=df.columns, title='snmC - mCG')\n",
    "ax.xaxis.set_tick_params(rotation=90)\n",
    "pass"
   ]
  },
  {
   "cell_type": "code",
   "execution_count": null,
   "id": "b060f78c",
   "metadata": {},
   "outputs": [],
   "source": []
  },
  {
   "cell_type": "code",
   "execution_count": null,
   "id": "2ac2c371",
   "metadata": {},
   "outputs": [],
   "source": []
  },
  {
   "cell_type": "code",
   "execution_count": null,
   "id": "ca8a46b1",
   "metadata": {},
   "outputs": [],
   "source": []
  },
  {
   "cell_type": "code",
   "execution_count": null,
   "id": "700d6b61",
   "metadata": {},
   "outputs": [],
   "source": []
  }
 ],
 "metadata": {
  "hide_input": false,
  "kernelspec": {
   "display_name": "Python 3 (ipykernel)",
   "language": "python",
   "name": "python3"
  },
  "language_info": {
   "codemirror_mode": {
    "name": "ipython",
    "version": 3
   },
   "file_extension": ".py",
   "mimetype": "text/x-python",
   "name": "python",
   "nbconvert_exporter": "python",
   "pygments_lexer": "ipython3",
   "version": "3.8.6"
  },
  "toc": {
   "base_numbering": 1,
   "nav_menu": {},
   "number_sections": true,
   "sideBar": true,
   "skip_h1_title": true,
   "title_cell": "Table of Contents",
   "title_sidebar": "Contents",
   "toc_cell": false,
   "toc_position": {},
   "toc_section_display": true,
   "toc_window_display": true
  }
 },
 "nbformat": 4,
 "nbformat_minor": 5
}

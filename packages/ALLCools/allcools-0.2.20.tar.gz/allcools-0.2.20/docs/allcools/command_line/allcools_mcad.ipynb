{
 "cells": [
  {
   "cell_type": "markdown",
   "metadata": {},
   "source": [
    "# `allcools mcad`"
   ]
  },
  {
   "cell_type": "code",
   "execution_count": 1,
   "metadata": {
    "ExecuteTime": {
     "end_time": "2021-03-14T07:55:46.711123Z",
     "start_time": "2021-03-14T07:55:46.708096Z"
    },
    "tags": [
     "remove-cell"
    ]
   },
   "outputs": [],
   "source": [
    "import subprocess\n",
    "from IPython.display import display, Markdown\n",
    "\n",
    "\n",
    "def execute_command_and_return_markdown(command):\n",
    "    output = subprocess.run(command,\n",
    "                            shell=True,\n",
    "                            check=True,\n",
    "                            stdout=subprocess.PIPE,\n",
    "                            encoding='utf8').stdout\n",
    "    markdown = f\"\"\"\n",
    "```shell\n",
    "$ {command}\n",
    "{output}\n",
    "```\n",
    "\"\"\"\n",
    "    display(Markdown(markdown))\n",
    "    return"
   ]
  },
  {
   "cell_type": "markdown",
   "metadata": {},
   "source": [
    "```{warning}\n",
    "This command is deprecated, please consider using [`allcools generate-dataset`](./allcools_dataset) as the uniform method to generate methylation count matrix.\n",
    "```"
   ]
  },
  {
   "cell_type": "code",
   "execution_count": 2,
   "metadata": {
    "ExecuteTime": {
     "end_time": "2021-03-14T07:55:46.948191Z",
     "start_time": "2021-03-14T07:55:46.883513Z"
    },
    "tags": [
     "hide-input"
    ]
   },
   "outputs": [
    {
     "data": {
      "text/markdown": [
       "\n",
       "```shell\n",
       "$ allcools generate-mcad -h\n",
       "usage: allcools generate-mcad [-h] --allc_table ALLC_TABLE --bed_path BED_PATH\n",
       "                              --output_prefix OUTPUT_PREFIX --mc_context\n",
       "                              MC_CONTEXT [--cpu CPU] [--cutoff CUTOFF]\n",
       "\n",
       "optional arguments:\n",
       "  -h, --help            show this help message and exit\n",
       "  --cpu CPU             Number of processes to use in parallel. (default: 1)\n",
       "  --cutoff CUTOFF       Values smaller than cutoff will be stored as 0, which\n",
       "                        reduces the file size. (default: 0.9)\n",
       "\n",
       "required arguments:\n",
       "  --allc_table ALLC_TABLE\n",
       "                        Contain all the ALLC file information in two tab-\n",
       "                        separated columns: 1. file_uid, 2. file_path. No\n",
       "                        header (default: None)\n",
       "  --bed_path BED_PATH   Arbitrary genomic regions can be defined in one BED\n",
       "                        file to count on. The fourth column of the BED file\n",
       "                        should be unique id of the regions. (default: None)\n",
       "  --output_prefix OUTPUT_PREFIX\n",
       "                        Output prefix of the MCAD, a suffix \".mcad\" will be\n",
       "                        added. (default: None)\n",
       "  --mc_context MC_CONTEXT\n",
       "                        mC context pattern to extract from ALLC. Context\n",
       "                        pattern follows IUPAC nucleotide code, e.g. N for\n",
       "                        ATCG, H for ATC, Y for CT.Note that generate_mcad only\n",
       "                        take one mC context (default: None)\n",
       "\n",
       "```\n"
      ],
      "text/plain": [
       "<IPython.core.display.Markdown object>"
      ]
     },
     "metadata": {},
     "output_type": "display_data"
    }
   ],
   "source": [
    "execute_command_and_return_markdown('allcools generate-mcad -h')"
   ]
  },
  {
   "cell_type": "code",
   "execution_count": null,
   "metadata": {},
   "outputs": [],
   "source": []
  }
 ],
 "metadata": {
  "celltoolbar": "Tags",
  "hide_input": false,
  "kernelspec": {
   "display_name": "Python 3 (ipykernel)",
   "language": "python",
   "name": "python3"
  },
  "language_info": {
   "codemirror_mode": {
    "name": "ipython",
    "version": 3
   },
   "file_extension": ".py",
   "mimetype": "text/x-python",
   "name": "python",
   "nbconvert_exporter": "python",
   "pygments_lexer": "ipython3",
   "version": "3.8.12"
  },
  "toc": {
   "base_numbering": 1,
   "nav_menu": {},
   "number_sections": true,
   "sideBar": true,
   "skip_h1_title": true,
   "title_cell": "Table of Contents",
   "title_sidebar": "Contents",
   "toc_cell": false,
   "toc_position": {},
   "toc_section_display": true,
   "toc_window_display": true
  }
 },
 "nbformat": 4,
 "nbformat_minor": 4
}

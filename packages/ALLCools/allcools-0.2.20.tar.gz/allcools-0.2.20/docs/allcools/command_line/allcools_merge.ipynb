{
 "cells": [
  {
   "cell_type": "markdown",
   "metadata": {},
   "source": [
    "# `allcools merge`"
   ]
  },
  {
   "cell_type": "code",
   "execution_count": 1,
   "metadata": {
    "ExecuteTime": {
     "end_time": "2021-03-14T07:53:15.532056Z",
     "start_time": "2021-03-14T07:53:15.529145Z"
    },
    "tags": [
     "remove-cell"
    ]
   },
   "outputs": [],
   "source": [
    "import subprocess\n",
    "from IPython.display import display, Markdown\n",
    "\n",
    "\n",
    "def execute_command_and_return_markdown(command):\n",
    "    output = subprocess.run(command,\n",
    "                            shell=True,\n",
    "                            check=True,\n",
    "                            stdout=subprocess.PIPE,\n",
    "                            encoding='utf8').stdout\n",
    "    markdown = f\"\"\"\n",
    "```shell\n",
    "$ {command}\n",
    "{output}\n",
    "```\n",
    "\"\"\"\n",
    "    display(Markdown(markdown))\n",
    "    return"
   ]
  },
  {
   "cell_type": "code",
   "execution_count": 2,
   "metadata": {
    "ExecuteTime": {
     "end_time": "2021-03-14T07:53:15.765199Z",
     "start_time": "2021-03-14T07:53:15.700349Z"
    },
    "tags": [
     "hide-input"
    ]
   },
   "outputs": [
    {
     "data": {
      "text/markdown": [
       "\n",
       "```shell\n",
       "$ allcools merge-allc -h\n",
       "usage: allcools merge-allc [-h] --allc_paths ALLC_PATHS [ALLC_PATHS ...]\n",
       "                           --output_path OUTPUT_PATH --chrom_size_path\n",
       "                           CHROM_SIZE_PATH [--cpu CPU]\n",
       "                           [--bin_length BIN_LENGTH] [--snp]\n",
       "\n",
       "optional arguments:\n",
       "  -h, --help            show this help message and exit\n",
       "  --cpu CPU             Number of processes to use in parallel. The real CPU\n",
       "                        usage is ~1.5 times than this number, due to the sub\n",
       "                        processes of handling ALLC files using tabix/bgzip.\n",
       "                        Monitor the CPU and Memory usage when running this\n",
       "                        function. (default: 10)\n",
       "  --bin_length BIN_LENGTH\n",
       "                        Length of the genome bin in each parallel job, large\n",
       "                        number means more memory usage. (default: 10000000)\n",
       "  --snp                 If true, means the input allc contain snp information,\n",
       "                        and the allc processing will take care that. (default:\n",
       "                        False)\n",
       "\n",
       "required arguments:\n",
       "  --allc_paths ALLC_PATHS [ALLC_PATHS ...]\n",
       "                        Single ALLC path contain wildcard OR multiple space\n",
       "                        separated ALLC paths OR a file contains 1 ALLC path in\n",
       "                        each row. (default: None)\n",
       "  --output_path OUTPUT_PATH\n",
       "                        Path to the output merged ALLC file. (default: None)\n",
       "  --chrom_size_path CHROM_SIZE_PATH\n",
       "                        Path to UCSC chrom size file. This can be generated\n",
       "                        from the genome fasta or downloaded via UCSC\n",
       "                        fetchChromSizes tools. All ALLCools functions will\n",
       "                        refer to this file whenever possible to check for\n",
       "                        chromosome names and lengths, so it is crucial to use\n",
       "                        a chrom size file consistent to the reference fasta\n",
       "                        file ever since mapping. ALLCools functions will not\n",
       "                        change or infer chromosome names. (default: None)\n",
       "\n",
       "```\n"
      ],
      "text/plain": [
       "<IPython.core.display.Markdown object>"
      ]
     },
     "metadata": {},
     "output_type": "display_data"
    }
   ],
   "source": [
    "execute_command_and_return_markdown('allcools merge-allc -h')"
   ]
  },
  {
   "cell_type": "code",
   "execution_count": null,
   "metadata": {},
   "outputs": [],
   "source": []
  }
 ],
 "metadata": {
  "celltoolbar": "Tags",
  "hide_input": false,
  "kernelspec": {
   "display_name": "Python 3",
   "language": "python",
   "name": "python3"
  },
  "language_info": {
   "codemirror_mode": {
    "name": "ipython",
    "version": 3
   },
   "file_extension": ".py",
   "mimetype": "text/x-python",
   "name": "python",
   "nbconvert_exporter": "python",
   "pygments_lexer": "ipython3",
   "version": "3.8.6"
  },
  "toc": {
   "base_numbering": 1,
   "nav_menu": {},
   "number_sections": true,
   "sideBar": true,
   "skip_h1_title": true,
   "title_cell": "Table of Contents",
   "title_sidebar": "Contents",
   "toc_cell": false,
   "toc_position": {},
   "toc_section_display": true,
   "toc_window_display": true
  }
 },
 "nbformat": 4,
 "nbformat_minor": 4
}

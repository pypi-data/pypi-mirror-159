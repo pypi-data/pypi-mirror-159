{
 "cells": [
  {
   "cell_type": "markdown",
   "metadata": {},
   "source": [
    "# `allcools mcds`"
   ]
  },
  {
   "cell_type": "code",
   "execution_count": 1,
   "metadata": {
    "ExecuteTime": {
     "end_time": "2021-03-14T07:55:19.932354Z",
     "start_time": "2021-03-14T07:55:19.929416Z"
    },
    "tags": [
     "remove-cell"
    ]
   },
   "outputs": [],
   "source": [
    "import subprocess\n",
    "from IPython.display import display, Markdown\n",
    "\n",
    "\n",
    "def execute_command_and_return_markdown(command):\n",
    "    output = subprocess.run(command,\n",
    "                            shell=True,\n",
    "                            check=True,\n",
    "                            stdout=subprocess.PIPE,\n",
    "                            encoding='utf8').stdout\n",
    "    markdown = f\"\"\"\n",
    "```shell\n",
    "$ {command}\n",
    "{output}\n",
    "```\n",
    "\"\"\"\n",
    "    display(Markdown(markdown))\n",
    "    return"
   ]
  },
  {
   "cell_type": "markdown",
   "metadata": {},
   "source": [
    "```{warning}\n",
    "This command is deprecated, please consider using [`allcools generate-dataset`](./allcools_dataset) as the uniform method to generate methylation count matrix.\n",
    "```"
   ]
  },
  {
   "cell_type": "code",
   "execution_count": 2,
   "metadata": {
    "ExecuteTime": {
     "end_time": "2021-03-14T07:55:20.176887Z",
     "start_time": "2021-03-14T07:55:20.111328Z"
    },
    "tags": [
     "hide-input"
    ]
   },
   "outputs": [
    {
     "data": {
      "text/markdown": [
       "\n",
       "```shell\n",
       "$ allcools generate-mcds -h\n",
       "usage: allcools generate-mcds [-h] --allc_table ALLC_TABLE --output_prefix\n",
       "                              OUTPUT_PREFIX --chrom_size_path CHROM_SIZE_PATH\n",
       "                              --mc_contexts MC_CONTEXTS [MC_CONTEXTS ...]\n",
       "                              [--split_strand]\n",
       "                              [--bin_sizes BIN_SIZES [BIN_SIZES ...]]\n",
       "                              [--region_bed_paths REGION_BED_PATHS [REGION_BED_PATHS ...]]\n",
       "                              [--region_bed_names REGION_BED_NAMES [REGION_BED_NAMES ...]]\n",
       "                              [--cov_cutoff COV_CUTOFF] [--cpu CPU]\n",
       "                              [--max_per_mcds MAX_PER_MCDS]\n",
       "                              [--cell_chunk_size CELL_CHUNK_SIZE]\n",
       "                              [--dtype {uint8,uint16,uint32,uint64,int8,int16,int32,int64,bool}]\n",
       "\n",
       "optional arguments:\n",
       "  -h, --help            show this help message and exit\n",
       "  --split_strand        If true, Watson (+) and Crick (-) strands will be\n",
       "                        count separately (default: False)\n",
       "  --bin_sizes BIN_SIZES [BIN_SIZES ...]\n",
       "                        Fix-size genomic bins can be defined by bin_sizes and\n",
       "                        chrom_size_path. Space separated sizes of genome bins,\n",
       "                        each size will be count separately. (default: None)\n",
       "  --region_bed_paths REGION_BED_PATHS [REGION_BED_PATHS ...]\n",
       "                        Arbitrary genomic regions can be defined in several\n",
       "                        BED files to count on. Space separated paths to each\n",
       "                        BED files, The fourth column of the BED file should be\n",
       "                        unique id of the regions. (default: None)\n",
       "  --region_bed_names REGION_BED_NAMES [REGION_BED_NAMES ...]\n",
       "                        Space separated names for each BED file provided in\n",
       "                        region_bed_paths. (default: None)\n",
       "  --cov_cutoff COV_CUTOFF\n",
       "                        Max cov filter for a single site in ALLC. Sites with\n",
       "                        cov > cov_cutoff will be skipped. (default: 9999)\n",
       "  --cpu CPU             Number of processes to use in parallel. (default: 1)\n",
       "  --max_per_mcds MAX_PER_MCDS\n",
       "                        Maximum number of ALLC files to aggregate into 1 MCDS,\n",
       "                        if number of ALLC provided > max_per_mcds, will\n",
       "                        generate MCDS in chunks, with same prefix provided.\n",
       "                        (default: 3072)\n",
       "  --cell_chunk_size CELL_CHUNK_SIZE\n",
       "                        Size of cell chunk in parallel aggregation. Do not\n",
       "                        have any effect on results. Large chunksize needs\n",
       "                        large memory. (default: 100)\n",
       "  --dtype {uint8,uint16,uint32,uint64,int8,int16,int32,int64,bool}\n",
       "                        Data type of MCDS count matrix. Default is np.uint32.\n",
       "                        For single cell feature count, this can be set to\n",
       "                        np.uint16 [0, 65536] to decrease file size. The values\n",
       "                        exceed min/max will be clipped while keep the mc/cov\n",
       "                        same, and a warning will be sent. (default: uint32)\n",
       "\n",
       "required arguments:\n",
       "  --allc_table ALLC_TABLE\n",
       "                        Contain all the ALLC file information in two tab-\n",
       "                        separated columns: 1. file_uid, 2. file_path. No\n",
       "                        header (default: None)\n",
       "  --output_prefix OUTPUT_PREFIX\n",
       "                        Output prefix of the MCDS (default: None)\n",
       "  --chrom_size_path CHROM_SIZE_PATH\n",
       "                        Path to UCSC chrom size file. This can be generated\n",
       "                        from the genome fasta or downloaded via UCSC\n",
       "                        fetchChromSizes tools. All ALLCools functions will\n",
       "                        refer to this file whenever possible to check for\n",
       "                        chromosome names and lengths, so it is crucial to use\n",
       "                        a chrom size file consistent to the reference fasta\n",
       "                        file ever since mapping. ALLCools functions will not\n",
       "                        change or infer chromosome names. (default: None)\n",
       "  --mc_contexts MC_CONTEXTS [MC_CONTEXTS ...]\n",
       "                        Space separated mC context patterns to extract from\n",
       "                        ALLC. The context length should be the same as ALLC\n",
       "                        file context. Context pattern follows IUPAC nucleotide\n",
       "                        code, e.g. N for ATCG, H for ATC, Y for CT. (default:\n",
       "                        None)\n",
       "\n",
       "```\n"
      ],
      "text/plain": [
       "<IPython.core.display.Markdown object>"
      ]
     },
     "metadata": {},
     "output_type": "display_data"
    }
   ],
   "source": [
    "execute_command_and_return_markdown('allcools generate-mcds -h')"
   ]
  },
  {
   "cell_type": "code",
   "execution_count": null,
   "metadata": {},
   "outputs": [],
   "source": []
  }
 ],
 "metadata": {
  "celltoolbar": "Tags",
  "hide_input": false,
  "kernelspec": {
   "display_name": "Python 3 (ipykernel)",
   "language": "python",
   "name": "python3"
  },
  "language_info": {
   "codemirror_mode": {
    "name": "ipython",
    "version": 3
   },
   "file_extension": ".py",
   "mimetype": "text/x-python",
   "name": "python",
   "nbconvert_exporter": "python",
   "pygments_lexer": "ipython3",
   "version": "3.8.12"
  },
  "toc": {
   "base_numbering": 1,
   "nav_menu": {},
   "number_sections": true,
   "sideBar": true,
   "skip_h1_title": true,
   "title_cell": "Table of Contents",
   "title_sidebar": "Contents",
   "toc_cell": false,
   "toc_position": {},
   "toc_section_display": true,
   "toc_window_display": true
  }
 },
 "nbformat": 4,
 "nbformat_minor": 4
}

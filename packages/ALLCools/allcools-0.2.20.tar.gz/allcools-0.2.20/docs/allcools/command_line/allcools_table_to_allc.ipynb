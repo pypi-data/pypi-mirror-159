{
 "cells": [
  {
   "cell_type": "markdown",
   "metadata": {},
   "source": [
    "# `allcools table-to-allc`"
   ]
  },
  {
   "cell_type": "code",
   "execution_count": 1,
   "metadata": {
    "ExecuteTime": {
     "end_time": "2022-04-16T18:15:31.957199Z",
     "start_time": "2022-04-16T18:15:31.954056Z"
    },
    "tags": [
     "remove-cell"
    ]
   },
   "outputs": [],
   "source": [
    "import subprocess\n",
    "from IPython.display import display, Markdown\n",
    "\n",
    "\n",
    "def execute_command_and_return_markdown(command):\n",
    "    output = subprocess.run(command,\n",
    "                            shell=True,\n",
    "                            check=True,\n",
    "                            stdout=subprocess.PIPE,\n",
    "                            encoding='utf8').stdout\n",
    "    markdown = f\"\"\"\n",
    "```shell\n",
    "$ {command}\n",
    "{output}\n",
    "```\n",
    "\"\"\"\n",
    "    display(Markdown(markdown))\n",
    "    return"
   ]
  },
  {
   "cell_type": "code",
   "execution_count": 2,
   "metadata": {
    "ExecuteTime": {
     "end_time": "2022-04-16T18:15:39.300519Z",
     "start_time": "2022-04-16T18:15:39.231603Z"
    },
    "tags": [
     "hide-input"
    ]
   },
   "outputs": [
    {
     "data": {
      "text/markdown": [
       "\n",
       "```shell\n",
       "$ allcools table-to-allc -h\n",
       "usage: allcools table-to-allc [-h] --input_path INPUT_PATH --output_prefix\n",
       "                              OUTPUT_PREFIX [--sep SEP] [--header HEADER]\n",
       "                              [--chunk_size CHUNK_SIZE] [--chrom CHROM]\n",
       "                              [--pos POS] [--strand STRAND]\n",
       "                              [--context CONTEXT] [--mc MC] [--uc UC]\n",
       "                              [--cov COV] [--mc_frac MC_FRAC]\n",
       "                              [--pseudo_count PSEUDO_COUNT]\n",
       "                              [--fasta_path FASTA_PATH]\n",
       "                              [--num_upstream_bases NUM_UPSTREAM_BASES]\n",
       "                              [--num_downstream_bases NUM_DOWNSTREAM_BASES]\n",
       "                              [--add_chr] [--no_sort]\n",
       "\n",
       "optional arguments:\n",
       "  -h, --help            show this help message and exit\n",
       "  --sep SEP             character to separate columns in the table (default: )\n",
       "  --header HEADER       Whether the table contains header line or not\n",
       "                        (default: None)\n",
       "  --chunk_size CHUNK_SIZE\n",
       "                        chunk_size to perform conversion (default: 100000)\n",
       "  --chrom CHROM         the chromosome column number, 0-based index (default:\n",
       "                        0)\n",
       "  --pos POS             the position column number, 0-based index (default: 1)\n",
       "  --strand STRAND       the strand column number, 0-based index. If not\n",
       "                        provided, will infer automatically based on the\n",
       "                        fasta_path (default: None)\n",
       "  --context CONTEXT     the cytosine context column number, 0-based index. If\n",
       "                        not provided, will inter automatically based on the\n",
       "                        fasta_path (default: None)\n",
       "  --mc MC               the methylated cytosine count column number, 0-based\n",
       "                        index. (default: None)\n",
       "  --uc UC               the unmethylated cytosine count column number, 0-based\n",
       "                        index. (default: None)\n",
       "  --cov COV             the total cytosine coverage count column number,\n",
       "                        0-based index. (default: None)\n",
       "  --mc_frac MC_FRAC     the methylation fraction column number, 0-based index.\n",
       "                        (default: None)\n",
       "  --pseudo_count PSEUDO_COUNT\n",
       "                        Use this pseudo_count number as the total cytosine\n",
       "                        coverage count, if the \"cov\" column is missing and\n",
       "                        \"mc_frac\" column is provided. (default: 1)\n",
       "  --fasta_path FASTA_PATH\n",
       "                        the genome FASTA file path, required if either\n",
       "                        \"strand\" or \"context\" column is missing. (default:\n",
       "                        None)\n",
       "  --num_upstream_bases NUM_UPSTREAM_BASES\n",
       "                        number of up stream bases to include when get cytosine\n",
       "                        context. (default: 0)\n",
       "  --num_downstream_bases NUM_DOWNSTREAM_BASES\n",
       "                        number of down stream bases to include when get\n",
       "                        cytosine context. (default: 2)\n",
       "  --add_chr             whether add \"chr\" before the chromosome name.\n",
       "                        (default: False)\n",
       "  --no_sort             whether sort the ALLC table after conversion.\n",
       "                        (default: True)\n",
       "\n",
       "required arguments:\n",
       "  --input_path INPUT_PATH\n",
       "                        input path of the table (default: None)\n",
       "  --output_prefix OUTPUT_PREFIX\n",
       "                        output prefix of the ALLC table (default: None)\n",
       "\n",
       "```\n"
      ],
      "text/plain": [
       "<IPython.core.display.Markdown object>"
      ]
     },
     "metadata": {},
     "output_type": "display_data"
    }
   ],
   "source": [
    "execute_command_and_return_markdown('allcools table-to-allc -h')"
   ]
  },
  {
   "cell_type": "code",
   "execution_count": null,
   "metadata": {},
   "outputs": [],
   "source": []
  }
 ],
 "metadata": {
  "celltoolbar": "Tags",
  "hide_input": false,
  "kernelspec": {
   "display_name": "Python 3 (ipykernel)",
   "language": "python",
   "name": "python3"
  },
  "language_info": {
   "codemirror_mode": {
    "name": "ipython",
    "version": 3
   },
   "file_extension": ".py",
   "mimetype": "text/x-python",
   "name": "python",
   "nbconvert_exporter": "python",
   "pygments_lexer": "ipython3",
   "version": "3.8.12"
  },
  "toc": {
   "base_numbering": 1,
   "nav_menu": {},
   "number_sections": true,
   "sideBar": true,
   "skip_h1_title": true,
   "title_cell": "Table of Contents",
   "title_sidebar": "Contents",
   "toc_cell": false,
   "toc_position": {},
   "toc_section_display": true,
   "toc_window_display": true
  }
 },
 "nbformat": 4,
 "nbformat_minor": 4
}
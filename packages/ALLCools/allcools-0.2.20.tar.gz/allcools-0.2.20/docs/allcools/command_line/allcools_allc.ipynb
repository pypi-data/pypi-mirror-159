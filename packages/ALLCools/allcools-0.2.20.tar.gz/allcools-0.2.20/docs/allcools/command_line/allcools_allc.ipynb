{
 "cells": [
  {
   "cell_type": "markdown",
   "metadata": {},
   "source": [
    "# `allcools allc`"
   ]
  },
  {
   "cell_type": "code",
   "execution_count": 1,
   "metadata": {
    "ExecuteTime": {
     "end_time": "2021-03-14T07:45:22.668544Z",
     "start_time": "2021-03-14T07:45:22.665522Z"
    },
    "tags": [
     "remove-cell"
    ]
   },
   "outputs": [],
   "source": [
    "import subprocess\n",
    "from IPython.display import display, Markdown\n",
    "\n",
    "\n",
    "def execute_command_and_return_markdown(command):\n",
    "    output = subprocess.run(command,\n",
    "                            shell=True,\n",
    "                            check=True,\n",
    "                            stdout=subprocess.PIPE,\n",
    "                            encoding='utf8').stdout\n",
    "    markdown = f\"\"\"\n",
    "```shell\n",
    "$ {command}\n",
    "{output}\n",
    "```\n",
    "\"\"\"\n",
    "    display(Markdown(markdown))\n",
    "    return"
   ]
  },
  {
   "cell_type": "code",
   "execution_count": 2,
   "metadata": {
    "ExecuteTime": {
     "end_time": "2021-03-14T07:45:22.736238Z",
     "start_time": "2021-03-14T07:45:22.670295Z"
    },
    "tags": [
     "hide-input"
    ]
   },
   "outputs": [
    {
     "data": {
      "text/markdown": [
       "\n",
       "```shell\n",
       "$ allcools bam-to-allc -h\n",
       "usage: allcools bam-to-allc [-h] --bam_path BAM_PATH --reference_fasta\n",
       "                            REFERENCE_FASTA --output_path OUTPUT_PATH\n",
       "                            [--cpu CPU] [--num_upstr_bases NUM_UPSTR_BASES]\n",
       "                            [--num_downstr_bases NUM_DOWNSTR_BASES]\n",
       "                            [--min_mapq MIN_MAPQ]\n",
       "                            [--min_base_quality MIN_BASE_QUALITY]\n",
       "                            [--compress_level COMPRESS_LEVEL]\n",
       "                            [--save_count_df]\n",
       "\n",
       "optional arguments:\n",
       "  -h, --help            show this help message and exit\n",
       "  --cpu CPU             Number of processes to use in parallel. DO NOT use cpu\n",
       "                        > 1 for single cell ALLC generation. Parallel on cell\n",
       "                        level is better for single cell project. (default: 1)\n",
       "  --num_upstr_bases NUM_UPSTR_BASES\n",
       "                        Number of upstream base(s) of the C base to include in\n",
       "                        ALLC context column, usually use 0 for normal BS-seq,\n",
       "                        1 for NOMe-seq. (default: 0)\n",
       "  --num_downstr_bases NUM_DOWNSTR_BASES\n",
       "                        Number of downstream base(s) of the C base to include\n",
       "                        in ALLC context column, usually use 2 for both BS-seq\n",
       "                        and NOMe-seq. (default: 2)\n",
       "  --min_mapq MIN_MAPQ   Minimum MAPQ for a read being considered, samtools\n",
       "                        mpileup parameter, see samtools documentation.\n",
       "                        (default: 10)\n",
       "  --min_base_quality MIN_BASE_QUALITY\n",
       "                        Minimum base quality for a base being considered,\n",
       "                        samtools mpileup parameter, see samtools\n",
       "                        documentation. (default: 20)\n",
       "  --compress_level COMPRESS_LEVEL\n",
       "                        Compression level for the output file (default: 5)\n",
       "  --save_count_df       If present, save an ALLC context count table next to\n",
       "                        ALLC file. (default: False)\n",
       "\n",
       "required arguments:\n",
       "  --bam_path BAM_PATH, -bam BAM_PATH\n",
       "                        Path to 1 position sorted BAM file (default: None)\n",
       "  --reference_fasta REFERENCE_FASTA\n",
       "                        Path to 1 genome reference FASTA file (the one used\n",
       "                        for mapping), use samtools fadix to build .fai index\n",
       "                        first. Do not compress that file. (default: None)\n",
       "  --output_path OUTPUT_PATH\n",
       "                        Path to output ALLC file (default: None)\n",
       "\n",
       "```\n"
      ],
      "text/plain": [
       "<IPython.core.display.Markdown object>"
      ]
     },
     "metadata": {},
     "output_type": "display_data"
    }
   ],
   "source": [
    "execute_command_and_return_markdown('allcools bam-to-allc -h')"
   ]
  },
  {
   "cell_type": "code",
   "execution_count": null,
   "metadata": {},
   "outputs": [],
   "source": []
  }
 ],
 "metadata": {
  "celltoolbar": "Tags",
  "hide_input": false,
  "kernelspec": {
   "display_name": "Python 3",
   "language": "python",
   "name": "python3"
  },
  "language_info": {
   "codemirror_mode": {
    "name": "ipython",
    "version": 3
   },
   "file_extension": ".py",
   "mimetype": "text/x-python",
   "name": "python",
   "nbconvert_exporter": "python",
   "pygments_lexer": "ipython3",
   "version": "3.8.6"
  },
  "toc": {
   "base_numbering": 1,
   "nav_menu": {},
   "number_sections": true,
   "sideBar": true,
   "skip_h1_title": true,
   "title_cell": "Table of Contents",
   "title_sidebar": "Contents",
   "toc_cell": false,
   "toc_position": {},
   "toc_section_display": true,
   "toc_window_display": true
  }
 },
 "nbformat": 4,
 "nbformat_minor": 4
}

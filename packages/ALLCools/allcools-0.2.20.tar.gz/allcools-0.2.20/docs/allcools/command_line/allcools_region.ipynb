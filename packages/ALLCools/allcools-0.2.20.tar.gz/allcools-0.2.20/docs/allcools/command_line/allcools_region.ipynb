{
 "cells": [
  {
   "cell_type": "markdown",
   "metadata": {},
   "source": [
    "# `allcools region`"
   ]
  },
  {
   "cell_type": "code",
   "execution_count": 1,
   "metadata": {
    "ExecuteTime": {
     "end_time": "2021-03-14T07:54:49.334541Z",
     "start_time": "2021-03-14T07:54:49.331598Z"
    },
    "tags": [
     "remove-cell"
    ]
   },
   "outputs": [],
   "source": [
    "import subprocess\n",
    "from IPython.display import display, Markdown\n",
    "\n",
    "\n",
    "def execute_command_and_return_markdown(command):\n",
    "    output = subprocess.run(command,\n",
    "                            shell=True,\n",
    "                            check=True,\n",
    "                            stdout=subprocess.PIPE,\n",
    "                            encoding='utf8').stdout\n",
    "    markdown = f\"\"\"\n",
    "```shell\n",
    "$ {command}\n",
    "{output}\n",
    "```\n",
    "\"\"\"\n",
    "    display(Markdown(markdown))\n",
    "    return"
   ]
  },
  {
   "cell_type": "code",
   "execution_count": 2,
   "metadata": {
    "ExecuteTime": {
     "end_time": "2021-03-14T07:54:49.599329Z",
     "start_time": "2021-03-14T07:54:49.534250Z"
    },
    "tags": [
     "hide-input"
    ]
   },
   "outputs": [
    {
     "data": {
      "text/markdown": [
       "\n",
       "```shell\n",
       "$ allcools region -h\n",
       "usage: allcools allc-to-region-count [-h] --allc_path ALLC_PATH\n",
       "                                     --output_prefix OUTPUT_PREFIX\n",
       "                                     --chrom_size_path CHROM_SIZE_PATH\n",
       "                                     --mc_contexts MC_CONTEXTS\n",
       "                                     [MC_CONTEXTS ...] [--split_strand]\n",
       "                                     [--region_bed_paths REGION_BED_PATHS [REGION_BED_PATHS ...]]\n",
       "                                     [--region_bed_names REGION_BED_NAMES [REGION_BED_NAMES ...]]\n",
       "                                     [--bin_sizes BIN_SIZES [BIN_SIZES ...]]\n",
       "                                     [--cov_cutoff COV_CUTOFF]\n",
       "                                     [--save_zero_cov] [--cpu CPU]\n",
       "\n",
       "optional arguments:\n",
       "  -h, --help            show this help message and exit\n",
       "  --split_strand        If true, Watson (+) and Crick (-) strands will be\n",
       "                        count separately (default: False)\n",
       "  --region_bed_paths REGION_BED_PATHS [REGION_BED_PATHS ...]\n",
       "                        Arbitrary genomic regions can be defined in several\n",
       "                        BED files to count on. Space separated paths to each\n",
       "                        BED files, The fourth column of the BED file should be\n",
       "                        unique id of the regions. (default: None)\n",
       "  --region_bed_names REGION_BED_NAMES [REGION_BED_NAMES ...]\n",
       "                        Space separated names for each BED file provided in\n",
       "                        region_bed_paths. (default: None)\n",
       "  --bin_sizes BIN_SIZES [BIN_SIZES ...]\n",
       "                        Fix-size genomic bins can be defined by bin_sizes and\n",
       "                        chrom_size_path. Space separated sizes of genome bins,\n",
       "                        each size will be count separately. (default: None)\n",
       "  --cov_cutoff COV_CUTOFF\n",
       "                        Max cov filter for a single site in ALLC. Sites with\n",
       "                        cov > cov_cutoff will be skipped. (default: 9999)\n",
       "  --save_zero_cov       If present, save the regions that have 0 cov in\n",
       "                        output, only apply to region count but not the\n",
       "                        chromosome count. (default: False)\n",
       "  --cpu CPU             Number of processes to use in parallel. This function\n",
       "                        parallel on region level and will generate a bunch of\n",
       "                        small files if cpu > 1. Do not use cpu > 1 for single\n",
       "                        cell region count. For single cell data, parallel on\n",
       "                        cell level is better. (default: 1)\n",
       "\n",
       "required arguments:\n",
       "  --allc_path ALLC_PATH, -allc ALLC_PATH\n",
       "                        Path to 1 ALLC file (default: None)\n",
       "  --output_prefix OUTPUT_PREFIX, -out OUTPUT_PREFIX\n",
       "                        Path prefix of the output region count file. (default:\n",
       "                        None)\n",
       "  --chrom_size_path CHROM_SIZE_PATH\n",
       "                        Path to UCSC chrom size file. This can be generated\n",
       "                        from the genome fasta or downloaded via UCSC\n",
       "                        fetchChromSizes tools. All ALLCools functions will\n",
       "                        refer to this file whenever possible to check for\n",
       "                        chromosome names and lengths, so it is crucial to use\n",
       "                        a chrom size file consistent to the reference fasta\n",
       "                        file ever since mapping. ALLCools functions will not\n",
       "                        change or infer chromosome names. (default: None)\n",
       "  --mc_contexts MC_CONTEXTS [MC_CONTEXTS ...]\n",
       "                        Space separated mC context patterns to extract from\n",
       "                        ALLC. The context length should be the same as ALLC\n",
       "                        file context. Context pattern follows IUPAC nucleotide\n",
       "                        code, e.g. N for ATCG, H for ATC, Y for CT. (default:\n",
       "                        None)\n",
       "\n",
       "```\n"
      ],
      "text/plain": [
       "<IPython.core.display.Markdown object>"
      ]
     },
     "metadata": {},
     "output_type": "display_data"
    }
   ],
   "source": [
    "execute_command_and_return_markdown('allcools region -h')"
   ]
  },
  {
   "cell_type": "code",
   "execution_count": null,
   "metadata": {},
   "outputs": [],
   "source": []
  }
 ],
 "metadata": {
  "celltoolbar": "Tags",
  "hide_input": false,
  "kernelspec": {
   "display_name": "Python 3",
   "language": "python",
   "name": "python3"
  },
  "language_info": {
   "codemirror_mode": {
    "name": "ipython",
    "version": 3
   },
   "file_extension": ".py",
   "mimetype": "text/x-python",
   "name": "python",
   "nbconvert_exporter": "python",
   "pygments_lexer": "ipython3",
   "version": "3.8.6"
  },
  "toc": {
   "base_numbering": 1,
   "nav_menu": {},
   "number_sections": true,
   "sideBar": true,
   "skip_h1_title": true,
   "title_cell": "Table of Contents",
   "title_sidebar": "Contents",
   "toc_cell": false,
   "toc_position": {},
   "toc_section_display": true,
   "toc_window_display": true
  }
 },
 "nbformat": 4,
 "nbformat_minor": 4
}

{
 "cells": [
  {
   "cell_type": "markdown",
   "metadata": {},
   "source": [
    "# `allcools extract`"
   ]
  },
  {
   "cell_type": "code",
   "execution_count": 1,
   "metadata": {
    "ExecuteTime": {
     "end_time": "2021-03-14T07:53:44.208397Z",
     "start_time": "2021-03-14T07:53:44.205291Z"
    },
    "tags": [
     "remove-cell"
    ]
   },
   "outputs": [],
   "source": [
    "import subprocess\n",
    "from IPython.display import display, Markdown\n",
    "\n",
    "\n",
    "def execute_command_and_return_markdown(command):\n",
    "    output = subprocess.run(command,\n",
    "                            shell=True,\n",
    "                            check=True,\n",
    "                            stdout=subprocess.PIPE,\n",
    "                            encoding='utf8').stdout\n",
    "    markdown = f\"\"\"\n",
    "```shell\n",
    "$ {command}\n",
    "{output}\n",
    "```\n",
    "\"\"\"\n",
    "    display(Markdown(markdown))\n",
    "    return"
   ]
  },
  {
   "cell_type": "code",
   "execution_count": 2,
   "metadata": {
    "ExecuteTime": {
     "end_time": "2021-03-14T07:53:44.451493Z",
     "start_time": "2021-03-14T07:53:44.383391Z"
    },
    "tags": [
     "hide-input"
    ]
   },
   "outputs": [
    {
     "data": {
      "text/markdown": [
       "\n",
       "```shell\n",
       "$ allcools extract-allc -h\n",
       "usage: allcools extract-allc [-h] --allc_path ALLC_PATH --output_prefix\n",
       "                             OUTPUT_PREFIX --mc_contexts MC_CONTEXTS\n",
       "                             [MC_CONTEXTS ...] --chrom_size_path\n",
       "                             CHROM_SIZE_PATH [--strandness {both,split,merge}]\n",
       "                             [--output_format {allc,bed5}] [--region REGION]\n",
       "                             [--cov_cutoff COV_CUTOFF] [--cpu CPU]\n",
       "\n",
       "optional arguments:\n",
       "  -h, --help            show this help message and exit\n",
       "  --strandness {both,split,merge}\n",
       "                        What to do with strand information, possible values\n",
       "                        are: 1. both: save +/- strand together in one file\n",
       "                        without any modification; 2. split: save +/- strand\n",
       "                        into two separate files, with suffix contain Watson\n",
       "                        (+) and Crick (-); 3. merge: This will only merge the\n",
       "                        count on adjacent CpG in +/- strands, only work for\n",
       "                        CpG like context. For non-CG context, its the same as\n",
       "                        both. (default: both)\n",
       "  --output_format {allc,bed5}\n",
       "                        Output format of extracted information, possible\n",
       "                        values are: 1. allc: keep the allc format; 2. bed5:\n",
       "                        5-column bed format, chrom, pos, pos, mc, cov;\n",
       "                        (default: allc)\n",
       "  --region REGION       Only extract records from certain genome region(s) via\n",
       "                        tabix, multiple region can be provided in tabix form.\n",
       "                        If region is not None, will not run in parallel\n",
       "                        (default: None)\n",
       "  --cov_cutoff COV_CUTOFF\n",
       "                        Max cov filter for a single site in ALLC. Sites with\n",
       "                        cov > cov_cutoff will be skipped. (default: 99999)\n",
       "  --cpu CPU             Number of processes to use in parallel. This function\n",
       "                        parallel on region level and will generate a bunch of\n",
       "                        small files if cpu > 1. Do not use cpu > 1 for single\n",
       "                        cell region count. For single cell data, parallel on\n",
       "                        cell level is better. (default: 1)\n",
       "\n",
       "required arguments:\n",
       "  --allc_path ALLC_PATH\n",
       "                        Path to 1 ALLC file (default: None)\n",
       "  --output_prefix OUTPUT_PREFIX\n",
       "                        Path prefix of the output ALLC file. (default: None)\n",
       "  --mc_contexts MC_CONTEXTS [MC_CONTEXTS ...]\n",
       "                        Space separated mC context patterns to extract from\n",
       "                        ALLC. The context length should be the same as ALLC\n",
       "                        file context. Context pattern follows IUPAC nucleotide\n",
       "                        code, e.g. N for ATCG, H for ATC, Y for CT. (default:\n",
       "                        None)\n",
       "  --chrom_size_path CHROM_SIZE_PATH\n",
       "                        Path to UCSC chrom size file. This can be generated\n",
       "                        from the genome fasta or downloaded via UCSC\n",
       "                        fetchChromSizes tools. All ALLCools functions will\n",
       "                        refer to this file whenever possible to check for\n",
       "                        chromosome names and lengths, so it is crucial to use\n",
       "                        a chrom size file consistent to the reference fasta\n",
       "                        file ever since mapping. ALLCools functions will not\n",
       "                        change or infer chromosome names. (default: None)\n",
       "\n",
       "```\n"
      ],
      "text/plain": [
       "<IPython.core.display.Markdown object>"
      ]
     },
     "metadata": {},
     "output_type": "display_data"
    }
   ],
   "source": [
    "execute_command_and_return_markdown('allcools extract-allc -h')"
   ]
  },
  {
   "cell_type": "code",
   "execution_count": null,
   "metadata": {},
   "outputs": [],
   "source": []
  }
 ],
 "metadata": {
  "celltoolbar": "Tags",
  "hide_input": false,
  "kernelspec": {
   "display_name": "Python 3",
   "language": "python",
   "name": "python3"
  },
  "language_info": {
   "codemirror_mode": {
    "name": "ipython",
    "version": 3
   },
   "file_extension": ".py",
   "mimetype": "text/x-python",
   "name": "python",
   "nbconvert_exporter": "python",
   "pygments_lexer": "ipython3",
   "version": "3.8.6"
  },
  "toc": {
   "base_numbering": 1,
   "nav_menu": {},
   "number_sections": true,
   "sideBar": true,
   "skip_h1_title": true,
   "title_cell": "Table of Contents",
   "title_sidebar": "Contents",
   "toc_cell": false,
   "toc_position": {},
   "toc_section_display": true,
   "toc_window_display": true
  }
 },
 "nbformat": 4,
 "nbformat_minor": 4
}

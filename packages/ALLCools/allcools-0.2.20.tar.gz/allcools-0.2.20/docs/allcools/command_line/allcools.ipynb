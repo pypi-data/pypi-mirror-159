{
 "cells": [
  {
   "cell_type": "markdown",
   "metadata": {},
   "source": [
    "# Entry Point\n",
    "\n",
    "All the command line tools is under the `allcools` command. The following chart illustrates their relationships.\n",
    "\n",
    "```{figure} ./ALLCools.png\n",
    "---\n",
    "height: 600px\n",
    "name: allcools-fig\n",
    "---\n",
    "ALLCools command line tools.\n",
    "```\n",
    "## Usage"
   ]
  },
  {
   "cell_type": "code",
   "execution_count": 1,
   "metadata": {
    "ExecuteTime": {
     "end_time": "2021-03-14T08:10:33.292595Z",
     "start_time": "2021-03-14T08:10:33.289476Z"
    },
    "tags": [
     "remove-cell"
    ]
   },
   "outputs": [],
   "source": [
    "import subprocess\n",
    "from IPython.display import display, Markdown\n",
    "\n",
    "\n",
    "def execute_command_and_return_markdown(command):\n",
    "    output = subprocess.run(command,\n",
    "                            shell=True,\n",
    "                            check=True,\n",
    "                            stdout=subprocess.PIPE,\n",
    "                            encoding='utf8').stdout\n",
    "    markdown = f\"\"\"\n",
    "```shell\n",
    "$ {command}\n",
    "{output}\n",
    "```\n",
    "\"\"\"\n",
    "    display(Markdown(markdown))\n",
    "    return"
   ]
  },
  {
   "cell_type": "code",
   "execution_count": 2,
   "metadata": {
    "ExecuteTime": {
     "end_time": "2021-03-14T08:10:33.360925Z",
     "start_time": "2021-03-14T08:10:33.294103Z"
    },
    "tags": [
     "remove-input"
    ]
   },
   "outputs": [
    {
     "data": {
      "text/markdown": [
       "\n",
       "```shell\n",
       "$ allcools -h\n",
       "usage: allcools [-h]  ...\n",
       "\n",
       "The ALLCools command line toolkit contains multiple functions to manipulate the ALLC format, \n",
       "a core file format that stores single base level methylation information.\n",
       "Throughout this toolkit, we use bgzip/tabix to compress and index the ALLC file to allow \n",
       "flexible data query from the ALLC file.\n",
       "\n",
       "Current Tool List in ALLCools:\n",
       "\n",
       "[Generate ALLC]\n",
       "bam-to-allc          - Generate 1 ALLC file from 1 position sorted BAM file via \n",
       "                       samtools mpileup.\n",
       "\n",
       "[Manipulate ALLC]\n",
       "standardize-allc     - Validate 1 ALLC file format, standardize the chromosome names, \n",
       "                       compression format (bgzip) and index (tabix).\n",
       "tabix-allc           - A simple wrapper of tabix command to index 1 ALLC file.\n",
       "profile-allc         - Generate some summary statistics of 1 ALLC\n",
       "merge-allc           - Merge N ALLC files into 1 ALLC file\n",
       "extract-allc         - Extract information (strand, context) from 1 ALLC file\n",
       "\n",
       "[Get Region Level]\n",
       "allc-to-bigwig       - Generate coverage (cov) and ratio (mc/cov) bigwig track files \n",
       "                       from 1 ALLC file\n",
       "allc-to-region-count - Count region level mc, cov by genome bins or provided BED files.\n",
       "generate-mcds        - Generate methylation dataset (MCDS) for a group of ALLC file and \n",
       "                       different region sets. This is a convenient wrapper function for \n",
       "                       a bunch of allc-to-region-count and xarray integration codes. \n",
       "                       MCDS is inherit from xarray.DataSet\n",
       "generate-mcad        - Generate mCG hypo-methylation score AnnData dataset (MCAD) for \n",
       "                       a group of ALLC file and one region set.\n",
       "\n",
       "optional arguments:\n",
       "  -h, --help            show this help message and exit\n",
       "\n",
       "functions:\n",
       "  \n",
       "    allc-motif-scan (motif)\n",
       "                        Scan a list of ALLC files using a C-Motif\n",
       "                        database.C-Motif Database, can be generated via\n",
       "                        'allcools generate-cmotif-database' Save the\n",
       "                        integrated multi-dimensional array into netCDF4 format\n",
       "                        using xarray.\n",
       "    allc-to-bigwig (bw, 2bw)\n",
       "                        Generate bigwig file(s) from 1 ALLC file.\n",
       "    allc-to-region-count (region, 2region)\n",
       "                        Calculate mC and cov at regional level. Region can be\n",
       "                        provided in 2 forms: 1. BED file, provided by\n",
       "                        region_bed_paths, containing arbitrary regions and use\n",
       "                        bedtools map to calculate; 2. Fix-size non-overlap\n",
       "                        genome bins, provided by bin_sizes, Form 2 is much\n",
       "                        faster to calculate than form 1. The output file is in\n",
       "                        6-column bed-like format: chrom start end region_uid\n",
       "                        mc cov\n",
       "    ame                 Motif enrichment analysis with AME from MEME Suite.\n",
       "                        See AME doc for more information http://meme-\n",
       "                        suite.org/doc/ame.html\n",
       "    bam-to-allc (allc, 2allc)\n",
       "                        Take 1 position sorted BAM file, generate 1 ALLC file.\n",
       "    extract-allc (extract)\n",
       "                        Extract information (strand, context) from 1 ALLC\n",
       "                        file. Able to save to several different format.\n",
       "    generate-cmotif-database (cmotif-db)\n",
       "                        Generate lookup table for motifs all the cytosines\n",
       "                        belongs to. BED files are used to limit cytosine scan\n",
       "                        in certain regions. Scanning motif over whole genome\n",
       "                        is very noisy, better scan it in some functional part\n",
       "                        of genome. The result files will be in the output\n",
       "    generate-mcad (mcad)\n",
       "                        Generate MCAD from ALLC files and one region set.\n",
       "    generate-mcds (mcds)\n",
       "                        Generate MCDS from ALLC files and region sets.\n",
       "    merge-allc (merge)  Merge N ALLC files into 1 ALLC file\n",
       "    profile-allc (profile)\n",
       "                        Generate some summary statistics of 1 ALLC.\n",
       "    standardize-allc (standard)\n",
       "                        Standardize 1 ALLC file by checking: 1. No header in\n",
       "                        the ALLC file; 2. Chromosome names in ALLC must be\n",
       "                        exactly same as those in the chrom_size_path file; 3.\n",
       "                        Output file will be bgzipped with .tbi index; 4.\n",
       "                        Remove additional chromosome\n",
       "                        (remove_additional_chrom=True) or raise KeyError if\n",
       "                        unknown chromosome found (default)\n",
       "    tabix-allc (tbi)    a simple wrapper of tabix command to index 1 ALLC file\n",
       "\n",
       "Author: Hanqing Liu\n",
       "\n",
       "See ALLCools documentation here: https://lhqing.github.io/ALLCools/intro.html\n",
       "\n",
       "```\n"
      ],
      "text/plain": [
       "<IPython.core.display.Markdown object>"
      ]
     },
     "metadata": {},
     "output_type": "display_data"
    }
   ],
   "source": [
    "execute_command_and_return_markdown('allcools -h')"
   ]
  },
  {
   "cell_type": "code",
   "execution_count": null,
   "metadata": {},
   "outputs": [],
   "source": []
  }
 ],
 "metadata": {
  "celltoolbar": "Tags",
  "hide_input": false,
  "kernelspec": {
   "display_name": "Python 3",
   "language": "python",
   "name": "python3"
  },
  "language_info": {
   "codemirror_mode": {
    "name": "ipython",
    "version": 3
   },
   "file_extension": ".py",
   "mimetype": "text/x-python",
   "name": "python",
   "nbconvert_exporter": "python",
   "pygments_lexer": "ipython3",
   "version": "3.8.6"
  },
  "toc": {
   "base_numbering": 1,
   "nav_menu": {},
   "number_sections": true,
   "sideBar": true,
   "skip_h1_title": true,
   "title_cell": "Table of Contents",
   "title_sidebar": "Contents",
   "toc_cell": false,
   "toc_position": {},
   "toc_section_display": true,
   "toc_window_display": true
  }
 },
 "nbformat": 4,
 "nbformat_minor": 4
}
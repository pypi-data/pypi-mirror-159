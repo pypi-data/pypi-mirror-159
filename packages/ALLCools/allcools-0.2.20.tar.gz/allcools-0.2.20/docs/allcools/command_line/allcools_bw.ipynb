{
 "cells": [
  {
   "cell_type": "markdown",
   "metadata": {},
   "source": [
    "# `allcools bw`"
   ]
  },
  {
   "cell_type": "code",
   "execution_count": 1,
   "metadata": {
    "ExecuteTime": {
     "end_time": "2021-08-24T03:13:42.203507Z",
     "start_time": "2021-08-24T03:13:42.200473Z"
    },
    "tags": [
     "remove-cell"
    ]
   },
   "outputs": [],
   "source": [
    "import subprocess\n",
    "from IPython.display import display, Markdown\n",
    "\n",
    "\n",
    "def execute_command_and_return_markdown(command):\n",
    "    output = subprocess.run(command,\n",
    "                            shell=True,\n",
    "                            check=True,\n",
    "                            stdout=subprocess.PIPE,\n",
    "                            encoding='utf8').stdout\n",
    "    markdown = f\"\"\"\n",
    "```shell\n",
    "$ {command}\n",
    "{output}\n",
    "```\n",
    "\"\"\"\n",
    "    display(Markdown(markdown))\n",
    "    return"
   ]
  },
  {
   "cell_type": "code",
   "execution_count": 2,
   "metadata": {
    "ExecuteTime": {
     "end_time": "2021-08-24T03:13:43.047213Z",
     "start_time": "2021-08-24T03:13:42.981338Z"
    },
    "tags": [
     "hide-input"
    ]
   },
   "outputs": [
    {
     "data": {
      "text/markdown": [
       "\n",
       "```shell\n",
       "$ allcools allc-to-bigwig -h\n",
       "usage: allcools allc-to-bigwig [-h] --allc_path ALLC_PATH --output_prefix\n",
       "                               OUTPUT_PREFIX [--bin_size BIN_SIZE]\n",
       "                               --mc_contexts MC_CONTEXTS [MC_CONTEXTS ...]\n",
       "                               --chrom_size_path CHROM_SIZE_PATH\n",
       "                               [--strandness {split,both}]\n",
       "\n",
       "optional arguments:\n",
       "  -h, --help            show this help message and exit\n",
       "  --bin_size BIN_SIZE   Bin size of the BigWig files. (default: 50)\n",
       "  --strandness {split,both}\n",
       "                        What to do with strand information, possible values\n",
       "                        are: 1. both: save +/- strand together in one file; 2.\n",
       "                        split: save +/- strand into two separate files, with\n",
       "                        suffix contain Watson (+) and Crick (-); 3. merge:\n",
       "                        This will only merge the count on adjacent CpG in +/-\n",
       "                        strands, only work for CpG like context. For non-CG\n",
       "                        context, its the same as both. (default: both)\n",
       "\n",
       "required arguments:\n",
       "  --allc_path ALLC_PATH\n",
       "                        Path to 1 ALLC file (default: None)\n",
       "  --output_prefix OUTPUT_PREFIX\n",
       "                        Path prefix of the output BigWig file. (default: None)\n",
       "  --mc_contexts MC_CONTEXTS [MC_CONTEXTS ...]\n",
       "                        Space separated mC context patterns to extract from\n",
       "                        ALLC. The context length should be the same as ALLC\n",
       "                        file context. Context pattern follows IUPAC nucleotide\n",
       "                        code, e.g. N for ATCG, H for ATC, Y for CT. (default:\n",
       "                        None)\n",
       "  --chrom_size_path CHROM_SIZE_PATH\n",
       "                        Path to UCSC chrom size file. This can be generated\n",
       "                        from the genome fasta or downloaded via UCSC\n",
       "                        fetchChromSizes tools. All ALLCools functions will\n",
       "                        refer to this file whenever possible to check for\n",
       "                        chromosome names and lengths, so it is crucial to use\n",
       "                        a chrom size file consistent to the reference fasta\n",
       "                        file ever since mapping. ALLCools functions will not\n",
       "                        change or infer chromosome names. (default: None)\n",
       "\n",
       "```\n"
      ],
      "text/plain": [
       "<IPython.core.display.Markdown object>"
      ]
     },
     "metadata": {},
     "output_type": "display_data"
    }
   ],
   "source": [
    "execute_command_and_return_markdown('allcools allc-to-bigwig -h')"
   ]
  },
  {
   "cell_type": "code",
   "execution_count": null,
   "metadata": {},
   "outputs": [],
   "source": []
  }
 ],
 "metadata": {
  "celltoolbar": "Tags",
  "hide_input": false,
  "kernelspec": {
   "display_name": "Python 3",
   "language": "python",
   "name": "python3"
  },
  "language_info": {
   "codemirror_mode": {
    "name": "ipython",
    "version": 3
   },
   "file_extension": ".py",
   "mimetype": "text/x-python",
   "name": "python",
   "nbconvert_exporter": "python",
   "pygments_lexer": "ipython3",
   "version": "3.8.6"
  },
  "toc": {
   "base_numbering": 1,
   "nav_menu": {},
   "number_sections": true,
   "sideBar": true,
   "skip_h1_title": true,
   "title_cell": "Table of Contents",
   "title_sidebar": "Contents",
   "toc_cell": false,
   "toc_position": {},
   "toc_section_display": true,
   "toc_window_display": true
  }
 },
 "nbformat": 4,
 "nbformat_minor": 4
}

{
 "cells": [
  {
   "cell_type": "markdown",
   "metadata": {},
   "source": [
    "# Cell Basic Filtering\n",
    "\n",
    "## Content\n",
    "The purpose of this step is to get rid of cells having **obvious** issues, including the cells with low mapping rate (potentially contaminated), low final reads (empty well or lost a large amount of DNA during library prep.), or abnormal methylation fractions (failed in bisulfite conversion or contaminated).\n",
    "\n",
    "We have two principles when applying these filters:\n",
    "1. **We set the cutoff based on the distribution of the whole dataset**, where we assume the input dataset is largely successful (mostly > 80-90% cells will pass QC). The cutoffs below are typical values we used in brain methylome analysis. Still, you may need to adjust cutoffs based on different data quality or sample source.\n",
    "2. **The cutoff is intended to be loose.** We do not use stringent cutoffs here to prevent potential data loss. Abormal cells may remain after basic filtering, and will likely be identified in the analysis based filtering (see later notebooks about doublet score and outliers in clustering)\n",
    "\n",
    "## Input\n",
    "- Cell metadata table that contains mapping metric for basic QC filtering.\n",
    "\n",
    "## Output\n",
    "- Filtered cell metadata table that contains only cells passed QC.\n",
    "\n",
    "## About Cell Mapping Metrics\n",
    "We usually gather many mapping metrics from each processing step, but not all of the metrics are relevant to the cell filtering. Below are the most relevant metrics that we use to filter cells. The name of these metrics might be different in your dataset. Change it according to the file you have.\n",
    "\n",
    "If you use [YAP](https://hq-1.gitbook.io/mc) to do mapping, you can find up-to-date mapping metrics documentation for [key metrics](https://hq-1.gitbook.io/mc/mapping-metrics/key-mapping-metrics) and [all metrics](https://hq-1.gitbook.io/mc/mapping-metrics/all-mapping-metrics) in YAP doc."
   ]
  },
  {
   "cell_type": "markdown",
   "metadata": {},
   "source": [
    "## Import"
   ]
  },
  {
   "cell_type": "code",
   "execution_count": 1,
   "metadata": {
    "ExecuteTime": {
     "end_time": "2022-02-15T22:01:41.025793Z",
     "start_time": "2022-02-15T22:01:40.569034Z"
    }
   },
   "outputs": [],
   "source": [
    "import pandas as pd\n",
    "import seaborn as sns"
   ]
  },
  {
   "cell_type": "code",
   "execution_count": 2,
   "metadata": {
    "ExecuteTime": {
     "end_time": "2022-02-15T22:01:42.173635Z",
     "start_time": "2022-02-15T22:01:42.170864Z"
    }
   },
   "outputs": [],
   "source": [
    "sns.set_context(context='notebook', font_scale=1.3)"
   ]
  },
  {
   "cell_type": "markdown",
   "metadata": {},
   "source": [
    "## Parameters"
   ]
  },
  {
   "cell_type": "code",
   "execution_count": 3,
   "metadata": {
    "ExecuteTime": {
     "end_time": "2022-02-15T22:01:43.722894Z",
     "start_time": "2022-02-15T22:01:43.719956Z"
    },
    "tags": [
     "parameters"
    ]
   },
   "outputs": [],
   "source": [
    "# change this to the path to your metadata\n",
    "metadata_path = '../../../data/PIT/PIT.CellMetadata.csv.gz'\n",
    "\n",
    "# Basic filtering parameters\n",
    "mapping_rate_cutoff = 0.5\n",
    "mapping_rate_col_name = 'MappingRate'  # Name may change\n",
    "final_reads_cutoff = 500000\n",
    "final_reads_col_name = 'FinalmCReads'  # Name may change\n",
    "mccc_cutoff = 0.03\n",
    "mccc_col_name = 'mCCCFrac'  # Name may change\n",
    "mch_cutoff = 0.2\n",
    "mch_col_name = 'mCHFrac'  # Name may change\n",
    "mcg_cutoff = 0.5\n",
    "mcg_col_name = 'mCGFrac'  # Name may change"
   ]
  },
  {
   "cell_type": "markdown",
   "metadata": {},
   "source": [
    "## Load metadata"
   ]
  },
  {
   "cell_type": "code",
   "execution_count": 4,
   "metadata": {
    "ExecuteTime": {
     "end_time": "2022-02-15T22:01:45.233480Z",
     "start_time": "2022-02-15T22:01:45.218234Z"
    }
   },
   "outputs": [
    {
     "name": "stdout",
     "output_type": "stream",
     "text": [
      "Metadata of 2756 cells\n"
     ]
    }
   ],
   "source": [
    "metadata = pd.read_csv(metadata_path, index_col=0)\n",
    "total_cells = metadata.shape[0]\n",
    "print(f'Metadata of {total_cells} cells')"
   ]
  },
  {
   "cell_type": "code",
   "execution_count": 5,
   "metadata": {
    "ExecuteTime": {
     "end_time": "2022-02-15T22:01:46.562923Z",
     "start_time": "2022-02-15T22:01:46.550949Z"
    }
   },
   "outputs": [
    {
     "data": {
      "text/html": [
       "<div>\n",
       "<style scoped>\n",
       "    .dataframe tbody tr th:only-of-type {\n",
       "        vertical-align: middle;\n",
       "    }\n",
       "\n",
       "    .dataframe tbody tr th {\n",
       "        vertical-align: top;\n",
       "    }\n",
       "\n",
       "    .dataframe thead th {\n",
       "        text-align: right;\n",
       "    }\n",
       "</style>\n",
       "<table border=\"1\" class=\"dataframe\">\n",
       "  <thead>\n",
       "    <tr style=\"text-align: right;\">\n",
       "      <th></th>\n",
       "      <th>CellInputReadPairs</th>\n",
       "      <th>MappingRate</th>\n",
       "      <th>FinalmCReads</th>\n",
       "      <th>mCCCFrac</th>\n",
       "      <th>mCGFrac</th>\n",
       "      <th>mCHFrac</th>\n",
       "      <th>Plate</th>\n",
       "      <th>Col384</th>\n",
       "      <th>Row384</th>\n",
       "      <th>CellTypeAnno</th>\n",
       "    </tr>\n",
       "    <tr>\n",
       "      <th>index</th>\n",
       "      <th></th>\n",
       "      <th></th>\n",
       "      <th></th>\n",
       "      <th></th>\n",
       "      <th></th>\n",
       "      <th></th>\n",
       "      <th></th>\n",
       "      <th></th>\n",
       "      <th></th>\n",
       "      <th></th>\n",
       "    </tr>\n",
       "  </thead>\n",
       "  <tbody>\n",
       "    <tr>\n",
       "      <th>PIT_P1-PIT_P2-A1-AD001</th>\n",
       "      <td>1858622.0</td>\n",
       "      <td>0.685139</td>\n",
       "      <td>1612023.0</td>\n",
       "      <td>0.003644</td>\n",
       "      <td>0.679811</td>\n",
       "      <td>0.005782</td>\n",
       "      <td>PIT_P1</td>\n",
       "      <td>0</td>\n",
       "      <td>0</td>\n",
       "      <td>Outlier</td>\n",
       "    </tr>\n",
       "    <tr>\n",
       "      <th>PIT_P1-PIT_P2-A1-AD004</th>\n",
       "      <td>1599190.0</td>\n",
       "      <td>0.686342</td>\n",
       "      <td>1367004.0</td>\n",
       "      <td>0.004046</td>\n",
       "      <td>0.746012</td>\n",
       "      <td>0.008154</td>\n",
       "      <td>PIT_P1</td>\n",
       "      <td>1</td>\n",
       "      <td>0</td>\n",
       "      <td>Gonadotropes</td>\n",
       "    </tr>\n",
       "    <tr>\n",
       "      <th>PIT_P1-PIT_P2-A1-AD006</th>\n",
       "      <td>1932242.0</td>\n",
       "      <td>0.669654</td>\n",
       "      <td>1580990.0</td>\n",
       "      <td>0.003958</td>\n",
       "      <td>0.683584</td>\n",
       "      <td>0.005689</td>\n",
       "      <td>PIT_P1</td>\n",
       "      <td>1</td>\n",
       "      <td>1</td>\n",
       "      <td>Somatotropes</td>\n",
       "    </tr>\n",
       "    <tr>\n",
       "      <th>PIT_P1-PIT_P2-A1-AD007</th>\n",
       "      <td>1588505.0</td>\n",
       "      <td>0.664612</td>\n",
       "      <td>1292770.0</td>\n",
       "      <td>0.003622</td>\n",
       "      <td>0.735217</td>\n",
       "      <td>0.005460</td>\n",
       "      <td>PIT_P2</td>\n",
       "      <td>0</td>\n",
       "      <td>0</td>\n",
       "      <td>Rbpms+</td>\n",
       "    </tr>\n",
       "    <tr>\n",
       "      <th>PIT_P1-PIT_P2-A1-AD010</th>\n",
       "      <td>1738409.0</td>\n",
       "      <td>0.703835</td>\n",
       "      <td>1539676.0</td>\n",
       "      <td>0.003769</td>\n",
       "      <td>0.744640</td>\n",
       "      <td>0.006679</td>\n",
       "      <td>PIT_P2</td>\n",
       "      <td>1</td>\n",
       "      <td>0</td>\n",
       "      <td>Rbpms+</td>\n",
       "    </tr>\n",
       "  </tbody>\n",
       "</table>\n",
       "</div>"
      ],
      "text/plain": [
       "                        CellInputReadPairs  MappingRate  FinalmCReads  \\\n",
       "index                                                                   \n",
       "PIT_P1-PIT_P2-A1-AD001           1858622.0     0.685139     1612023.0   \n",
       "PIT_P1-PIT_P2-A1-AD004           1599190.0     0.686342     1367004.0   \n",
       "PIT_P1-PIT_P2-A1-AD006           1932242.0     0.669654     1580990.0   \n",
       "PIT_P1-PIT_P2-A1-AD007           1588505.0     0.664612     1292770.0   \n",
       "PIT_P1-PIT_P2-A1-AD010           1738409.0     0.703835     1539676.0   \n",
       "\n",
       "                        mCCCFrac   mCGFrac   mCHFrac   Plate  Col384  Row384  \\\n",
       "index                                                                          \n",
       "PIT_P1-PIT_P2-A1-AD001  0.003644  0.679811  0.005782  PIT_P1       0       0   \n",
       "PIT_P1-PIT_P2-A1-AD004  0.004046  0.746012  0.008154  PIT_P1       1       0   \n",
       "PIT_P1-PIT_P2-A1-AD006  0.003958  0.683584  0.005689  PIT_P1       1       1   \n",
       "PIT_P1-PIT_P2-A1-AD007  0.003622  0.735217  0.005460  PIT_P2       0       0   \n",
       "PIT_P1-PIT_P2-A1-AD010  0.003769  0.744640  0.006679  PIT_P2       1       0   \n",
       "\n",
       "                        CellTypeAnno  \n",
       "index                                 \n",
       "PIT_P1-PIT_P2-A1-AD001       Outlier  \n",
       "PIT_P1-PIT_P2-A1-AD004  Gonadotropes  \n",
       "PIT_P1-PIT_P2-A1-AD006  Somatotropes  \n",
       "PIT_P1-PIT_P2-A1-AD007        Rbpms+  \n",
       "PIT_P1-PIT_P2-A1-AD010        Rbpms+  "
      ]
     },
     "execution_count": 5,
     "metadata": {},
     "output_type": "execute_result"
    }
   ],
   "source": [
    "metadata.head()"
   ]
  },
  {
   "cell_type": "markdown",
   "metadata": {},
   "source": [
    "## Filter by key mapping metrics"
   ]
  },
  {
   "cell_type": "markdown",
   "metadata": {},
   "source": [
    "### Bismark Mapping Rate\n",
    "\n",
    "- Low mapping rate indicates potential contamination.\n",
    "- Usually R1 mapping rate is 8-10% higher than R2 mapping rate for snmC based technologies, but they should be highly correlated. Here I am using the combined mapping rate. If you are using the R1MappingRate or R2MappingRate, change the cutoff accordingly.\n",
    "- Usually there is a peak on the left, which corresponding to the empty wells."
   ]
  },
  {
   "cell_type": "code",
   "execution_count": 6,
   "metadata": {
    "ExecuteTime": {
     "end_time": "2022-02-15T22:01:48.868072Z",
     "start_time": "2022-02-15T22:01:47.979712Z"
    }
   },
   "outputs": [
    {
     "name": "stdout",
     "output_type": "stream",
     "text": [
      "2756 / 2756 cells (100.0%) passed the MappingRate cutoff 0.5.\n"
     ]
    },
    {
     "data": {
      "image/png": "[encoded data removed]",
      "text/plain": [
       "<Figure size 360x360 with 1 Axes>"
      ]
     },
     "metadata": {
      "needs_background": "light"
     },
     "output_type": "display_data"
    }
   ],
   "source": [
    "_cutoff = mapping_rate_cutoff\n",
    "_col_name = mapping_rate_col_name\n",
    "\n",
    "# plot distribution to make sure cutoff is appropriate\n",
    "g = sns.displot(metadata[_col_name], binrange=(0, 1))\n",
    "g.ax.plot((_cutoff, _cutoff), g.ax.get_ylim(), c='r', linestyle='--')\n",
    "\n",
    "mapping_rate_judge = metadata[_col_name] > _cutoff\n",
    "_passed_cells = mapping_rate_judge.sum()\n",
    "print(\n",
    "    f'{_passed_cells} / {total_cells} cells ({_passed_cells / total_cells * 100:.1f}%) '\n",
    "    f'passed the {_col_name} cutoff {_cutoff}.')"
   ]
  },
  {
   "cell_type": "markdown",
   "metadata": {},
   "source": [
    "### Final Reads\n",
    "\n",
    "- The cutoff may change depending on how deep the library has been sequenced.\n",
    "- Usually there is a peak on the left, which corresponding to the empty wells.\n",
    "- There are also some cells having small number of reads, these wells may lost most of the DNA during library prep. Cells having too less reads can be hard to classify, since the methylome sequencing is an untargeted whole-genome sequencing."
   ]
  },
  {
   "cell_type": "code",
   "execution_count": 7,
   "metadata": {
    "ExecuteTime": {
     "end_time": "2022-02-15T22:01:50.657736Z",
     "start_time": "2022-02-15T22:01:50.404723Z"
    }
   },
   "outputs": [
    {
     "name": "stdout",
     "output_type": "stream",
     "text": [
      "2756 / 2756 cells (100.0%) passed the FinalmCReads cutoff 500000.\n"
     ]
    },
    {
     "data": {
      "image/png": "[encoded data removed]",
      "text/plain": [
       "<Figure size 360x360 with 1 Axes>"
      ]
     },
     "metadata": {
      "needs_background": "light"
     },
     "output_type": "display_data"
    }
   ],
   "source": [
    "_cutoff = final_reads_cutoff\n",
    "_col_name = final_reads_col_name\n",
    "\n",
    "# plot distribution to make sure cutoff is appropriate\n",
    "g = sns.displot(metadata[_col_name], binrange=(0, 5e6))\n",
    "g.ax.plot((_cutoff, _cutoff), g.ax.get_ylim(), c='r', linestyle='--')\n",
    "\n",
    "final_reads_judge = metadata[_col_name] > _cutoff\n",
    "_passed_cells = final_reads_judge.sum()\n",
    "print(\n",
    "    f'{_passed_cells} / {total_cells} cells ({_passed_cells / total_cells * 100:.1f}%) '\n",
    "    f'passed the {_col_name} cutoff {_cutoff}.')"
   ]
  },
  {
   "cell_type": "markdown",
   "metadata": {
    "ExecuteTime": {
     "end_time": "2020-11-20T06:02:55.688824Z",
     "start_time": "2020-11-20T06:02:55.685441Z"
    }
   },
   "source": [
    "### mCCC / CCC\n",
    "\n",
    "- The mCCC fraction is used as the proxy of the upper bound of the non-conversion rate for cell-level QC. The methylation level at CCC sites is the lowest among all of the different 3 base-contexts (CNN), and, in fact, it is very close to the unmethylated lambda mC fraction.\n",
    "- However, mCCC fraction is correlated with mCH (especially in brain data), so you can see a similar shape of distribution of mCCC and mCH, but the range is different."
   ]
  },
  {
   "cell_type": "code",
   "execution_count": 8,
   "metadata": {
    "ExecuteTime": {
     "end_time": "2022-02-15T22:01:54.167998Z",
     "start_time": "2022-02-15T22:01:52.121370Z"
    }
   },
   "outputs": [
    {
     "name": "stdout",
     "output_type": "stream",
     "text": [
      "2756 / 2756 cells (100.0%) passed the mCCCFrac cutoff 0.03.\n"
     ]
    },
    {
     "data": {
      "image/png": "[encoded data removed]",
      "text/plain": [
       "<Figure size 360x360 with 1 Axes>"
      ]
     },
     "metadata": {
      "needs_background": "light"
     },
     "output_type": "display_data"
    }
   ],
   "source": [
    "_cutoff = mccc_cutoff\n",
    "_col_name = mccc_col_name\n",
    "\n",
    "# plot distribution to make sure cutoff is appropriate\n",
    "g = sns.displot(metadata[_col_name], binrange=(0, 0.05))\n",
    "g.ax.plot((_cutoff, _cutoff), g.ax.get_ylim(), c='r', linestyle='--')\n",
    "\n",
    "mccc_judge = metadata[_col_name] < _cutoff\n",
    "_passed_cells = mccc_judge.sum()\n",
    "print(\n",
    "    f'{_passed_cells} / {total_cells} cells ({_passed_cells / total_cells * 100:.1f}%) '\n",
    "    f'passed the {_col_name} cutoff {_cutoff}.')"
   ]
  },
  {
   "cell_type": "markdown",
   "metadata": {},
   "source": [
    "### mCH / CH\n",
    "\n",
    "- Usually failed cells (empty well or contaminated) tend to have abormal methylation level as well."
   ]
  },
  {
   "cell_type": "code",
   "execution_count": 9,
   "metadata": {
    "ExecuteTime": {
     "end_time": "2022-02-15T22:01:58.977987Z",
     "start_time": "2022-02-15T22:01:55.656306Z"
    }
   },
   "outputs": [
    {
     "name": "stdout",
     "output_type": "stream",
     "text": [
      "2756 / 2756 cells (100.0%) passed the mCHFrac cutoff 0.2.\n"
     ]
    },
    {
     "data": {
      "image/png": "[encoded data removed]",
      "text/plain": [
       "<Figure size 360x360 with 1 Axes>"
      ]
     },
     "metadata": {
      "needs_background": "light"
     },
     "output_type": "display_data"
    }
   ],
   "source": [
    "_cutoff = mch_cutoff\n",
    "_col_name = mch_col_name\n",
    "\n",
    "# plot distribution to make sure cutoff is appropriate\n",
    "g = sns.displot(metadata[_col_name], binrange=(0, 0.3))\n",
    "g.ax.plot((_cutoff, _cutoff), g.ax.get_ylim(), c='r', linestyle='--')\n",
    "\n",
    "mch_judge = metadata[_col_name] < _cutoff\n",
    "_passed_cells = mch_judge.sum()\n",
    "print(\n",
    "    f'{_passed_cells} / {total_cells} cells ({_passed_cells / total_cells * 100:.1f}%) '\n",
    "    f'passed the {_col_name} cutoff {_cutoff}.')"
   ]
  },
  {
   "cell_type": "markdown",
   "metadata": {
    "ExecuteTime": {
     "end_time": "2020-11-20T06:03:55.014141Z",
     "start_time": "2020-11-20T06:03:55.011844Z"
    }
   },
   "source": [
    "### mCG\n",
    "\n",
    "- Usually failed cells (empty well or contaminated) tend to have abormal methylation level as well."
   ]
  },
  {
   "cell_type": "code",
   "execution_count": 10,
   "metadata": {
    "ExecuteTime": {
     "end_time": "2022-02-15T22:02:00.294150Z",
     "start_time": "2022-02-15T22:02:00.017849Z"
    },
    "scrolled": false
   },
   "outputs": [
    {
     "name": "stdout",
     "output_type": "stream",
     "text": [
      "2756 / 2756 cells (100.0%) passed the mCGFrac cutoff 0.5.\n"
     ]
    },
    {
     "data": {
      "image/png": "[encoded data removed]",
      "text/plain": [
       "<Figure size 360x360 with 1 Axes>"
      ]
     },
     "metadata": {
      "needs_background": "light"
     },
     "output_type": "display_data"
    }
   ],
   "source": [
    "_cutoff = mcg_cutoff\n",
    "_col_name = mcg_col_name\n",
    "\n",
    "# plot distribution to make sure cutoff is appropriate\n",
    "g = sns.displot(metadata[_col_name], binrange=(0.3, 1))\n",
    "g.ax.plot((_cutoff, _cutoff), g.ax.get_ylim(), c='r', linestyle='--')\n",
    "\n",
    "mcg_judge = metadata[_col_name] > _cutoff\n",
    "_passed_cells = mcg_judge.sum()\n",
    "print(\n",
    "    f'{_passed_cells} / {total_cells} cells ({_passed_cells / total_cells * 100:.1f}%) '\n",
    "    f'passed the {_col_name} cutoff {_cutoff}.')"
   ]
  },
  {
   "cell_type": "markdown",
   "metadata": {},
   "source": [
    "## Combine filters"
   ]
  },
  {
   "cell_type": "code",
   "execution_count": 11,
   "metadata": {
    "ExecuteTime": {
     "end_time": "2022-02-15T22:02:03.028130Z",
     "start_time": "2022-02-15T22:02:03.024497Z"
    }
   },
   "outputs": [
    {
     "name": "stdout",
     "output_type": "stream",
     "text": [
      "2756 / 2756 cells (100.0%) passed all the filters.\n"
     ]
    }
   ],
   "source": [
    "judge = mapping_rate_judge & final_reads_judge & mccc_judge & mch_judge & mcg_judge\n",
    "passed_cells = judge.sum()\n",
    "print(\n",
    "    f'{passed_cells} / {total_cells} cells ({passed_cells / total_cells * 100:.1f}%) '\n",
    "    f'passed all the filters.')"
   ]
  },
  {
   "cell_type": "markdown",
   "metadata": {},
   "source": [
    "## Sanity Test"
   ]
  },
  {
   "cell_type": "code",
   "execution_count": 12,
   "metadata": {
    "ExecuteTime": {
     "end_time": "2022-02-15T22:02:03.887108Z",
     "start_time": "2022-02-15T22:02:03.883633Z"
    }
   },
   "outputs": [
    {
     "name": "stdout",
     "output_type": "stream",
     "text": [
      "Feel good\n"
     ]
    }
   ],
   "source": [
    "try:\n",
    "    assert (passed_cells / total_cells) > 0.6\n",
    "except AssertionError as e:\n",
    "    e.args += (\n",
    "        'A large amount of the cells do not pass filter, check your cutoffs or overall dataset quality.',\n",
    "    )\n",
    "    raise e\n",
    "\n",
    "try:\n",
    "    assert passed_cells > 0\n",
    "except AssertionError as e:\n",
    "    e.args += ('No cell remained after all the filters.', )\n",
    "    raise e\n",
    "\n",
    "print('Feel good')"
   ]
  },
  {
   "cell_type": "markdown",
   "metadata": {},
   "source": [
    "## Save filtered metadata"
   ]
  },
  {
   "cell_type": "code",
   "execution_count": 13,
   "metadata": {
    "ExecuteTime": {
     "end_time": "2022-02-15T22:02:04.917655Z",
     "start_time": "2022-02-15T22:02:04.822425Z"
    }
   },
   "outputs": [],
   "source": [
    "metadata_filtered = metadata[judge].copy()\n",
    "\n",
    "metadata_filtered.to_csv('CellMetadata.PassQC.csv.gz')"
   ]
  },
  {
   "cell_type": "code",
   "execution_count": null,
   "metadata": {},
   "outputs": [],
   "source": []
  }
 ],
 "metadata": {
  "hide_input": false,
  "kernelspec": {
   "display_name": "Python 3 (ipykernel)",
   "language": "python",
   "name": "python3"
  },
  "language_info": {
   "codemirror_mode": {
    "name": "ipython",
    "version": 3
   },
   "file_extension": ".py",
   "mimetype": "text/x-python",
   "name": "python",
   "nbconvert_exporter": "python",
   "pygments_lexer": "ipython3",
   "version": "3.8.12"
  },
  "toc": {
   "base_numbering": 1,
   "nav_menu": {},
   "number_sections": true,
   "sideBar": true,
   "skip_h1_title": true,
   "title_cell": "Table of Contents",
   "title_sidebar": "Contents",
   "toc_cell": false,
   "toc_position": {},
   "toc_section_display": true,
   "toc_window_display": true
  }
 },
 "nbformat": 4,
 "nbformat_minor": 4
}

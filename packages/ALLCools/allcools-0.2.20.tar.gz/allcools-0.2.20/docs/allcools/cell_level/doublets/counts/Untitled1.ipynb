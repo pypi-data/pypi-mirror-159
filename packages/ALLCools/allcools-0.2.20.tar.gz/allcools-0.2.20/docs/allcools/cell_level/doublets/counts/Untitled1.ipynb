{
 "cells": [
  {
   "cell_type": "code",
   "execution_count": 15,
   "id": "3a99598c",
   "metadata": {
    "ExecuteTime": {
     "end_time": "2022-01-14T02:39:19.047855Z",
     "start_time": "2022-01-14T02:39:19.045086Z"
    }
   },
   "outputs": [],
   "source": [
    "import pandas as pd\n",
    "import numpy as np\n",
    "import json\n",
    "from collections import defaultdict\n",
    "import pathlib\n",
    "from scipy.stats import poisson\n",
    "from statsmodels.stats.multitest import multipletests"
   ]
  },
  {
   "cell_type": "code",
   "execution_count": null,
   "id": "3dc4a3ac",
   "metadata": {
    "deletable": false,
    "editable": false,
    "run_control": {
     "frozen": true
    },
    "scrolled": true
   },
   "outputs": [],
   "source": [
    "region_records = {}\n",
    "n = 0\n",
    "for output_path in pathlib.Path('rmdl_temp_dir/').glob('*.gz'):\n",
    "    n += 1\n",
    "    if n % 500 == 0:\n",
    "        print(n, end=' ')\n",
    "    with open(output_path) as f:\n",
    "        cell_record = json.load(f)\n",
    "        for chrom, chrom_bins in cell_record['bins'].items():\n",
    "            if chrom not in region_records:\n",
    "                region_records[chrom] = defaultdict(int)\n",
    "            for bin_id in chrom_bins:\n",
    "                region_records[chrom][bin_id] += 1"
   ]
  },
  {
   "cell_type": "code",
   "execution_count": 95,
   "id": "1ddc82d8",
   "metadata": {
    "ExecuteTime": {
     "end_time": "2022-01-14T03:01:44.577766Z",
     "start_time": "2022-01-14T03:01:10.608571Z"
    },
    "scrolled": true
   },
   "outputs": [],
   "source": [
    "def calculate_blacklist_region(region_records):\n",
    "    # calculate region poisson mu\n",
    "    sum_of_bin = 0\n",
    "    n_bin = 0\n",
    "    for chrom, chrom_values in region_records.items():\n",
    "        sum_of_bin += sum(chrom_values.values())\n",
    "        n_bin += len(chrom_values)\n",
    "    mu = sum_of_bin / n_bin\n",
    "    \n",
    "    # calculate region FDR p cutoff\n",
    "    total_p = []\n",
    "    for chrom, chrom_values in region_records.items():\n",
    "        chrom_values = pd.Series(chrom_values)\n",
    "        p_values = poisson.sf(chrom_values.values, mu)\n",
    "        total_p.append(p_values)\n",
    "    total_p = np.concatenate(total_p)\n",
    "    judge, *_ = multipletests(total_p, alpha=0.01, method='fdr_bh')\n",
    "    p_max = total_p[judge].max()\n",
    "    del total_p, judge\n",
    "    \n",
    "    # calculate region blacklist\n",
    "    final_blacklist = {}\n",
    "    for chrom, chrom_values in region_records.items():\n",
    "        chrom_values = pd.Series(chrom_values)\n",
    "        p_values = poisson.sf(chrom_values.values, mu)\n",
    "        final_blacklist[chrom] = list(chrom_values[p_values < p_max].index)\n",
    "    return final_blacklist"
   ]
  },
  {
   "cell_type": "code",
   "execution_count": 97,
   "id": "4fa2b723",
   "metadata": {
    "ExecuteTime": {
     "end_time": "2022-01-14T03:02:24.768790Z",
     "start_time": "2022-01-14T03:02:24.751960Z"
    }
   },
   "outputs": [],
   "source": [
    "final_blacklist = {k: set(v) for k, v in final_blacklist.items()}"
   ]
  },
  {
   "cell_type": "code",
   "execution_count": null,
   "id": "be4cd972",
   "metadata": {},
   "outputs": [],
   "source": []
  },
  {
   "cell_type": "code",
   "execution_count": null,
   "id": "26a90547",
   "metadata": {},
   "outputs": [],
   "source": []
  },
  {
   "cell_type": "code",
   "execution_count": null,
   "id": "731b0554",
   "metadata": {},
   "outputs": [],
   "source": []
  },
  {
   "cell_type": "code",
   "execution_count": null,
   "id": "9d33a806",
   "metadata": {},
   "outputs": [],
   "source": []
  },
  {
   "cell_type": "code",
   "execution_count": null,
   "id": "2451e01f",
   "metadata": {},
   "outputs": [],
   "source": []
  }
 ],
 "metadata": {
  "hide_input": false,
  "kernelspec": {
   "display_name": "Python 3 (ipykernel)",
   "language": "python",
   "name": "python3"
  },
  "language_info": {
   "codemirror_mode": {
    "name": "ipython",
    "version": 3
   },
   "file_extension": ".py",
   "mimetype": "text/x-python",
   "name": "python",
   "nbconvert_exporter": "python",
   "pygments_lexer": "ipython3",
   "version": "3.8.12"
  },
  "toc": {
   "base_numbering": 1,
   "nav_menu": {},
   "number_sections": true,
   "sideBar": true,
   "skip_h1_title": true,
   "title_cell": "Table of Contents",
   "title_sidebar": "Contents",
   "toc_cell": false,
   "toc_position": {},
   "toc_section_display": true,
   "toc_window_display": true
  }
 },
 "nbformat": 4,
 "nbformat_minor": 5
}

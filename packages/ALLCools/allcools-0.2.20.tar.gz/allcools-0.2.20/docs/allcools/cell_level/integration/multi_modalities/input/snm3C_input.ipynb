{
 "cells": [
  {
   "cell_type": "code",
   "execution_count": 1,
   "metadata": {
    "ExecuteTime": {
     "end_time": "2021-10-03T06:25:35.318562Z",
     "start_time": "2021-10-03T06:25:33.557090Z"
    }
   },
   "outputs": [],
   "source": [
    "import anndata\n",
    "import pandas as pd\n",
    "import xarray as xr\n",
    "from ALLCools.mcds import MCDS"
   ]
  },
  {
   "cell_type": "code",
   "execution_count": 2,
   "metadata": {
    "ExecuteTime": {
     "end_time": "2021-10-03T06:25:36.083526Z",
     "start_time": "2021-10-03T06:25:36.050384Z"
    }
   },
   "outputs": [
    {
     "data": {
      "text/plain": [
       "Glia     3974\n",
       "DG       3624\n",
       "Exc      2450\n",
       "Inh       647\n",
       "Other     279\n",
       "Name: IntegrationGroup, dtype: int64"
      ]
     },
     "execution_count": 2,
     "metadata": {},
     "output_type": "execute_result"
    }
   ],
   "source": [
    "integration_groups = pd.read_csv('snmC_snm3C_integration_groups.csv', index_col=0)\n",
    "integration_groups = integration_groups.loc[integration_groups['batch'] == 'snm3C', 'IntegrationGroup']\n",
    "integration_groups.value_counts()"
   ]
  },
  {
   "cell_type": "code",
   "execution_count": 3,
   "metadata": {
    "ExecuteTime": {
     "end_time": "2021-10-03T06:25:38.499484Z",
     "start_time": "2021-10-03T06:25:38.267988Z"
    }
   },
   "outputs": [],
   "source": [
    "gene_ds = MCDS.open('../../snm3C_clustering/gene_frac/*.mcds')"
   ]
  },
  {
   "cell_type": "code",
   "execution_count": 4,
   "metadata": {
    "ExecuteTime": {
     "end_time": "2021-10-03T06:25:41.032095Z",
     "start_time": "2021-10-03T06:25:40.896845Z"
    }
   },
   "outputs": [],
   "source": [
    "# intra modality clusters\n",
    "cell_meta = pd.read_csv('../../snm3C_clustering/L1.ClusteringResults.csv.gz', index_col=0)"
   ]
  },
  {
   "cell_type": "code",
   "execution_count": 5,
   "metadata": {
    "ExecuteTime": {
     "end_time": "2021-10-03T06:25:45.334789Z",
     "start_time": "2021-10-03T06:25:45.330872Z"
    }
   },
   "outputs": [],
   "source": [
    "integration_groups = integration_groups.map({\n",
    "    'Exc': 'Neuron',\n",
    "    'Inh': 'Neuron',\n",
    "    'DG': 'DG',\n",
    "    'Glia': 'Glia',\n",
    "    'Other': 'Other',\n",
    "})\n",
    "group_mc_types = {\n",
    "    'Neuron': 'CHN',\n",
    "    'Glia': 'CGN',\n",
    "    'DG': 'CGN'\n",
    "}"
   ]
  },
  {
   "cell_type": "code",
   "execution_count": 6,
   "metadata": {
    "ExecuteTime": {
     "end_time": "2021-10-03T06:26:12.131260Z",
     "start_time": "2021-10-03T06:25:58.731424Z"
    }
   },
   "outputs": [
    {
     "name": "stderr",
     "output_type": "stream",
     "text": [
      "... storing 'MajorType' as categorical\n",
      "... storing 'SubType' as categorical\n",
      "... storing 'MajorType' as categorical\n",
      "... storing 'SubType' as categorical\n",
      "... storing 'MajorType' as categorical\n",
      "... storing 'SubType' as categorical\n"
     ]
    }
   ],
   "source": [
    "for group, cells in integration_groups.groupby(integration_groups):\n",
    "    if group == 'Other':\n",
    "        continue\n",
    "    group_mc_type = group_mc_types[group]\n",
    "    gene_fracs = gene_ds.sel(cell=cells.index,\n",
    "                             mc_type=group_mc_type)['gene_da_frac'].values\n",
    "    adata = anndata.AnnData(X=gene_fracs,\n",
    "                            obs=pd.DataFrame([],\n",
    "                                             index=cells.index),\n",
    "                            var=pd.DataFrame([],\n",
    "                                             index=gene_ds.get_index('gene')))\n",
    "    adata.obs['MajorType'] = cell_meta.loc[cells.index, 'L1']\n",
    "    adata.obs['SubType'] = cell_meta.loc[cells.index, 'L1']\n",
    "    adata.write_h5ad(f'snm3C.{group}.gene_{group_mc_type}_fracs.h5ad')"
   ]
  },
  {
   "cell_type": "code",
   "execution_count": 7,
   "metadata": {
    "ExecuteTime": {
     "end_time": "2021-09-12T22:22:57.813048Z",
     "start_time": "2021-09-12T22:22:57.807498Z"
    }
   },
   "outputs": [
    {
     "data": {
      "text/plain": [
       "Glia      3974\n",
       "DG        3624\n",
       "Neuron    3097\n",
       "Other      279\n",
       "Name: IntegrationGroup, dtype: int64"
      ]
     },
     "execution_count": 7,
     "metadata": {},
     "output_type": "execute_result"
    }
   ],
   "source": [
    "integration_groups.value_counts()"
   ]
  },
  {
   "cell_type": "code",
   "execution_count": null,
   "metadata": {},
   "outputs": [],
   "source": []
  },
  {
   "cell_type": "code",
   "execution_count": null,
   "metadata": {},
   "outputs": [],
   "source": []
  },
  {
   "cell_type": "code",
   "execution_count": null,
   "metadata": {},
   "outputs": [],
   "source": []
  },
  {
   "cell_type": "code",
   "execution_count": null,
   "metadata": {},
   "outputs": [],
   "source": []
  },
  {
   "cell_type": "code",
   "execution_count": null,
   "metadata": {},
   "outputs": [],
   "source": []
  },
  {
   "cell_type": "code",
   "execution_count": null,
   "metadata": {},
   "outputs": [],
   "source": []
  },
  {
   "cell_type": "code",
   "execution_count": null,
   "metadata": {},
   "outputs": [],
   "source": []
  },
  {
   "cell_type": "code",
   "execution_count": null,
   "metadata": {},
   "outputs": [],
   "source": []
  },
  {
   "cell_type": "code",
   "execution_count": null,
   "metadata": {},
   "outputs": [],
   "source": []
  },
  {
   "cell_type": "code",
   "execution_count": null,
   "metadata": {},
   "outputs": [],
   "source": []
  }
 ],
 "metadata": {
  "hide_input": false,
  "kernelspec": {
   "display_name": "Python 3",
   "language": "python",
   "name": "python3"
  },
  "language_info": {
   "codemirror_mode": {
    "name": "ipython",
    "version": 3
   },
   "file_extension": ".py",
   "mimetype": "text/x-python",
   "name": "python",
   "nbconvert_exporter": "python",
   "pygments_lexer": "ipython3",
   "version": "3.8.6"
  },
  "toc": {
   "base_numbering": 1,
   "nav_menu": {},
   "number_sections": true,
   "sideBar": true,
   "skip_h1_title": true,
   "title_cell": "Table of Contents",
   "title_sidebar": "Contents",
   "toc_cell": false,
   "toc_position": {},
   "toc_section_display": true,
   "toc_window_display": true
  }
 },
 "nbformat": 4,
 "nbformat_minor": 4
}

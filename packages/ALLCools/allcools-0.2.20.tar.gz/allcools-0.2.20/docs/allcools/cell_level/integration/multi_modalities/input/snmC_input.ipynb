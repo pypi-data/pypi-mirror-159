{
 "cells": [
  {
   "cell_type": "code",
   "execution_count": 1,
   "metadata": {
    "ExecuteTime": {
     "end_time": "2021-10-03T06:26:37.930506Z",
     "start_time": "2021-10-03T06:26:36.111656Z"
    }
   },
   "outputs": [],
   "source": [
    "import anndata\n",
    "import pandas as pd\n",
    "import xarray as xr\n",
    "from ALLCools.mcds import MCDS"
   ]
  },
  {
   "cell_type": "code",
   "execution_count": 2,
   "metadata": {
    "ExecuteTime": {
     "end_time": "2021-10-03T06:26:37.971344Z",
     "start_time": "2021-10-03T06:26:37.932521Z"
    }
   },
   "outputs": [
    {
     "data": {
      "text/plain": [
       "Exc      7702\n",
       "DG       6183\n",
       "Glia     1720\n",
       "Inh      1015\n",
       "Other     365\n",
       "Name: IntegrationGroup, dtype: int64"
      ]
     },
     "execution_count": 2,
     "metadata": {},
     "output_type": "execute_result"
    }
   ],
   "source": [
    "integration_groups = pd.read_csv('snmC_snm3C_integration_groups.csv', index_col=0)\n",
    "integration_groups = integration_groups.loc[integration_groups['batch'] == 'snmC', 'IntegrationGroup']\n",
    "integration_groups.value_counts()"
   ]
  },
  {
   "cell_type": "code",
   "execution_count": 3,
   "metadata": {
    "ExecuteTime": {
     "end_time": "2021-10-03T06:26:39.126486Z",
     "start_time": "2021-10-03T06:26:37.972938Z"
    }
   },
   "outputs": [],
   "source": [
    "gene_ds = MCDS.open('../../../dmg/gene_frac/*.mcds')"
   ]
  },
  {
   "cell_type": "code",
   "execution_count": 4,
   "metadata": {
    "ExecuteTime": {
     "end_time": "2021-10-03T06:26:39.251451Z",
     "start_time": "2021-10-03T06:26:39.128706Z"
    }
   },
   "outputs": [],
   "source": [
    "# intra modality clusters\n",
    "cell_meta = pd.read_csv('../../../step_by_step/100kb/L1.ClusteringResults.csv.gz', index_col=0)"
   ]
  },
  {
   "cell_type": "code",
   "execution_count": 5,
   "metadata": {
    "ExecuteTime": {
     "end_time": "2021-10-03T06:26:40.306078Z",
     "start_time": "2021-10-03T06:26:40.301500Z"
    }
   },
   "outputs": [],
   "source": [
    "integration_groups = integration_groups.map({\n",
    "    'Exc': 'Neuron',\n",
    "    'Inh': 'Neuron',\n",
    "    'DG': 'DG',\n",
    "    'Glia': 'Glia',\n",
    "    'Other': 'Other',\n",
    "})\n",
    "group_mc_types = {\n",
    "    'Neuron': 'CHN',\n",
    "    'Glia': 'CGN',\n",
    "    'DG': 'CGN'\n",
    "}"
   ]
  },
  {
   "cell_type": "code",
   "execution_count": 13,
   "metadata": {
    "ExecuteTime": {
     "end_time": "2021-10-03T06:41:07.962419Z",
     "start_time": "2021-10-03T06:40:45.514868Z"
    }
   },
   "outputs": [
    {
     "name": "stderr",
     "output_type": "stream",
     "text": [
      "... storing 'MajorType' as categorical\n",
      "... storing 'SubType' as categorical\n",
      "... storing 'MajorType' as categorical\n",
      "... storing 'SubType' as categorical\n",
      "... storing 'MajorType' as categorical\n",
      "... storing 'SubType' as categorical\n"
     ]
    }
   ],
   "source": [
    "meta_anno = pd.read_csv('/home/hanliu/project/allcools_doc/data/Brain/snmC-seq2/HIP.Annotated.CellMetadata.csv.gz', index_col=0)\n",
    "\n",
    "for group, cells in integration_groups.groupby(integration_groups):\n",
    "    if group == 'Other':\n",
    "        continue\n",
    "    group_mc_type = group_mc_types[group]\n",
    "    gene_fracs = gene_ds.sel(cell=cells.index,\n",
    "                             mc_type=group_mc_type)['gene_da_frac'].values\n",
    "    adata = anndata.AnnData(X=gene_fracs,\n",
    "                            obs=pd.DataFrame([],\n",
    "                                             index=cells.index),\n",
    "                            var=pd.DataFrame([],\n",
    "                                             index=gene_ds.get_index('gene')))\n",
    "    adata.obs['MajorType'] = meta_anno.loc[cells.index, 'MajorType']\n",
    "    adata.obs['SubType'] = meta_anno.loc[cells.index, 'SubType']\n",
    "    adata.write_h5ad(f'snmC.{group}.gene_{group_mc_type}_fracs.h5ad')"
   ]
  },
  {
   "cell_type": "code",
   "execution_count": 7,
   "metadata": {
    "ExecuteTime": {
     "end_time": "2021-09-12T22:23:56.760857Z",
     "start_time": "2021-09-12T22:23:56.754539Z"
    }
   },
   "outputs": [
    {
     "data": {
      "text/plain": [
       "Neuron    8717\n",
       "DG        6183\n",
       "Glia      1720\n",
       "Other      365\n",
       "Name: IntegrationGroup, dtype: int64"
      ]
     },
     "execution_count": 7,
     "metadata": {},
     "output_type": "execute_result"
    }
   ],
   "source": [
    "integration_groups.value_counts()"
   ]
  },
  {
   "cell_type": "code",
   "execution_count": 15,
   "metadata": {
    "ExecuteTime": {
     "end_time": "2021-10-03T06:41:24.613948Z",
     "start_time": "2021-10-03T06:41:24.610623Z"
    }
   },
   "outputs": [
    {
     "data": {
      "text/plain": [
       "AnnData object with n_obs × n_vars = 8717 × 40331\n",
       "    obs: 'MajorType', 'SubType'"
      ]
     },
     "execution_count": 15,
     "metadata": {},
     "output_type": "execute_result"
    }
   ],
   "source": [
    "adata"
   ]
  },
  {
   "cell_type": "code",
   "execution_count": null,
   "metadata": {},
   "outputs": [],
   "source": []
  },
  {
   "cell_type": "code",
   "execution_count": null,
   "metadata": {},
   "outputs": [],
   "source": []
  },
  {
   "cell_type": "code",
   "execution_count": null,
   "metadata": {},
   "outputs": [],
   "source": []
  },
  {
   "cell_type": "code",
   "execution_count": null,
   "metadata": {},
   "outputs": [],
   "source": []
  },
  {
   "cell_type": "code",
   "execution_count": null,
   "metadata": {},
   "outputs": [],
   "source": []
  },
  {
   "cell_type": "code",
   "execution_count": null,
   "metadata": {},
   "outputs": [],
   "source": []
  },
  {
   "cell_type": "code",
   "execution_count": null,
   "metadata": {},
   "outputs": [],
   "source": []
  }
 ],
 "metadata": {
  "hide_input": false,
  "kernelspec": {
   "display_name": "Python 3",
   "language": "python",
   "name": "python3"
  },
  "language_info": {
   "codemirror_mode": {
    "name": "ipython",
    "version": 3
   },
   "file_extension": ".py",
   "mimetype": "text/x-python",
   "name": "python",
   "nbconvert_exporter": "python",
   "pygments_lexer": "ipython3",
   "version": "3.8.6"
  },
  "toc": {
   "base_numbering": 1,
   "nav_menu": {},
   "number_sections": true,
   "sideBar": true,
   "skip_h1_title": true,
   "title_cell": "Table of Contents",
   "title_sidebar": "Contents",
   "toc_cell": false,
   "toc_position": {},
   "toc_section_display": true,
   "toc_window_display": true
  }
 },
 "nbformat": 4,
 "nbformat_minor": 4
}

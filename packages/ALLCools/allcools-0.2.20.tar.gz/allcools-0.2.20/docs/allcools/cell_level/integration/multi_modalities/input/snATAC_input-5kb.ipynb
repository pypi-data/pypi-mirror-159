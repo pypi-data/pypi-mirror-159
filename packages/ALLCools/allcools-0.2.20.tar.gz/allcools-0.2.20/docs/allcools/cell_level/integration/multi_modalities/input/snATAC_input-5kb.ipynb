{
 "cells": [
  {
   "cell_type": "code",
   "execution_count": 1,
   "metadata": {
    "ExecuteTime": {
     "end_time": "2021-10-03T04:30:19.024882Z",
     "start_time": "2021-10-03T04:30:17.580900Z"
    }
   },
   "outputs": [],
   "source": [
    "import pathlib\n",
    "import pandas as pd\n",
    "import anndata\n",
    "import matplotlib.pyplot as plt\n",
    "from scipy.sparse import vstack\n",
    "from ALLCools.plot import *"
   ]
  },
  {
   "cell_type": "code",
   "execution_count": 2,
   "metadata": {
    "ExecuteTime": {
     "end_time": "2021-10-03T04:31:17.899027Z",
     "start_time": "2021-10-03T04:30:19.026488Z"
    }
   },
   "outputs": [
    {
     "name": "stdout",
     "output_type": "stream",
     "text": [
      "../../../../data/Brain/snATAC-seq/5kb/CEMBA190212_9H.5Kb_filtered.h5ad\n",
      "../../../../data/Brain/snATAC-seq/5kb/CEMBA190212_9J.5Kb_filtered.h5ad\n",
      "../../../../data/Brain/snATAC-seq/5kb/CEMBA190214_11E.5Kb_filtered.h5ad\n",
      "../../../../data/Brain/snATAC-seq/5kb/CEMBA190214_11F.5Kb_filtered.h5ad\n",
      "../../../../data/Brain/snATAC-seq/5kb/CEMBA190219_9H.5Kb_filtered.h5ad\n",
      "../../../../data/Brain/snATAC-seq/5kb/CEMBA190219_9J.5Kb_filtered.h5ad\n",
      "../../../../data/Brain/snATAC-seq/5kb/CEMBA190305_11E.5Kb_filtered.h5ad\n",
      "../../../../data/Brain/snATAC-seq/5kb/CEMBA190305_11F.5Kb_filtered.h5ad\n",
      "../../../../data/Brain/snATAC-seq/5kb/CEMBA190625_10E.5Kb_filtered.h5ad\n",
      "../../../../data/Brain/snATAC-seq/5kb/CEMBA190625_10F.5Kb_filtered.h5ad\n",
      "../../../../data/Brain/snATAC-seq/5kb/CEMBA190627_10E.5Kb_filtered.h5ad\n",
      "../../../../data/Brain/snATAC-seq/5kb/CEMBA190627_10F.5Kb_filtered.h5ad\n",
      "../../../../data/Brain/snATAC-seq/5kb/CEMBA190711_8E.5Kb_filtered.h5ad\n",
      "../../../../data/Brain/snATAC-seq/5kb/CEMBA190711_8J.5Kb_filtered.h5ad\n",
      "../../../../data/Brain/snATAC-seq/5kb/CEMBA190716_8E.5Kb_filtered.h5ad\n",
      "../../../../data/Brain/snATAC-seq/5kb/CEMBA190716_8J.5Kb_filtered.h5ad\n"
     ]
    }
   ],
   "source": [
    "total_obs = []\n",
    "total_data = []\n",
    "indexes = []\n",
    "for path in pathlib.Path('../../../../data/Brain/snATAC-seq/5kb/').glob('*h5ad'):\n",
    "    print(path)\n",
    "    adata = anndata.read_h5ad(path)\n",
    "    total_obs.append(adata.obs)\n",
    "    total_data.append(adata.X)\n",
    "    indexes += adata.var_names.tolist()\n",
    "\n",
    "adata = anndata.AnnData(X=vstack(total_data).tocsr(),\n",
    "                        obs=pd.concat(total_obs),\n",
    "                        var=adata.var)\n"
   ]
  },
  {
   "cell_type": "code",
   "execution_count": 3,
   "metadata": {
    "ExecuteTime": {
     "end_time": "2021-10-03T04:31:17.907765Z",
     "start_time": "2021-10-03T04:31:17.901539Z"
    }
   },
   "outputs": [
    {
     "data": {
      "text/plain": [
       "AnnData object with n_obs × n_vars = 161556 × 493653\n",
       "    obs: 'barcode', 'CM', 'PE', 'PL', 'PP', 'SA', 'SE', 'TN', 'UM', 'UQ', 'US', 'cellID', 'L1cluster', 'L2cluster', 'L3cluster', 'sample', 'logUMI', 'L3umap1', 'L3umap2', 'L2umap1', 'L2umap2', 'L1umap1', 'L1umap2', 'L0umap1', 'L0umap2', 'tsse', 'DissectionRegion', 'replicate', 'Order', 'RegionName', 'MajorRegion', 'SubRegion', 'DetailRegion', 'PotentialOverlap', 'Slice', 'Anterior', 'Posterior', 'MajorRegionColor', 'SubRegionColor', 'DissectionRegionColor', 'L1Color', 'L2Color', 'L3Color', 'CellClass', 'MajorType', 'SubType', 'umap_0', 'umap_1', 'Region', 'PotentialOverlap (MMB)', 'Anterior (CCF coords)', 'Posterior (CCF coords)'\n",
       "    var: 'chrom', 'start', 'end'"
      ]
     },
     "execution_count": 3,
     "metadata": {},
     "output_type": "execute_result"
    }
   ],
   "source": [
    "adata"
   ]
  },
  {
   "cell_type": "code",
   "execution_count": 4,
   "metadata": {
    "ExecuteTime": {
     "end_time": "2021-10-03T04:31:17.950454Z",
     "start_time": "2021-10-03T04:31:17.909254Z"
    },
    "scrolled": true
   },
   "outputs": [
    {
     "data": {
      "text/html": [
       "<div>\n",
       "<style scoped>\n",
       "    .dataframe tbody tr th:only-of-type {\n",
       "        vertical-align: middle;\n",
       "    }\n",
       "\n",
       "    .dataframe tbody tr th {\n",
       "        vertical-align: top;\n",
       "    }\n",
       "\n",
       "    .dataframe thead th {\n",
       "        text-align: right;\n",
       "    }\n",
       "</style>\n",
       "<table border=\"1\" class=\"dataframe\">\n",
       "  <thead>\n",
       "    <tr style=\"text-align: right;\">\n",
       "      <th>CellClass</th>\n",
       "      <th>GABA</th>\n",
       "      <th>Glutamate</th>\n",
       "      <th>NonN</th>\n",
       "    </tr>\n",
       "    <tr>\n",
       "      <th>MajorType</th>\n",
       "      <th></th>\n",
       "      <th></th>\n",
       "      <th></th>\n",
       "    </tr>\n",
       "  </thead>\n",
       "  <tbody>\n",
       "    <tr>\n",
       "      <th>GABA.CRc</th>\n",
       "      <td>638.0</td>\n",
       "      <td>NaN</td>\n",
       "      <td>NaN</td>\n",
       "    </tr>\n",
       "    <tr>\n",
       "      <th>GABA.Cnu</th>\n",
       "      <td>2.0</td>\n",
       "      <td>NaN</td>\n",
       "      <td>NaN</td>\n",
       "    </tr>\n",
       "    <tr>\n",
       "      <th>GABA.Foxp2</th>\n",
       "      <td>6.0</td>\n",
       "      <td>NaN</td>\n",
       "      <td>NaN</td>\n",
       "    </tr>\n",
       "    <tr>\n",
       "      <th>GABA.Hip</th>\n",
       "      <td>4132.0</td>\n",
       "      <td>NaN</td>\n",
       "      <td>NaN</td>\n",
       "    </tr>\n",
       "    <tr>\n",
       "      <th>GABA.Lamp5</th>\n",
       "      <td>1274.0</td>\n",
       "      <td>NaN</td>\n",
       "      <td>NaN</td>\n",
       "    </tr>\n",
       "    <tr>\n",
       "      <th>GABA.Lsx</th>\n",
       "      <td>66.0</td>\n",
       "      <td>NaN</td>\n",
       "      <td>NaN</td>\n",
       "    </tr>\n",
       "    <tr>\n",
       "      <th>GABA.Ms</th>\n",
       "      <td>195.0</td>\n",
       "      <td>NaN</td>\n",
       "      <td>NaN</td>\n",
       "    </tr>\n",
       "    <tr>\n",
       "      <th>GABA.MsnD2</th>\n",
       "      <td>3.0</td>\n",
       "      <td>NaN</td>\n",
       "      <td>NaN</td>\n",
       "    </tr>\n",
       "    <tr>\n",
       "      <th>GABA.OlfStr</th>\n",
       "      <td>75.0</td>\n",
       "      <td>NaN</td>\n",
       "      <td>NaN</td>\n",
       "    </tr>\n",
       "    <tr>\n",
       "      <th>GABA.Pv</th>\n",
       "      <td>1037.0</td>\n",
       "      <td>NaN</td>\n",
       "      <td>NaN</td>\n",
       "    </tr>\n",
       "    <tr>\n",
       "      <th>GABA.Sst</th>\n",
       "      <td>1311.0</td>\n",
       "      <td>NaN</td>\n",
       "      <td>NaN</td>\n",
       "    </tr>\n",
       "    <tr>\n",
       "      <th>GABA.Vip</th>\n",
       "      <td>1132.0</td>\n",
       "      <td>NaN</td>\n",
       "      <td>NaN</td>\n",
       "    </tr>\n",
       "    <tr>\n",
       "      <th>Glutamate.AON</th>\n",
       "      <td>NaN</td>\n",
       "      <td>11.0</td>\n",
       "      <td>NaN</td>\n",
       "    </tr>\n",
       "    <tr>\n",
       "      <th>Glutamate.CA1</th>\n",
       "      <td>NaN</td>\n",
       "      <td>19265.0</td>\n",
       "      <td>NaN</td>\n",
       "    </tr>\n",
       "    <tr>\n",
       "      <th>Glutamate.CA3</th>\n",
       "      <td>NaN</td>\n",
       "      <td>14572.0</td>\n",
       "      <td>NaN</td>\n",
       "    </tr>\n",
       "    <tr>\n",
       "      <th>Glutamate.CLA</th>\n",
       "      <td>NaN</td>\n",
       "      <td>2.0</td>\n",
       "      <td>NaN</td>\n",
       "    </tr>\n",
       "    <tr>\n",
       "      <th>Glutamate.CT</th>\n",
       "      <td>NaN</td>\n",
       "      <td>262.0</td>\n",
       "      <td>NaN</td>\n",
       "    </tr>\n",
       "    <tr>\n",
       "      <th>Glutamate.GC</th>\n",
       "      <td>NaN</td>\n",
       "      <td>61119.0</td>\n",
       "      <td>NaN</td>\n",
       "    </tr>\n",
       "    <tr>\n",
       "      <th>Glutamate.L23</th>\n",
       "      <td>NaN</td>\n",
       "      <td>44.0</td>\n",
       "      <td>NaN</td>\n",
       "    </tr>\n",
       "    <tr>\n",
       "      <th>Glutamate.L2HIP</th>\n",
       "      <td>NaN</td>\n",
       "      <td>1103.0</td>\n",
       "      <td>NaN</td>\n",
       "    </tr>\n",
       "    <tr>\n",
       "      <th>Glutamate.L4</th>\n",
       "      <td>NaN</td>\n",
       "      <td>1.0</td>\n",
       "      <td>NaN</td>\n",
       "    </tr>\n",
       "    <tr>\n",
       "      <th>Glutamate.L5</th>\n",
       "      <td>NaN</td>\n",
       "      <td>46.0</td>\n",
       "      <td>NaN</td>\n",
       "    </tr>\n",
       "    <tr>\n",
       "      <th>Glutamate.L6</th>\n",
       "      <td>NaN</td>\n",
       "      <td>15.0</td>\n",
       "      <td>NaN</td>\n",
       "    </tr>\n",
       "    <tr>\n",
       "      <th>Glutamate.L6b</th>\n",
       "      <td>NaN</td>\n",
       "      <td>84.0</td>\n",
       "      <td>NaN</td>\n",
       "    </tr>\n",
       "    <tr>\n",
       "      <th>Glutamate.NP</th>\n",
       "      <td>NaN</td>\n",
       "      <td>763.0</td>\n",
       "      <td>NaN</td>\n",
       "    </tr>\n",
       "    <tr>\n",
       "      <th>Glutamate.OLF</th>\n",
       "      <td>NaN</td>\n",
       "      <td>21.0</td>\n",
       "      <td>NaN</td>\n",
       "    </tr>\n",
       "    <tr>\n",
       "      <th>Glutamate.PT</th>\n",
       "      <td>NaN</td>\n",
       "      <td>118.0</td>\n",
       "      <td>NaN</td>\n",
       "    </tr>\n",
       "    <tr>\n",
       "      <th>NonN.Asc</th>\n",
       "      <td>NaN</td>\n",
       "      <td>NaN</td>\n",
       "      <td>16548.0</td>\n",
       "    </tr>\n",
       "    <tr>\n",
       "      <th>NonN.Mgc</th>\n",
       "      <td>NaN</td>\n",
       "      <td>NaN</td>\n",
       "      <td>5164.0</td>\n",
       "    </tr>\n",
       "    <tr>\n",
       "      <th>NonN.Ogc</th>\n",
       "      <td>NaN</td>\n",
       "      <td>NaN</td>\n",
       "      <td>20578.0</td>\n",
       "    </tr>\n",
       "    <tr>\n",
       "      <th>NonN.Opc</th>\n",
       "      <td>NaN</td>\n",
       "      <td>NaN</td>\n",
       "      <td>6063.0</td>\n",
       "    </tr>\n",
       "    <tr>\n",
       "      <th>NonN.Per</th>\n",
       "      <td>NaN</td>\n",
       "      <td>NaN</td>\n",
       "      <td>536.0</td>\n",
       "    </tr>\n",
       "    <tr>\n",
       "      <th>NonN.Rgl</th>\n",
       "      <td>NaN</td>\n",
       "      <td>NaN</td>\n",
       "      <td>2487.0</td>\n",
       "    </tr>\n",
       "    <tr>\n",
       "      <th>NonN.Vec</th>\n",
       "      <td>NaN</td>\n",
       "      <td>NaN</td>\n",
       "      <td>295.0</td>\n",
       "    </tr>\n",
       "    <tr>\n",
       "      <th>NonN.Vlmc</th>\n",
       "      <td>NaN</td>\n",
       "      <td>NaN</td>\n",
       "      <td>1468.0</td>\n",
       "    </tr>\n",
       "    <tr>\n",
       "      <th>NonN.Vpia</th>\n",
       "      <td>NaN</td>\n",
       "      <td>NaN</td>\n",
       "      <td>350.0</td>\n",
       "    </tr>\n",
       "    <tr>\n",
       "      <th>NonN.iOl</th>\n",
       "      <td>NaN</td>\n",
       "      <td>NaN</td>\n",
       "      <td>770.0</td>\n",
       "    </tr>\n",
       "  </tbody>\n",
       "</table>\n",
       "</div>"
      ],
      "text/plain": [
       "CellClass          GABA  Glutamate     NonN\n",
       "MajorType                                  \n",
       "GABA.CRc          638.0        NaN      NaN\n",
       "GABA.Cnu            2.0        NaN      NaN\n",
       "GABA.Foxp2          6.0        NaN      NaN\n",
       "GABA.Hip         4132.0        NaN      NaN\n",
       "GABA.Lamp5       1274.0        NaN      NaN\n",
       "GABA.Lsx           66.0        NaN      NaN\n",
       "GABA.Ms           195.0        NaN      NaN\n",
       "GABA.MsnD2          3.0        NaN      NaN\n",
       "GABA.OlfStr        75.0        NaN      NaN\n",
       "GABA.Pv          1037.0        NaN      NaN\n",
       "GABA.Sst         1311.0        NaN      NaN\n",
       "GABA.Vip         1132.0        NaN      NaN\n",
       "Glutamate.AON       NaN       11.0      NaN\n",
       "Glutamate.CA1       NaN    19265.0      NaN\n",
       "Glutamate.CA3       NaN    14572.0      NaN\n",
       "Glutamate.CLA       NaN        2.0      NaN\n",
       "Glutamate.CT        NaN      262.0      NaN\n",
       "Glutamate.GC        NaN    61119.0      NaN\n",
       "Glutamate.L23       NaN       44.0      NaN\n",
       "Glutamate.L2HIP     NaN     1103.0      NaN\n",
       "Glutamate.L4        NaN        1.0      NaN\n",
       "Glutamate.L5        NaN       46.0      NaN\n",
       "Glutamate.L6        NaN       15.0      NaN\n",
       "Glutamate.L6b       NaN       84.0      NaN\n",
       "Glutamate.NP        NaN      763.0      NaN\n",
       "Glutamate.OLF       NaN       21.0      NaN\n",
       "Glutamate.PT        NaN      118.0      NaN\n",
       "NonN.Asc            NaN        NaN  16548.0\n",
       "NonN.Mgc            NaN        NaN   5164.0\n",
       "NonN.Ogc            NaN        NaN  20578.0\n",
       "NonN.Opc            NaN        NaN   6063.0\n",
       "NonN.Per            NaN        NaN    536.0\n",
       "NonN.Rgl            NaN        NaN   2487.0\n",
       "NonN.Vec            NaN        NaN    295.0\n",
       "NonN.Vlmc           NaN        NaN   1468.0\n",
       "NonN.Vpia           NaN        NaN    350.0\n",
       "NonN.iOl            NaN        NaN    770.0"
      ]
     },
     "execution_count": 4,
     "metadata": {},
     "output_type": "execute_result"
    }
   ],
   "source": [
    "adata.obs.groupby('MajorType')['CellClass'].value_counts().unstack()"
   ]
  },
  {
   "cell_type": "code",
   "execution_count": 5,
   "metadata": {
    "ExecuteTime": {
     "end_time": "2021-10-03T04:31:18.125590Z",
     "start_time": "2021-10-03T04:31:17.951872Z"
    }
   },
   "outputs": [],
   "source": [
    "not_use = [\n",
    "    'Glutamate.L2HIP', 'Glutamate.NP', 'Glutamate.CT', 'GABA.Ms',\n",
    "    'Glutamate.PT', 'Glutamate.L6b', 'GABA.OlfStr', 'GABA.Lsx', 'Glutamate.L5',\n",
    "    'Glutamate.L23', 'Glutamate.OLF', 'Glutamate.L6', 'Glutamate.AON',\n",
    "    'GABA.Foxp2', 'GABA.MsnD2', 'GABA.Cnu', 'Glutamate.CLA', 'Glutamate.L4'\n",
    "]\n",
    "adata = adata[~adata.obs['MajorType'].isin(not_use), :]"
   ]
  },
  {
   "cell_type": "code",
   "execution_count": 6,
   "metadata": {
    "ExecuteTime": {
     "end_time": "2021-10-03T04:31:29.176183Z",
     "start_time": "2021-10-03T04:31:18.127254Z"
    }
   },
   "outputs": [
    {
     "name": "stderr",
     "output_type": "stream",
     "text": [
      "Trying to set attribute `.obs` of view, copying.\n"
     ]
    }
   ],
   "source": [
    "integration_group = {\n",
    "    'GABA.CRc': 'Inh',\n",
    "    'GABA.Cnu': 'Inh',\n",
    "    'GABA.Foxp2': 'Inh',\n",
    "    'GABA.Hip': 'Inh',\n",
    "    'GABA.Lamp5': 'Inh',\n",
    "    'GABA.Lsx': 'Inh',\n",
    "    'GABA.Ms': 'Inh',\n",
    "    'GABA.MsnD2': 'Inh',\n",
    "    'GABA.OlfStr': 'Inh',\n",
    "    'GABA.Pv': 'Inh',\n",
    "    'GABA.Sst': 'Inh',\n",
    "    'GABA.Vip': 'Inh',\n",
    "    'Glutamate.AON': 'Exc',\n",
    "    'Glutamate.CA1': 'Exc',\n",
    "    'Glutamate.CA3': 'Exc',\n",
    "    'Glutamate.CLA': 'Exc',\n",
    "    'Glutamate.CT': 'Exc',\n",
    "    'Glutamate.GC': 'DG',\n",
    "    'Glutamate.L23': 'Exc',\n",
    "    'Glutamate.L2HIP': 'Exc',\n",
    "    'Glutamate.L4': 'Exc',\n",
    "    'Glutamate.L5': 'Exc',\n",
    "    'Glutamate.L6': 'Exc',\n",
    "    'Glutamate.L6b': 'Exc',\n",
    "    'Glutamate.NP': 'Exc',\n",
    "    'Glutamate.OLF': 'Exc',\n",
    "    'Glutamate.PT': 'Exc',\n",
    "    'NonN.Asc': 'Glia',\n",
    "    'NonN.Mgc': 'Glia',\n",
    "    'NonN.Ogc': 'Glia',\n",
    "    'NonN.Opc': 'Glia',\n",
    "    'NonN.Per': 'Glia',\n",
    "    'NonN.Rgl': 'Glia',\n",
    "    'NonN.Vec': 'Glia',\n",
    "    'NonN.Vlmc': 'Glia',\n",
    "    'NonN.Vpia': 'Glia',\n",
    "    'NonN.iOl': 'Glia'\n",
    "}\n",
    "major_group = {\n",
    "    'Exc': 'Neuron',\n",
    "    'Inh': 'Neuron',\n",
    "    'Glia': 'Glia',\n",
    "    'DG': 'DG',\n",
    "}\n",
    "adata.obs['IntegrationGroup'] = adata.obs['MajorType'].map(integration_group).map(major_group)"
   ]
  },
  {
   "cell_type": "code",
   "execution_count": 7,
   "metadata": {
    "ExecuteTime": {
     "end_time": "2021-10-03T04:31:29.186213Z",
     "start_time": "2021-10-03T04:31:29.178421Z"
    }
   },
   "outputs": [],
   "source": [
    "assert adata.obs['IntegrationGroup'].isna().sum() == 0"
   ]
  },
  {
   "cell_type": "code",
   "execution_count": 10,
   "metadata": {
    "ExecuteTime": {
     "end_time": "2021-09-12T22:13:08.669935Z",
     "start_time": "2021-09-12T22:12:45.154102Z"
    },
    "deletable": false,
    "editable": false,
    "run_control": {
     "frozen": true
    },
    "scrolled": true
   },
   "outputs": [
    {
     "name": "stderr",
     "output_type": "stream",
     "text": [
      "... storing 'barcode' as categorical\n",
      "... storing 'L2cluster' as categorical\n",
      "... storing 'L3cluster' as categorical\n",
      "... storing 'sample' as categorical\n",
      "... storing 'DissectionRegion' as categorical\n",
      "... storing 'RegionName' as categorical\n",
      "... storing 'SubRegion' as categorical\n",
      "... storing 'DetailRegion' as categorical\n",
      "... storing 'PotentialOverlap' as categorical\n",
      "... storing 'SubRegionColor' as categorical\n",
      "... storing 'DissectionRegionColor' as categorical\n",
      "... storing 'L2Color' as categorical\n",
      "... storing 'L3Color' as categorical\n",
      "... storing 'MajorType' as categorical\n",
      "... storing 'SubType' as categorical\n",
      "... storing 'Region' as categorical\n",
      "... storing 'PotentialOverlap (MMB)' as categorical\n",
      "... storing 'IntegrationGroup' as categorical\n",
      "... storing 'barcode' as categorical\n",
      "... storing 'L2cluster' as categorical\n",
      "... storing 'L3cluster' as categorical\n",
      "... storing 'sample' as categorical\n",
      "... storing 'DissectionRegion' as categorical\n",
      "... storing 'RegionName' as categorical\n",
      "... storing 'SubRegion' as categorical\n",
      "... storing 'DetailRegion' as categorical\n",
      "... storing 'PotentialOverlap' as categorical\n",
      "... storing 'SubRegionColor' as categorical\n",
      "... storing 'DissectionRegionColor' as categorical\n",
      "... storing 'L2Color' as categorical\n",
      "... storing 'L3Color' as categorical\n",
      "... storing 'MajorType' as categorical\n",
      "... storing 'SubType' as categorical\n",
      "... storing 'Region' as categorical\n",
      "... storing 'PotentialOverlap (MMB)' as categorical\n",
      "... storing 'IntegrationGroup' as categorical\n",
      "... storing 'barcode' as categorical\n",
      "... storing 'L2cluster' as categorical\n",
      "... storing 'L3cluster' as categorical\n",
      "... storing 'sample' as categorical\n",
      "... storing 'DissectionRegion' as categorical\n",
      "... storing 'RegionName' as categorical\n",
      "... storing 'SubRegion' as categorical\n",
      "... storing 'DetailRegion' as categorical\n",
      "... storing 'PotentialOverlap' as categorical\n",
      "... storing 'SubRegionColor' as categorical\n",
      "... storing 'DissectionRegionColor' as categorical\n",
      "... storing 'L2Color' as categorical\n",
      "... storing 'L3Color' as categorical\n",
      "... storing 'MajorType' as categorical\n",
      "... storing 'SubType' as categorical\n",
      "... storing 'Region' as categorical\n",
      "... storing 'PotentialOverlap (MMB)' as categorical\n",
      "... storing 'IntegrationGroup' as categorical\n"
     ]
    }
   ],
   "source": [
    "for group, cells in adata.obs.groupby('IntegrationGroup'):\n",
    "    _adata = adata[cells.index, :].copy()\n",
    "    _adata.write_h5ad(f'snATAC.5kb.{group}.h5ad')"
   ]
  },
  {
   "cell_type": "code",
   "execution_count": 8,
   "metadata": {
    "ExecuteTime": {
     "end_time": "2021-10-03T04:31:35.673274Z",
     "start_time": "2021-10-03T04:31:29.187769Z"
    }
   },
   "outputs": [
    {
     "name": "stderr",
     "output_type": "stream",
     "text": [
      "... storing 'MajorType' as categorical\n",
      "... storing 'SubType' as categorical\n"
     ]
    },
    {
     "data": {
      "text/plain": [
       "AnnData object with n_obs × n_vars = 43361 × 493653\n",
       "    obs: 'MajorType', 'SubType'"
      ]
     },
     "execution_count": 8,
     "metadata": {},
     "output_type": "execute_result"
    }
   ],
   "source": [
    "_adata = adata[adata.obs['IntegrationGroup'] == 'Neuron', :]\n",
    "_adata.obs = _adata.obs[['MajorType', 'SubType']]\n",
    "_adata.var = _adata.var[[]]\n",
    "_adata.write_h5ad(f'snATAC.5kb.Neuron.h5ad')\n",
    "_adata"
   ]
  },
  {
   "cell_type": "code",
   "execution_count": 12,
   "metadata": {
    "ExecuteTime": {
     "end_time": "2021-09-12T22:13:36.913333Z",
     "start_time": "2021-09-12T22:13:35.808693Z"
    }
   },
   "outputs": [
    {
     "data": {
      "image/png": "[encoded data removed]",
      "text/plain": [
       "<Figure size 1200x1200 with 1 Axes>"
      ]
     },
     "metadata": {},
     "output_type": "display_data"
    }
   ],
   "source": [
    "fig, ax = plt.subplots(figsize=(4, 4), dpi=300)\n",
    "\n",
    "_ = categorical_scatter(ax=ax,\n",
    "                        data=adata.obs,\n",
    "                        coord_base='umap',\n",
    "                        hue='MajorType',\n",
    "                        text_anno='MajorType',\n",
    "                        s=2,\n",
    "                        max_points=None)"
   ]
  },
  {
   "cell_type": "code",
   "execution_count": null,
   "metadata": {},
   "outputs": [],
   "source": []
  }
 ],
 "metadata": {
  "hide_input": false,
  "kernelspec": {
   "display_name": "Python 3",
   "language": "python",
   "name": "python3"
  },
  "language_info": {
   "codemirror_mode": {
    "name": "ipython",
    "version": 3
   },
   "file_extension": ".py",
   "mimetype": "text/x-python",
   "name": "python",
   "nbconvert_exporter": "python",
   "pygments_lexer": "ipython3",
   "version": "3.8.6"
  },
  "toc": {
   "base_numbering": 1,
   "nav_menu": {},
   "number_sections": true,
   "sideBar": true,
   "skip_h1_title": true,
   "title_cell": "Table of Contents",
   "title_sidebar": "Contents",
   "toc_cell": false,
   "toc_position": {},
   "toc_section_display": true,
   "toc_window_display": true
  }
 },
 "nbformat": 4,
 "nbformat_minor": 4
}

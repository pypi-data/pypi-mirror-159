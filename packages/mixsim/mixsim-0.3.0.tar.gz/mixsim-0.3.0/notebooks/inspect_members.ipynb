{
 "cells": [
  {
   "cell_type": "code",
   "execution_count": 2,
   "metadata": {
    "pycharm": {
     "name": "#%%\n"
    }
   },
   "outputs": [],
   "source": [
    "import inspect"
   ]
  },
  {
   "cell_type": "code",
   "execution_count": 3,
   "metadata": {
    "pycharm": {
     "name": "#%%\n"
    }
   },
   "outputs": [],
   "source": [
    "class MyClass(object):\n",
    "    a = '12'\n",
    "    b = '34'\n",
    "    y_rir = 0\n",
    "    y_vad = 0\n",
    "    rir_late = 0\n",
    "    def myfunc(self):\n",
    "        return self.a"
   ]
  },
  {
   "cell_type": "code",
   "execution_count": 4,
   "metadata": {
    "pycharm": {
     "name": "#%%\n"
    }
   },
   "outputs": [
    {
     "data": {
      "text/plain": "[('__class__', type),\n ('__dict__',\n  mappingproxy({'__module__': '__main__',\n                'a': '12',\n                'b': '34',\n                'y_rir': 0,\n                'y_vad': 0,\n                'rir_late': 0,\n                'myfunc': <function __main__.MyClass.myfunc(self)>,\n                '__dict__': <attribute '__dict__' of 'MyClass' objects>,\n                '__weakref__': <attribute '__weakref__' of 'MyClass' objects>,\n                '__doc__': None})),\n ('__doc__', None),\n ('__module__', '__main__'),\n ('__weakref__', <attribute '__weakref__' of 'MyClass' objects>),\n ('a', '12'),\n ('b', '34'),\n ('rir_late', 0),\n ('y_rir', 0),\n ('y_vad', 0)]"
     },
     "execution_count": 4,
     "metadata": {},
     "output_type": "execute_result"
    }
   ],
   "source": [
    "inspect.getmembers(MyClass, lambda a:not(inspect.isroutine(a)))"
   ]
  },
  {
   "cell_type": "code",
   "execution_count": 5,
   "outputs": [
    {
     "data": {
      "text/plain": "['y_rir', 'y_vad']"
     },
     "execution_count": 5,
     "metadata": {},
     "output_type": "execute_result"
    }
   ],
   "source": [
    "def props(cls):   \n",
    "  return [i for i in cls.__dict__.keys() if i.split(\"_\")[0] == 'y']\n",
    "\n",
    "props(MyClass)"
   ],
   "metadata": {
    "collapsed": false,
    "pycharm": {
     "name": "#%%\n"
    }
   }
  }
 ],
 "metadata": {
  "kernelspec": {
   "display_name": "Python 3.10.4 ('torch11')",
   "language": "python",
   "name": "python3"
  },
  "language_info": {
   "codemirror_mode": {
    "name": "ipython",
    "version": 3
   },
   "file_extension": ".py",
   "mimetype": "text/x-python",
   "name": "python",
   "nbconvert_exporter": "python",
   "pygments_lexer": "ipython3",
   "version": "3.10.4"
  },
  "orig_nbformat": 4,
  "vscode": {
   "interpreter": {
    "hash": "4f7564b655cb13246ccb43994c0fc77a2759d81acbb86c4a8fccafbc11c26333"
   }
  }
 },
 "nbformat": 4,
 "nbformat_minor": 2
}
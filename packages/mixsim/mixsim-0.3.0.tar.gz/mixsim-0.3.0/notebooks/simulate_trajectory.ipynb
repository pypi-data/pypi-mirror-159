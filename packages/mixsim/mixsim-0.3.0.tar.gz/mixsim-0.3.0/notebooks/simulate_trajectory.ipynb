{
 "cells": [
  {
   "cell_type": "code",
   "execution_count": 2,
   "metadata": {
    "pycharm": {
     "name": "#%%\n"
    }
   },
   "outputs": [],
   "source": [
    "import numpy as np\n",
    "from scipy.io import wavfile\n",
    "\n",
    "import gpuRIR\n",
    "gpuRIR.activateMixedPrecision(False)"
   ]
  },
  {
   "cell_type": "code",
   "execution_count": 3,
   "metadata": {
    "pycharm": {
     "name": "#%%\n"
    }
   },
   "outputs": [],
   "source": [
    "fs, source_signal = wavfile.read(\"assets/clean.wav\")"
   ]
  },
  {
   "cell_type": "code",
   "execution_count": 4,
   "metadata": {
    "pycharm": {
     "name": "#%%\n"
    }
   },
   "outputs": [],
   "source": [
    "room_sz = [3,4,2.5]  # Size of the room [m]\n",
    "traj_pts = 64  # Number of trajectory points\n",
    "pos_traj = np.tile(np.array([0.0,3.0,1.0]), (traj_pts,1))\n",
    "pos_traj[:,0] = np.linspace(0.1, 2.9, traj_pts) # Positions of the trajectory points [m]\n",
    "nb_rcv = 2 # Number of receivers\n",
    "pos_rcv = np.array([[1.4,1,1.5],[1.6,1,1.5]])\t # Position of the receivers [m]\n",
    "orV_rcv = np.array([[-1,0,0],[1,0,0]])\n",
    "mic_pattern = \"card\" # Receiver polar pattern\n",
    "T60 = 0.6 # Time for the RIR to reach 60dB of attenuation [s]\n",
    "att_diff = 15.0\t# Attenuation when start using the diffuse reverberation model [dB]\n",
    "att_max = 60.0 # Attenuation at the end of the simulation [dB]"
   ]
  },
  {
   "cell_type": "code",
   "execution_count": 5,
   "outputs": [
    {
     "data": {
      "text/plain": "(64, 3)"
     },
     "execution_count": 5,
     "metadata": {},
     "output_type": "execute_result"
    }
   ],
   "source": [
    "pos_traj.shape"
   ],
   "metadata": {
    "collapsed": false,
    "pycharm": {
     "name": "#%%\n"
    }
   }
  }
 ],
 "metadata": {
  "kernelspec": {
   "display_name": "Python 3.10.4 ('torch11')",
   "language": "python",
   "name": "python3"
  },
  "language_info": {
   "codemirror_mode": {
    "name": "ipython",
    "version": 3
   },
   "file_extension": ".py",
   "mimetype": "text/x-python",
   "name": "python",
   "nbconvert_exporter": "python",
   "pygments_lexer": "ipython3",
   "version": "3.10.4"
  },
  "orig_nbformat": 4,
  "vscode": {
   "interpreter": {
    "hash": "4f7564b655cb13246ccb43994c0fc77a2759d81acbb86c4a8fccafbc11c26333"
   }
  }
 },
 "nbformat": 4,
 "nbformat_minor": 2
}
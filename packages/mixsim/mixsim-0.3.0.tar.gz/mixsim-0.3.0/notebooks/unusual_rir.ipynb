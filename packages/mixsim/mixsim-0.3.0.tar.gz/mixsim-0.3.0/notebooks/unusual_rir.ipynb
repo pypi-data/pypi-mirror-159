{
 "cells": [
  {
   "cell_type": "code",
   "execution_count": 7,
   "metadata": {
    "pycharm": {
     "name": "#%%\n"
    }
   },
   "outputs": [],
   "source": [
    "import pyroomacoustics as pra\n",
    "import numpy as np\n",
    "import matplotlib.pyplot as plt"
   ]
  },
  {
   "cell_type": "code",
   "execution_count": 84,
   "metadata": {
    "notebookRunGroups": {
     "groupValue": "1"
    },
    "pycharm": {
     "name": "#%%\n"
    }
   },
   "outputs": [
    {
     "name": "stdout",
     "output_type": "stream",
     "text": [
      "[29.32047414  5.08944703  1.01      ]\n"
     ]
    }
   ],
   "source": [
    "# The desired reverberation time and dimensions of the room\n",
    "rt60 = 0.82\n",
    "abs_coeff = 0.29\n",
    "mic2source = 2.41  # meters\n",
    "azimuth = 18.87  # degrees\n",
    "room_dim = [34.58, 42.84, 3.45]\n",
    "mic_locs = np.c_[[27.04, 4.31, 1.01]]\n",
    "source_pos = np.array([np.cos(np.deg2rad(azimuth)) * mic2source + 27.04, np.sin(np.deg2rad(azimuth)) * mic2source + 4.31, 1.01])\n",
    "print(source_pos)\n",
    "e_absorption, max_order = pra.inverse_sabine(rt60, room_dim)\n",
    "room = pra.ShoeBox(room_dim, fs=16000, materials=pra.Material(e_absorption), max_order=max_order)"
   ]
  },
  {
   "cell_type": "code",
   "execution_count": 85,
   "metadata": {
    "notebookRunGroups": {
     "groupValue": "1"
    },
    "pycharm": {
     "name": "#%%\n"
    }
   },
   "outputs": [],
   "source": [
    "room.add_microphone_array(mic_locs)\n",
    "room.add_source(source_pos)\n",
    "room.compute_rir()"
   ]
  },
  {
   "cell_type": "code",
   "execution_count": 90,
   "metadata": {
    "pycharm": {
     "name": "#%%\n"
    }
   },
   "outputs": [
    {
     "data": {
      "image/png": "[encoded data removed]",
      "text/plain": [
       "<Figure size 432x288 with 1 Axes>"
      ]
     },
     "metadata": {
      "needs_background": "light"
     },
     "output_type": "display_data"
    }
   ],
   "source": [
    "plt.plot(room.rir[0][0])\n",
    "plt.xlim((500, 20000))\n",
    "plt.show()"
   ]
  },
  {
   "cell_type": "code",
   "execution_count": 65,
   "metadata": {
    "pycharm": {
     "name": "#%%\n"
    }
   },
   "outputs": [
    {
     "name": "stdout",
     "output_type": "stream",
     "text": [
      "[ 0.00000000e+00  0.00000000e+00  0.00000000e+00  0.00000000e+00\n",
      "  0.00000000e+00  0.00000000e+00  0.00000000e+00  0.00000000e+00\n",
      "  0.00000000e+00  0.00000000e+00  0.00000000e+00  0.00000000e+00\n",
      "  0.00000000e+00 -4.98660851e-06  2.04340541e-05 -4.70840247e-05\n",
      "  8.56939335e-05 -1.37040187e-04  2.01922444e-04 -2.81169067e-04\n",
      "  3.75644008e-04 -4.86255425e-04  6.13966434e-04 -7.59808446e-04\n",
      "  9.24897730e-04 -1.11045599e-03  1.31783595e-03 -1.54855341e-03\n",
      "  1.80432736e-03 -2.08713077e-03  2.39925524e-03 -2.74339386e-03\n",
      "  3.12274868e-03 -3.54117151e-03  4.00335058e-03 -4.51506155e-03\n",
      "  5.08351014e-03 -5.71780794e-03  6.42964595e-03 -7.23426892e-03\n",
      "  8.15191989e-03 -9.21004316e-03  1.04467549e-02 -1.19165236e-02\n",
      "  1.36998971e-02 -1.59210937e-02  1.87820326e-02 -2.26340355e-02\n",
      "  2.81468650e-02 -3.67743542e-02  5.23747786e-02 -8.96824767e-02\n",
      "  3.04454032e-01  2.20063369e-01 -8.02560269e-02  4.87592609e-02\n",
      " -3.47569915e-02  2.67887122e-02 -2.16117080e-02  1.79551704e-02\n",
      " -1.52192653e-02  1.30840679e-02 -1.13634482e-02  9.94182540e-03\n",
      " -8.74369325e-03  7.71768001e-03 -6.82765108e-03  6.04747261e-03\n",
      " -5.35779114e-03  4.74397847e-03 -4.19477743e-03  3.70138489e-03\n",
      " -3.25681552e-03  2.85545095e-03 -2.49271425e-03  2.16483086e-03\n",
      " -1.86865046e-03  1.60151237e-03 -1.36114272e-03  1.14557490e-03\n",
      " -9.53087652e-04  7.82156314e-04 -6.31414226e-04  4.99622021e-04\n",
      " -3.85643040e-04  2.88423609e-04 -2.06977165e-04  1.40371505e-04\n",
      " -8.77185240e-05  4.81660137e-05 -2.08911324e-05  5.09526003e-06\n",
      "  0.00000000e+00  0.00000000e+00]\n"
     ]
    }
   ],
   "source": [
    "print(room.rir[0][0][100:200])"
   ]
  }
 ],
 "metadata": {
  "kernelspec": {
   "display_name": "Python 3.10.4 ('torch11')",
   "language": "python",
   "name": "python3"
  },
  "language_info": {
   "codemirror_mode": {
    "name": "ipython",
    "version": 3
   },
   "file_extension": ".py",
   "mimetype": "text/x-python",
   "name": "python",
   "nbconvert_exporter": "python",
   "pygments_lexer": "ipython3",
   "version": "3.10.4"
  },
  "orig_nbformat": 4,
  "vscode": {
   "interpreter": {
    "hash": "4f7564b655cb13246ccb43994c0fc77a2759d81acbb86c4a8fccafbc11c26333"
   }
  }
 },
 "nbformat": 4,
 "nbformat_minor": 2
}
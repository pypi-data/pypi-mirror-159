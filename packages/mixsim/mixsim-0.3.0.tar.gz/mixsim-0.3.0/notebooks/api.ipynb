{
 "cells": [
  {
   "cell_type": "code",
   "execution_count": 1,
   "metadata": {},
   "outputs": [],
   "source": [
    "import mixsim"
   ]
  },
  {
   "cell_type": "code",
   "execution_count": null,
   "metadata": {},
   "outputs": [],
   "source": [
    "supported_outputs = [\n",
    "    \"mix_y\", \"mix_y_rvb\", \"mix_y_rvb_early\", \"mix_y_rvb_late\",\n",
    "    \"source_y\"\n",
    "    \"source_*_rir\", \n",
    "    \"source_*_traj\", \n",
    "    \"y_vad\",\n",
    "    \"source_rir_early\",\n",
    "    \"source_rir_late\",\n",
    "    \"source_y_rvb_early\",\n",
    "    \"source_y_rvb_late\",\n",
    "    \"source_y_rvb_direct_path\",\n",
    "    \"source_rir_peak_idx\",\n",
    "    \"source_transcription\",\n",
    "    \"source_loudness_gain\",\n",
    "    \"source_y_traj\",\n",
    "]"
   ]
  },
  {
   "cell_type": "code",
   "execution_count": null,
   "metadata": {},
   "outputs": [],
   "source": []
  },
  {
   "cell_type": "code",
   "execution_count": null,
   "metadata": {},
   "outputs": [],
   "source": [
    "output_options = [\"mix_y\", \"s_1_y\", \"s_2_y\", \"noise\"]"
   ]
  },
  {
   "cell_type": "code",
   "execution_count": null,
   "metadata": {},
   "outputs": [],
   "source": [
    "output_options = [\"mix_y_rvb\", \"s_1_y\", \"s_2_y\"]"
   ]
  },
  {
   "cell_type": "code",
   "execution_count": null,
   "metadata": {},
   "outputs": [],
   "source": [
    "output_options = [\"mix_y_rvb\", \"s_1_y\", \"s_2_y\", \"transcriptions\"]"
   ]
  }
 ],
 "metadata": {
  "kernelspec": {
   "display_name": "Python 3.10.4 ('torch11')",
   "language": "python",
   "name": "python3"
  },
  "language_info": {
   "codemirror_mode": {
    "name": "ipython",
    "version": 3
   },
   "file_extension": ".py",
   "mimetype": "text/x-python",
   "name": "python",
   "nbconvert_exporter": "python",
   "pygments_lexer": "ipython3",
   "version": "3.10.4"
  },
  "orig_nbformat": 4,
  "vscode": {
   "interpreter": {
    "hash": "4f7564b655cb13246ccb43994c0fc77a2759d81acbb86c4a8fccafbc11c26333"
   }
  }
 },
 "nbformat": 4,
 "nbformat_minor": 2
}

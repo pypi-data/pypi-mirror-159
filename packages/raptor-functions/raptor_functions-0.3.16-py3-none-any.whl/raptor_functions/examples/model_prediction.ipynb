{
  "cells": [
    {
      "cell_type": "code",
      "execution_count": null,
      "metadata": {},
      "outputs": [],
      "source": [
        "import os\n",
        "import sys\n",
        "import glob\n",
        "import numpy as np\n",
        "import pandas as pd\n",
        "\n",
        "\n",
        "PACKAGE_FOLDER =  os.environ.get('PACKAGE_FOLDER')\n",
        "sys.path.insert(0, PACKAGE_FOLDER)"
      ]
    },
    {
      "cell_type": "markdown",
      "metadata": {
        "id": "rmLfmB_m-hLF"
      },
      "source": [
        "# Libraries to install"
      ]
    },
    {
      "cell_type": "code",
      "execution_count": 2,
      "metadata": {
        "id": "61otSm367mdd"
      },
      "outputs": [],
      "source": [
        "# !pip install mlflow boto3 awscli tsfresh raptor_functions"
      ]
    },
    {
      "cell_type": "markdown",
      "metadata": {
        "id": "UgS_p5aA-lAh"
      },
      "source": [
        "# Retrieve Model URI from mlflow"
      ]
    },
    {
      "cell_type": "code",
      "execution_count": 3,
      "metadata": {
        "colab": {
          "base_uri": "https://localhost:8080/"
        },
        "id": "cF5Np6AZ78vc",
        "outputId": "238b6bd5-ce5c-4d02-981e-5d509549b65b"
      },
      "outputs": [],
      "source": [
        "# !aws configure"
      ]
    },
    {
      "cell_type": "markdown",
      "metadata": {
        "id": "MhXPgJyPGOBU"
      },
      "source": [
        "This is the only thing we add in the code to make a prediction + new data"
      ]
    },
    {
      "cell_type": "code",
      "execution_count": 4,
      "metadata": {
        "id": "s4XGp04P_zRs"
      },
      "outputs": [],
      "source": [
        "# INPUT - URI to the MLFlow experiment\n",
        "# ************************************\n",
        "# ************************************\n",
        "model_uri = 's3://raptor-mlflow-data/mlartifacts/1/1a2c4d859a074573869d1add23fb6075/artifacts/Random Forest Classifier'\n",
        "# ************************************\n",
        "# ************************************"
      ]
    },
    {
      "cell_type": "markdown",
      "metadata": {
        "id": "JJwpWPBGDdYC"
      },
      "source": [
        "## Get new data"
      ]
    },
    {
      "cell_type": "code",
      "execution_count": 5,
      "metadata": {},
      "outputs": [],
      "source": [
        "model_uri = 's3://raptor-mlflow-data/mlartifacts/1/5c313b84ccfa4c39a538a1d3241cafab/artifacts/Extreme Gradient Boosting'"
      ]
    },
    {
      "cell_type": "code",
      "execution_count": 6,
      "metadata": {
        "id": "M9mPVs7853s9"
      },
      "outputs": [],
      "source": [
        "from raptor_functions.supervised.datasets import get_data\n",
        "df = get_data('handheld_data')\n",
        "\n",
        "# select one single experiment\n",
        "df_exp = df.groupby('exp_unique_id').get_group(0)"
      ]
    },
    {
      "cell_type": "markdown",
      "metadata": {
        "id": "QhgZZaiKF1Lj"
      },
      "source": [
        "# Predict on new data"
      ]
    },
    {
      "cell_type": "markdown",
      "metadata": {
        "id": "SX5aCaekELyN"
      },
      "source": [
        "### Method 1\n",
        "- get prediction data\n",
        "- load model\n",
        "- make prediction"
      ]
    },
    {
      "cell_type": "code",
      "execution_count": null,
      "metadata": {
        "id": "OmvLXHOZCUGn"
      },
      "outputs": [],
      "source": [
        "from raptor_functions.supervised.prediction import get_prediction_features\n",
        "prediction_data = get_prediction_features(df_exp, model_uri)"
      ]
    },
    {
      "cell_type": "code",
      "execution_count": 15,
      "metadata": {
        "id": "9n36kSarFR9R"
      },
      "outputs": [
        {
          "data": {
            "text/html": [
              "<div>\n",
              "<style scoped>\n",
              "    .dataframe tbody tr th:only-of-type {\n",
              "        vertical-align: middle;\n",
              "    }\n",
              "\n",
              "    .dataframe tbody tr th {\n",
              "        vertical-align: top;\n",
              "    }\n",
              "\n",
              "    .dataframe thead th {\n",
              "        text-align: right;\n",
              "    }\n",
              "</style>\n",
              "<table border=\"1\" class=\"dataframe\">\n",
              "  <thead>\n",
              "    <tr style=\"text-align: right;\">\n",
              "      <th></th>\n",
              "      <th>sensor_23__absolute_maximum</th>\n",
              "      <th>sensor_5__fft_coefficient__attr_angle__coeff_34</th>\n",
              "    </tr>\n",
              "  </thead>\n",
              "  <tbody>\n",
              "    <tr>\n",
              "      <th>0</th>\n",
              "      <td>160.861</td>\n",
              "      <td>27.346596</td>\n",
              "    </tr>\n",
              "  </tbody>\n",
              "</table>\n",
              "</div>"
            ],
            "text/plain": [
              "   sensor_23__absolute_maximum  \\\n",
              "0                      160.861   \n",
              "\n",
              "   sensor_5__fft_coefficient__attr_angle__coeff_34  \n",
              "0                                        27.346596  "
            ]
          },
          "execution_count": 15,
          "metadata": {},
          "output_type": "execute_result"
        }
      ],
      "source": [
        "prediction_data"
      ]
    },
    {
      "cell_type": "code",
      "execution_count": null,
      "metadata": {
        "id": "zQ_UuWul7ry9"
      },
      "outputs": [],
      "source": [
        "import mlflow\n",
        "# Load model as a PyFuncModel.\n",
        "loaded_model = mlflow.pyfunc.load_model(model_uri)\n",
        "pred = loaded_model.predict(prediction_data)"
      ]
    },
    {
      "cell_type": "code",
      "execution_count": 11,
      "metadata": {
        "colab": {
          "base_uri": "https://localhost:8080/"
        },
        "id": "9QjQKplqShpB",
        "outputId": "267aa08c-714b-48ae-a128-fc552e217964"
      },
      "outputs": [
        {
          "data": {
            "text/plain": [
              "array([0])"
            ]
          },
          "execution_count": 11,
          "metadata": {},
          "output_type": "execute_result"
        }
      ],
      "source": [
        "pred"
      ]
    },
    {
      "cell_type": "markdown",
      "metadata": {
        "id": "FiZbjDTwEOip"
      },
      "source": [
        "### Method 2\n",
        "- make prediction"
      ]
    },
    {
      "cell_type": "code",
      "execution_count": null,
      "metadata": {
        "id": "dLVZ00RiD35w"
      },
      "outputs": [],
      "source": [
        "from raptor_functions.supervised.prediction import make_prediction\n",
        "\n",
        "pred = make_prediction(df_exp, model_uri)"
      ]
    },
    {
      "cell_type": "code",
      "execution_count": 8,
      "metadata": {
        "colab": {
          "base_uri": "https://localhost:8080/"
        },
        "id": "VpdPP_zeEFWn",
        "outputId": "947db4c5-cfab-4626-e681-7ddb0f6a0fa2"
      },
      "outputs": [
        {
          "data": {
            "text/plain": [
              "array([0])"
            ]
          },
          "execution_count": 8,
          "metadata": {},
          "output_type": "execute_result"
        }
      ],
      "source": [
        "pred"
      ]
    }
  ],
  "metadata": {
    "colab": {
      "name": "model prediction.ipynb",
      "provenance": []
    },
    "kernelspec": {
      "display_name": "Python 3.7.13 64-bit ('ra37')",
      "language": "python",
      "name": "python3"
    },
    "language_info": {
      "codemirror_mode": {
        "name": "ipython",
        "version": 3
      },
      "file_extension": ".py",
      "mimetype": "text/x-python",
      "name": "python",
      "nbconvert_exporter": "python",
      "pygments_lexer": "ipython3",
      "version": "3.7.13"
    },
    "vscode": {
      "interpreter": {
        "hash": "78b9ab26047a23bcda0c6092c19f6781fdfc69bda40c959c5b2424b6cd446b69"
      }
    }
  },
  "nbformat": 4,
  "nbformat_minor": 0
}
